{
  "nbformat": 4,
  "nbformat_minor": 0,
  "metadata": {
    "colab": {
      "provenance": [],
      "toc_visible": true,
      "machine_shape": "hm",
      "gpuType": "T4",
      "authorship_tag": "ABX9TyNUkoM/IwL5JUNsWw0Vf644",
      "include_colab_link": true
    },
    "kernelspec": {
      "name": "python3",
      "display_name": "Python 3"
    },
    "language_info": {
      "name": "python"
    },
    "accelerator": "GPU",
    "widgets": {
      "application/vnd.jupyter.widget-state+json": {
        "01077ea75ea245fd98c2bc3500555d3b": {
          "model_module": "@jupyter-widgets/controls",
          "model_name": "HBoxModel",
          "model_module_version": "1.5.0",
          "state": {
            "_dom_classes": [],
            "_model_module": "@jupyter-widgets/controls",
            "_model_module_version": "1.5.0",
            "_model_name": "HBoxModel",
            "_view_count": null,
            "_view_module": "@jupyter-widgets/controls",
            "_view_module_version": "1.5.0",
            "_view_name": "HBoxView",
            "box_style": "",
            "children": [
              "IPY_MODEL_4c581528abf34b6c9ce25f00b6511f51",
              "IPY_MODEL_c07828be90ce4618b34faf7cd183a89e",
              "IPY_MODEL_a19769b783e54b3c811bfa249a69ac5e"
            ],
            "layout": "IPY_MODEL_9252c5353a31401396a7e093ca33ac3e"
          }
        },
        "4c581528abf34b6c9ce25f00b6511f51": {
          "model_module": "@jupyter-widgets/controls",
          "model_name": "HTMLModel",
          "model_module_version": "1.5.0",
          "state": {
            "_dom_classes": [],
            "_model_module": "@jupyter-widgets/controls",
            "_model_module_version": "1.5.0",
            "_model_name": "HTMLModel",
            "_view_count": null,
            "_view_module": "@jupyter-widgets/controls",
            "_view_module_version": "1.5.0",
            "_view_name": "HTMLView",
            "description": "",
            "description_tooltip": null,
            "layout": "IPY_MODEL_e0b06e91d9be4f3f8c7d39ad67d7c00b",
            "placeholder": "​",
            "style": "IPY_MODEL_8baf4fea672d4abf81a080dd761d22c3",
            "value": "100%"
          }
        },
        "c07828be90ce4618b34faf7cd183a89e": {
          "model_module": "@jupyter-widgets/controls",
          "model_name": "FloatProgressModel",
          "model_module_version": "1.5.0",
          "state": {
            "_dom_classes": [],
            "_model_module": "@jupyter-widgets/controls",
            "_model_module_version": "1.5.0",
            "_model_name": "FloatProgressModel",
            "_view_count": null,
            "_view_module": "@jupyter-widgets/controls",
            "_view_module_version": "1.5.0",
            "_view_name": "ProgressView",
            "bar_style": "success",
            "description": "",
            "description_tooltip": null,
            "layout": "IPY_MODEL_885607228fac4ed9a558d63668f4e71b",
            "max": 20,
            "min": 0,
            "orientation": "horizontal",
            "style": "IPY_MODEL_be1c32a8a3b347c6b3f0737f2a310b16",
            "value": 20
          }
        },
        "a19769b783e54b3c811bfa249a69ac5e": {
          "model_module": "@jupyter-widgets/controls",
          "model_name": "HTMLModel",
          "model_module_version": "1.5.0",
          "state": {
            "_dom_classes": [],
            "_model_module": "@jupyter-widgets/controls",
            "_model_module_version": "1.5.0",
            "_model_name": "HTMLModel",
            "_view_count": null,
            "_view_module": "@jupyter-widgets/controls",
            "_view_module_version": "1.5.0",
            "_view_name": "HTMLView",
            "description": "",
            "description_tooltip": null,
            "layout": "IPY_MODEL_fc3337c2374a4315844fcf653fbce38e",
            "placeholder": "​",
            "style": "IPY_MODEL_af0c55cd2ebf421dac5d30e7e001ffa2",
            "value": " 20/20 [01:22&lt;00:00,  4.19s/it]"
          }
        },
        "9252c5353a31401396a7e093ca33ac3e": {
          "model_module": "@jupyter-widgets/base",
          "model_name": "LayoutModel",
          "model_module_version": "1.2.0",
          "state": {
            "_model_module": "@jupyter-widgets/base",
            "_model_module_version": "1.2.0",
            "_model_name": "LayoutModel",
            "_view_count": null,
            "_view_module": "@jupyter-widgets/base",
            "_view_module_version": "1.2.0",
            "_view_name": "LayoutView",
            "align_content": null,
            "align_items": null,
            "align_self": null,
            "border": null,
            "bottom": null,
            "display": null,
            "flex": null,
            "flex_flow": null,
            "grid_area": null,
            "grid_auto_columns": null,
            "grid_auto_flow": null,
            "grid_auto_rows": null,
            "grid_column": null,
            "grid_gap": null,
            "grid_row": null,
            "grid_template_areas": null,
            "grid_template_columns": null,
            "grid_template_rows": null,
            "height": null,
            "justify_content": null,
            "justify_items": null,
            "left": null,
            "margin": null,
            "max_height": null,
            "max_width": null,
            "min_height": null,
            "min_width": null,
            "object_fit": null,
            "object_position": null,
            "order": null,
            "overflow": null,
            "overflow_x": null,
            "overflow_y": null,
            "padding": null,
            "right": null,
            "top": null,
            "visibility": null,
            "width": null
          }
        },
        "e0b06e91d9be4f3f8c7d39ad67d7c00b": {
          "model_module": "@jupyter-widgets/base",
          "model_name": "LayoutModel",
          "model_module_version": "1.2.0",
          "state": {
            "_model_module": "@jupyter-widgets/base",
            "_model_module_version": "1.2.0",
            "_model_name": "LayoutModel",
            "_view_count": null,
            "_view_module": "@jupyter-widgets/base",
            "_view_module_version": "1.2.0",
            "_view_name": "LayoutView",
            "align_content": null,
            "align_items": null,
            "align_self": null,
            "border": null,
            "bottom": null,
            "display": null,
            "flex": null,
            "flex_flow": null,
            "grid_area": null,
            "grid_auto_columns": null,
            "grid_auto_flow": null,
            "grid_auto_rows": null,
            "grid_column": null,
            "grid_gap": null,
            "grid_row": null,
            "grid_template_areas": null,
            "grid_template_columns": null,
            "grid_template_rows": null,
            "height": null,
            "justify_content": null,
            "justify_items": null,
            "left": null,
            "margin": null,
            "max_height": null,
            "max_width": null,
            "min_height": null,
            "min_width": null,
            "object_fit": null,
            "object_position": null,
            "order": null,
            "overflow": null,
            "overflow_x": null,
            "overflow_y": null,
            "padding": null,
            "right": null,
            "top": null,
            "visibility": null,
            "width": null
          }
        },
        "8baf4fea672d4abf81a080dd761d22c3": {
          "model_module": "@jupyter-widgets/controls",
          "model_name": "DescriptionStyleModel",
          "model_module_version": "1.5.0",
          "state": {
            "_model_module": "@jupyter-widgets/controls",
            "_model_module_version": "1.5.0",
            "_model_name": "DescriptionStyleModel",
            "_view_count": null,
            "_view_module": "@jupyter-widgets/base",
            "_view_module_version": "1.2.0",
            "_view_name": "StyleView",
            "description_width": ""
          }
        },
        "885607228fac4ed9a558d63668f4e71b": {
          "model_module": "@jupyter-widgets/base",
          "model_name": "LayoutModel",
          "model_module_version": "1.2.0",
          "state": {
            "_model_module": "@jupyter-widgets/base",
            "_model_module_version": "1.2.0",
            "_model_name": "LayoutModel",
            "_view_count": null,
            "_view_module": "@jupyter-widgets/base",
            "_view_module_version": "1.2.0",
            "_view_name": "LayoutView",
            "align_content": null,
            "align_items": null,
            "align_self": null,
            "border": null,
            "bottom": null,
            "display": null,
            "flex": null,
            "flex_flow": null,
            "grid_area": null,
            "grid_auto_columns": null,
            "grid_auto_flow": null,
            "grid_auto_rows": null,
            "grid_column": null,
            "grid_gap": null,
            "grid_row": null,
            "grid_template_areas": null,
            "grid_template_columns": null,
            "grid_template_rows": null,
            "height": null,
            "justify_content": null,
            "justify_items": null,
            "left": null,
            "margin": null,
            "max_height": null,
            "max_width": null,
            "min_height": null,
            "min_width": null,
            "object_fit": null,
            "object_position": null,
            "order": null,
            "overflow": null,
            "overflow_x": null,
            "overflow_y": null,
            "padding": null,
            "right": null,
            "top": null,
            "visibility": null,
            "width": null
          }
        },
        "be1c32a8a3b347c6b3f0737f2a310b16": {
          "model_module": "@jupyter-widgets/controls",
          "model_name": "ProgressStyleModel",
          "model_module_version": "1.5.0",
          "state": {
            "_model_module": "@jupyter-widgets/controls",
            "_model_module_version": "1.5.0",
            "_model_name": "ProgressStyleModel",
            "_view_count": null,
            "_view_module": "@jupyter-widgets/base",
            "_view_module_version": "1.2.0",
            "_view_name": "StyleView",
            "bar_color": null,
            "description_width": ""
          }
        },
        "fc3337c2374a4315844fcf653fbce38e": {
          "model_module": "@jupyter-widgets/base",
          "model_name": "LayoutModel",
          "model_module_version": "1.2.0",
          "state": {
            "_model_module": "@jupyter-widgets/base",
            "_model_module_version": "1.2.0",
            "_model_name": "LayoutModel",
            "_view_count": null,
            "_view_module": "@jupyter-widgets/base",
            "_view_module_version": "1.2.0",
            "_view_name": "LayoutView",
            "align_content": null,
            "align_items": null,
            "align_self": null,
            "border": null,
            "bottom": null,
            "display": null,
            "flex": null,
            "flex_flow": null,
            "grid_area": null,
            "grid_auto_columns": null,
            "grid_auto_flow": null,
            "grid_auto_rows": null,
            "grid_column": null,
            "grid_gap": null,
            "grid_row": null,
            "grid_template_areas": null,
            "grid_template_columns": null,
            "grid_template_rows": null,
            "height": null,
            "justify_content": null,
            "justify_items": null,
            "left": null,
            "margin": null,
            "max_height": null,
            "max_width": null,
            "min_height": null,
            "min_width": null,
            "object_fit": null,
            "object_position": null,
            "order": null,
            "overflow": null,
            "overflow_x": null,
            "overflow_y": null,
            "padding": null,
            "right": null,
            "top": null,
            "visibility": null,
            "width": null
          }
        },
        "af0c55cd2ebf421dac5d30e7e001ffa2": {
          "model_module": "@jupyter-widgets/controls",
          "model_name": "DescriptionStyleModel",
          "model_module_version": "1.5.0",
          "state": {
            "_model_module": "@jupyter-widgets/controls",
            "_model_module_version": "1.5.0",
            "_model_name": "DescriptionStyleModel",
            "_view_count": null,
            "_view_module": "@jupyter-widgets/base",
            "_view_module_version": "1.2.0",
            "_view_name": "StyleView",
            "description_width": ""
          }
        },
        "1cf1485258444198822a3f04c49088a7": {
          "model_module": "@jupyter-widgets/controls",
          "model_name": "HBoxModel",
          "model_module_version": "1.5.0",
          "state": {
            "_dom_classes": [],
            "_model_module": "@jupyter-widgets/controls",
            "_model_module_version": "1.5.0",
            "_model_name": "HBoxModel",
            "_view_count": null,
            "_view_module": "@jupyter-widgets/controls",
            "_view_module_version": "1.5.0",
            "_view_name": "HBoxView",
            "box_style": "",
            "children": [
              "IPY_MODEL_68d542ea7d4c47ec9ab5e7b3a51026c6",
              "IPY_MODEL_34dc2246145b4b97b6f9556d19e62e92",
              "IPY_MODEL_17c0b2c1f12d42e29fe0e75ce9774ade"
            ],
            "layout": "IPY_MODEL_d6a0ca055eba4d5291b9039804d8ce88"
          }
        },
        "68d542ea7d4c47ec9ab5e7b3a51026c6": {
          "model_module": "@jupyter-widgets/controls",
          "model_name": "HTMLModel",
          "model_module_version": "1.5.0",
          "state": {
            "_dom_classes": [],
            "_model_module": "@jupyter-widgets/controls",
            "_model_module_version": "1.5.0",
            "_model_name": "HTMLModel",
            "_view_count": null,
            "_view_module": "@jupyter-widgets/controls",
            "_view_module_version": "1.5.0",
            "_view_name": "HTMLView",
            "description": "",
            "description_tooltip": null,
            "layout": "IPY_MODEL_3238e2cebe794ecf836962b38c861db7",
            "placeholder": "​",
            "style": "IPY_MODEL_f965bb8624a34e8e8bed6ee74687a783",
            "value": "100%"
          }
        },
        "34dc2246145b4b97b6f9556d19e62e92": {
          "model_module": "@jupyter-widgets/controls",
          "model_name": "FloatProgressModel",
          "model_module_version": "1.5.0",
          "state": {
            "_dom_classes": [],
            "_model_module": "@jupyter-widgets/controls",
            "_model_module_version": "1.5.0",
            "_model_name": "FloatProgressModel",
            "_view_count": null,
            "_view_module": "@jupyter-widgets/controls",
            "_view_module_version": "1.5.0",
            "_view_name": "ProgressView",
            "bar_style": "success",
            "description": "",
            "description_tooltip": null,
            "layout": "IPY_MODEL_4d83137d73b64b53871c2f0a77302a2b",
            "max": 20,
            "min": 0,
            "orientation": "horizontal",
            "style": "IPY_MODEL_8f4419ccd47e4c3693ceecc842959dcd",
            "value": 20
          }
        },
        "17c0b2c1f12d42e29fe0e75ce9774ade": {
          "model_module": "@jupyter-widgets/controls",
          "model_name": "HTMLModel",
          "model_module_version": "1.5.0",
          "state": {
            "_dom_classes": [],
            "_model_module": "@jupyter-widgets/controls",
            "_model_module_version": "1.5.0",
            "_model_name": "HTMLModel",
            "_view_count": null,
            "_view_module": "@jupyter-widgets/controls",
            "_view_module_version": "1.5.0",
            "_view_name": "HTMLView",
            "description": "",
            "description_tooltip": null,
            "layout": "IPY_MODEL_61534f3cfd6949159e6e608d0706b7f2",
            "placeholder": "​",
            "style": "IPY_MODEL_67ef06d8363340459f92cc7c784f2667",
            "value": " 20/20 [02:43&lt;00:00,  8.45s/it]"
          }
        },
        "d6a0ca055eba4d5291b9039804d8ce88": {
          "model_module": "@jupyter-widgets/base",
          "model_name": "LayoutModel",
          "model_module_version": "1.2.0",
          "state": {
            "_model_module": "@jupyter-widgets/base",
            "_model_module_version": "1.2.0",
            "_model_name": "LayoutModel",
            "_view_count": null,
            "_view_module": "@jupyter-widgets/base",
            "_view_module_version": "1.2.0",
            "_view_name": "LayoutView",
            "align_content": null,
            "align_items": null,
            "align_self": null,
            "border": null,
            "bottom": null,
            "display": null,
            "flex": null,
            "flex_flow": null,
            "grid_area": null,
            "grid_auto_columns": null,
            "grid_auto_flow": null,
            "grid_auto_rows": null,
            "grid_column": null,
            "grid_gap": null,
            "grid_row": null,
            "grid_template_areas": null,
            "grid_template_columns": null,
            "grid_template_rows": null,
            "height": null,
            "justify_content": null,
            "justify_items": null,
            "left": null,
            "margin": null,
            "max_height": null,
            "max_width": null,
            "min_height": null,
            "min_width": null,
            "object_fit": null,
            "object_position": null,
            "order": null,
            "overflow": null,
            "overflow_x": null,
            "overflow_y": null,
            "padding": null,
            "right": null,
            "top": null,
            "visibility": null,
            "width": null
          }
        },
        "3238e2cebe794ecf836962b38c861db7": {
          "model_module": "@jupyter-widgets/base",
          "model_name": "LayoutModel",
          "model_module_version": "1.2.0",
          "state": {
            "_model_module": "@jupyter-widgets/base",
            "_model_module_version": "1.2.0",
            "_model_name": "LayoutModel",
            "_view_count": null,
            "_view_module": "@jupyter-widgets/base",
            "_view_module_version": "1.2.0",
            "_view_name": "LayoutView",
            "align_content": null,
            "align_items": null,
            "align_self": null,
            "border": null,
            "bottom": null,
            "display": null,
            "flex": null,
            "flex_flow": null,
            "grid_area": null,
            "grid_auto_columns": null,
            "grid_auto_flow": null,
            "grid_auto_rows": null,
            "grid_column": null,
            "grid_gap": null,
            "grid_row": null,
            "grid_template_areas": null,
            "grid_template_columns": null,
            "grid_template_rows": null,
            "height": null,
            "justify_content": null,
            "justify_items": null,
            "left": null,
            "margin": null,
            "max_height": null,
            "max_width": null,
            "min_height": null,
            "min_width": null,
            "object_fit": null,
            "object_position": null,
            "order": null,
            "overflow": null,
            "overflow_x": null,
            "overflow_y": null,
            "padding": null,
            "right": null,
            "top": null,
            "visibility": null,
            "width": null
          }
        },
        "f965bb8624a34e8e8bed6ee74687a783": {
          "model_module": "@jupyter-widgets/controls",
          "model_name": "DescriptionStyleModel",
          "model_module_version": "1.5.0",
          "state": {
            "_model_module": "@jupyter-widgets/controls",
            "_model_module_version": "1.5.0",
            "_model_name": "DescriptionStyleModel",
            "_view_count": null,
            "_view_module": "@jupyter-widgets/base",
            "_view_module_version": "1.2.0",
            "_view_name": "StyleView",
            "description_width": ""
          }
        },
        "4d83137d73b64b53871c2f0a77302a2b": {
          "model_module": "@jupyter-widgets/base",
          "model_name": "LayoutModel",
          "model_module_version": "1.2.0",
          "state": {
            "_model_module": "@jupyter-widgets/base",
            "_model_module_version": "1.2.0",
            "_model_name": "LayoutModel",
            "_view_count": null,
            "_view_module": "@jupyter-widgets/base",
            "_view_module_version": "1.2.0",
            "_view_name": "LayoutView",
            "align_content": null,
            "align_items": null,
            "align_self": null,
            "border": null,
            "bottom": null,
            "display": null,
            "flex": null,
            "flex_flow": null,
            "grid_area": null,
            "grid_auto_columns": null,
            "grid_auto_flow": null,
            "grid_auto_rows": null,
            "grid_column": null,
            "grid_gap": null,
            "grid_row": null,
            "grid_template_areas": null,
            "grid_template_columns": null,
            "grid_template_rows": null,
            "height": null,
            "justify_content": null,
            "justify_items": null,
            "left": null,
            "margin": null,
            "max_height": null,
            "max_width": null,
            "min_height": null,
            "min_width": null,
            "object_fit": null,
            "object_position": null,
            "order": null,
            "overflow": null,
            "overflow_x": null,
            "overflow_y": null,
            "padding": null,
            "right": null,
            "top": null,
            "visibility": null,
            "width": null
          }
        },
        "8f4419ccd47e4c3693ceecc842959dcd": {
          "model_module": "@jupyter-widgets/controls",
          "model_name": "ProgressStyleModel",
          "model_module_version": "1.5.0",
          "state": {
            "_model_module": "@jupyter-widgets/controls",
            "_model_module_version": "1.5.0",
            "_model_name": "ProgressStyleModel",
            "_view_count": null,
            "_view_module": "@jupyter-widgets/base",
            "_view_module_version": "1.2.0",
            "_view_name": "StyleView",
            "bar_color": null,
            "description_width": ""
          }
        },
        "61534f3cfd6949159e6e608d0706b7f2": {
          "model_module": "@jupyter-widgets/base",
          "model_name": "LayoutModel",
          "model_module_version": "1.2.0",
          "state": {
            "_model_module": "@jupyter-widgets/base",
            "_model_module_version": "1.2.0",
            "_model_name": "LayoutModel",
            "_view_count": null,
            "_view_module": "@jupyter-widgets/base",
            "_view_module_version": "1.2.0",
            "_view_name": "LayoutView",
            "align_content": null,
            "align_items": null,
            "align_self": null,
            "border": null,
            "bottom": null,
            "display": null,
            "flex": null,
            "flex_flow": null,
            "grid_area": null,
            "grid_auto_columns": null,
            "grid_auto_flow": null,
            "grid_auto_rows": null,
            "grid_column": null,
            "grid_gap": null,
            "grid_row": null,
            "grid_template_areas": null,
            "grid_template_columns": null,
            "grid_template_rows": null,
            "height": null,
            "justify_content": null,
            "justify_items": null,
            "left": null,
            "margin": null,
            "max_height": null,
            "max_width": null,
            "min_height": null,
            "min_width": null,
            "object_fit": null,
            "object_position": null,
            "order": null,
            "overflow": null,
            "overflow_x": null,
            "overflow_y": null,
            "padding": null,
            "right": null,
            "top": null,
            "visibility": null,
            "width": null
          }
        },
        "67ef06d8363340459f92cc7c784f2667": {
          "model_module": "@jupyter-widgets/controls",
          "model_name": "DescriptionStyleModel",
          "model_module_version": "1.5.0",
          "state": {
            "_model_module": "@jupyter-widgets/controls",
            "_model_module_version": "1.5.0",
            "_model_name": "DescriptionStyleModel",
            "_view_count": null,
            "_view_module": "@jupyter-widgets/base",
            "_view_module_version": "1.2.0",
            "_view_name": "StyleView",
            "description_width": ""
          }
        },
        "e3a1869185d64a37999b41de3cd72ebf": {
          "model_module": "@jupyter-widgets/controls",
          "model_name": "HBoxModel",
          "model_module_version": "1.5.0",
          "state": {
            "_dom_classes": [],
            "_model_module": "@jupyter-widgets/controls",
            "_model_module_version": "1.5.0",
            "_model_name": "HBoxModel",
            "_view_count": null,
            "_view_module": "@jupyter-widgets/controls",
            "_view_module_version": "1.5.0",
            "_view_name": "HBoxView",
            "box_style": "",
            "children": [
              "IPY_MODEL_f67b6d7b6a704035aa631bf330bcbb9b",
              "IPY_MODEL_0d989dd5e8234246b57f5dbc24ca470d",
              "IPY_MODEL_d60719ca732b4ac39d01e1769582cd08"
            ],
            "layout": "IPY_MODEL_86fbc8ae03ff4e79af4f5ab9b4582fea"
          }
        },
        "f67b6d7b6a704035aa631bf330bcbb9b": {
          "model_module": "@jupyter-widgets/controls",
          "model_name": "HTMLModel",
          "model_module_version": "1.5.0",
          "state": {
            "_dom_classes": [],
            "_model_module": "@jupyter-widgets/controls",
            "_model_module_version": "1.5.0",
            "_model_name": "HTMLModel",
            "_view_count": null,
            "_view_module": "@jupyter-widgets/controls",
            "_view_module_version": "1.5.0",
            "_view_name": "HTMLView",
            "description": "",
            "description_tooltip": null,
            "layout": "IPY_MODEL_6081cf0092df48e4b0537e8e384eb3ba",
            "placeholder": "​",
            "style": "IPY_MODEL_a7f129ec37d9429caae612153abcc5ba",
            "value": "100%"
          }
        },
        "0d989dd5e8234246b57f5dbc24ca470d": {
          "model_module": "@jupyter-widgets/controls",
          "model_name": "FloatProgressModel",
          "model_module_version": "1.5.0",
          "state": {
            "_dom_classes": [],
            "_model_module": "@jupyter-widgets/controls",
            "_model_module_version": "1.5.0",
            "_model_name": "FloatProgressModel",
            "_view_count": null,
            "_view_module": "@jupyter-widgets/controls",
            "_view_module_version": "1.5.0",
            "_view_name": "ProgressView",
            "bar_style": "success",
            "description": "",
            "description_tooltip": null,
            "layout": "IPY_MODEL_b35324faaa2a402a9c53674bfe8710d9",
            "max": 150,
            "min": 0,
            "orientation": "horizontal",
            "style": "IPY_MODEL_f841d515eda942c0b85e0a43fd7e52da",
            "value": 150
          }
        },
        "d60719ca732b4ac39d01e1769582cd08": {
          "model_module": "@jupyter-widgets/controls",
          "model_name": "HTMLModel",
          "model_module_version": "1.5.0",
          "state": {
            "_dom_classes": [],
            "_model_module": "@jupyter-widgets/controls",
            "_model_module_version": "1.5.0",
            "_model_name": "HTMLModel",
            "_view_count": null,
            "_view_module": "@jupyter-widgets/controls",
            "_view_module_version": "1.5.0",
            "_view_name": "HTMLView",
            "description": "",
            "description_tooltip": null,
            "layout": "IPY_MODEL_43010bed7b9545989c9b472e03c83b25",
            "placeholder": "​",
            "style": "IPY_MODEL_9af1bd83921849b48f720f777a85a25b",
            "value": " 150/150 [00:11&lt;00:00, 13.25it/s]"
          }
        },
        "86fbc8ae03ff4e79af4f5ab9b4582fea": {
          "model_module": "@jupyter-widgets/base",
          "model_name": "LayoutModel",
          "model_module_version": "1.2.0",
          "state": {
            "_model_module": "@jupyter-widgets/base",
            "_model_module_version": "1.2.0",
            "_model_name": "LayoutModel",
            "_view_count": null,
            "_view_module": "@jupyter-widgets/base",
            "_view_module_version": "1.2.0",
            "_view_name": "LayoutView",
            "align_content": null,
            "align_items": null,
            "align_self": null,
            "border": null,
            "bottom": null,
            "display": null,
            "flex": null,
            "flex_flow": null,
            "grid_area": null,
            "grid_auto_columns": null,
            "grid_auto_flow": null,
            "grid_auto_rows": null,
            "grid_column": null,
            "grid_gap": null,
            "grid_row": null,
            "grid_template_areas": null,
            "grid_template_columns": null,
            "grid_template_rows": null,
            "height": null,
            "justify_content": null,
            "justify_items": null,
            "left": null,
            "margin": null,
            "max_height": null,
            "max_width": null,
            "min_height": null,
            "min_width": null,
            "object_fit": null,
            "object_position": null,
            "order": null,
            "overflow": null,
            "overflow_x": null,
            "overflow_y": null,
            "padding": null,
            "right": null,
            "top": null,
            "visibility": null,
            "width": null
          }
        },
        "6081cf0092df48e4b0537e8e384eb3ba": {
          "model_module": "@jupyter-widgets/base",
          "model_name": "LayoutModel",
          "model_module_version": "1.2.0",
          "state": {
            "_model_module": "@jupyter-widgets/base",
            "_model_module_version": "1.2.0",
            "_model_name": "LayoutModel",
            "_view_count": null,
            "_view_module": "@jupyter-widgets/base",
            "_view_module_version": "1.2.0",
            "_view_name": "LayoutView",
            "align_content": null,
            "align_items": null,
            "align_self": null,
            "border": null,
            "bottom": null,
            "display": null,
            "flex": null,
            "flex_flow": null,
            "grid_area": null,
            "grid_auto_columns": null,
            "grid_auto_flow": null,
            "grid_auto_rows": null,
            "grid_column": null,
            "grid_gap": null,
            "grid_row": null,
            "grid_template_areas": null,
            "grid_template_columns": null,
            "grid_template_rows": null,
            "height": null,
            "justify_content": null,
            "justify_items": null,
            "left": null,
            "margin": null,
            "max_height": null,
            "max_width": null,
            "min_height": null,
            "min_width": null,
            "object_fit": null,
            "object_position": null,
            "order": null,
            "overflow": null,
            "overflow_x": null,
            "overflow_y": null,
            "padding": null,
            "right": null,
            "top": null,
            "visibility": null,
            "width": null
          }
        },
        "a7f129ec37d9429caae612153abcc5ba": {
          "model_module": "@jupyter-widgets/controls",
          "model_name": "DescriptionStyleModel",
          "model_module_version": "1.5.0",
          "state": {
            "_model_module": "@jupyter-widgets/controls",
            "_model_module_version": "1.5.0",
            "_model_name": "DescriptionStyleModel",
            "_view_count": null,
            "_view_module": "@jupyter-widgets/base",
            "_view_module_version": "1.2.0",
            "_view_name": "StyleView",
            "description_width": ""
          }
        },
        "b35324faaa2a402a9c53674bfe8710d9": {
          "model_module": "@jupyter-widgets/base",
          "model_name": "LayoutModel",
          "model_module_version": "1.2.0",
          "state": {
            "_model_module": "@jupyter-widgets/base",
            "_model_module_version": "1.2.0",
            "_model_name": "LayoutModel",
            "_view_count": null,
            "_view_module": "@jupyter-widgets/base",
            "_view_module_version": "1.2.0",
            "_view_name": "LayoutView",
            "align_content": null,
            "align_items": null,
            "align_self": null,
            "border": null,
            "bottom": null,
            "display": null,
            "flex": null,
            "flex_flow": null,
            "grid_area": null,
            "grid_auto_columns": null,
            "grid_auto_flow": null,
            "grid_auto_rows": null,
            "grid_column": null,
            "grid_gap": null,
            "grid_row": null,
            "grid_template_areas": null,
            "grid_template_columns": null,
            "grid_template_rows": null,
            "height": null,
            "justify_content": null,
            "justify_items": null,
            "left": null,
            "margin": null,
            "max_height": null,
            "max_width": null,
            "min_height": null,
            "min_width": null,
            "object_fit": null,
            "object_position": null,
            "order": null,
            "overflow": null,
            "overflow_x": null,
            "overflow_y": null,
            "padding": null,
            "right": null,
            "top": null,
            "visibility": null,
            "width": null
          }
        },
        "f841d515eda942c0b85e0a43fd7e52da": {
          "model_module": "@jupyter-widgets/controls",
          "model_name": "ProgressStyleModel",
          "model_module_version": "1.5.0",
          "state": {
            "_model_module": "@jupyter-widgets/controls",
            "_model_module_version": "1.5.0",
            "_model_name": "ProgressStyleModel",
            "_view_count": null,
            "_view_module": "@jupyter-widgets/base",
            "_view_module_version": "1.2.0",
            "_view_name": "StyleView",
            "bar_color": null,
            "description_width": ""
          }
        },
        "43010bed7b9545989c9b472e03c83b25": {
          "model_module": "@jupyter-widgets/base",
          "model_name": "LayoutModel",
          "model_module_version": "1.2.0",
          "state": {
            "_model_module": "@jupyter-widgets/base",
            "_model_module_version": "1.2.0",
            "_model_name": "LayoutModel",
            "_view_count": null,
            "_view_module": "@jupyter-widgets/base",
            "_view_module_version": "1.2.0",
            "_view_name": "LayoutView",
            "align_content": null,
            "align_items": null,
            "align_self": null,
            "border": null,
            "bottom": null,
            "display": null,
            "flex": null,
            "flex_flow": null,
            "grid_area": null,
            "grid_auto_columns": null,
            "grid_auto_flow": null,
            "grid_auto_rows": null,
            "grid_column": null,
            "grid_gap": null,
            "grid_row": null,
            "grid_template_areas": null,
            "grid_template_columns": null,
            "grid_template_rows": null,
            "height": null,
            "justify_content": null,
            "justify_items": null,
            "left": null,
            "margin": null,
            "max_height": null,
            "max_width": null,
            "min_height": null,
            "min_width": null,
            "object_fit": null,
            "object_position": null,
            "order": null,
            "overflow": null,
            "overflow_x": null,
            "overflow_y": null,
            "padding": null,
            "right": null,
            "top": null,
            "visibility": null,
            "width": null
          }
        },
        "9af1bd83921849b48f720f777a85a25b": {
          "model_module": "@jupyter-widgets/controls",
          "model_name": "DescriptionStyleModel",
          "model_module_version": "1.5.0",
          "state": {
            "_model_module": "@jupyter-widgets/controls",
            "_model_module_version": "1.5.0",
            "_model_name": "DescriptionStyleModel",
            "_view_count": null,
            "_view_module": "@jupyter-widgets/base",
            "_view_module_version": "1.2.0",
            "_view_name": "StyleView",
            "description_width": ""
          }
        },
        "14a6a33da82c47ef8c8051cbe7091bdc": {
          "model_module": "@jupyter-widgets/controls",
          "model_name": "HBoxModel",
          "model_module_version": "1.5.0",
          "state": {
            "_dom_classes": [],
            "_model_module": "@jupyter-widgets/controls",
            "_model_module_version": "1.5.0",
            "_model_name": "HBoxModel",
            "_view_count": null,
            "_view_module": "@jupyter-widgets/controls",
            "_view_module_version": "1.5.0",
            "_view_name": "HBoxView",
            "box_style": "",
            "children": [
              "IPY_MODEL_4697a21795a7404eb8772df1660b5688",
              "IPY_MODEL_56a8b139169041d7bb95d3e175f3f8f1",
              "IPY_MODEL_40c53457a31f4ad6895c61d4531cc5b3"
            ],
            "layout": "IPY_MODEL_66d62799599e4b6fa02d972eba8c8113"
          }
        },
        "4697a21795a7404eb8772df1660b5688": {
          "model_module": "@jupyter-widgets/controls",
          "model_name": "HTMLModel",
          "model_module_version": "1.5.0",
          "state": {
            "_dom_classes": [],
            "_model_module": "@jupyter-widgets/controls",
            "_model_module_version": "1.5.0",
            "_model_name": "HTMLModel",
            "_view_count": null,
            "_view_module": "@jupyter-widgets/controls",
            "_view_module_version": "1.5.0",
            "_view_name": "HTMLView",
            "description": "",
            "description_tooltip": null,
            "layout": "IPY_MODEL_f329c4bd39bd4caba68488b14148b219",
            "placeholder": "​",
            "style": "IPY_MODEL_9e80e3be1b65410bb794140874a05589",
            "value": "100%"
          }
        },
        "56a8b139169041d7bb95d3e175f3f8f1": {
          "model_module": "@jupyter-widgets/controls",
          "model_name": "FloatProgressModel",
          "model_module_version": "1.5.0",
          "state": {
            "_dom_classes": [],
            "_model_module": "@jupyter-widgets/controls",
            "_model_module_version": "1.5.0",
            "_model_name": "FloatProgressModel",
            "_view_count": null,
            "_view_module": "@jupyter-widgets/controls",
            "_view_module_version": "1.5.0",
            "_view_name": "ProgressView",
            "bar_style": "success",
            "description": "",
            "description_tooltip": null,
            "layout": "IPY_MODEL_277a2c0268a6495884c8a5b3251ee278",
            "max": 150,
            "min": 0,
            "orientation": "horizontal",
            "style": "IPY_MODEL_2e84ec95810f448aa324f47d84376684",
            "value": 150
          }
        },
        "40c53457a31f4ad6895c61d4531cc5b3": {
          "model_module": "@jupyter-widgets/controls",
          "model_name": "HTMLModel",
          "model_module_version": "1.5.0",
          "state": {
            "_dom_classes": [],
            "_model_module": "@jupyter-widgets/controls",
            "_model_module_version": "1.5.0",
            "_model_name": "HTMLModel",
            "_view_count": null,
            "_view_module": "@jupyter-widgets/controls",
            "_view_module_version": "1.5.0",
            "_view_name": "HTMLView",
            "description": "",
            "description_tooltip": null,
            "layout": "IPY_MODEL_587b80230f434c53a9b6f66d97b2601b",
            "placeholder": "​",
            "style": "IPY_MODEL_f0bdc5eb954b4d2b83cd050d8f72ed64",
            "value": " 150/150 [00:50&lt;00:00,  2.94it/s]"
          }
        },
        "66d62799599e4b6fa02d972eba8c8113": {
          "model_module": "@jupyter-widgets/base",
          "model_name": "LayoutModel",
          "model_module_version": "1.2.0",
          "state": {
            "_model_module": "@jupyter-widgets/base",
            "_model_module_version": "1.2.0",
            "_model_name": "LayoutModel",
            "_view_count": null,
            "_view_module": "@jupyter-widgets/base",
            "_view_module_version": "1.2.0",
            "_view_name": "LayoutView",
            "align_content": null,
            "align_items": null,
            "align_self": null,
            "border": null,
            "bottom": null,
            "display": null,
            "flex": null,
            "flex_flow": null,
            "grid_area": null,
            "grid_auto_columns": null,
            "grid_auto_flow": null,
            "grid_auto_rows": null,
            "grid_column": null,
            "grid_gap": null,
            "grid_row": null,
            "grid_template_areas": null,
            "grid_template_columns": null,
            "grid_template_rows": null,
            "height": null,
            "justify_content": null,
            "justify_items": null,
            "left": null,
            "margin": null,
            "max_height": null,
            "max_width": null,
            "min_height": null,
            "min_width": null,
            "object_fit": null,
            "object_position": null,
            "order": null,
            "overflow": null,
            "overflow_x": null,
            "overflow_y": null,
            "padding": null,
            "right": null,
            "top": null,
            "visibility": null,
            "width": null
          }
        },
        "f329c4bd39bd4caba68488b14148b219": {
          "model_module": "@jupyter-widgets/base",
          "model_name": "LayoutModel",
          "model_module_version": "1.2.0",
          "state": {
            "_model_module": "@jupyter-widgets/base",
            "_model_module_version": "1.2.0",
            "_model_name": "LayoutModel",
            "_view_count": null,
            "_view_module": "@jupyter-widgets/base",
            "_view_module_version": "1.2.0",
            "_view_name": "LayoutView",
            "align_content": null,
            "align_items": null,
            "align_self": null,
            "border": null,
            "bottom": null,
            "display": null,
            "flex": null,
            "flex_flow": null,
            "grid_area": null,
            "grid_auto_columns": null,
            "grid_auto_flow": null,
            "grid_auto_rows": null,
            "grid_column": null,
            "grid_gap": null,
            "grid_row": null,
            "grid_template_areas": null,
            "grid_template_columns": null,
            "grid_template_rows": null,
            "height": null,
            "justify_content": null,
            "justify_items": null,
            "left": null,
            "margin": null,
            "max_height": null,
            "max_width": null,
            "min_height": null,
            "min_width": null,
            "object_fit": null,
            "object_position": null,
            "order": null,
            "overflow": null,
            "overflow_x": null,
            "overflow_y": null,
            "padding": null,
            "right": null,
            "top": null,
            "visibility": null,
            "width": null
          }
        },
        "9e80e3be1b65410bb794140874a05589": {
          "model_module": "@jupyter-widgets/controls",
          "model_name": "DescriptionStyleModel",
          "model_module_version": "1.5.0",
          "state": {
            "_model_module": "@jupyter-widgets/controls",
            "_model_module_version": "1.5.0",
            "_model_name": "DescriptionStyleModel",
            "_view_count": null,
            "_view_module": "@jupyter-widgets/base",
            "_view_module_version": "1.2.0",
            "_view_name": "StyleView",
            "description_width": ""
          }
        },
        "277a2c0268a6495884c8a5b3251ee278": {
          "model_module": "@jupyter-widgets/base",
          "model_name": "LayoutModel",
          "model_module_version": "1.2.0",
          "state": {
            "_model_module": "@jupyter-widgets/base",
            "_model_module_version": "1.2.0",
            "_model_name": "LayoutModel",
            "_view_count": null,
            "_view_module": "@jupyter-widgets/base",
            "_view_module_version": "1.2.0",
            "_view_name": "LayoutView",
            "align_content": null,
            "align_items": null,
            "align_self": null,
            "border": null,
            "bottom": null,
            "display": null,
            "flex": null,
            "flex_flow": null,
            "grid_area": null,
            "grid_auto_columns": null,
            "grid_auto_flow": null,
            "grid_auto_rows": null,
            "grid_column": null,
            "grid_gap": null,
            "grid_row": null,
            "grid_template_areas": null,
            "grid_template_columns": null,
            "grid_template_rows": null,
            "height": null,
            "justify_content": null,
            "justify_items": null,
            "left": null,
            "margin": null,
            "max_height": null,
            "max_width": null,
            "min_height": null,
            "min_width": null,
            "object_fit": null,
            "object_position": null,
            "order": null,
            "overflow": null,
            "overflow_x": null,
            "overflow_y": null,
            "padding": null,
            "right": null,
            "top": null,
            "visibility": null,
            "width": null
          }
        },
        "2e84ec95810f448aa324f47d84376684": {
          "model_module": "@jupyter-widgets/controls",
          "model_name": "ProgressStyleModel",
          "model_module_version": "1.5.0",
          "state": {
            "_model_module": "@jupyter-widgets/controls",
            "_model_module_version": "1.5.0",
            "_model_name": "ProgressStyleModel",
            "_view_count": null,
            "_view_module": "@jupyter-widgets/base",
            "_view_module_version": "1.2.0",
            "_view_name": "StyleView",
            "bar_color": null,
            "description_width": ""
          }
        },
        "587b80230f434c53a9b6f66d97b2601b": {
          "model_module": "@jupyter-widgets/base",
          "model_name": "LayoutModel",
          "model_module_version": "1.2.0",
          "state": {
            "_model_module": "@jupyter-widgets/base",
            "_model_module_version": "1.2.0",
            "_model_name": "LayoutModel",
            "_view_count": null,
            "_view_module": "@jupyter-widgets/base",
            "_view_module_version": "1.2.0",
            "_view_name": "LayoutView",
            "align_content": null,
            "align_items": null,
            "align_self": null,
            "border": null,
            "bottom": null,
            "display": null,
            "flex": null,
            "flex_flow": null,
            "grid_area": null,
            "grid_auto_columns": null,
            "grid_auto_flow": null,
            "grid_auto_rows": null,
            "grid_column": null,
            "grid_gap": null,
            "grid_row": null,
            "grid_template_areas": null,
            "grid_template_columns": null,
            "grid_template_rows": null,
            "height": null,
            "justify_content": null,
            "justify_items": null,
            "left": null,
            "margin": null,
            "max_height": null,
            "max_width": null,
            "min_height": null,
            "min_width": null,
            "object_fit": null,
            "object_position": null,
            "order": null,
            "overflow": null,
            "overflow_x": null,
            "overflow_y": null,
            "padding": null,
            "right": null,
            "top": null,
            "visibility": null,
            "width": null
          }
        },
        "f0bdc5eb954b4d2b83cd050d8f72ed64": {
          "model_module": "@jupyter-widgets/controls",
          "model_name": "DescriptionStyleModel",
          "model_module_version": "1.5.0",
          "state": {
            "_model_module": "@jupyter-widgets/controls",
            "_model_module_version": "1.5.0",
            "_model_name": "DescriptionStyleModel",
            "_view_count": null,
            "_view_module": "@jupyter-widgets/base",
            "_view_module_version": "1.2.0",
            "_view_name": "StyleView",
            "description_width": ""
          }
        }
      }
    }
  },
  "cells": [
    {
      "cell_type": "markdown",
      "metadata": {
        "id": "view-in-github",
        "colab_type": "text"
      },
      "source": [
        "<a href=\"https://colab.research.google.com/github/JanMeow/ML-cases/blob/main/09_PyTorchModelDeployment.ipynb\" target=\"_parent\"><img src=\"https://colab.research.google.com/assets/colab-badge.svg\" alt=\"Open In Colab\"/></a>"
      ]
    },
    {
      "cell_type": "markdown",
      "source": [
        "## 0. Import"
      ],
      "metadata": {
        "id": "_LFzDvFNmnhW"
      }
    },
    {
      "cell_type": "code",
      "source": [
        "import torch\n",
        "import torchvision\n",
        "print(torch.__version__)\n",
        "print(torchvision.__version__)"
      ],
      "metadata": {
        "colab": {
          "base_uri": "https://localhost:8080/"
        },
        "id": "EQxu_8PJm-ur",
        "outputId": "f7b3c958-ed67-4541-d69f-0d6113a2c50c"
      },
      "execution_count": 1,
      "outputs": [
        {
          "output_type": "stream",
          "name": "stdout",
          "text": [
            "2.0.1+cu118\n",
            "0.15.2+cu118\n"
          ]
        }
      ]
    },
    {
      "cell_type": "code",
      "source": [
        "# Regular Import\n",
        "import matplotlib.pyplot as plt\n",
        "from torch import nn\n",
        "from torchvision import transforms\n",
        "\n",
        "#Try importing torchvision, install if it does not work\n",
        "try:\n",
        "  from torchinfo import summary\n",
        "except:\n",
        "  print('[INFO] torchvision not found..installing now')\n",
        "  !pip install -q summary torchinfo\n",
        "  from torchinfo import summary\n",
        "\n",
        "# Try to import the going_modular directory, download it from GitHub if it doesn't work\n",
        "try:\n",
        "  from going_modular.going_modular import data_setup, engine\n",
        "except:\n",
        "  # Get the going_modular scripts\n",
        "    print(\"[INFO] Couldn't find going_modular scripts... downloading them from GitHub.\")\n",
        "    !git clone https://github.com/mrdbourke/pytorch-deep-learning\n",
        "    !mv pytorch-deep-learning/going_modular .\n",
        "    !rm -rf pytorch-deep-learning\n",
        "    from going_modular.going_modular import data_setup, engine"
      ],
      "metadata": {
        "colab": {
          "base_uri": "https://localhost:8080/"
        },
        "id": "tzVzihcqnJNy",
        "outputId": "824a186d-8d7a-41ca-cfd2-455888f9a40d"
      },
      "execution_count": 2,
      "outputs": [
        {
          "output_type": "stream",
          "name": "stdout",
          "text": [
            "[INFO] torchvision not found..installing now\n",
            "  Preparing metadata (setup.py) ... \u001b[?25l\u001b[?25hdone\n",
            "  Building wheel for summary (setup.py) ... \u001b[?25l\u001b[?25hdone\n",
            "[INFO] Couldn't find going_modular scripts... downloading them from GitHub.\n",
            "Cloning into 'pytorch-deep-learning'...\n",
            "remote: Enumerating objects: 3849, done.\u001b[K\n",
            "remote: Counting objects: 100% (492/492), done.\u001b[K\n",
            "remote: Compressing objects: 100% (279/279), done.\u001b[K\n",
            "remote: Total 3849 (delta 259), reused 409 (delta 206), pack-reused 3357\u001b[K\n",
            "Receiving objects: 100% (3849/3849), 649.90 MiB | 17.87 MiB/s, done.\n",
            "Resolving deltas: 100% (2215/2215), done.\n",
            "Updating files: 100% (248/248), done.\n"
          ]
        }
      ]
    },
    {
      "cell_type": "code",
      "source": [
        "# Getting Data\n",
        "def create_path(root_name: str,\n",
        "                path_name: str,\n",
        "                url: str,\n",
        "                zip_file_name:str):\n",
        "  import os\n",
        "  import zipfile\n",
        "\n",
        "  from pathlib import Path\n",
        "  import requests\n",
        "\n",
        "\n",
        "  # Setup Path for data file\n",
        "  data_path = Path(root_name)\n",
        "  image_path = data_path / path_name\n",
        "\n",
        "\n",
        "  # if the image_folder doesnt exist, download it and prepare it\n",
        "  if image_path.is_dir():\n",
        "    print(f'{image_path} already exists !')\n",
        "  else:\n",
        "    print(f\"Did not find {image_path} directory, creating one...\")\n",
        "    image_path.mkdir(parents = True, exist_ok = True)\n",
        "\n",
        "  # Download Pizza steak sushi data\n",
        "  with open(data_path/ zip_file_name, 'wb') as f:\n",
        "    request = requests.get(url)\n",
        "    f.write(request.content)\n",
        "\n",
        "  # Unzip pizza, steak, sushi data\n",
        "  with zipfile.ZipFile(data_path / zip_file_name, \"r\") as zip_ref:\n",
        "    zip_ref.extractall(image_path)\n",
        "\n",
        "  # Remove the zip file\n",
        "  os.remove(data_path/zip_file_name)\n",
        "  return image_path\n",
        "\n",
        "\n",
        "image_path = create_path (root_name = 'data', path_name = 'pizza_steak_sushi', url = \"https://github.com/mrdbourke/pytorch-deep-learning/raw/main/data/pizza_steak_sushi_20_percent.zip\", zip_file_name =\"pizza_steak_sushi_20_percent.zip\" )"
      ],
      "metadata": {
        "colab": {
          "base_uri": "https://localhost:8080/"
        },
        "id": "7NLa2otEg_ef",
        "outputId": "b4fce1a8-beb0-4f3a-bca8-424d2b029e84"
      },
      "execution_count": 3,
      "outputs": [
        {
          "output_type": "stream",
          "name": "stdout",
          "text": [
            "Did not find data/pizza_steak_sushi directory, creating one...\n"
          ]
        }
      ]
    },
    {
      "cell_type": "code",
      "source": [
        "# Set up train and testing path\n",
        "train_dir = image_path / 'train'\n",
        "test_dir = image_path / 'test'\n",
        "\n",
        "train_dir, test_dir"
      ],
      "metadata": {
        "colab": {
          "base_uri": "https://localhost:8080/"
        },
        "id": "LfOd0KHThSh3",
        "outputId": "cebaa05a-3454-4716-ed42-66ffad91314c"
      },
      "execution_count": 4,
      "outputs": [
        {
          "output_type": "execute_result",
          "data": {
            "text/plain": [
              "(PosixPath('data/pizza_steak_sushi/train'),\n",
              " PosixPath('data/pizza_steak_sushi/test'))"
            ]
          },
          "metadata": {},
          "execution_count": 4
        }
      ]
    },
    {
      "cell_type": "code",
      "source": [
        "device = 'cuda' if torch.cuda.is_available() else 'cpu'\n",
        "device"
      ],
      "metadata": {
        "colab": {
          "base_uri": "https://localhost:8080/",
          "height": 35
        },
        "id": "srfsJzLwoSGR",
        "outputId": "822d7651-c660-418d-d24b-1d2620e1a1b2"
      },
      "execution_count": 5,
      "outputs": [
        {
          "output_type": "execute_result",
          "data": {
            "text/plain": [
              "'cuda'"
            ],
            "application/vnd.google.colaboratory.intrinsic+json": {
              "type": "string"
            }
          },
          "metadata": {},
          "execution_count": 5
        }
      ]
    },
    {
      "cell_type": "code",
      "source": [
        "def set_seed(seed:int = 42):\n",
        "  torch.manual_seed(seed)\n",
        "set_seed()"
      ],
      "metadata": {
        "id": "jeUN1DJmoe_z"
      },
      "execution_count": 6,
      "outputs": []
    },
    {
      "cell_type": "markdown",
      "source": [
        "##1. Creating an EffNetB2 feature extractor\n",
        "Feature Extractor = term for a transfer learning model that has its vase layers frozen and output layers (head layers) customerised for certain problem\n",
        "\n",
        "https://pytorch.org/vision/stable/models/generated/torchvision.models.efficientnet_b2.html#torchvision.models.efficientnet_b2"
      ],
      "metadata": {
        "id": "8lWhgs-MpLjq"
      }
    },
    {
      "cell_type": "code",
      "source": [
        "def create_effNetb2_model(num_classes: int =3,\n",
        "                          seed: int =42):\n",
        "  torch.manual_seed(seed)\n",
        "  #1. Set up pretrain EffNetB2 Weights\n",
        "  effnetb2_weights = torchvision.models.EfficientNet_B2_Weights.DEFAULT # Default meaning best available\n",
        "  #2. Get EffNetB2 transforms\n",
        "  transforms  = effnetb2_weights.transforms()\n",
        "  #3. Setup Pretrained model instance\n",
        "  effnetb2 = torchvision.models.efficientnet_b2(weights = effnetb2_weights)\n",
        "\n",
        "  #4. Freeze the base layers in the model (Stop all layers from training)\n",
        "  for param in effnetb2.parameters():\n",
        "    param.requires_grad = False\n",
        "\n",
        "  #5. Change the last layer of classifier into the number of classes we want\n",
        "  effnetb2.classifier = nn.Sequential(\n",
        "      nn.Dropout(p = 0.3, inplace = True),\n",
        "      nn.Linear(in_features = 1408, out_features = num_classes, bias = True)\n",
        "  )\n",
        "\n",
        "  return effnetb2, transforms"
      ],
      "metadata": {
        "id": "Qq9cVWZ4m47-"
      },
      "execution_count": 7,
      "outputs": []
    },
    {
      "cell_type": "code",
      "source": [
        "effnetb2, effnetb2_transforms = create_effNetb2_model()"
      ],
      "metadata": {
        "colab": {
          "base_uri": "https://localhost:8080/"
        },
        "id": "gE2EnGw2awoM",
        "outputId": "b0feb556-ff94-4fba-ea58-968b1e0c8e99"
      },
      "execution_count": 8,
      "outputs": [
        {
          "output_type": "stream",
          "name": "stderr",
          "text": [
            "Downloading: \"https://download.pytorch.org/models/efficientnet_b2_rwightman-bcdf34b7.pth\" to /root/.cache/torch/hub/checkpoints/efficientnet_b2_rwightman-bcdf34b7.pth\n",
            "100%|██████████| 35.2M/35.2M [00:00<00:00, 81.6MB/s]\n"
          ]
        }
      ]
    },
    {
      "cell_type": "code",
      "source": [
        "effnetb2_transforms"
      ],
      "metadata": {
        "colab": {
          "base_uri": "https://localhost:8080/"
        },
        "id": "tW_g7Jipbcyk",
        "outputId": "2d4177f8-bec2-47c8-fbc0-04c831c7fc22"
      },
      "execution_count": 9,
      "outputs": [
        {
          "output_type": "execute_result",
          "data": {
            "text/plain": [
              "ImageClassification(\n",
              "    crop_size=[288]\n",
              "    resize_size=[288]\n",
              "    mean=[0.485, 0.456, 0.406]\n",
              "    std=[0.229, 0.224, 0.225]\n",
              "    interpolation=InterpolationMode.BICUBIC\n",
              ")"
            ]
          },
          "metadata": {},
          "execution_count": 9
        }
      ]
    },
    {
      "cell_type": "code",
      "source": [
        "from torchinfo import summary\n",
        "\n",
        "# Print summary of the model\n",
        "summary(effnetb2,\n",
        "        input_size = (1,3,224,224),\n",
        "        col_names = ['input_size', 'output_size', 'num_params', 'trainable'],\n",
        "        col_width =20,\n",
        "        row_settings = ['var_names'])"
      ],
      "metadata": {
        "colab": {
          "base_uri": "https://localhost:8080/"
        },
        "id": "Zf3Gms0Ibsnb",
        "outputId": "e73027f7-b95e-447e-cbdb-f9a55fdbed89"
      },
      "execution_count": 10,
      "outputs": [
        {
          "output_type": "execute_result",
          "data": {
            "text/plain": [
              "============================================================================================================================================\n",
              "Layer (type (var_name))                                      Input Shape          Output Shape         Param #              Trainable\n",
              "============================================================================================================================================\n",
              "EfficientNet (EfficientNet)                                  [1, 3, 224, 224]     [1, 3]               --                   Partial\n",
              "├─Sequential (features)                                      [1, 3, 224, 224]     [1, 1408, 7, 7]      --                   False\n",
              "│    └─Conv2dNormActivation (0)                              [1, 3, 224, 224]     [1, 32, 112, 112]    --                   False\n",
              "│    │    └─Conv2d (0)                                       [1, 3, 224, 224]     [1, 32, 112, 112]    (864)                False\n",
              "│    │    └─BatchNorm2d (1)                                  [1, 32, 112, 112]    [1, 32, 112, 112]    (64)                 False\n",
              "│    │    └─SiLU (2)                                         [1, 32, 112, 112]    [1, 32, 112, 112]    --                   --\n",
              "│    └─Sequential (1)                                        [1, 32, 112, 112]    [1, 16, 112, 112]    --                   False\n",
              "│    │    └─MBConv (0)                                       [1, 32, 112, 112]    [1, 16, 112, 112]    (1,448)              False\n",
              "│    │    └─MBConv (1)                                       [1, 16, 112, 112]    [1, 16, 112, 112]    (612)                False\n",
              "│    └─Sequential (2)                                        [1, 16, 112, 112]    [1, 24, 56, 56]      --                   False\n",
              "│    │    └─MBConv (0)                                       [1, 16, 112, 112]    [1, 24, 56, 56]      (6,004)              False\n",
              "│    │    └─MBConv (1)                                       [1, 24, 56, 56]      [1, 24, 56, 56]      (10,710)             False\n",
              "│    │    └─MBConv (2)                                       [1, 24, 56, 56]      [1, 24, 56, 56]      (10,710)             False\n",
              "│    └─Sequential (3)                                        [1, 24, 56, 56]      [1, 48, 28, 28]      --                   False\n",
              "│    │    └─MBConv (0)                                       [1, 24, 56, 56]      [1, 48, 28, 28]      (16,518)             False\n",
              "│    │    └─MBConv (1)                                       [1, 48, 28, 28]      [1, 48, 28, 28]      (43,308)             False\n",
              "│    │    └─MBConv (2)                                       [1, 48, 28, 28]      [1, 48, 28, 28]      (43,308)             False\n",
              "│    └─Sequential (4)                                        [1, 48, 28, 28]      [1, 88, 14, 14]      --                   False\n",
              "│    │    └─MBConv (0)                                       [1, 48, 28, 28]      [1, 88, 14, 14]      (50,300)             False\n",
              "│    │    └─MBConv (1)                                       [1, 88, 14, 14]      [1, 88, 14, 14]      (123,750)            False\n",
              "│    │    └─MBConv (2)                                       [1, 88, 14, 14]      [1, 88, 14, 14]      (123,750)            False\n",
              "│    │    └─MBConv (3)                                       [1, 88, 14, 14]      [1, 88, 14, 14]      (123,750)            False\n",
              "│    └─Sequential (5)                                        [1, 88, 14, 14]      [1, 120, 14, 14]     --                   False\n",
              "│    │    └─MBConv (0)                                       [1, 88, 14, 14]      [1, 120, 14, 14]     (149,158)            False\n",
              "│    │    └─MBConv (1)                                       [1, 120, 14, 14]     [1, 120, 14, 14]     (237,870)            False\n",
              "│    │    └─MBConv (2)                                       [1, 120, 14, 14]     [1, 120, 14, 14]     (237,870)            False\n",
              "│    │    └─MBConv (3)                                       [1, 120, 14, 14]     [1, 120, 14, 14]     (237,870)            False\n",
              "│    └─Sequential (6)                                        [1, 120, 14, 14]     [1, 208, 7, 7]       --                   False\n",
              "│    │    └─MBConv (0)                                       [1, 120, 14, 14]     [1, 208, 7, 7]       (301,406)            False\n",
              "│    │    └─MBConv (1)                                       [1, 208, 7, 7]       [1, 208, 7, 7]       (686,868)            False\n",
              "│    │    └─MBConv (2)                                       [1, 208, 7, 7]       [1, 208, 7, 7]       (686,868)            False\n",
              "│    │    └─MBConv (3)                                       [1, 208, 7, 7]       [1, 208, 7, 7]       (686,868)            False\n",
              "│    │    └─MBConv (4)                                       [1, 208, 7, 7]       [1, 208, 7, 7]       (686,868)            False\n",
              "│    └─Sequential (7)                                        [1, 208, 7, 7]       [1, 352, 7, 7]       --                   False\n",
              "│    │    └─MBConv (0)                                       [1, 208, 7, 7]       [1, 352, 7, 7]       (846,900)            False\n",
              "│    │    └─MBConv (1)                                       [1, 352, 7, 7]       [1, 352, 7, 7]       (1,888,920)          False\n",
              "│    └─Conv2dNormActivation (8)                              [1, 352, 7, 7]       [1, 1408, 7, 7]      --                   False\n",
              "│    │    └─Conv2d (0)                                       [1, 352, 7, 7]       [1, 1408, 7, 7]      (495,616)            False\n",
              "│    │    └─BatchNorm2d (1)                                  [1, 1408, 7, 7]      [1, 1408, 7, 7]      (2,816)              False\n",
              "│    │    └─SiLU (2)                                         [1, 1408, 7, 7]      [1, 1408, 7, 7]      --                   --\n",
              "├─AdaptiveAvgPool2d (avgpool)                                [1, 1408, 7, 7]      [1, 1408, 1, 1]      --                   --\n",
              "├─Sequential (classifier)                                    [1, 1408]            [1, 3]               --                   True\n",
              "│    └─Dropout (0)                                           [1, 1408]            [1, 1408]            --                   --\n",
              "│    └─Linear (1)                                            [1, 1408]            [1, 3]               4,227                True\n",
              "============================================================================================================================================\n",
              "Total params: 7,705,221\n",
              "Trainable params: 4,227\n",
              "Non-trainable params: 7,700,994\n",
              "Total mult-adds (M): 657.64\n",
              "============================================================================================================================================\n",
              "Input size (MB): 0.60\n",
              "Forward/backward pass size (MB): 156.80\n",
              "Params size (MB): 30.82\n",
              "Estimated Total Size (MB): 188.22\n",
              "============================================================================================================================================"
            ]
          },
          "metadata": {},
          "execution_count": 10
        }
      ]
    },
    {
      "cell_type": "markdown",
      "source": [
        "## 1. Create Train and Test DataLoader"
      ],
      "metadata": {
        "id": "29Fj_GgbdpP6"
      }
    },
    {
      "cell_type": "code",
      "source": [
        "import os\n",
        "\n",
        "def create_dataloaders(\n",
        "    train_dir:str,\n",
        "    test_dir:str,\n",
        "    transform: transforms.Compose,\n",
        "    batch_size:int = 32,\n",
        "    num_workers:int = os.cpu_count()\n",
        "):\n",
        "  from torchvision import datasets, transforms\n",
        "  from torch.utils.data import DataLoader\n",
        "\n",
        "  train_data = datasets.ImageFolder(root = train_dir, transform = transform)\n",
        "  test_data = datasets.ImageFolder(root = test_dir, transform = transform)\n",
        "\n",
        "  train_dataloader = DataLoader(train_data,\n",
        "                                batch_size = batch_size,\n",
        "                                shuffle = True,\n",
        "                                num_workers = num_workers,\n",
        "                                pin_memory = True)\n",
        "  test_dataloader = DataLoader(test_data,\n",
        "                               batch_size = batch_size,\n",
        "                               shuffle = False,\n",
        "                               num_workers = num_workers,\n",
        "                               pin_memory = True)\n",
        "\n",
        "  class_name = train_data.classes\n",
        "  return train_dataloader, test_dataloader, class_name"
      ],
      "metadata": {
        "id": "Zqt4y0QucDgV"
      },
      "execution_count": 11,
      "outputs": []
    },
    {
      "cell_type": "code",
      "source": [
        "train_dataloader_effnetb2, test_dataloader_effnetb2, class_names = create_dataloaders(train_dir = train_dir,\n",
        "                                                                test_dir = test_dir,\n",
        "                                                                transform = effnetb2_transforms,\n",
        "                                                                batch_size = 32)"
      ],
      "metadata": {
        "id": "yhePBJ9RgWTL"
      },
      "execution_count": 12,
      "outputs": []
    },
    {
      "cell_type": "markdown",
      "source": [
        "#2. Training EffNetB2 feature extractor"
      ],
      "metadata": {
        "id": "2KpiDM6Bm9kS"
      }
    },
    {
      "cell_type": "code",
      "source": [
        "next(iter(train_dataloader_effnetb2))[0].shape"
      ],
      "metadata": {
        "colab": {
          "base_uri": "https://localhost:8080/"
        },
        "id": "r_BuqFCPv_59",
        "outputId": "0240f7f1-b2f9-4ffe-d9ae-e161d5b8bc8c"
      },
      "execution_count": 13,
      "outputs": [
        {
          "output_type": "execute_result",
          "data": {
            "text/plain": [
              "torch.Size([32, 3, 288, 288])"
            ]
          },
          "metadata": {},
          "execution_count": 13
        }
      ]
    },
    {
      "cell_type": "code",
      "source": [
        "# Training function\n",
        "from typing import Dict, List, Tuple\n",
        "\n",
        "def train_step(model: torch.nn.Module,\n",
        "               dataloader: torch.utils.data.DataLoader,\n",
        "               loss_fn: torch.nn.Module,\n",
        "               optimizer: torch.optim.Optimizer,\n",
        "               device: torch.device)-> Tuple[float, float]:\n",
        "\n",
        "\n",
        "  #1. Set model to train mode\n",
        "  model.train()\n",
        "  #2. Set up train loss and train accuracy values\n",
        "  train_loss, train_acc = 0,0\n",
        "  #3. Loop throigh data loader batches\n",
        "  for batch, (X,y) in enumerate(dataloader):\n",
        "    #3.0 Send data to target device\n",
        "    X,y = X.to(device), y.to(device)\n",
        "    #3.1 Make prediction\n",
        "    y_pred = model(X)\n",
        "    #3.2 Calculate an accumate loss\n",
        "    loss = loss_fn(y_pred, y)\n",
        "    train_loss += loss.item()\n",
        "    #3.3 Optimizer zero grad\n",
        "    optimizer.zero_grad()\n",
        "    #3.4 Back Propagation\n",
        "    loss.backward()\n",
        "    #3.5 Optimizer Step\n",
        "    optimizer.step()\n",
        "    #Calculate and accumulate accuracy metric across all batches\n",
        "    y_pred_class = torch.argmax(torch.softmax(y_pred, dim=1), dim =1)\n",
        "    train_acc += (y_pred_class == y).sum().item()/len(y_pred)\n",
        "  #4. Adjust metrics to get average loss and accuracy per batch\n",
        "  train_loss = train_loss / len(dataloader)\n",
        "  train_acc = train_acc / len(dataloader)\n",
        "  return train_loss, train_acc\n"
      ],
      "metadata": {
        "id": "ZCyQAdyghcfU"
      },
      "execution_count": 14,
      "outputs": []
    },
    {
      "cell_type": "code",
      "source": [
        "def test_step(model: torch.nn.Module,\n",
        "              dataloader: torch.utils.data.DataLoader,\n",
        "              loss_fn: torch.nn.Module,\n",
        "              device: torch.device) -> Tuple[float, float]:\n",
        "\n",
        "  # Put model in eval mode\n",
        "  model.eval()\n",
        "\n",
        "  # Setup test loss and test accuracy values\n",
        "  test_loss, test_acc = 0, 0\n",
        "\n",
        "  # Turn on inference context manager\n",
        "  with torch.inference_mode():\n",
        "      # Loop through DataLoader batches\n",
        "      for batch, (X, y) in enumerate(dataloader):\n",
        "          # Send data to target device\n",
        "          X, y = X.to(device), y.to(device)\n",
        "          # 1. Forward pass\n",
        "          test_pred_logits = model(X)\n",
        "          # 2. Calculate and accumulate loss\n",
        "          loss = loss_fn(test_pred_logits, y)\n",
        "          test_loss += loss.item()\n",
        "          # Calculate and accumulate accuracy\n",
        "          test_pred_labels = test_pred_logits.argmax(dim=1)\n",
        "          test_acc += ((test_pred_labels == y).sum().item()/len(test_pred_labels))\n",
        "  # Adjust metrics to get average loss and accuracy per batch\n",
        "  test_loss = test_loss / len(dataloader)\n",
        "  test_acc = test_acc / len(dataloader)\n",
        "  return test_loss, test_acc"
      ],
      "metadata": {
        "id": "cGHhhl0rtRtv"
      },
      "execution_count": 15,
      "outputs": []
    },
    {
      "cell_type": "code",
      "source": [
        "def train(model: torch.nn.Module,\n",
        "          train_dataloader: torch.utils.data.DataLoader,\n",
        "          test_dataloader: torch.utils.data.DataLoader,\n",
        "          optimizer: torch.optim.Optimizer,\n",
        "          loss_fn: torch.nn.Module,\n",
        "          epochs: int,\n",
        "          device: torch.device) -> Dict[str, List[float]]:\n",
        "\n",
        "  from tqdm.auto import tqdm\n",
        "  model.to(device)\n",
        "  # Create empty results dictionary\n",
        "  results = {\"train_loss\": [],\n",
        "      \"train_acc\": [],\n",
        "      \"test_loss\": [],\n",
        "      \"test_acc\": []\n",
        "  }\n",
        "  # Loop through training and testing steps for a number of epochs\n",
        "  for epoch in tqdm(range(epochs)):\n",
        "      train_loss, train_acc = train_step(model=model,\n",
        "                                          dataloader=train_dataloader,\n",
        "                                          loss_fn=loss_fn,\n",
        "                                          optimizer=optimizer,\n",
        "                                          device=device)\n",
        "      test_loss, test_acc = test_step(model=model,\n",
        "          dataloader=test_dataloader,\n",
        "          loss_fn=loss_fn,\n",
        "          device=device)\n",
        "\n",
        "      # Print out what's happening\n",
        "      print(\n",
        "          f\"Epoch: {epoch+1} | \"\n",
        "          f\"train_loss: {train_loss:.4f} | \"\n",
        "          f\"train_acc: {train_acc:.4f} | \"\n",
        "          f\"test_loss: {test_loss:.4f} | \"\n",
        "          f\"test_acc: {test_acc:.4f}\"\n",
        "      )\n",
        "\n",
        "      # Update results dictionary\n",
        "      results[\"train_loss\"].append(train_loss)\n",
        "      results[\"train_acc\"].append(train_acc)\n",
        "      results[\"test_loss\"].append(test_loss)\n",
        "      results[\"test_acc\"].append(test_acc)\n",
        "\n",
        "  # Return the filled results at the end of the epochs\n",
        "  return results"
      ],
      "metadata": {
        "id": "V_uDdgkpth2J"
      },
      "execution_count": 16,
      "outputs": []
    },
    {
      "cell_type": "code",
      "source": [
        "#Set Seed\n",
        "set_seed()\n",
        "#Loss function\n",
        "loss_fn = torch.nn.CrossEntropyLoss()\n",
        "#Optimizer\n",
        "optimizer = torch.optim.Adam(params = effnetb2.parameters(),\n",
        "                             lr = 1e-3)\n",
        "# Train\n",
        "effnetb2_results = train(model = effnetb2,\n",
        "                         train_dataloader = train_dataloader_effnetb2,\n",
        "                         test_dataloader = test_dataloader_effnetb2,\n",
        "                         optimizer = optimizer,\n",
        "                         loss_fn = loss_fn,\n",
        "                         epochs = 20,\n",
        "                         device = device)"
      ],
      "metadata": {
        "colab": {
          "base_uri": "https://localhost:8080/",
          "height": 396,
          "referenced_widgets": [
            "01077ea75ea245fd98c2bc3500555d3b",
            "4c581528abf34b6c9ce25f00b6511f51",
            "c07828be90ce4618b34faf7cd183a89e",
            "a19769b783e54b3c811bfa249a69ac5e",
            "9252c5353a31401396a7e093ca33ac3e",
            "e0b06e91d9be4f3f8c7d39ad67d7c00b",
            "8baf4fea672d4abf81a080dd761d22c3",
            "885607228fac4ed9a558d63668f4e71b",
            "be1c32a8a3b347c6b3f0737f2a310b16",
            "fc3337c2374a4315844fcf653fbce38e",
            "af0c55cd2ebf421dac5d30e7e001ffa2"
          ]
        },
        "id": "-09e6WiwrpXw",
        "outputId": "15553e38-ac8d-4cc9-8e91-028502cbff40"
      },
      "execution_count": 17,
      "outputs": [
        {
          "output_type": "display_data",
          "data": {
            "text/plain": [
              "  0%|          | 0/20 [00:00<?, ?it/s]"
            ],
            "application/vnd.jupyter.widget-view+json": {
              "version_major": 2,
              "version_minor": 0,
              "model_id": "01077ea75ea245fd98c2bc3500555d3b"
            }
          },
          "metadata": {}
        },
        {
          "output_type": "stream",
          "name": "stdout",
          "text": [
            "Epoch: 1 | train_loss: 0.9432 | train_acc: 0.6188 | test_loss: 0.7431 | test_acc: 0.9290\n",
            "Epoch: 2 | train_loss: 0.6846 | train_acc: 0.8500 | test_loss: 0.5971 | test_acc: 0.8983\n",
            "Epoch: 3 | train_loss: 0.5791 | train_acc: 0.8542 | test_loss: 0.5016 | test_acc: 0.9352\n",
            "Epoch: 4 | train_loss: 0.4392 | train_acc: 0.9083 | test_loss: 0.4429 | test_acc: 0.9256\n",
            "Epoch: 5 | train_loss: 0.4199 | train_acc: 0.9042 | test_loss: 0.4035 | test_acc: 0.9261\n",
            "Epoch: 6 | train_loss: 0.4249 | train_acc: 0.8938 | test_loss: 0.3616 | test_acc: 0.9352\n",
            "Epoch: 7 | train_loss: 0.4210 | train_acc: 0.8375 | test_loss: 0.3357 | test_acc: 0.9443\n",
            "Epoch: 8 | train_loss: 0.3929 | train_acc: 0.8979 | test_loss: 0.3572 | test_acc: 0.9199\n",
            "Epoch: 9 | train_loss: 0.3700 | train_acc: 0.8917 | test_loss: 0.3212 | test_acc: 0.9290\n",
            "Epoch: 10 | train_loss: 0.3663 | train_acc: 0.8646 | test_loss: 0.2864 | test_acc: 0.9597\n",
            "Epoch: 11 | train_loss: 0.3009 | train_acc: 0.9125 | test_loss: 0.2798 | test_acc: 0.9597\n",
            "Epoch: 12 | train_loss: 0.2837 | train_acc: 0.9500 | test_loss: 0.2923 | test_acc: 0.9261\n",
            "Epoch: 13 | train_loss: 0.2536 | train_acc: 0.9521 | test_loss: 0.2708 | test_acc: 0.9199\n",
            "Epoch: 14 | train_loss: 0.2397 | train_acc: 0.9417 | test_loss: 0.2663 | test_acc: 0.9415\n",
            "Epoch: 15 | train_loss: 0.2673 | train_acc: 0.9417 | test_loss: 0.2653 | test_acc: 0.9261\n",
            "Epoch: 16 | train_loss: 0.2892 | train_acc: 0.9167 | test_loss: 0.2319 | test_acc: 0.9568\n",
            "Epoch: 17 | train_loss: 0.2339 | train_acc: 0.9437 | test_loss: 0.2307 | test_acc: 0.9688\n",
            "Epoch: 18 | train_loss: 0.2263 | train_acc: 0.9625 | test_loss: 0.2445 | test_acc: 0.9352\n",
            "Epoch: 19 | train_loss: 0.2063 | train_acc: 0.9500 | test_loss: 0.2547 | test_acc: 0.9324\n",
            "Epoch: 20 | train_loss: 0.2834 | train_acc: 0.8979 | test_loss: 0.2440 | test_acc: 0.9477\n"
          ]
        }
      ]
    },
    {
      "cell_type": "markdown",
      "source": [
        "##3 Inspecting EffNetB2 loss curves"
      ],
      "metadata": {
        "id": "1aHzlbrV1hD-"
      }
    },
    {
      "cell_type": "code",
      "source": [
        "from typing import Dict\n",
        "\n",
        "def plot_loss_curves(loss_dict: Dict):\n",
        "  import matplotlib.pyplot as plt\n",
        "  import numpy as np\n",
        "\n",
        "  #Getting keys from dictionary for plotting\n",
        "  key = list(loss_dict.keys())\n",
        "  #Epochs count\n",
        "  x = np.arange(len(loss_dict[key[0]]))\n",
        "  # Make 2 subplots for loss and accuracy\n",
        "  fig, ax = plt.subplots(1,2)\n",
        "\n",
        "  for i in range(2):\n",
        "     x= x\n",
        "     y0= loss_dict[key[i]]\n",
        "     y1= loss_dict[key[i+2]]\n",
        "\n",
        "     ax[i].plot(x,y0,y1)\n",
        "     ax[i].set_title(f'{key[i]} and {key[i+2]}', fontsize=13)\n",
        "     ax[i].set_xlabel('Epochs', fontsize= 9)\n",
        "     ax[i].legend([f'{key[i]}',f'{key[i+2]}'], fontsize = 8)\n",
        "     fig.set_figwidth(11)\n",
        "     fig.set_figheight(5)\n",
        "  fig.tight_layout(pad = 1.8)\n",
        "\n",
        "plot_loss_curves(effnetb2_results)"
      ],
      "metadata": {
        "colab": {
          "base_uri": "https://localhost:8080/",
          "height": 486
        },
        "id": "7W5NxxfD4Z7N",
        "outputId": "c1c5ebd6-bb6b-45cb-f00c-dfd679e387b4"
      },
      "execution_count": 18,
      "outputs": [
        {
          "output_type": "display_data",
          "data": {
            "text/plain": [
              "<Figure size 1100x500 with 2 Axes>"
            ],
            "image/png": "[encoded data removed]"
          },
          "metadata": {}
        }
      ]
    },
    {
      "cell_type": "code",
      "source": [
        "def save_model(model: torch.nn.Module,\n",
        "               target_dir: str,\n",
        "               model_name: str):\n",
        "\n",
        "  from pathlib import Path\n",
        "  import torch\n",
        "  # Create target directory\n",
        "  target_dir_path = Path(target_dir)\n",
        "  target_dir_path.mkdir(parents=True,\n",
        "                        exist_ok=True)\n",
        "\n",
        "  # Create model save path\n",
        "  assert model_name.endswith(\".pth\") or model_name.endswith(\".pt\"), \"model_name should end with '.pt' or '.pth'\"\n",
        "  model_save_path = target_dir_path / model_name\n",
        "\n",
        "  # Save the model state_dict()\n",
        "  print(f\"[INFO] Saving model to: {model_save_path}\")\n",
        "  torch.save(obj=model.state_dict(),\n",
        "             f=model_save_path)\n",
        "\n",
        "save_model(model = effnetb2, target_dir = 'models', model_name = '09_pretrained_effnetb2_feature_extractor_pizza_steak_sushi_20_percent.pth')"
      ],
      "metadata": {
        "colab": {
          "base_uri": "https://localhost:8080/"
        },
        "id": "Az7weuxQ4NK6",
        "outputId": "8bfa5bc9-efc2-4e6b-e8b0-1008c33bba9d"
      },
      "execution_count": 19,
      "outputs": [
        {
          "output_type": "stream",
          "name": "stdout",
          "text": [
            "[INFO] Saving model to: models/09_pretrained_effnetb2_feature_extractor_pizza_steak_sushi_20_percent.pth\n"
          ]
        }
      ]
    },
    {
      "cell_type": "markdown",
      "source": [
        "###3.1 Inspecting the size of our EffNetB2 feature Extractor for deployment perfomrance"
      ],
      "metadata": {
        "id": "pO9XC4ZoDfSY"
      }
    },
    {
      "cell_type": "code",
      "source": [
        "from pathlib import Path\n",
        "\n",
        "#Get the model size in bytes\n",
        "pretrain_effnetb2_model_size = Path('/content/models/09_pretrained_effnetb2_feature_extractor_pizza_steak_sushi_20_percent.pth').stat().st_size\n",
        "print(f'pretrain_effnetb2_model_size in MB is {pretrain_effnetb2_model_size / (1024*1024):.2f}')"
      ],
      "metadata": {
        "colab": {
          "base_uri": "https://localhost:8080/"
        },
        "id": "DVj1H48HC-dR",
        "outputId": "4cf2b77f-7a0c-43d1-f6e6-da4022662245"
      },
      "execution_count": 20,
      "outputs": [
        {
          "output_type": "stream",
          "name": "stdout",
          "text": [
            "pretrain_effnetb2_model_size in MB is 29.86\n"
          ]
        }
      ]
    },
    {
      "cell_type": "markdown",
      "source": [
        "###3.2 Collecting EffNet b2 Feature Extractor stats"
      ],
      "metadata": {
        "id": "gCrNIzUxE_LI"
      }
    },
    {
      "cell_type": "code",
      "source": [
        "# Count number of parameters in EffNetB2\n",
        "effnetb2_total_params = sum(torch.numel(param) for param in effnetb2.parameters())\n",
        "effnetb2_total_params"
      ],
      "metadata": {
        "colab": {
          "base_uri": "https://localhost:8080/"
        },
        "id": "J_Kdom2rC3tI",
        "outputId": "19fd55f3-f1d0-48be-ae0b-16cedb1e9818"
      },
      "execution_count": 21,
      "outputs": [
        {
          "output_type": "execute_result",
          "data": {
            "text/plain": [
              "7705221"
            ]
          },
          "metadata": {},
          "execution_count": 21
        }
      ]
    },
    {
      "cell_type": "code",
      "source": [
        "#Create a dictionray witrh EffNetb2 statistics\n",
        "effnetb2_results\n",
        "\n",
        "effnetb2_stats = {'test_loss': effnetb2_results['test_loss'][-1],\n",
        "                   'test_acc': effnetb2_results['test_acc'][-1],\n",
        "                   'number_of_parameters':effnetb2_total_params,\n",
        "                   'model_size(MB)': pretrain_effnetb2_model_size / (1024*1024)}\n",
        "effnetb2_stats"
      ],
      "metadata": {
        "colab": {
          "base_uri": "https://localhost:8080/"
        },
        "id": "n61q8ETKGIni",
        "outputId": "d86aab69-719a-401a-b15e-00ddf6618c2c"
      },
      "execution_count": 80,
      "outputs": [
        {
          "output_type": "execute_result",
          "data": {
            "text/plain": [
              "{'test_loss': 0.24402595162391663,\n",
              " 'test_acc': 0.9477272727272726,\n",
              " 'number_of_parameters': 7705221,\n",
              " 'model_size(MB)': 29.863232612609863}"
            ]
          },
          "metadata": {},
          "execution_count": 80
        }
      ]
    },
    {
      "cell_type": "markdown",
      "source": [
        "#4. Creating an Vit feature extractor"
      ],
      "metadata": {
        "id": "u8YqGP6wHJ7w"
      }
    },
    {
      "cell_type": "code",
      "source": [
        "def create_vitb16_model(num_classes: int =3,\n",
        "                          seed: int =42):\n",
        "  torch.manual_seed(seed)\n",
        "  #1. Set up pretrain VitB16 Weights\n",
        "  vit_weights = torchvision.models.ViT_B_16_Weights.DEFAULT\n",
        "  #2. Get VitB16 transforms\n",
        "  transforms = vit_weights.transforms()\n",
        "  #3. Setup Pretrained model instance\n",
        "  vitb16 = torchvision.models.vit_b_16(weights = vit_weights)\n",
        "\n",
        "  #4. Freeze the base layers in the model (Stop all layers from training)\n",
        "  for param in vitb16.parameters():\n",
        "    param.requires_grad = False\n",
        "\n",
        "  #5. Change the last layer of classifier into the number of classes we want\n",
        "  vitb16.heads = nn.Sequential(\n",
        "      nn.Linear(in_features = 768, out_features = num_classes, bias = True)\n",
        "  )\n",
        "\n",
        "  return vitb16, transforms"
      ],
      "metadata": {
        "id": "8PCFMpjE5cqG"
      },
      "execution_count": 23,
      "outputs": []
    },
    {
      "cell_type": "code",
      "source": [
        "vitb16, vit_transforms = create_vitb16_model(num_classes =3, seed = 42)"
      ],
      "metadata": {
        "colab": {
          "base_uri": "https://localhost:8080/"
        },
        "id": "UKPABO7EHidB",
        "outputId": "9c856a4d-0d7a-42a8-a1ab-4e2010d36bf4"
      },
      "execution_count": 24,
      "outputs": [
        {
          "output_type": "stream",
          "name": "stderr",
          "text": [
            "Downloading: \"https://download.pytorch.org/models/vit_b_16-c867db91.pth\" to /root/.cache/torch/hub/checkpoints/vit_b_16-c867db91.pth\n",
            "100%|██████████| 330M/330M [00:01<00:00, 183MB/s]\n"
          ]
        }
      ]
    },
    {
      "cell_type": "code",
      "source": [
        "from torchinfo import summary\n",
        "\n",
        "# Print summary of the model\n",
        "summary(vitb16,\n",
        "        input_size = (1,3,224,224),\n",
        "        col_names = ['input_size', 'output_size', 'num_params', 'trainable'],\n",
        "        col_width =20,\n",
        "        row_settings = ['var_names'])"
      ],
      "metadata": {
        "colab": {
          "base_uri": "https://localhost:8080/"
        },
        "id": "h3lGrE7UHtzB",
        "outputId": "10d648a1-8064-4d79-ebcb-7968e613952e"
      },
      "execution_count": 25,
      "outputs": [
        {
          "output_type": "execute_result",
          "data": {
            "text/plain": [
              "============================================================================================================================================\n",
              "Layer (type (var_name))                                      Input Shape          Output Shape         Param #              Trainable\n",
              "============================================================================================================================================\n",
              "VisionTransformer (VisionTransformer)                        [1, 3, 224, 224]     [1, 3]               768                  Partial\n",
              "├─Conv2d (conv_proj)                                         [1, 3, 224, 224]     [1, 768, 14, 14]     (590,592)            False\n",
              "├─Encoder (encoder)                                          [1, 197, 768]        [1, 197, 768]        151,296              False\n",
              "│    └─Dropout (dropout)                                     [1, 197, 768]        [1, 197, 768]        --                   --\n",
              "│    └─Sequential (layers)                                   [1, 197, 768]        [1, 197, 768]        --                   False\n",
              "│    │    └─EncoderBlock (encoder_layer_0)                   [1, 197, 768]        [1, 197, 768]        (7,087,872)          False\n",
              "│    │    └─EncoderBlock (encoder_layer_1)                   [1, 197, 768]        [1, 197, 768]        (7,087,872)          False\n",
              "│    │    └─EncoderBlock (encoder_layer_2)                   [1, 197, 768]        [1, 197, 768]        (7,087,872)          False\n",
              "│    │    └─EncoderBlock (encoder_layer_3)                   [1, 197, 768]        [1, 197, 768]        (7,087,872)          False\n",
              "│    │    └─EncoderBlock (encoder_layer_4)                   [1, 197, 768]        [1, 197, 768]        (7,087,872)          False\n",
              "│    │    └─EncoderBlock (encoder_layer_5)                   [1, 197, 768]        [1, 197, 768]        (7,087,872)          False\n",
              "│    │    └─EncoderBlock (encoder_layer_6)                   [1, 197, 768]        [1, 197, 768]        (7,087,872)          False\n",
              "│    │    └─EncoderBlock (encoder_layer_7)                   [1, 197, 768]        [1, 197, 768]        (7,087,872)          False\n",
              "│    │    └─EncoderBlock (encoder_layer_8)                   [1, 197, 768]        [1, 197, 768]        (7,087,872)          False\n",
              "│    │    └─EncoderBlock (encoder_layer_9)                   [1, 197, 768]        [1, 197, 768]        (7,087,872)          False\n",
              "│    │    └─EncoderBlock (encoder_layer_10)                  [1, 197, 768]        [1, 197, 768]        (7,087,872)          False\n",
              "│    │    └─EncoderBlock (encoder_layer_11)                  [1, 197, 768]        [1, 197, 768]        (7,087,872)          False\n",
              "│    └─LayerNorm (ln)                                        [1, 197, 768]        [1, 197, 768]        (1,536)              False\n",
              "├─Sequential (heads)                                         [1, 768]             [1, 3]               --                   True\n",
              "│    └─Linear (0)                                            [1, 768]             [1, 3]               2,307                True\n",
              "============================================================================================================================================\n",
              "Total params: 85,800,963\n",
              "Trainable params: 2,307\n",
              "Non-trainable params: 85,798,656\n",
              "Total mult-adds (M): 172.47\n",
              "============================================================================================================================================\n",
              "Input size (MB): 0.60\n",
              "Forward/backward pass size (MB): 104.09\n",
              "Params size (MB): 229.20\n",
              "Estimated Total Size (MB): 333.89\n",
              "============================================================================================================================================"
            ]
          },
          "metadata": {},
          "execution_count": 25
        }
      ]
    },
    {
      "cell_type": "code",
      "source": [
        "vit_transforms"
      ],
      "metadata": {
        "colab": {
          "base_uri": "https://localhost:8080/"
        },
        "id": "P2pYZ7rTHzDv",
        "outputId": "be7dc0ff-2089-4397-f4f9-f42fda313309"
      },
      "execution_count": 26,
      "outputs": [
        {
          "output_type": "execute_result",
          "data": {
            "text/plain": [
              "ImageClassification(\n",
              "    crop_size=[224]\n",
              "    resize_size=[256]\n",
              "    mean=[0.485, 0.456, 0.406]\n",
              "    std=[0.229, 0.224, 0.225]\n",
              "    interpolation=InterpolationMode.BILINEAR\n",
              ")"
            ]
          },
          "metadata": {},
          "execution_count": 26
        }
      ]
    },
    {
      "cell_type": "markdown",
      "source": [
        "##4.1 Training ViT Features Extractor"
      ],
      "metadata": {
        "id": "4gfUYAyEa-L3"
      }
    },
    {
      "cell_type": "code",
      "source": [
        "train_dataloader_vit, test_dataloader_vit, class_names = create_dataloaders(train_dir = train_dir,\n",
        "                                                                            test_dir = test_dir,\n",
        "                                                                            transform = vit_transforms,\n",
        "                                                                            batch_size =32)"
      ],
      "metadata": {
        "id": "b_7_e9IyZ7S_"
      },
      "execution_count": 27,
      "outputs": []
    },
    {
      "cell_type": "code",
      "source": [
        "#Set Seed\n",
        "set_seed()\n",
        "#Loss function\n",
        "loss_fn = torch.nn.CrossEntropyLoss()\n",
        "#Optimizer\n",
        "optimizer = torch.optim.Adam(params = vitb16.parameters(),\n",
        "                             lr = 1e-3)\n",
        "# Train\n",
        "vitb16_results = train(model = vitb16,\n",
        "                       train_dataloader = train_dataloader_vit,\n",
        "                       test_dataloader = test_dataloader_vit,\n",
        "                       optimizer = optimizer,\n",
        "                       loss_fn = loss_fn,\n",
        "                       epochs = 20,\n",
        "                       device = device)"
      ],
      "metadata": {
        "colab": {
          "base_uri": "https://localhost:8080/",
          "height": 396,
          "referenced_widgets": [
            "1cf1485258444198822a3f04c49088a7",
            "68d542ea7d4c47ec9ab5e7b3a51026c6",
            "34dc2246145b4b97b6f9556d19e62e92",
            "17c0b2c1f12d42e29fe0e75ce9774ade",
            "d6a0ca055eba4d5291b9039804d8ce88",
            "3238e2cebe794ecf836962b38c861db7",
            "f965bb8624a34e8e8bed6ee74687a783",
            "4d83137d73b64b53871c2f0a77302a2b",
            "8f4419ccd47e4c3693ceecc842959dcd",
            "61534f3cfd6949159e6e608d0706b7f2",
            "67ef06d8363340459f92cc7c784f2667"
          ]
        },
        "id": "PDGvYnJJaobQ",
        "outputId": "4dab426b-dc8d-4c9f-e075-45bda5466b55"
      },
      "execution_count": 28,
      "outputs": [
        {
          "output_type": "display_data",
          "data": {
            "text/plain": [
              "  0%|          | 0/20 [00:00<?, ?it/s]"
            ],
            "application/vnd.jupyter.widget-view+json": {
              "version_major": 2,
              "version_minor": 0,
              "model_id": "1cf1485258444198822a3f04c49088a7"
            }
          },
          "metadata": {}
        },
        {
          "output_type": "stream",
          "name": "stdout",
          "text": [
            "Epoch: 1 | train_loss: 0.6470 | train_acc: 0.8167 | test_loss: 0.2177 | test_acc: 0.9625\n",
            "Epoch: 2 | train_loss: 0.2486 | train_acc: 0.9187 | test_loss: 0.1349 | test_acc: 0.9938\n",
            "Epoch: 3 | train_loss: 0.1708 | train_acc: 0.9667 | test_loss: 0.1035 | test_acc: 0.9938\n",
            "Epoch: 4 | train_loss: 0.1253 | train_acc: 0.9688 | test_loss: 0.0881 | test_acc: 0.9875\n",
            "Epoch: 5 | train_loss: 0.1121 | train_acc: 0.9708 | test_loss: 0.0776 | test_acc: 0.9938\n",
            "Epoch: 6 | train_loss: 0.1278 | train_acc: 0.9458 | test_loss: 0.0696 | test_acc: 0.9875\n",
            "Epoch: 7 | train_loss: 0.0899 | train_acc: 0.9792 | test_loss: 0.0746 | test_acc: 0.9875\n",
            "Epoch: 8 | train_loss: 0.0977 | train_acc: 0.9833 | test_loss: 0.0641 | test_acc: 0.9938\n",
            "Epoch: 9 | train_loss: 0.0892 | train_acc: 0.9812 | test_loss: 0.0611 | test_acc: 0.9875\n",
            "Epoch: 10 | train_loss: 0.0666 | train_acc: 0.9854 | test_loss: 0.0554 | test_acc: 0.9938\n",
            "Epoch: 11 | train_loss: 0.0592 | train_acc: 0.9854 | test_loss: 0.0522 | test_acc: 0.9938\n",
            "Epoch: 12 | train_loss: 0.0532 | train_acc: 0.9917 | test_loss: 0.0518 | test_acc: 1.0000\n",
            "Epoch: 13 | train_loss: 0.0458 | train_acc: 0.9917 | test_loss: 0.0520 | test_acc: 0.9938\n",
            "Epoch: 14 | train_loss: 0.0477 | train_acc: 0.9938 | test_loss: 0.0508 | test_acc: 0.9875\n",
            "Epoch: 15 | train_loss: 0.0396 | train_acc: 0.9938 | test_loss: 0.0500 | test_acc: 0.9875\n",
            "Epoch: 16 | train_loss: 0.0364 | train_acc: 0.9958 | test_loss: 0.0488 | test_acc: 0.9938\n",
            "Epoch: 17 | train_loss: 0.0326 | train_acc: 0.9979 | test_loss: 0.0493 | test_acc: 0.9875\n",
            "Epoch: 18 | train_loss: 0.0309 | train_acc: 0.9979 | test_loss: 0.0485 | test_acc: 0.9875\n",
            "Epoch: 19 | train_loss: 0.0291 | train_acc: 0.9979 | test_loss: 0.0480 | test_acc: 0.9875\n",
            "Epoch: 20 | train_loss: 0.0305 | train_acc: 0.9979 | test_loss: 0.0476 | test_acc: 0.9875\n"
          ]
        }
      ]
    },
    {
      "cell_type": "code",
      "source": [
        "plot_loss_curves(vitb16_results)"
      ],
      "metadata": {
        "colab": {
          "base_uri": "https://localhost:8080/",
          "height": 486
        },
        "id": "vOM27BxebdAw",
        "outputId": "0bfbd93a-39af-4635-a126-1734aa4fbc77"
      },
      "execution_count": 29,
      "outputs": [
        {
          "output_type": "display_data",
          "data": {
            "text/plain": [
              "<Figure size 1100x500 with 2 Axes>"
            ],
            "image/png": "[encoded data removed]"
          },
          "metadata": {}
        }
      ]
    },
    {
      "cell_type": "code",
      "source": [
        "save_model(model = vitb16,\n",
        "           target_dir = 'models',\n",
        "           model_name  = '09_pretrained_vitb16_feature_extractor_pizza_steak_sushi_20_percent.pth')"
      ],
      "metadata": {
        "colab": {
          "base_uri": "https://localhost:8080/"
        },
        "id": "VJtCexE-dT74",
        "outputId": "23a488d3-1ed4-4b4f-917b-09527c55f6a0"
      },
      "execution_count": 30,
      "outputs": [
        {
          "output_type": "stream",
          "name": "stdout",
          "text": [
            "[INFO] Saving model to: models/09_pretrained_vitb16_feature_extractor_pizza_steak_sushi_20_percent.pth\n"
          ]
        }
      ]
    },
    {
      "cell_type": "code",
      "source": [
        "# Count number of parameters in EffNetB2\n",
        "vitb16_total_params = sum(torch.numel(param) for param in vitb16.parameters())\n",
        "vitb16_total_params"
      ],
      "metadata": {
        "colab": {
          "base_uri": "https://localhost:8080/"
        },
        "id": "NuOOQDbrc-hO",
        "outputId": "a158439f-233b-4f08-f081-d51cdb2e90c1"
      },
      "execution_count": 31,
      "outputs": [
        {
          "output_type": "execute_result",
          "data": {
            "text/plain": [
              "85800963"
            ]
          },
          "metadata": {},
          "execution_count": 31
        }
      ]
    },
    {
      "cell_type": "code",
      "source": [
        "from pathlib import Path\n",
        "\n",
        "#Get the model size in bytes\n",
        "pretrain_vitb16_model_size = Path('/content/models/09_pretrained_vitb16_feature_extractor_pizza_steak_sushi_20_percent.pth').stat().st_size\n",
        "print(f'pretrain_vitb16_model_size in MB is {pretrain_effnetb2_model_size / (1024*1024):.2f}')"
      ],
      "metadata": {
        "colab": {
          "base_uri": "https://localhost:8080/"
        },
        "id": "HcIdDEPXdLFV",
        "outputId": "a8b0a8bd-2219-4285-c439-b2b6267c9ff5"
      },
      "execution_count": 32,
      "outputs": [
        {
          "output_type": "stream",
          "name": "stdout",
          "text": [
            "pretrain_vitb16_model_size in MB is 29.86\n"
          ]
        }
      ]
    },
    {
      "cell_type": "code",
      "source": [
        "#Create a dictionray witrh EffNetb2 statistics\n",
        "vitb16_results\n",
        "\n",
        "vitb16_stats = {'test_loss': vitb16_results['test_loss'][-1],\n",
        "                   'test_acc': vitb16_results['test_acc'][-1],\n",
        "                   'number_of_parameters':vitb16_total_params,\n",
        "                   'model_size(MB)': pretrain_vitb16_model_size / (1024*1024)}\n",
        "vitb16_stats"
      ],
      "metadata": {
        "colab": {
          "base_uri": "https://localhost:8080/"
        },
        "id": "Uf-Qn71cd0f0",
        "outputId": "6f5c874c-a6dd-4936-deb7-3def05ee3915"
      },
      "execution_count": 103,
      "outputs": [
        {
          "output_type": "execute_result",
          "data": {
            "text/plain": [
              "{'test_loss': 0.04764887625351548,\n",
              " 'test_acc': 0.9875,\n",
              " 'number_of_parameters': 85800963,\n",
              " 'model_size(MB)': 327.3708276748657}"
            ]
          },
          "metadata": {},
          "execution_count": 103
        }
      ]
    },
    {
      "cell_type": "markdown",
      "source": [
        "##5. Making Predictions with our trained models and timing"
      ],
      "metadata": {
        "id": "ZTDQQoe2fluu"
      }
    },
    {
      "cell_type": "code",
      "source": [
        "def test_step(model: torch.nn.Module,\n",
        "              dataloader: torch.utils.data.DataLoader,\n",
        "              loss_fn: torch.nn.Module,\n",
        "              device: torch.device) -> Tuple[float,float]:\n",
        "  import time\n",
        "  t1 = time.time()\n",
        "  model.to(device)\n",
        "  #Put model in eval mode\n",
        "  model.eval()\n",
        "  #Setup test loss and test accuracy values\n",
        "  test_loss, test_acc = 0,0\n",
        "  #Inference mode\n",
        "  with torch.inference_mode():\n",
        "    for batch, (X,y) in enumerate(dataloader):\n",
        "      #0.Send data to target device\n",
        "      X,y = X.to(device), y.to(device)\n",
        "      #1.Make prediction\n",
        "      test_pred_logits = model(X)\n",
        "      #2.Accumulate loss function\n",
        "      loss = loss_fn(test_pred_logits, y)\n",
        "      test_loss += loss.item()\n",
        "      #3. Accumulate accuracy\n",
        "      test_pred_labels = test_pred_logits.argmax(dim=1)\n",
        "      test_acc += ((test_pred_labels == y).sum().item()/len(test_pred_labels))\n",
        "  #Adjust metrics to get average loss\n",
        "  test_loss /= len(dataloader)\n",
        "  test_acc /= len(dataloader)\n",
        "  t2 = time.time()\n",
        "\n",
        "\n",
        "  return test_loss, test_acc, t2-t1"
      ],
      "metadata": {
        "id": "2YRUvN9CehBk"
      },
      "execution_count": 35,
      "outputs": []
    },
    {
      "cell_type": "code",
      "source": [
        "#Set up loss function for vitb16\n",
        "loss_fn = nn.CrossEntropyLoss()\n",
        "\n",
        "test_loss_vitb16, test_acc_vitb16, time_vitb16 = test_step(model = vitb16,\n",
        "                                                           dataloader = train_dataloader_vit,\n",
        "                                                           loss_fn = loss_fn,\n",
        "                                                           device = device)\n",
        "test_loss_vitb16, test_acc_vitb16, time_vitb16"
      ],
      "metadata": {
        "colab": {
          "base_uri": "https://localhost:8080/"
        },
        "id": "Lvw7dtUDk_3J",
        "outputId": "5a3c80af-6afb-4b20-98b3-657dfd070d57"
      },
      "execution_count": 36,
      "outputs": [
        {
          "output_type": "execute_result",
          "data": {
            "text/plain": [
              "(0.02462225891261672, 1.0, 5.830383062362671)"
            ]
          },
          "metadata": {},
          "execution_count": 36
        }
      ]
    },
    {
      "cell_type": "code",
      "source": [
        "#Set up loss function for effnetb2\n",
        "loss_fn = nn.CrossEntropyLoss()\n",
        "\n",
        "test_loss_effnetb2, test_acc_effnetb2, time_effnetb2 = test_step(model = effnetb2,\n",
        "                                                                 dataloader = train_dataloader_effnetb2,\n",
        "                                                                 loss_fn = loss_fn,\n",
        "                                                                 device = device)\n",
        "test_loss_effnetb2, test_acc_effnetb2, time_effnetb2"
      ],
      "metadata": {
        "colab": {
          "base_uri": "https://localhost:8080/"
        },
        "id": "Pm5DWFjMmQP7",
        "outputId": "ec4932e2-2f5d-4ca2-89dc-d6f1113c19b7"
      },
      "execution_count": 37,
      "outputs": [
        {
          "output_type": "execute_result",
          "data": {
            "text/plain": [
              "(0.15609676043192547, 0.98125, 2.8783175945281982)"
            ]
          },
          "metadata": {},
          "execution_count": 37
        }
      ]
    },
    {
      "cell_type": "code",
      "source": [
        "# calculating average time for each image\n",
        "from pathlib import Path\n",
        "test_dir = Path('/content/data/pizza_steak_sushi/test')\n",
        "length = 0\n",
        "for item in test_dir.iterdir():\n",
        "  length += len(list(item.iterdir()))\n",
        "time_vitb16/length, time_effnetb2/length"
      ],
      "metadata": {
        "colab": {
          "base_uri": "https://localhost:8080/"
        },
        "id": "eZzZrXD7m1Ad",
        "outputId": "91fbe8d8-b30e-4cec-e3e7-eec8a15d546a"
      },
      "execution_count": 38,
      "outputs": [
        {
          "output_type": "execute_result",
          "data": {
            "text/plain": [
              "(0.03886922041575114, 0.019188783963521323)"
            ]
          },
          "metadata": {},
          "execution_count": 38
        }
      ]
    },
    {
      "cell_type": "markdown",
      "source": [
        "##4.2 Simulating and timing the entire inference siutation (From reading files to making prediction)"
      ],
      "metadata": {
        "id": "3n8JeaBj9VfT"
      }
    },
    {
      "cell_type": "code",
      "source": [
        "test_dir"
      ],
      "metadata": {
        "colab": {
          "base_uri": "https://localhost:8080/"
        },
        "id": "d05sVHYi_RTF",
        "outputId": "04670820-a904-48ec-9622-44a2c2d76551"
      },
      "execution_count": 40,
      "outputs": [
        {
          "output_type": "execute_result",
          "data": {
            "text/plain": [
              "PosixPath('/content/data/pizza_steak_sushi/test')"
            ]
          },
          "metadata": {},
          "execution_count": 40
        }
      ]
    },
    {
      "cell_type": "code",
      "source": [
        "# Getting all the pictures for test\n",
        "from pathlib import Path\n",
        "\n",
        "test_data_paths = list(Path(test_dir).glob('*/*.jpg'))\n",
        "\n",
        "test_data_paths[:5]"
      ],
      "metadata": {
        "colab": {
          "base_uri": "https://localhost:8080/"
        },
        "id": "S-IM5oYvtQ9i",
        "outputId": "b71c5c3f-4e38-4c3b-f336-25b3f02d3b57"
      },
      "execution_count": 43,
      "outputs": [
        {
          "output_type": "execute_result",
          "data": {
            "text/plain": [
              "[PosixPath('/content/data/pizza_steak_sushi/test/sushi/2394442.jpg'),\n",
              " PosixPath('/content/data/pizza_steak_sushi/test/sushi/3886015.jpg'),\n",
              " PosixPath('/content/data/pizza_steak_sushi/test/sushi/124279.jpg'),\n",
              " PosixPath('/content/data/pizza_steak_sushi/test/sushi/1683426.jpg'),\n",
              " PosixPath('/content/data/pizza_steak_sushi/test/sushi/2378406.jpg')]"
            ]
          },
          "metadata": {},
          "execution_count": 43
        }
      ]
    },
    {
      "cell_type": "code",
      "source": [
        "test_data_paths[0].parent.stem"
      ],
      "metadata": {
        "colab": {
          "base_uri": "https://localhost:8080/",
          "height": 35
        },
        "id": "XMoWO_Nz_v3Y",
        "outputId": "9a439d9b-b0dc-4264-97c0-bad2bbb13e9f"
      },
      "execution_count": 47,
      "outputs": [
        {
          "output_type": "execute_result",
          "data": {
            "text/plain": [
              "'sushi'"
            ],
            "application/vnd.google.colaboratory.intrinsic+json": {
              "type": "string"
            }
          },
          "metadata": {},
          "execution_count": 47
        }
      ]
    },
    {
      "cell_type": "code",
      "source": [
        "import numpy as np\n",
        "torch.argmax(torch.tensor([0,4,2])).item()"
      ],
      "metadata": {
        "colab": {
          "base_uri": "https://localhost:8080/"
        },
        "id": "8dUqGVCnB4Z6",
        "outputId": "8699d98c-4898-489f-826d-44b96367683c"
      },
      "execution_count": 54,
      "outputs": [
        {
          "output_type": "execute_result",
          "data": {
            "text/plain": [
              "1"
            ]
          },
          "metadata": {},
          "execution_count": 54
        }
      ]
    },
    {
      "cell_type": "code",
      "source": [
        "def pred_and_store(paths:list,\n",
        "                   model: torch.nn.Module,\n",
        "                   transform: torchvision.transforms,\n",
        "                   class_names: List[str],\n",
        "                   device:str = 'cuda' if torch.cuda.is_available else 'cpu'):\n",
        "  from timeit import default_timer as timer\n",
        "  from PIL import Image\n",
        "  from tqdm.auto import tqdm\n",
        "  stats = []\n",
        "  for path in tqdm(paths):\n",
        "    stat_dict = {}\n",
        "    ground_truth = path.parent.stem\n",
        "    stat_dict['image_path'] = path\n",
        "    stat_dict['class_name'] = ground_truth\n",
        "\n",
        "    t1 = timer()\n",
        "    image = Image.open(path)\n",
        "    image = transform(image).unsqueeze(dim = 0).to(device)\n",
        "\n",
        "    model.to(device)\n",
        "    model.eval()\n",
        "    with torch.inference_mode():\n",
        "      y_logits = model(image)\n",
        "      y_prob = torch.softmax(y_logits, dim = 1)\n",
        "      y_pred = torch.argmax(y_prob, dim = 1).item()\n",
        "      pred_class = class_names[y_pred]#python dictionay and pandas/ numpy needs the data to be stored on cpu\n",
        "\n",
        "      stat_dict['pred_class'] = pred_class\n",
        "      stat_dict['prediction_probability'] = round(y_prob.max().cpu().item(),4)\n",
        "      stat_dict['prediction_class'] = y_pred\n",
        "\n",
        "    t2 = timer()\n",
        "    stat_dict['time_for_pred'] = round(t2-t1,4)\n",
        "\n",
        "    stat_dict['correct'] = ground_truth == pred_class\n",
        "    stats.append(stat_dict)\n",
        "  return stats"
      ],
      "metadata": {
        "id": "aWC6nf9A8D0u"
      },
      "execution_count": 70,
      "outputs": []
    },
    {
      "cell_type": "code",
      "source": [
        "# Make predictions across test dataset with EffNetB2\n",
        "effnetb2_test_pred_dicts = pred_and_store(paths=test_data_paths,\n",
        "                                          model=effnetb2,\n",
        "                                          transform=effnetb2_transforms,\n",
        "                                          class_names=class_names,\n",
        "                                          device=\"cpu\") # make predictions on CPU"
      ],
      "metadata": {
        "colab": {
          "base_uri": "https://localhost:8080/",
          "height": 49,
          "referenced_widgets": [
            "e3a1869185d64a37999b41de3cd72ebf",
            "f67b6d7b6a704035aa631bf330bcbb9b",
            "0d989dd5e8234246b57f5dbc24ca470d",
            "d60719ca732b4ac39d01e1769582cd08",
            "86fbc8ae03ff4e79af4f5ab9b4582fea",
            "6081cf0092df48e4b0537e8e384eb3ba",
            "a7f129ec37d9429caae612153abcc5ba",
            "b35324faaa2a402a9c53674bfe8710d9",
            "f841d515eda942c0b85e0a43fd7e52da",
            "43010bed7b9545989c9b472e03c83b25",
            "9af1bd83921849b48f720f777a85a25b"
          ]
        },
        "id": "U-HjqcmvHqvX",
        "outputId": "9bd39d6b-4459-4d38-b5ad-4042755d863a"
      },
      "execution_count": 84,
      "outputs": [
        {
          "output_type": "display_data",
          "data": {
            "text/plain": [
              "  0%|          | 0/150 [00:00<?, ?it/s]"
            ],
            "application/vnd.jupyter.widget-view+json": {
              "version_major": 2,
              "version_minor": 0,
              "model_id": "e3a1869185d64a37999b41de3cd72ebf"
            }
          },
          "metadata": {}
        }
      ]
    },
    {
      "cell_type": "code",
      "source": [
        "effnetb2_test_pred_dicts[:2]"
      ],
      "metadata": {
        "colab": {
          "base_uri": "https://localhost:8080/"
        },
        "id": "Tx52w0qVH8IN",
        "outputId": "11bb91d9-ebd6-4e52-8623-cfc15198aa8c"
      },
      "execution_count": 85,
      "outputs": [
        {
          "output_type": "execute_result",
          "data": {
            "text/plain": [
              "[{'image_path': PosixPath('/content/data/pizza_steak_sushi/test/sushi/2394442.jpg'),\n",
              "  'class_name': 'sushi',\n",
              "  'pred_class': 'sushi',\n",
              "  'prediction_probability': 0.7929,\n",
              "  'prediction_class': 2,\n",
              "  'time_for_pred': 0.0965,\n",
              "  'correct': True},\n",
              " {'image_path': PosixPath('/content/data/pizza_steak_sushi/test/sushi/3886015.jpg'),\n",
              "  'class_name': 'sushi',\n",
              "  'pred_class': 'sushi',\n",
              "  'prediction_probability': 0.9508,\n",
              "  'prediction_class': 2,\n",
              "  'time_for_pred': 0.0815,\n",
              "  'correct': True}]"
            ]
          },
          "metadata": {},
          "execution_count": 85
        }
      ]
    },
    {
      "cell_type": "code",
      "source": [
        "#Turn the test_pred_dicts into a DataFrame\n",
        "import pandas as pd\n",
        "effnetb2_test_pred_df = pd.DataFrame(effnetb2_test_pred_dicts)\n",
        "effnetb2_test_pred_df"
      ],
      "metadata": {
        "colab": {
          "base_uri": "https://localhost:8080/",
          "height": 423
        },
        "id": "m0VitVuYIrJh",
        "outputId": "89d26b9c-7b01-47e4-93cb-460d7d9dacf8"
      },
      "execution_count": 86,
      "outputs": [
        {
          "output_type": "execute_result",
          "data": {
            "text/plain": [
              "                                            image_path class_name pred_class  \\\n",
              "0    /content/data/pizza_steak_sushi/test/sushi/239...      sushi      sushi   \n",
              "1    /content/data/pizza_steak_sushi/test/sushi/388...      sushi      sushi   \n",
              "2    /content/data/pizza_steak_sushi/test/sushi/124...      sushi      steak   \n",
              "3    /content/data/pizza_steak_sushi/test/sushi/168...      sushi      sushi   \n",
              "4    /content/data/pizza_steak_sushi/test/sushi/237...      sushi      sushi   \n",
              "..                                                 ...        ...        ...   \n",
              "145  /content/data/pizza_steak_sushi/test/pizza/225...      pizza      pizza   \n",
              "146  /content/data/pizza_steak_sushi/test/pizza/796...      pizza      pizza   \n",
              "147  /content/data/pizza_steak_sushi/test/pizza/337...      pizza      pizza   \n",
              "148  /content/data/pizza_steak_sushi/test/pizza/930...      pizza      pizza   \n",
              "149  /content/data/pizza_steak_sushi/test/pizza/724...      pizza      pizza   \n",
              "\n",
              "     prediction_probability  prediction_class  time_for_pred  correct  \n",
              "0                    0.7929                 2         0.0965     True  \n",
              "1                    0.9508                 2         0.0815     True  \n",
              "2                    0.4326                 1         0.0741    False  \n",
              "3                    0.4733                 2         0.0773     True  \n",
              "4                    0.4892                 2         0.0736     True  \n",
              "..                      ...               ...            ...      ...  \n",
              "145                  0.9392                 0         0.0797     True  \n",
              "146                  0.9106                 0         0.0701     True  \n",
              "147                  0.8391                 0         0.0733     True  \n",
              "148                  0.9510                 0         0.0712     True  \n",
              "149                  0.9136                 0         0.0720     True  \n",
              "\n",
              "[150 rows x 7 columns]"
            ],
            "text/html": [
              "\n",
              "  <div id=\"df-ee025f60-44ae-4bc9-89af-70ade0526809\">\n",
              "    <div class=\"colab-df-container\">\n",
              "      <div>\n",
              "<style scoped>\n",
              "    .dataframe tbody tr th:only-of-type {\n",
              "        vertical-align: middle;\n",
              "    }\n",
              "\n",
              "    .dataframe tbody tr th {\n",
              "        vertical-align: top;\n",
              "    }\n",
              "\n",
              "    .dataframe thead th {\n",
              "        text-align: right;\n",
              "    }\n",
              "</style>\n",
              "<table border=\"1\" class=\"dataframe\">\n",
              "  <thead>\n",
              "    <tr style=\"text-align: right;\">\n",
              "      <th></th>\n",
              "      <th>image_path</th>\n",
              "      <th>class_name</th>\n",
              "      <th>pred_class</th>\n",
              "      <th>prediction_probability</th>\n",
              "      <th>prediction_class</th>\n",
              "      <th>time_for_pred</th>\n",
              "      <th>correct</th>\n",
              "    </tr>\n",
              "  </thead>\n",
              "  <tbody>\n",
              "    <tr>\n",
              "      <th>0</th>\n",
              "      <td>/content/data/pizza_steak_sushi/test/sushi/239...</td>\n",
              "      <td>sushi</td>\n",
              "      <td>sushi</td>\n",
              "      <td>0.7929</td>\n",
              "      <td>2</td>\n",
              "      <td>0.0965</td>\n",
              "      <td>True</td>\n",
              "    </tr>\n",
              "    <tr>\n",
              "      <th>1</th>\n",
              "      <td>/content/data/pizza_steak_sushi/test/sushi/388...</td>\n",
              "      <td>sushi</td>\n",
              "      <td>sushi</td>\n",
              "      <td>0.9508</td>\n",
              "      <td>2</td>\n",
              "      <td>0.0815</td>\n",
              "      <td>True</td>\n",
              "    </tr>\n",
              "    <tr>\n",
              "      <th>2</th>\n",
              "      <td>/content/data/pizza_steak_sushi/test/sushi/124...</td>\n",
              "      <td>sushi</td>\n",
              "      <td>steak</td>\n",
              "      <td>0.4326</td>\n",
              "      <td>1</td>\n",
              "      <td>0.0741</td>\n",
              "      <td>False</td>\n",
              "    </tr>\n",
              "    <tr>\n",
              "      <th>3</th>\n",
              "      <td>/content/data/pizza_steak_sushi/test/sushi/168...</td>\n",
              "      <td>sushi</td>\n",
              "      <td>sushi</td>\n",
              "      <td>0.4733</td>\n",
              "      <td>2</td>\n",
              "      <td>0.0773</td>\n",
              "      <td>True</td>\n",
              "    </tr>\n",
              "    <tr>\n",
              "      <th>4</th>\n",
              "      <td>/content/data/pizza_steak_sushi/test/sushi/237...</td>\n",
              "      <td>sushi</td>\n",
              "      <td>sushi</td>\n",
              "      <td>0.4892</td>\n",
              "      <td>2</td>\n",
              "      <td>0.0736</td>\n",
              "      <td>True</td>\n",
              "    </tr>\n",
              "    <tr>\n",
              "      <th>...</th>\n",
              "      <td>...</td>\n",
              "      <td>...</td>\n",
              "      <td>...</td>\n",
              "      <td>...</td>\n",
              "      <td>...</td>\n",
              "      <td>...</td>\n",
              "      <td>...</td>\n",
              "    </tr>\n",
              "    <tr>\n",
              "      <th>145</th>\n",
              "      <td>/content/data/pizza_steak_sushi/test/pizza/225...</td>\n",
              "      <td>pizza</td>\n",
              "      <td>pizza</td>\n",
              "      <td>0.9392</td>\n",
              "      <td>0</td>\n",
              "      <td>0.0797</td>\n",
              "      <td>True</td>\n",
              "    </tr>\n",
              "    <tr>\n",
              "      <th>146</th>\n",
              "      <td>/content/data/pizza_steak_sushi/test/pizza/796...</td>\n",
              "      <td>pizza</td>\n",
              "      <td>pizza</td>\n",
              "      <td>0.9106</td>\n",
              "      <td>0</td>\n",
              "      <td>0.0701</td>\n",
              "      <td>True</td>\n",
              "    </tr>\n",
              "    <tr>\n",
              "      <th>147</th>\n",
              "      <td>/content/data/pizza_steak_sushi/test/pizza/337...</td>\n",
              "      <td>pizza</td>\n",
              "      <td>pizza</td>\n",
              "      <td>0.8391</td>\n",
              "      <td>0</td>\n",
              "      <td>0.0733</td>\n",
              "      <td>True</td>\n",
              "    </tr>\n",
              "    <tr>\n",
              "      <th>148</th>\n",
              "      <td>/content/data/pizza_steak_sushi/test/pizza/930...</td>\n",
              "      <td>pizza</td>\n",
              "      <td>pizza</td>\n",
              "      <td>0.9510</td>\n",
              "      <td>0</td>\n",
              "      <td>0.0712</td>\n",
              "      <td>True</td>\n",
              "    </tr>\n",
              "    <tr>\n",
              "      <th>149</th>\n",
              "      <td>/content/data/pizza_steak_sushi/test/pizza/724...</td>\n",
              "      <td>pizza</td>\n",
              "      <td>pizza</td>\n",
              "      <td>0.9136</td>\n",
              "      <td>0</td>\n",
              "      <td>0.0720</td>\n",
              "      <td>True</td>\n",
              "    </tr>\n",
              "  </tbody>\n",
              "</table>\n",
              "<p>150 rows × 7 columns</p>\n",
              "</div>\n",
              "      <button class=\"colab-df-convert\" onclick=\"convertToInteractive('df-ee025f60-44ae-4bc9-89af-70ade0526809')\"\n",
              "              title=\"Convert this dataframe to an interactive table.\"\n",
              "              style=\"display:none;\">\n",
              "        \n",
              "  <svg xmlns=\"http://www.w3.org/2000/svg\" height=\"24px\"viewBox=\"0 0 24 24\"\n",
              "       width=\"24px\">\n",
              "    <path d=\"M0 0h24v24H0V0z\" fill=\"none\"/>\n",
              "    <path d=\"M18.56 5.44l.94 2.06.94-2.06 2.06-.94-2.06-.94-.94-2.06-.94 2.06-2.06.94zm-11 1L8.5 8.5l.94-2.06 2.06-.94-2.06-.94L8.5 2.5l-.94 2.06-2.06.94zm10 10l.94 2.06.94-2.06 2.06-.94-2.06-.94-.94-2.06-.94 2.06-2.06.94z\"/><path d=\"M17.41 7.96l-1.37-1.37c-.4-.4-.92-.59-1.43-.59-.52 0-1.04.2-1.43.59L10.3 9.45l-7.72 7.72c-.78.78-.78 2.05 0 2.83L4 21.41c.39.39.9.59 1.41.59.51 0 1.02-.2 1.41-.59l7.78-7.78 2.81-2.81c.8-.78.8-2.07 0-2.86zM5.41 20L4 18.59l7.72-7.72 1.47 1.35L5.41 20z\"/>\n",
              "  </svg>\n",
              "      </button>\n",
              "      \n",
              "  <style>\n",
              "    .colab-df-container {\n",
              "      display:flex;\n",
              "      flex-wrap:wrap;\n",
              "      gap: 12px;\n",
              "    }\n",
              "\n",
              "    .colab-df-convert {\n",
              "      background-color: #E8F0FE;\n",
              "      border: none;\n",
              "      border-radius: 50%;\n",
              "      cursor: pointer;\n",
              "      display: none;\n",
              "      fill: #1967D2;\n",
              "      height: 32px;\n",
              "      padding: 0 0 0 0;\n",
              "      width: 32px;\n",
              "    }\n",
              "\n",
              "    .colab-df-convert:hover {\n",
              "      background-color: #E2EBFA;\n",
              "      box-shadow: 0px 1px 2px rgba(60, 64, 67, 0.3), 0px 1px 3px 1px rgba(60, 64, 67, 0.15);\n",
              "      fill: #174EA6;\n",
              "    }\n",
              "\n",
              "    [theme=dark] .colab-df-convert {\n",
              "      background-color: #3B4455;\n",
              "      fill: #D2E3FC;\n",
              "    }\n",
              "\n",
              "    [theme=dark] .colab-df-convert:hover {\n",
              "      background-color: #434B5C;\n",
              "      box-shadow: 0px 1px 3px 1px rgba(0, 0, 0, 0.15);\n",
              "      filter: drop-shadow(0px 1px 2px rgba(0, 0, 0, 0.3));\n",
              "      fill: #FFFFFF;\n",
              "    }\n",
              "  </style>\n",
              "\n",
              "      <script>\n",
              "        const buttonEl =\n",
              "          document.querySelector('#df-ee025f60-44ae-4bc9-89af-70ade0526809 button.colab-df-convert');\n",
              "        buttonEl.style.display =\n",
              "          google.colab.kernel.accessAllowed ? 'block' : 'none';\n",
              "\n",
              "        async function convertToInteractive(key) {\n",
              "          const element = document.querySelector('#df-ee025f60-44ae-4bc9-89af-70ade0526809');\n",
              "          const dataTable =\n",
              "            await google.colab.kernel.invokeFunction('convertToInteractive',\n",
              "                                                     [key], {});\n",
              "          if (!dataTable) return;\n",
              "\n",
              "          const docLinkHtml = 'Like what you see? Visit the ' +\n",
              "            '<a target=\"_blank\" href=https://colab.research.google.com/notebooks/data_table.ipynb>data table notebook</a>'\n",
              "            + ' to learn more about interactive tables.';\n",
              "          element.innerHTML = '';\n",
              "          dataTable['output_type'] = 'display_data';\n",
              "          await google.colab.output.renderOutput(dataTable, element);\n",
              "          const docLink = document.createElement('div');\n",
              "          docLink.innerHTML = docLinkHtml;\n",
              "          element.appendChild(docLink);\n",
              "        }\n",
              "      </script>\n",
              "    </div>\n",
              "  </div>\n",
              "  "
            ]
          },
          "metadata": {},
          "execution_count": 86
        }
      ]
    },
    {
      "cell_type": "code",
      "source": [
        "effnetb2_test_pred_df.correct.value_counts()"
      ],
      "metadata": {
        "colab": {
          "base_uri": "https://localhost:8080/"
        },
        "id": "foAy8tCeJVV8",
        "outputId": "ea327af5-c54b-4b5b-f22b-a37b12be008a"
      },
      "execution_count": 87,
      "outputs": [
        {
          "output_type": "execute_result",
          "data": {
            "text/plain": [
              "True     143\n",
              "False      7\n",
              "Name: correct, dtype: int64"
            ]
          },
          "metadata": {},
          "execution_count": 87
        }
      ]
    },
    {
      "cell_type": "code",
      "source": [
        "effnetb2_test_pred_df.time_for_pred.mean()"
      ],
      "metadata": {
        "colab": {
          "base_uri": "https://localhost:8080/"
        },
        "id": "Sxf_hcEiJa5H",
        "outputId": "283d9a95-7523-4172-aeaa-c5262dac836f"
      },
      "execution_count": 88,
      "outputs": [
        {
          "output_type": "execute_result",
          "data": {
            "text/plain": [
              "0.07832866666666667"
            ]
          },
          "metadata": {},
          "execution_count": 88
        }
      ]
    },
    {
      "cell_type": "code",
      "source": [
        "# Add EffNetB2 average prediction time to stats dictionary\n",
        "effnetb2_stats [\"time_per_pred_cpu\"] = effnetb2_test_pred_df.time_for_pred.mean()\n",
        "effnetb2_stats"
      ],
      "metadata": {
        "colab": {
          "base_uri": "https://localhost:8080/"
        },
        "id": "GDqXRTIPJhu9",
        "outputId": "85111006-172d-446d-dde8-b89a69b48a17"
      },
      "execution_count": 89,
      "outputs": [
        {
          "output_type": "execute_result",
          "data": {
            "text/plain": [
              "{'test_loss': 0.24402595162391663,\n",
              " 'test_acc': 0.9477272727272726,\n",
              " 'number_of_parameters': 7705221,\n",
              " 'model_size(MB)': 29.863232612609863,\n",
              " 'time_per_pred_cpu': 0.07832866666666667}"
            ]
          },
          "metadata": {},
          "execution_count": 89
        }
      ]
    },
    {
      "cell_type": "code",
      "source": [
        "# Make predictions across test dataset with EffNetB2\n",
        "vitb16_test_pred_dicts = pred_and_store(paths=test_data_paths,\n",
        "                                          model=vitb16,\n",
        "                                          transform=vit_transforms,\n",
        "                                          class_names=class_names,\n",
        "                                          device=\"cpu\") # make predictions on CPU"
      ],
      "metadata": {
        "colab": {
          "base_uri": "https://localhost:8080/",
          "height": 49,
          "referenced_widgets": [
            "14a6a33da82c47ef8c8051cbe7091bdc",
            "4697a21795a7404eb8772df1660b5688",
            "56a8b139169041d7bb95d3e175f3f8f1",
            "40c53457a31f4ad6895c61d4531cc5b3",
            "66d62799599e4b6fa02d972eba8c8113",
            "f329c4bd39bd4caba68488b14148b219",
            "9e80e3be1b65410bb794140874a05589",
            "277a2c0268a6495884c8a5b3251ee278",
            "2e84ec95810f448aa324f47d84376684",
            "587b80230f434c53a9b6f66d97b2601b",
            "f0bdc5eb954b4d2b83cd050d8f72ed64"
          ]
        },
        "id": "XmdDiXW5Jm7Y",
        "outputId": "a81f04e4-d934-4a9c-ad41-71d59118adbb"
      },
      "execution_count": 90,
      "outputs": [
        {
          "output_type": "display_data",
          "data": {
            "text/plain": [
              "  0%|          | 0/150 [00:00<?, ?it/s]"
            ],
            "application/vnd.jupyter.widget-view+json": {
              "version_major": 2,
              "version_minor": 0,
              "model_id": "14a6a33da82c47ef8c8051cbe7091bdc"
            }
          },
          "metadata": {}
        }
      ]
    },
    {
      "cell_type": "code",
      "source": [
        "#Turn the test_pred_dicts into a DataFrame\n",
        "import pandas as pd\n",
        "vitb16_test_pred_df = pd.DataFrame(vitb16_test_pred_dicts)\n",
        "vitb16_test_pred_df"
      ],
      "metadata": {
        "colab": {
          "base_uri": "https://localhost:8080/",
          "height": 423
        },
        "id": "x-Bh6zhVKyIJ",
        "outputId": "818c374e-4c4c-43b3-f242-a1ba93b4aedc"
      },
      "execution_count": 91,
      "outputs": [
        {
          "output_type": "execute_result",
          "data": {
            "text/plain": [
              "                                            image_path class_name pred_class  \\\n",
              "0    /content/data/pizza_steak_sushi/test/sushi/239...      sushi      sushi   \n",
              "1    /content/data/pizza_steak_sushi/test/sushi/388...      sushi      sushi   \n",
              "2    /content/data/pizza_steak_sushi/test/sushi/124...      sushi      sushi   \n",
              "3    /content/data/pizza_steak_sushi/test/sushi/168...      sushi      sushi   \n",
              "4    /content/data/pizza_steak_sushi/test/sushi/237...      sushi      sushi   \n",
              "..                                                 ...        ...        ...   \n",
              "145  /content/data/pizza_steak_sushi/test/pizza/225...      pizza      pizza   \n",
              "146  /content/data/pizza_steak_sushi/test/pizza/796...      pizza      pizza   \n",
              "147  /content/data/pizza_steak_sushi/test/pizza/337...      pizza      pizza   \n",
              "148  /content/data/pizza_steak_sushi/test/pizza/930...      pizza      pizza   \n",
              "149  /content/data/pizza_steak_sushi/test/pizza/724...      pizza      pizza   \n",
              "\n",
              "     prediction_probability  prediction_class  time_for_pred  correct  \n",
              "0                    0.9946                 2         0.3479     True  \n",
              "1                    0.9522                 2         0.3251     True  \n",
              "2                    0.9716                 2         0.3318     True  \n",
              "3                    0.6860                 2         0.3307     True  \n",
              "4                    0.9969                 2         0.3426     True  \n",
              "..                      ...               ...            ...      ...  \n",
              "145                  0.9993                 0         0.5117     True  \n",
              "146                  0.9909                 0         0.3064     True  \n",
              "147                  0.9992                 0         0.3030     True  \n",
              "148                  0.9990                 0         0.3156     True  \n",
              "149                  0.9974                 0         0.3136     True  \n",
              "\n",
              "[150 rows x 7 columns]"
            ],
            "text/html": [
              "\n",
              "  <div id=\"df-3a6937aa-a7b9-427e-a1bc-4ee1bc464fce\">\n",
              "    <div class=\"colab-df-container\">\n",
              "      <div>\n",
              "<style scoped>\n",
              "    .dataframe tbody tr th:only-of-type {\n",
              "        vertical-align: middle;\n",
              "    }\n",
              "\n",
              "    .dataframe tbody tr th {\n",
              "        vertical-align: top;\n",
              "    }\n",
              "\n",
              "    .dataframe thead th {\n",
              "        text-align: right;\n",
              "    }\n",
              "</style>\n",
              "<table border=\"1\" class=\"dataframe\">\n",
              "  <thead>\n",
              "    <tr style=\"text-align: right;\">\n",
              "      <th></th>\n",
              "      <th>image_path</th>\n",
              "      <th>class_name</th>\n",
              "      <th>pred_class</th>\n",
              "      <th>prediction_probability</th>\n",
              "      <th>prediction_class</th>\n",
              "      <th>time_for_pred</th>\n",
              "      <th>correct</th>\n",
              "    </tr>\n",
              "  </thead>\n",
              "  <tbody>\n",
              "    <tr>\n",
              "      <th>0</th>\n",
              "      <td>/content/data/pizza_steak_sushi/test/sushi/239...</td>\n",
              "      <td>sushi</td>\n",
              "      <td>sushi</td>\n",
              "      <td>0.9946</td>\n",
              "      <td>2</td>\n",
              "      <td>0.3479</td>\n",
              "      <td>True</td>\n",
              "    </tr>\n",
              "    <tr>\n",
              "      <th>1</th>\n",
              "      <td>/content/data/pizza_steak_sushi/test/sushi/388...</td>\n",
              "      <td>sushi</td>\n",
              "      <td>sushi</td>\n",
              "      <td>0.9522</td>\n",
              "      <td>2</td>\n",
              "      <td>0.3251</td>\n",
              "      <td>True</td>\n",
              "    </tr>\n",
              "    <tr>\n",
              "      <th>2</th>\n",
              "      <td>/content/data/pizza_steak_sushi/test/sushi/124...</td>\n",
              "      <td>sushi</td>\n",
              "      <td>sushi</td>\n",
              "      <td>0.9716</td>\n",
              "      <td>2</td>\n",
              "      <td>0.3318</td>\n",
              "      <td>True</td>\n",
              "    </tr>\n",
              "    <tr>\n",
              "      <th>3</th>\n",
              "      <td>/content/data/pizza_steak_sushi/test/sushi/168...</td>\n",
              "      <td>sushi</td>\n",
              "      <td>sushi</td>\n",
              "      <td>0.6860</td>\n",
              "      <td>2</td>\n",
              "      <td>0.3307</td>\n",
              "      <td>True</td>\n",
              "    </tr>\n",
              "    <tr>\n",
              "      <th>4</th>\n",
              "      <td>/content/data/pizza_steak_sushi/test/sushi/237...</td>\n",
              "      <td>sushi</td>\n",
              "      <td>sushi</td>\n",
              "      <td>0.9969</td>\n",
              "      <td>2</td>\n",
              "      <td>0.3426</td>\n",
              "      <td>True</td>\n",
              "    </tr>\n",
              "    <tr>\n",
              "      <th>...</th>\n",
              "      <td>...</td>\n",
              "      <td>...</td>\n",
              "      <td>...</td>\n",
              "      <td>...</td>\n",
              "      <td>...</td>\n",
              "      <td>...</td>\n",
              "      <td>...</td>\n",
              "    </tr>\n",
              "    <tr>\n",
              "      <th>145</th>\n",
              "      <td>/content/data/pizza_steak_sushi/test/pizza/225...</td>\n",
              "      <td>pizza</td>\n",
              "      <td>pizza</td>\n",
              "      <td>0.9993</td>\n",
              "      <td>0</td>\n",
              "      <td>0.5117</td>\n",
              "      <td>True</td>\n",
              "    </tr>\n",
              "    <tr>\n",
              "      <th>146</th>\n",
              "      <td>/content/data/pizza_steak_sushi/test/pizza/796...</td>\n",
              "      <td>pizza</td>\n",
              "      <td>pizza</td>\n",
              "      <td>0.9909</td>\n",
              "      <td>0</td>\n",
              "      <td>0.3064</td>\n",
              "      <td>True</td>\n",
              "    </tr>\n",
              "    <tr>\n",
              "      <th>147</th>\n",
              "      <td>/content/data/pizza_steak_sushi/test/pizza/337...</td>\n",
              "      <td>pizza</td>\n",
              "      <td>pizza</td>\n",
              "      <td>0.9992</td>\n",
              "      <td>0</td>\n",
              "      <td>0.3030</td>\n",
              "      <td>True</td>\n",
              "    </tr>\n",
              "    <tr>\n",
              "      <th>148</th>\n",
              "      <td>/content/data/pizza_steak_sushi/test/pizza/930...</td>\n",
              "      <td>pizza</td>\n",
              "      <td>pizza</td>\n",
              "      <td>0.9990</td>\n",
              "      <td>0</td>\n",
              "      <td>0.3156</td>\n",
              "      <td>True</td>\n",
              "    </tr>\n",
              "    <tr>\n",
              "      <th>149</th>\n",
              "      <td>/content/data/pizza_steak_sushi/test/pizza/724...</td>\n",
              "      <td>pizza</td>\n",
              "      <td>pizza</td>\n",
              "      <td>0.9974</td>\n",
              "      <td>0</td>\n",
              "      <td>0.3136</td>\n",
              "      <td>True</td>\n",
              "    </tr>\n",
              "  </tbody>\n",
              "</table>\n",
              "<p>150 rows × 7 columns</p>\n",
              "</div>\n",
              "      <button class=\"colab-df-convert\" onclick=\"convertToInteractive('df-3a6937aa-a7b9-427e-a1bc-4ee1bc464fce')\"\n",
              "              title=\"Convert this dataframe to an interactive table.\"\n",
              "              style=\"display:none;\">\n",
              "        \n",
              "  <svg xmlns=\"http://www.w3.org/2000/svg\" height=\"24px\"viewBox=\"0 0 24 24\"\n",
              "       width=\"24px\">\n",
              "    <path d=\"M0 0h24v24H0V0z\" fill=\"none\"/>\n",
              "    <path d=\"M18.56 5.44l.94 2.06.94-2.06 2.06-.94-2.06-.94-.94-2.06-.94 2.06-2.06.94zm-11 1L8.5 8.5l.94-2.06 2.06-.94-2.06-.94L8.5 2.5l-.94 2.06-2.06.94zm10 10l.94 2.06.94-2.06 2.06-.94-2.06-.94-.94-2.06-.94 2.06-2.06.94z\"/><path d=\"M17.41 7.96l-1.37-1.37c-.4-.4-.92-.59-1.43-.59-.52 0-1.04.2-1.43.59L10.3 9.45l-7.72 7.72c-.78.78-.78 2.05 0 2.83L4 21.41c.39.39.9.59 1.41.59.51 0 1.02-.2 1.41-.59l7.78-7.78 2.81-2.81c.8-.78.8-2.07 0-2.86zM5.41 20L4 18.59l7.72-7.72 1.47 1.35L5.41 20z\"/>\n",
              "  </svg>\n",
              "      </button>\n",
              "      \n",
              "  <style>\n",
              "    .colab-df-container {\n",
              "      display:flex;\n",
              "      flex-wrap:wrap;\n",
              "      gap: 12px;\n",
              "    }\n",
              "\n",
              "    .colab-df-convert {\n",
              "      background-color: #E8F0FE;\n",
              "      border: none;\n",
              "      border-radius: 50%;\n",
              "      cursor: pointer;\n",
              "      display: none;\n",
              "      fill: #1967D2;\n",
              "      height: 32px;\n",
              "      padding: 0 0 0 0;\n",
              "      width: 32px;\n",
              "    }\n",
              "\n",
              "    .colab-df-convert:hover {\n",
              "      background-color: #E2EBFA;\n",
              "      box-shadow: 0px 1px 2px rgba(60, 64, 67, 0.3), 0px 1px 3px 1px rgba(60, 64, 67, 0.15);\n",
              "      fill: #174EA6;\n",
              "    }\n",
              "\n",
              "    [theme=dark] .colab-df-convert {\n",
              "      background-color: #3B4455;\n",
              "      fill: #D2E3FC;\n",
              "    }\n",
              "\n",
              "    [theme=dark] .colab-df-convert:hover {\n",
              "      background-color: #434B5C;\n",
              "      box-shadow: 0px 1px 3px 1px rgba(0, 0, 0, 0.15);\n",
              "      filter: drop-shadow(0px 1px 2px rgba(0, 0, 0, 0.3));\n",
              "      fill: #FFFFFF;\n",
              "    }\n",
              "  </style>\n",
              "\n",
              "      <script>\n",
              "        const buttonEl =\n",
              "          document.querySelector('#df-3a6937aa-a7b9-427e-a1bc-4ee1bc464fce button.colab-df-convert');\n",
              "        buttonEl.style.display =\n",
              "          google.colab.kernel.accessAllowed ? 'block' : 'none';\n",
              "\n",
              "        async function convertToInteractive(key) {\n",
              "          const element = document.querySelector('#df-3a6937aa-a7b9-427e-a1bc-4ee1bc464fce');\n",
              "          const dataTable =\n",
              "            await google.colab.kernel.invokeFunction('convertToInteractive',\n",
              "                                                     [key], {});\n",
              "          if (!dataTable) return;\n",
              "\n",
              "          const docLinkHtml = 'Like what you see? Visit the ' +\n",
              "            '<a target=\"_blank\" href=https://colab.research.google.com/notebooks/data_table.ipynb>data table notebook</a>'\n",
              "            + ' to learn more about interactive tables.';\n",
              "          element.innerHTML = '';\n",
              "          dataTable['output_type'] = 'display_data';\n",
              "          await google.colab.output.renderOutput(dataTable, element);\n",
              "          const docLink = document.createElement('div');\n",
              "          docLink.innerHTML = docLinkHtml;\n",
              "          element.appendChild(docLink);\n",
              "        }\n",
              "      </script>\n",
              "    </div>\n",
              "  </div>\n",
              "  "
            ]
          },
          "metadata": {},
          "execution_count": 91
        }
      ]
    },
    {
      "cell_type": "code",
      "source": [
        "vitb16_test_pred_df.correct.value_counts()"
      ],
      "metadata": {
        "colab": {
          "base_uri": "https://localhost:8080/"
        },
        "id": "dNcJEqyCLTq3",
        "outputId": "bfb9b366-ec93-49a3-b301-991117c81e0e"
      },
      "execution_count": 92,
      "outputs": [
        {
          "output_type": "execute_result",
          "data": {
            "text/plain": [
              "True     148\n",
              "False      2\n",
              "Name: correct, dtype: int64"
            ]
          },
          "metadata": {},
          "execution_count": 92
        }
      ]
    },
    {
      "cell_type": "code",
      "source": [
        "# Add vitb16 average prediction time to stats dictionary\n",
        "vitb16_stats [\"time_per_pred_cpu\"] = vitb16_test_pred_df.time_for_pred.mean()\n",
        "vitb16_stats"
      ],
      "metadata": {
        "colab": {
          "base_uri": "https://localhost:8080/"
        },
        "id": "viQTGig8LXVD",
        "outputId": "d3e3b22a-a2fc-4a81-acda-ea7a4ae34a9a"
      },
      "execution_count": 104,
      "outputs": [
        {
          "output_type": "execute_result",
          "data": {
            "text/plain": [
              "{'test_loss': 0.04764887625351548,\n",
              " 'test_acc': 0.9875,\n",
              " 'number_of_parameters': 85800963,\n",
              " 'model_size(MB)': 327.3708276748657,\n",
              " 'time_per_pred_cpu': 0.33874200000000004}"
            ]
          },
          "metadata": {},
          "execution_count": 104
        }
      ]
    },
    {
      "cell_type": "markdown",
      "source": [
        "#5. Comparing model results, prediction times and size"
      ],
      "metadata": {
        "id": "4iIMb-wNLt3u"
      }
    },
    {
      "cell_type": "code",
      "source": [
        "# Creat comparison dataframe\n",
        "import pandas as pd\n",
        "df = pd.DataFrame([effnetb2_stats, vitb16_stats])\n",
        "df['model'] = ['effnetb2', 'vit']\n",
        "\n",
        "df['test_acc'] = round(df['test_acc']*100, 2)\n",
        "df"
      ],
      "metadata": {
        "colab": {
          "base_uri": "https://localhost:8080/",
          "height": 112
        },
        "id": "BC9qC1_1Lo-b",
        "outputId": "a2b1194c-9a27-496b-f94a-31d2ce2ab62c"
      },
      "execution_count": 105,
      "outputs": [
        {
          "output_type": "execute_result",
          "data": {
            "text/plain": [
              "   test_loss  test_acc  number_of_parameters  model_size(MB)  \\\n",
              "0   0.244026     94.77               7705221       29.863233   \n",
              "1   0.047649     98.75              85800963      327.370828   \n",
              "\n",
              "   time_per_pred_cpu     model  \n",
              "0           0.078329  effnetb2  \n",
              "1           0.338742       vit  "
            ],
            "text/html": [
              "\n",
              "  <div id=\"df-65275da3-474a-45d8-bf73-b04e198bef86\">\n",
              "    <div class=\"colab-df-container\">\n",
              "      <div>\n",
              "<style scoped>\n",
              "    .dataframe tbody tr th:only-of-type {\n",
              "        vertical-align: middle;\n",
              "    }\n",
              "\n",
              "    .dataframe tbody tr th {\n",
              "        vertical-align: top;\n",
              "    }\n",
              "\n",
              "    .dataframe thead th {\n",
              "        text-align: right;\n",
              "    }\n",
              "</style>\n",
              "<table border=\"1\" class=\"dataframe\">\n",
              "  <thead>\n",
              "    <tr style=\"text-align: right;\">\n",
              "      <th></th>\n",
              "      <th>test_loss</th>\n",
              "      <th>test_acc</th>\n",
              "      <th>number_of_parameters</th>\n",
              "      <th>model_size(MB)</th>\n",
              "      <th>time_per_pred_cpu</th>\n",
              "      <th>model</th>\n",
              "    </tr>\n",
              "  </thead>\n",
              "  <tbody>\n",
              "    <tr>\n",
              "      <th>0</th>\n",
              "      <td>0.244026</td>\n",
              "      <td>94.77</td>\n",
              "      <td>7705221</td>\n",
              "      <td>29.863233</td>\n",
              "      <td>0.078329</td>\n",
              "      <td>effnetb2</td>\n",
              "    </tr>\n",
              "    <tr>\n",
              "      <th>1</th>\n",
              "      <td>0.047649</td>\n",
              "      <td>98.75</td>\n",
              "      <td>85800963</td>\n",
              "      <td>327.370828</td>\n",
              "      <td>0.338742</td>\n",
              "      <td>vit</td>\n",
              "    </tr>\n",
              "  </tbody>\n",
              "</table>\n",
              "</div>\n",
              "      <button class=\"colab-df-convert\" onclick=\"convertToInteractive('df-65275da3-474a-45d8-bf73-b04e198bef86')\"\n",
              "              title=\"Convert this dataframe to an interactive table.\"\n",
              "              style=\"display:none;\">\n",
              "        \n",
              "  <svg xmlns=\"http://www.w3.org/2000/svg\" height=\"24px\"viewBox=\"0 0 24 24\"\n",
              "       width=\"24px\">\n",
              "    <path d=\"M0 0h24v24H0V0z\" fill=\"none\"/>\n",
              "    <path d=\"M18.56 5.44l.94 2.06.94-2.06 2.06-.94-2.06-.94-.94-2.06-.94 2.06-2.06.94zm-11 1L8.5 8.5l.94-2.06 2.06-.94-2.06-.94L8.5 2.5l-.94 2.06-2.06.94zm10 10l.94 2.06.94-2.06 2.06-.94-2.06-.94-.94-2.06-.94 2.06-2.06.94z\"/><path d=\"M17.41 7.96l-1.37-1.37c-.4-.4-.92-.59-1.43-.59-.52 0-1.04.2-1.43.59L10.3 9.45l-7.72 7.72c-.78.78-.78 2.05 0 2.83L4 21.41c.39.39.9.59 1.41.59.51 0 1.02-.2 1.41-.59l7.78-7.78 2.81-2.81c.8-.78.8-2.07 0-2.86zM5.41 20L4 18.59l7.72-7.72 1.47 1.35L5.41 20z\"/>\n",
              "  </svg>\n",
              "      </button>\n",
              "      \n",
              "  <style>\n",
              "    .colab-df-container {\n",
              "      display:flex;\n",
              "      flex-wrap:wrap;\n",
              "      gap: 12px;\n",
              "    }\n",
              "\n",
              "    .colab-df-convert {\n",
              "      background-color: #E8F0FE;\n",
              "      border: none;\n",
              "      border-radius: 50%;\n",
              "      cursor: pointer;\n",
              "      display: none;\n",
              "      fill: #1967D2;\n",
              "      height: 32px;\n",
              "      padding: 0 0 0 0;\n",
              "      width: 32px;\n",
              "    }\n",
              "\n",
              "    .colab-df-convert:hover {\n",
              "      background-color: #E2EBFA;\n",
              "      box-shadow: 0px 1px 2px rgba(60, 64, 67, 0.3), 0px 1px 3px 1px rgba(60, 64, 67, 0.15);\n",
              "      fill: #174EA6;\n",
              "    }\n",
              "\n",
              "    [theme=dark] .colab-df-convert {\n",
              "      background-color: #3B4455;\n",
              "      fill: #D2E3FC;\n",
              "    }\n",
              "\n",
              "    [theme=dark] .colab-df-convert:hover {\n",
              "      background-color: #434B5C;\n",
              "      box-shadow: 0px 1px 3px 1px rgba(0, 0, 0, 0.15);\n",
              "      filter: drop-shadow(0px 1px 2px rgba(0, 0, 0, 0.3));\n",
              "      fill: #FFFFFF;\n",
              "    }\n",
              "  </style>\n",
              "\n",
              "      <script>\n",
              "        const buttonEl =\n",
              "          document.querySelector('#df-65275da3-474a-45d8-bf73-b04e198bef86 button.colab-df-convert');\n",
              "        buttonEl.style.display =\n",
              "          google.colab.kernel.accessAllowed ? 'block' : 'none';\n",
              "\n",
              "        async function convertToInteractive(key) {\n",
              "          const element = document.querySelector('#df-65275da3-474a-45d8-bf73-b04e198bef86');\n",
              "          const dataTable =\n",
              "            await google.colab.kernel.invokeFunction('convertToInteractive',\n",
              "                                                     [key], {});\n",
              "          if (!dataTable) return;\n",
              "\n",
              "          const docLinkHtml = 'Like what you see? Visit the ' +\n",
              "            '<a target=\"_blank\" href=https://colab.research.google.com/notebooks/data_table.ipynb>data table notebook</a>'\n",
              "            + ' to learn more about interactive tables.';\n",
              "          element.innerHTML = '';\n",
              "          dataTable['output_type'] = 'display_data';\n",
              "          await google.colab.output.renderOutput(dataTable, element);\n",
              "          const docLink = document.createElement('div');\n",
              "          docLink.innerHTML = docLinkHtml;\n",
              "          element.appendChild(docLink);\n",
              "        }\n",
              "      </script>\n",
              "    </div>\n",
              "  </div>\n",
              "  "
            ]
          },
          "metadata": {},
          "execution_count": 105
        }
      ]
    },
    {
      "cell_type": "code",
      "source": [
        "# Compare ViT to EffNetB2 across different characteristics\n",
        "comparision_df = pd.DataFrame(data=(df.set_index(\"model\").loc[\"vit\"] / df.set_index(\"model\").loc[\"effnetb2\"]), # divide ViT statistics by EffNetB2 statistics\n",
        "             columns=[\"ViT to EffNetB2 ratios\"]).T\n",
        "comparision_df"
      ],
      "metadata": {
        "colab": {
          "base_uri": "https://localhost:8080/",
          "height": 80
        },
        "id": "D3D0ordeMht8",
        "outputId": "fcec1468-e859-4946-cdd3-5f073c063f6d"
      },
      "execution_count": 106,
      "outputs": [
        {
          "output_type": "execute_result",
          "data": {
            "text/plain": [
              "                        test_loss  test_acc  number_of_parameters  \\\n",
              "ViT to EffNetB2 ratios   0.195262  1.041996             11.135432   \n",
              "\n",
              "                        model_size(MB)  time_per_pred_cpu  \n",
              "ViT to EffNetB2 ratios       10.962337           4.324624  "
            ],
            "text/html": [
              "\n",
              "  <div id=\"df-6b8f5bce-3cf0-4edf-b7ee-350a20f60255\">\n",
              "    <div class=\"colab-df-container\">\n",
              "      <div>\n",
              "<style scoped>\n",
              "    .dataframe tbody tr th:only-of-type {\n",
              "        vertical-align: middle;\n",
              "    }\n",
              "\n",
              "    .dataframe tbody tr th {\n",
              "        vertical-align: top;\n",
              "    }\n",
              "\n",
              "    .dataframe thead th {\n",
              "        text-align: right;\n",
              "    }\n",
              "</style>\n",
              "<table border=\"1\" class=\"dataframe\">\n",
              "  <thead>\n",
              "    <tr style=\"text-align: right;\">\n",
              "      <th></th>\n",
              "      <th>test_loss</th>\n",
              "      <th>test_acc</th>\n",
              "      <th>number_of_parameters</th>\n",
              "      <th>model_size(MB)</th>\n",
              "      <th>time_per_pred_cpu</th>\n",
              "    </tr>\n",
              "  </thead>\n",
              "  <tbody>\n",
              "    <tr>\n",
              "      <th>ViT to EffNetB2 ratios</th>\n",
              "      <td>0.195262</td>\n",
              "      <td>1.041996</td>\n",
              "      <td>11.135432</td>\n",
              "      <td>10.962337</td>\n",
              "      <td>4.324624</td>\n",
              "    </tr>\n",
              "  </tbody>\n",
              "</table>\n",
              "</div>\n",
              "      <button class=\"colab-df-convert\" onclick=\"convertToInteractive('df-6b8f5bce-3cf0-4edf-b7ee-350a20f60255')\"\n",
              "              title=\"Convert this dataframe to an interactive table.\"\n",
              "              style=\"display:none;\">\n",
              "        \n",
              "  <svg xmlns=\"http://www.w3.org/2000/svg\" height=\"24px\"viewBox=\"0 0 24 24\"\n",
              "       width=\"24px\">\n",
              "    <path d=\"M0 0h24v24H0V0z\" fill=\"none\"/>\n",
              "    <path d=\"M18.56 5.44l.94 2.06.94-2.06 2.06-.94-2.06-.94-.94-2.06-.94 2.06-2.06.94zm-11 1L8.5 8.5l.94-2.06 2.06-.94-2.06-.94L8.5 2.5l-.94 2.06-2.06.94zm10 10l.94 2.06.94-2.06 2.06-.94-2.06-.94-.94-2.06-.94 2.06-2.06.94z\"/><path d=\"M17.41 7.96l-1.37-1.37c-.4-.4-.92-.59-1.43-.59-.52 0-1.04.2-1.43.59L10.3 9.45l-7.72 7.72c-.78.78-.78 2.05 0 2.83L4 21.41c.39.39.9.59 1.41.59.51 0 1.02-.2 1.41-.59l7.78-7.78 2.81-2.81c.8-.78.8-2.07 0-2.86zM5.41 20L4 18.59l7.72-7.72 1.47 1.35L5.41 20z\"/>\n",
              "  </svg>\n",
              "      </button>\n",
              "      \n",
              "  <style>\n",
              "    .colab-df-container {\n",
              "      display:flex;\n",
              "      flex-wrap:wrap;\n",
              "      gap: 12px;\n",
              "    }\n",
              "\n",
              "    .colab-df-convert {\n",
              "      background-color: #E8F0FE;\n",
              "      border: none;\n",
              "      border-radius: 50%;\n",
              "      cursor: pointer;\n",
              "      display: none;\n",
              "      fill: #1967D2;\n",
              "      height: 32px;\n",
              "      padding: 0 0 0 0;\n",
              "      width: 32px;\n",
              "    }\n",
              "\n",
              "    .colab-df-convert:hover {\n",
              "      background-color: #E2EBFA;\n",
              "      box-shadow: 0px 1px 2px rgba(60, 64, 67, 0.3), 0px 1px 3px 1px rgba(60, 64, 67, 0.15);\n",
              "      fill: #174EA6;\n",
              "    }\n",
              "\n",
              "    [theme=dark] .colab-df-convert {\n",
              "      background-color: #3B4455;\n",
              "      fill: #D2E3FC;\n",
              "    }\n",
              "\n",
              "    [theme=dark] .colab-df-convert:hover {\n",
              "      background-color: #434B5C;\n",
              "      box-shadow: 0px 1px 3px 1px rgba(0, 0, 0, 0.15);\n",
              "      filter: drop-shadow(0px 1px 2px rgba(0, 0, 0, 0.3));\n",
              "      fill: #FFFFFF;\n",
              "    }\n",
              "  </style>\n",
              "\n",
              "      <script>\n",
              "        const buttonEl =\n",
              "          document.querySelector('#df-6b8f5bce-3cf0-4edf-b7ee-350a20f60255 button.colab-df-convert');\n",
              "        buttonEl.style.display =\n",
              "          google.colab.kernel.accessAllowed ? 'block' : 'none';\n",
              "\n",
              "        async function convertToInteractive(key) {\n",
              "          const element = document.querySelector('#df-6b8f5bce-3cf0-4edf-b7ee-350a20f60255');\n",
              "          const dataTable =\n",
              "            await google.colab.kernel.invokeFunction('convertToInteractive',\n",
              "                                                     [key], {});\n",
              "          if (!dataTable) return;\n",
              "\n",
              "          const docLinkHtml = 'Like what you see? Visit the ' +\n",
              "            '<a target=\"_blank\" href=https://colab.research.google.com/notebooks/data_table.ipynb>data table notebook</a>'\n",
              "            + ' to learn more about interactive tables.';\n",
              "          element.innerHTML = '';\n",
              "          dataTable['output_type'] = 'display_data';\n",
              "          await google.colab.output.renderOutput(dataTable, element);\n",
              "          const docLink = document.createElement('div');\n",
              "          docLink.innerHTML = docLinkHtml;\n",
              "          element.appendChild(docLink);\n",
              "        }\n",
              "      </script>\n",
              "    </div>\n",
              "  </div>\n",
              "  "
            ]
          },
          "metadata": {},
          "execution_count": 106
        }
      ]
    },
    {
      "cell_type": "code",
      "source": [
        "#1. Create a plot from model comparison DataFrame\n",
        "import matplotlib.pyplot as plt\n",
        "fig, ax = plt.subplots(figsize=(10,7))\n",
        "scatter = ax.scatter(data = df,\n",
        "                     x = 'time_per_pred_cpu',\n",
        "                     y = 'test_acc',\n",
        "                     c = ['blue', 'salmon'],\n",
        "                     s ='model_size(MB)')\n",
        "\n",
        "#2. Add Titlese and Labels\n",
        "ax.set_title('Inference Speed vs Performance', fontsize = 16)\n",
        "ax.set_xlabel('Prediction time per image(second)', fontsize = 12)\n",
        "ax.set_ylabel('Test Accuracy (%)', fontsize = 12)\n",
        "ax.tick_params(axis ='both', labelsize =12)\n",
        "ax.grid (True)\n",
        "\n",
        "# 3.Annotate the samples on the scatter plot\n",
        "for index, row in df.iterrows():\n",
        "  ax.annotate(text=row['model'],\n",
        "              xy=(row['time_per_pred_cpu'] +0.0035, row['test_acc'] +0.008),\n",
        "              size =12)\n",
        "#4. Create a legend based on legend sizes\n",
        "handles, labels = scatter.legend_elements(prop = 'sizes' , alpha = 0.5)\n",
        "model_size_legend = ax.legend(handles,\n",
        "                              labels,\n",
        "                              loc = 'lower right',\n",
        "                              title = 'Model size (MB)',\n",
        "                              fontsize = 12)\n",
        "#Save the figure\n",
        "plt.savefig('model-comparision.png')"
      ],
      "metadata": {
        "colab": {
          "base_uri": "https://localhost:8080/",
          "height": 651
        },
        "id": "9lNQn41rQX2Z",
        "outputId": "8d8e0677-e8fa-40a0-eece-6c3d57a6f381"
      },
      "execution_count": 119,
      "outputs": [
        {
          "output_type": "display_data",
          "data": {
            "text/plain": [
              "<Figure size 1000x700 with 1 Axes>"
            ],
            "image/png": "[encoded data removed]"
          },
          "metadata": {}
        }
      ]
    },
    {
      "cell_type": "markdown",
      "source": [
        "##5. Creating a Gardio demo\n",
        "Deploy EffnetB2 online"
      ],
      "metadata": {
        "id": "GJr99WUla0Oh"
      }
    },
    {
      "cell_type": "code",
      "source": [
        "# Import/install Gardio\n",
        "\n",
        "try:\n",
        "  import gardio as gr\n",
        "except:\n",
        "  !pip -q install gradio\n",
        "  import gradio as gr\n",
        "print(f'Gardio version: {gr.__version__}')"
      ],
      "metadata": {
        "colab": {
          "base_uri": "https://localhost:8080/"
        },
        "id": "U0dpV8-ZRkHl",
        "outputId": "3f878b8c-4ad5-4c1c-972b-75d5a55d8a5e"
      },
      "execution_count": 120,
      "outputs": [
        {
          "output_type": "stream",
          "name": "stdout",
          "text": [
            "\u001b[2K     \u001b[90m━━━━━━━━━━━━━━━━━━━━━━━━━━━━━━━━━━━━━━━━\u001b[0m \u001b[32m19.8/19.8 MB\u001b[0m \u001b[31m86.1 MB/s\u001b[0m eta \u001b[36m0:00:00\u001b[0m\n",
            "\u001b[2K     \u001b[90m━━━━━━━━━━━━━━━━━━━━━━━━━━━━━━━━━━━━━━━━\u001b[0m \u001b[32m65.7/65.7 kB\u001b[0m \u001b[31m7.7 MB/s\u001b[0m eta \u001b[36m0:00:00\u001b[0m\n",
            "\u001b[?25h  Preparing metadata (setup.py) ... \u001b[?25l\u001b[?25hdone\n",
            "\u001b[2K     \u001b[90m━━━━━━━━━━━━━━━━━━━━━━━━━━━━━━━━━━━━━━\u001b[0m \u001b[32m288.8/288.8 kB\u001b[0m \u001b[31m27.4 MB/s\u001b[0m eta \u001b[36m0:00:00\u001b[0m\n",
            "\u001b[2K     \u001b[90m━━━━━━━━━━━━━━━━━━━━━━━━━━━━━━━━━━━━━━━━\u001b[0m \u001b[32m75.4/75.4 kB\u001b[0m \u001b[31m8.7 MB/s\u001b[0m eta \u001b[36m0:00:00\u001b[0m\n",
            "\u001b[2K     \u001b[90m━━━━━━━━━━━━━━━━━━━━━━━━━━━━━━━━━━━━━━\u001b[0m \u001b[32m268.8/268.8 kB\u001b[0m \u001b[31m28.7 MB/s\u001b[0m eta \u001b[36m0:00:00\u001b[0m\n",
            "\u001b[2K     \u001b[90m━━━━━━━━━━━━━━━━━━━━━━━━━━━━━━━━━━━━━━━━\u001b[0m \u001b[32m50.5/50.5 kB\u001b[0m \u001b[31m6.0 MB/s\u001b[0m eta \u001b[36m0:00:00\u001b[0m\n",
            "\u001b[2K     \u001b[90m━━━━━━━━━━━━━━━━━━━━━━━━━━━━━━━━━━━━━━\u001b[0m \u001b[32m138.7/138.7 kB\u001b[0m \u001b[31m16.2 MB/s\u001b[0m eta \u001b[36m0:00:00\u001b[0m\n",
            "\u001b[2K     \u001b[90m━━━━━━━━━━━━━━━━━━━━━━━━━━━━━━━━━━━━━━━━\u001b[0m \u001b[32m45.7/45.7 kB\u001b[0m \u001b[31m5.5 MB/s\u001b[0m eta \u001b[36m0:00:00\u001b[0m\n",
            "\u001b[2K     \u001b[90m━━━━━━━━━━━━━━━━━━━━━━━━━━━━━━━━━━━━━━━━\u001b[0m \u001b[32m58.3/58.3 kB\u001b[0m \u001b[31m7.1 MB/s\u001b[0m eta \u001b[36m0:00:00\u001b[0m\n",
            "\u001b[2K     \u001b[90m━━━━━━━━━━━━━━━━━━━━━━━━━━━━━━━━━━━━━━\u001b[0m \u001b[32m129.9/129.9 kB\u001b[0m \u001b[31m16.7 MB/s\u001b[0m eta \u001b[36m0:00:00\u001b[0m\n",
            "\u001b[2K     \u001b[90m━━━━━━━━━━━━━━━━━━━━━━━━━━━━━━━━━━━━━━━━\u001b[0m \u001b[32m50.4/50.4 kB\u001b[0m \u001b[31m6.6 MB/s\u001b[0m eta \u001b[36m0:00:00\u001b[0m\n",
            "\u001b[2K     \u001b[90m━━━━━━━━━━━━━━━━━━━━━━━━━━━━━━━━━━━━━━━━\u001b[0m \u001b[32m46.5/46.5 kB\u001b[0m \u001b[31m5.8 MB/s\u001b[0m eta \u001b[36m0:00:00\u001b[0m\n",
            "\u001b[2K     \u001b[90m━━━━━━━━━━━━━━━━━━━━━━━━━━━━━━━━━━━━━━━━\u001b[0m \u001b[32m43.7/43.7 kB\u001b[0m \u001b[31m5.5 MB/s\u001b[0m eta \u001b[36m0:00:00\u001b[0m\n",
            "\u001b[2K     \u001b[90m━━━━━━━━━━━━━━━━━━━━━━━━━━━━━━━━━━━━━━━━\u001b[0m \u001b[32m41.0/41.0 kB\u001b[0m \u001b[31m5.1 MB/s\u001b[0m eta \u001b[36m0:00:00\u001b[0m\n",
            "\u001b[2K     \u001b[90m━━━━━━━━━━━━━━━━━━━━━━━━━━━━━━━━━━━━━━━━\u001b[0m \u001b[32m41.0/41.0 kB\u001b[0m \u001b[31m5.1 MB/s\u001b[0m eta \u001b[36m0:00:00\u001b[0m\n",
            "\u001b[2K     \u001b[90m━━━━━━━━━━━━━━━━━━━━━━━━━━━━━━━━━━━━━━━━\u001b[0m \u001b[32m87.5/87.5 kB\u001b[0m \u001b[31m11.7 MB/s\u001b[0m eta \u001b[36m0:00:00\u001b[0m\n",
            "\u001b[2K     \u001b[90m━━━━━━━━━━━━━━━━━━━━━━━━━━━━━━━━━━━━━━━━\u001b[0m \u001b[32m84.5/84.5 kB\u001b[0m \u001b[31m10.5 MB/s\u001b[0m eta \u001b[36m0:00:00\u001b[0m\n",
            "\u001b[2K     \u001b[90m━━━━━━━━━━━━━━━━━━━━━━━━━━━━━━━━━━━━━━━━\u001b[0m \u001b[32m58.3/58.3 kB\u001b[0m \u001b[31m8.2 MB/s\u001b[0m eta \u001b[36m0:00:00\u001b[0m\n",
            "\u001b[2K     \u001b[90m━━━━━━━━━━━━━━━━━━━━━━━━━━━━━━━━━━━━━━━━\u001b[0m \u001b[32m67.0/67.0 kB\u001b[0m \u001b[31m8.1 MB/s\u001b[0m eta \u001b[36m0:00:00\u001b[0m\n",
            "\u001b[2K     \u001b[90m━━━━━━━━━━━━━━━━━━━━━━━━━━━━━━━━━━━━━━━━\u001b[0m \u001b[32m74.5/74.5 kB\u001b[0m \u001b[31m8.9 MB/s\u001b[0m eta \u001b[36m0:00:00\u001b[0m\n",
            "\u001b[?25h  Building wheel for ffmpy (setup.py) ... \u001b[?25l\u001b[?25hdone\n",
            "Gardio version: 3.36.1\n"
          ]
        }
      ]
    },
    {
      "cell_type": "markdown",
      "source": [
        "###5.1 Gardio Overview\n",
        "\n",
        "Gardio helps create machine learning demos\n",
        "so other people can try and test them in the real world.\n",
        "The overall premise of Gardio is to map inputs => function/model => outputs"
      ],
      "metadata": {
        "id": "9ASGihkwf7uP"
      }
    },
    {
      "cell_type": "code",
      "source": [
        "# Put our model on the CPU\n",
        "effnetb2 = effnetb2.to('cpu')\n",
        "\n",
        "#Check the device\n",
        "next(iter(effnetb2.parameters())).device"
      ],
      "metadata": {
        "colab": {
          "base_uri": "https://localhost:8080/"
        },
        "id": "jJ-c9xRtckds",
        "outputId": "5691e8b7-32fd-48fa-f368-48684d4180c6"
      },
      "execution_count": 122,
      "outputs": [
        {
          "output_type": "execute_result",
          "data": {
            "text/plain": [
              "device(type='cpu')"
            ]
          },
          "metadata": {},
          "execution_count": 122
        }
      ]
    },
    {
      "cell_type": "code",
      "source": [
        "def pred_and_store(paths:list,\n",
        "                   model: torch.nn.Module,\n",
        "                   transform: torchvision.transforms,\n",
        "                   class_names: List[str],\n",
        "                   device:str = 'cuda' if torch.cuda.is_available else 'cpu'):\n",
        "  from timeit import default_timer as timer\n",
        "  from PIL import Image\n",
        "  from tqdm.auto import tqdm\n",
        "  stats = []\n",
        "  for path in tqdm(paths):\n",
        "    stat_dict = {}\n",
        "    ground_truth = path.parent.stem\n",
        "    stat_dict['image_path'] = path\n",
        "    stat_dict['class_name'] = ground_truth\n",
        "\n",
        "    t1 = timer()\n",
        "    image = Image.open(path)\n",
        "    image = transform(image).unsqueeze(dim = 0).to(device)\n",
        "\n",
        "    model.to(device)\n",
        "    model.eval()\n",
        "    with torch.inference_mode():\n",
        "      y_logits = model(image)\n",
        "      y_prob = torch.softmax(y_logits, dim = 1)\n",
        "      y_pred = torch.argmax(y_prob, dim = 1).item()\n",
        "      pred_class = class_names[y_pred]#python dictionay and pandas/ numpy needs the data to be stored on cpu\n",
        "\n",
        "      stat_dict['pred_class'] = pred_class\n",
        "      stat_dict['prediction_probability'] = round(y_prob.max().cpu().item(),4)\n",
        "      stat_dict['prediction_class'] = y_pred\n",
        "\n",
        "    t2 = timer()\n",
        "    stat_dict['time_for_pred'] = round(t2-t1,4)\n",
        "\n",
        "    stat_dict['correct'] = ground_truth == pred_class\n",
        "    stats.append(stat_dict)\n",
        "  return stats"
      ],
      "metadata": {
        "id": "MiKakWCokWeZ"
      },
      "execution_count": null,
      "outputs": []
    },
    {
      "cell_type": "code",
      "source": [
        "from typing import Tuple, Dict\n",
        "def predict(img) ->Tuple[Dict,float]:\n",
        "  #Start a timer\n",
        "  from timeit import default_timer as timer\n",
        "  t1 = timer()\n",
        "  #Transform the input image for use with EffNetb2\n",
        "  img = effnetb2_transforms(img).unsqueeze(0)\n",
        "  #Put model into eval mode, make prediction\n",
        "  effnetb2.eval()\n",
        "  effnetb2.to('cpu')\n",
        "  #Create a prediction label and prediction probability dictionary\n",
        "  pred_dict = {}\n",
        "  with torch.inference_mode():\n",
        "    y_logits = effnetb2(img)\n",
        "    y_prob = torch.softmax(y_logits, dim=1)\n",
        "    y_preb = torch.argmax(y_prob, dim=1)\n",
        "\n",
        "    for i,name in enumerate(class_names):\n",
        "      pred_dict[name] = y_prob[0][i].item()\n",
        "  #Calculate pred time\n",
        "  t2 = timer()\n",
        "  pred_time = round(t2-t1,4)\n",
        "  #Return pred dict and pred time\n",
        "  return pred_dict, pred_time"
      ],
      "metadata": {
        "id": "JF64uUiugnAq"
      },
      "execution_count": 142,
      "outputs": []
    },
    {
      "cell_type": "code",
      "source": [
        "import random\n",
        "from PIL import Image\n",
        "from pathlib import Path\n",
        "\n",
        "# Get a list of all test image file paths\n",
        "test_data_paths = list(Path(test_dir).glob('*/*.jpg'))\n",
        "\n",
        "# Randomly select one image\n",
        "idx = random.randint(0, len(test_data_paths))\n",
        "random_image_path = test_data_paths[idx]\n",
        "\n",
        "# Open the target image\n",
        "image = Image.open(random_image_path)\n",
        "image\n",
        "\n",
        "# Predict on Target Image\n",
        "pred_dict, pred_time = predict(img =image)\n",
        "pred_dict, pred_time"
      ],
      "metadata": {
        "colab": {
          "base_uri": "https://localhost:8080/"
        },
        "id": "_E8JTm4FmV0Z",
        "outputId": "46d9397f-d155-4a56-c35f-5195d931de1b"
      },
      "execution_count": 145,
      "outputs": [
        {
          "output_type": "execute_result",
          "data": {
            "text/plain": [
              "({'pizza': 0.017368992790579796,\n",
              "  'steak': 0.9736193418502808,\n",
              "  'sushi': 0.009011550806462765},\n",
              " 0.0749)"
            ]
          },
          "metadata": {},
          "execution_count": 145
        }
      ]
    },
    {
      "cell_type": "markdown",
      "source": [
        "### 5.2 Creating a list of example images"
      ],
      "metadata": {
        "id": "z8HT_QSruI6f"
      }
    },
    {
      "cell_type": "code",
      "source": [
        "#Create list of example inputs to our Gradio demo\n",
        "example_list = [[str(filepath)] for filepath in random.sample(test_data_paths, k =3)]\n",
        "example_list"
      ],
      "metadata": {
        "colab": {
          "base_uri": "https://localhost:8080/"
        },
        "id": "V8H28su5phUJ",
        "outputId": "97613445-1d8a-4d85-8378-3942d9841b07"
      },
      "execution_count": 146,
      "outputs": [
        {
          "output_type": "execute_result",
          "data": {
            "text/plain": [
              "[['/content/data/pizza_steak_sushi/test/pizza/724290.jpg'],\n",
              " ['/content/data/pizza_steak_sushi/test/steak/1848936.jpg'],\n",
              " ['/content/data/pizza_steak_sushi/test/steak/108310.jpg']]"
            ]
          },
          "metadata": {},
          "execution_count": 146
        }
      ]
    },
    {
      "cell_type": "markdown",
      "source": [
        "### 5.3 Building a Gardio Interface\n",
        "\n",
        "Using `gr.Interface()` to go from:\n",
        "\n",
        "input:image -> transform -> predict with EffnetB2 -> output: pred, prob\n",
        "\n"
      ],
      "metadata": {
        "id": "zfbBY5mAuy1M"
      }
    },
    {
      "cell_type": "code",
      "source": [],
      "metadata": {
        "id": "so6F890xusgx"
      },
      "execution_count": null,
      "outputs": []
    }
  ]
}