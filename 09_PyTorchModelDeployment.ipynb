{
  "nbformat": 4,
  "nbformat_minor": 0,
  "metadata": {
    "colab": {
      "provenance": [],
      "toc_visible": true,
      "machine_shape": "hm",
      "gpuType": "T4",
      "authorship_tag": "ABX9TyM6aFx4GzwsaprJhBRfD0Yy",
      "include_colab_link": true
    },
    "kernelspec": {
      "name": "python3",
      "display_name": "Python 3"
    },
    "language_info": {
      "name": "python"
    },
    "accelerator": "GPU",
    "widgets": {
      "application/vnd.jupyter.widget-state+json": {
        "76200ba808b247a5925d7ee7f68ed55c": {
          "model_module": "@jupyter-widgets/controls",
          "model_name": "HBoxModel",
          "model_module_version": "1.5.0",
          "state": {
            "_dom_classes": [],
            "_model_module": "@jupyter-widgets/controls",
            "_model_module_version": "1.5.0",
            "_model_name": "HBoxModel",
            "_view_count": null,
            "_view_module": "@jupyter-widgets/controls",
            "_view_module_version": "1.5.0",
            "_view_name": "HBoxView",
            "box_style": "",
            "children": [
              "IPY_MODEL_51945342d93d425a98db68c079c308e8",
              "IPY_MODEL_5f9006a0a28d40d085f460d1f9a2f9e5",
              "IPY_MODEL_d0b3b5a3bf2648a684f3869737e8db7b"
            ],
            "layout": "IPY_MODEL_f6ea0613346949509f86e393f0c2be5b"
          }
        },
        "51945342d93d425a98db68c079c308e8": {
          "model_module": "@jupyter-widgets/controls",
          "model_name": "HTMLModel",
          "model_module_version": "1.5.0",
          "state": {
            "_dom_classes": [],
            "_model_module": "@jupyter-widgets/controls",
            "_model_module_version": "1.5.0",
            "_model_name": "HTMLModel",
            "_view_count": null,
            "_view_module": "@jupyter-widgets/controls",
            "_view_module_version": "1.5.0",
            "_view_name": "HTMLView",
            "description": "",
            "description_tooltip": null,
            "layout": "IPY_MODEL_59221e52d26244519b604552ee59f352",
            "placeholder": "​",
            "style": "IPY_MODEL_cb6de249ca5545f5b777cbfa5e4f596f",
            "value": "100%"
          }
        },
        "5f9006a0a28d40d085f460d1f9a2f9e5": {
          "model_module": "@jupyter-widgets/controls",
          "model_name": "FloatProgressModel",
          "model_module_version": "1.5.0",
          "state": {
            "_dom_classes": [],
            "_model_module": "@jupyter-widgets/controls",
            "_model_module_version": "1.5.0",
            "_model_name": "FloatProgressModel",
            "_view_count": null,
            "_view_module": "@jupyter-widgets/controls",
            "_view_module_version": "1.5.0",
            "_view_name": "ProgressView",
            "bar_style": "success",
            "description": "",
            "description_tooltip": null,
            "layout": "IPY_MODEL_f3136cd7f30b4cc69ce841e9fe839e84",
            "max": 20,
            "min": 0,
            "orientation": "horizontal",
            "style": "IPY_MODEL_62eefa0fbe394363ba692b87d5ac3763",
            "value": 20
          }
        },
        "d0b3b5a3bf2648a684f3869737e8db7b": {
          "model_module": "@jupyter-widgets/controls",
          "model_name": "HTMLModel",
          "model_module_version": "1.5.0",
          "state": {
            "_dom_classes": [],
            "_model_module": "@jupyter-widgets/controls",
            "_model_module_version": "1.5.0",
            "_model_name": "HTMLModel",
            "_view_count": null,
            "_view_module": "@jupyter-widgets/controls",
            "_view_module_version": "1.5.0",
            "_view_name": "HTMLView",
            "description": "",
            "description_tooltip": null,
            "layout": "IPY_MODEL_38ececd8f683492cb794498f90b335bf",
            "placeholder": "​",
            "style": "IPY_MODEL_74d6150b6cdc4057823088fbb0b8ed8a",
            "value": " 20/20 [01:22&lt;00:00,  4.14s/it]"
          }
        },
        "f6ea0613346949509f86e393f0c2be5b": {
          "model_module": "@jupyter-widgets/base",
          "model_name": "LayoutModel",
          "model_module_version": "1.2.0",
          "state": {
            "_model_module": "@jupyter-widgets/base",
            "_model_module_version": "1.2.0",
            "_model_name": "LayoutModel",
            "_view_count": null,
            "_view_module": "@jupyter-widgets/base",
            "_view_module_version": "1.2.0",
            "_view_name": "LayoutView",
            "align_content": null,
            "align_items": null,
            "align_self": null,
            "border": null,
            "bottom": null,
            "display": null,
            "flex": null,
            "flex_flow": null,
            "grid_area": null,
            "grid_auto_columns": null,
            "grid_auto_flow": null,
            "grid_auto_rows": null,
            "grid_column": null,
            "grid_gap": null,
            "grid_row": null,
            "grid_template_areas": null,
            "grid_template_columns": null,
            "grid_template_rows": null,
            "height": null,
            "justify_content": null,
            "justify_items": null,
            "left": null,
            "margin": null,
            "max_height": null,
            "max_width": null,
            "min_height": null,
            "min_width": null,
            "object_fit": null,
            "object_position": null,
            "order": null,
            "overflow": null,
            "overflow_x": null,
            "overflow_y": null,
            "padding": null,
            "right": null,
            "top": null,
            "visibility": null,
            "width": null
          }
        },
        "59221e52d26244519b604552ee59f352": {
          "model_module": "@jupyter-widgets/base",
          "model_name": "LayoutModel",
          "model_module_version": "1.2.0",
          "state": {
            "_model_module": "@jupyter-widgets/base",
            "_model_module_version": "1.2.0",
            "_model_name": "LayoutModel",
            "_view_count": null,
            "_view_module": "@jupyter-widgets/base",
            "_view_module_version": "1.2.0",
            "_view_name": "LayoutView",
            "align_content": null,
            "align_items": null,
            "align_self": null,
            "border": null,
            "bottom": null,
            "display": null,
            "flex": null,
            "flex_flow": null,
            "grid_area": null,
            "grid_auto_columns": null,
            "grid_auto_flow": null,
            "grid_auto_rows": null,
            "grid_column": null,
            "grid_gap": null,
            "grid_row": null,
            "grid_template_areas": null,
            "grid_template_columns": null,
            "grid_template_rows": null,
            "height": null,
            "justify_content": null,
            "justify_items": null,
            "left": null,
            "margin": null,
            "max_height": null,
            "max_width": null,
            "min_height": null,
            "min_width": null,
            "object_fit": null,
            "object_position": null,
            "order": null,
            "overflow": null,
            "overflow_x": null,
            "overflow_y": null,
            "padding": null,
            "right": null,
            "top": null,
            "visibility": null,
            "width": null
          }
        },
        "cb6de249ca5545f5b777cbfa5e4f596f": {
          "model_module": "@jupyter-widgets/controls",
          "model_name": "DescriptionStyleModel",
          "model_module_version": "1.5.0",
          "state": {
            "_model_module": "@jupyter-widgets/controls",
            "_model_module_version": "1.5.0",
            "_model_name": "DescriptionStyleModel",
            "_view_count": null,
            "_view_module": "@jupyter-widgets/base",
            "_view_module_version": "1.2.0",
            "_view_name": "StyleView",
            "description_width": ""
          }
        },
        "f3136cd7f30b4cc69ce841e9fe839e84": {
          "model_module": "@jupyter-widgets/base",
          "model_name": "LayoutModel",
          "model_module_version": "1.2.0",
          "state": {
            "_model_module": "@jupyter-widgets/base",
            "_model_module_version": "1.2.0",
            "_model_name": "LayoutModel",
            "_view_count": null,
            "_view_module": "@jupyter-widgets/base",
            "_view_module_version": "1.2.0",
            "_view_name": "LayoutView",
            "align_content": null,
            "align_items": null,
            "align_self": null,
            "border": null,
            "bottom": null,
            "display": null,
            "flex": null,
            "flex_flow": null,
            "grid_area": null,
            "grid_auto_columns": null,
            "grid_auto_flow": null,
            "grid_auto_rows": null,
            "grid_column": null,
            "grid_gap": null,
            "grid_row": null,
            "grid_template_areas": null,
            "grid_template_columns": null,
            "grid_template_rows": null,
            "height": null,
            "justify_content": null,
            "justify_items": null,
            "left": null,
            "margin": null,
            "max_height": null,
            "max_width": null,
            "min_height": null,
            "min_width": null,
            "object_fit": null,
            "object_position": null,
            "order": null,
            "overflow": null,
            "overflow_x": null,
            "overflow_y": null,
            "padding": null,
            "right": null,
            "top": null,
            "visibility": null,
            "width": null
          }
        },
        "62eefa0fbe394363ba692b87d5ac3763": {
          "model_module": "@jupyter-widgets/controls",
          "model_name": "ProgressStyleModel",
          "model_module_version": "1.5.0",
          "state": {
            "_model_module": "@jupyter-widgets/controls",
            "_model_module_version": "1.5.0",
            "_model_name": "ProgressStyleModel",
            "_view_count": null,
            "_view_module": "@jupyter-widgets/base",
            "_view_module_version": "1.2.0",
            "_view_name": "StyleView",
            "bar_color": null,
            "description_width": ""
          }
        },
        "38ececd8f683492cb794498f90b335bf": {
          "model_module": "@jupyter-widgets/base",
          "model_name": "LayoutModel",
          "model_module_version": "1.2.0",
          "state": {
            "_model_module": "@jupyter-widgets/base",
            "_model_module_version": "1.2.0",
            "_model_name": "LayoutModel",
            "_view_count": null,
            "_view_module": "@jupyter-widgets/base",
            "_view_module_version": "1.2.0",
            "_view_name": "LayoutView",
            "align_content": null,
            "align_items": null,
            "align_self": null,
            "border": null,
            "bottom": null,
            "display": null,
            "flex": null,
            "flex_flow": null,
            "grid_area": null,
            "grid_auto_columns": null,
            "grid_auto_flow": null,
            "grid_auto_rows": null,
            "grid_column": null,
            "grid_gap": null,
            "grid_row": null,
            "grid_template_areas": null,
            "grid_template_columns": null,
            "grid_template_rows": null,
            "height": null,
            "justify_content": null,
            "justify_items": null,
            "left": null,
            "margin": null,
            "max_height": null,
            "max_width": null,
            "min_height": null,
            "min_width": null,
            "object_fit": null,
            "object_position": null,
            "order": null,
            "overflow": null,
            "overflow_x": null,
            "overflow_y": null,
            "padding": null,
            "right": null,
            "top": null,
            "visibility": null,
            "width": null
          }
        },
        "74d6150b6cdc4057823088fbb0b8ed8a": {
          "model_module": "@jupyter-widgets/controls",
          "model_name": "DescriptionStyleModel",
          "model_module_version": "1.5.0",
          "state": {
            "_model_module": "@jupyter-widgets/controls",
            "_model_module_version": "1.5.0",
            "_model_name": "DescriptionStyleModel",
            "_view_count": null,
            "_view_module": "@jupyter-widgets/base",
            "_view_module_version": "1.2.0",
            "_view_name": "StyleView",
            "description_width": ""
          }
        },
        "8ce1bc2e55104a04a0b4ede8bf7f3ce1": {
          "model_module": "@jupyter-widgets/controls",
          "model_name": "HBoxModel",
          "model_module_version": "1.5.0",
          "state": {
            "_dom_classes": [],
            "_model_module": "@jupyter-widgets/controls",
            "_model_module_version": "1.5.0",
            "_model_name": "HBoxModel",
            "_view_count": null,
            "_view_module": "@jupyter-widgets/controls",
            "_view_module_version": "1.5.0",
            "_view_name": "HBoxView",
            "box_style": "",
            "children": [
              "IPY_MODEL_7138e1163b36415f9ee47192c2f76191",
              "IPY_MODEL_cd4a1f00505446e58e4ee200146eab06",
              "IPY_MODEL_73bdd60e89394c01a71dff7ee956c544"
            ],
            "layout": "IPY_MODEL_c9b750f2cc12474eadf1dfde4acc224d"
          }
        },
        "7138e1163b36415f9ee47192c2f76191": {
          "model_module": "@jupyter-widgets/controls",
          "model_name": "HTMLModel",
          "model_module_version": "1.5.0",
          "state": {
            "_dom_classes": [],
            "_model_module": "@jupyter-widgets/controls",
            "_model_module_version": "1.5.0",
            "_model_name": "HTMLModel",
            "_view_count": null,
            "_view_module": "@jupyter-widgets/controls",
            "_view_module_version": "1.5.0",
            "_view_name": "HTMLView",
            "description": "",
            "description_tooltip": null,
            "layout": "IPY_MODEL_dc1be7e96f8a467681d7838a2d1997c2",
            "placeholder": "​",
            "style": "IPY_MODEL_36179a10122b4b959b214c4f3a6ff589",
            "value": "100%"
          }
        },
        "cd4a1f00505446e58e4ee200146eab06": {
          "model_module": "@jupyter-widgets/controls",
          "model_name": "FloatProgressModel",
          "model_module_version": "1.5.0",
          "state": {
            "_dom_classes": [],
            "_model_module": "@jupyter-widgets/controls",
            "_model_module_version": "1.5.0",
            "_model_name": "FloatProgressModel",
            "_view_count": null,
            "_view_module": "@jupyter-widgets/controls",
            "_view_module_version": "1.5.0",
            "_view_name": "ProgressView",
            "bar_style": "success",
            "description": "",
            "description_tooltip": null,
            "layout": "IPY_MODEL_a3e1ef88627540088fc586269fe42e0e",
            "max": 20,
            "min": 0,
            "orientation": "horizontal",
            "style": "IPY_MODEL_80185324dc724c4d88be58cfd75910d6",
            "value": 20
          }
        },
        "73bdd60e89394c01a71dff7ee956c544": {
          "model_module": "@jupyter-widgets/controls",
          "model_name": "HTMLModel",
          "model_module_version": "1.5.0",
          "state": {
            "_dom_classes": [],
            "_model_module": "@jupyter-widgets/controls",
            "_model_module_version": "1.5.0",
            "_model_name": "HTMLModel",
            "_view_count": null,
            "_view_module": "@jupyter-widgets/controls",
            "_view_module_version": "1.5.0",
            "_view_name": "HTMLView",
            "description": "",
            "description_tooltip": null,
            "layout": "IPY_MODEL_cc991c0c995f46adb80c137fa45f7dd4",
            "placeholder": "​",
            "style": "IPY_MODEL_4e4fb1b897a2457c9eec63e136bc226f",
            "value": " 20/20 [02:41&lt;00:00,  8.06s/it]"
          }
        },
        "c9b750f2cc12474eadf1dfde4acc224d": {
          "model_module": "@jupyter-widgets/base",
          "model_name": "LayoutModel",
          "model_module_version": "1.2.0",
          "state": {
            "_model_module": "@jupyter-widgets/base",
            "_model_module_version": "1.2.0",
            "_model_name": "LayoutModel",
            "_view_count": null,
            "_view_module": "@jupyter-widgets/base",
            "_view_module_version": "1.2.0",
            "_view_name": "LayoutView",
            "align_content": null,
            "align_items": null,
            "align_self": null,
            "border": null,
            "bottom": null,
            "display": null,
            "flex": null,
            "flex_flow": null,
            "grid_area": null,
            "grid_auto_columns": null,
            "grid_auto_flow": null,
            "grid_auto_rows": null,
            "grid_column": null,
            "grid_gap": null,
            "grid_row": null,
            "grid_template_areas": null,
            "grid_template_columns": null,
            "grid_template_rows": null,
            "height": null,
            "justify_content": null,
            "justify_items": null,
            "left": null,
            "margin": null,
            "max_height": null,
            "max_width": null,
            "min_height": null,
            "min_width": null,
            "object_fit": null,
            "object_position": null,
            "order": null,
            "overflow": null,
            "overflow_x": null,
            "overflow_y": null,
            "padding": null,
            "right": null,
            "top": null,
            "visibility": null,
            "width": null
          }
        },
        "dc1be7e96f8a467681d7838a2d1997c2": {
          "model_module": "@jupyter-widgets/base",
          "model_name": "LayoutModel",
          "model_module_version": "1.2.0",
          "state": {
            "_model_module": "@jupyter-widgets/base",
            "_model_module_version": "1.2.0",
            "_model_name": "LayoutModel",
            "_view_count": null,
            "_view_module": "@jupyter-widgets/base",
            "_view_module_version": "1.2.0",
            "_view_name": "LayoutView",
            "align_content": null,
            "align_items": null,
            "align_self": null,
            "border": null,
            "bottom": null,
            "display": null,
            "flex": null,
            "flex_flow": null,
            "grid_area": null,
            "grid_auto_columns": null,
            "grid_auto_flow": null,
            "grid_auto_rows": null,
            "grid_column": null,
            "grid_gap": null,
            "grid_row": null,
            "grid_template_areas": null,
            "grid_template_columns": null,
            "grid_template_rows": null,
            "height": null,
            "justify_content": null,
            "justify_items": null,
            "left": null,
            "margin": null,
            "max_height": null,
            "max_width": null,
            "min_height": null,
            "min_width": null,
            "object_fit": null,
            "object_position": null,
            "order": null,
            "overflow": null,
            "overflow_x": null,
            "overflow_y": null,
            "padding": null,
            "right": null,
            "top": null,
            "visibility": null,
            "width": null
          }
        },
        "36179a10122b4b959b214c4f3a6ff589": {
          "model_module": "@jupyter-widgets/controls",
          "model_name": "DescriptionStyleModel",
          "model_module_version": "1.5.0",
          "state": {
            "_model_module": "@jupyter-widgets/controls",
            "_model_module_version": "1.5.0",
            "_model_name": "DescriptionStyleModel",
            "_view_count": null,
            "_view_module": "@jupyter-widgets/base",
            "_view_module_version": "1.2.0",
            "_view_name": "StyleView",
            "description_width": ""
          }
        },
        "a3e1ef88627540088fc586269fe42e0e": {
          "model_module": "@jupyter-widgets/base",
          "model_name": "LayoutModel",
          "model_module_version": "1.2.0",
          "state": {
            "_model_module": "@jupyter-widgets/base",
            "_model_module_version": "1.2.0",
            "_model_name": "LayoutModel",
            "_view_count": null,
            "_view_module": "@jupyter-widgets/base",
            "_view_module_version": "1.2.0",
            "_view_name": "LayoutView",
            "align_content": null,
            "align_items": null,
            "align_self": null,
            "border": null,
            "bottom": null,
            "display": null,
            "flex": null,
            "flex_flow": null,
            "grid_area": null,
            "grid_auto_columns": null,
            "grid_auto_flow": null,
            "grid_auto_rows": null,
            "grid_column": null,
            "grid_gap": null,
            "grid_row": null,
            "grid_template_areas": null,
            "grid_template_columns": null,
            "grid_template_rows": null,
            "height": null,
            "justify_content": null,
            "justify_items": null,
            "left": null,
            "margin": null,
            "max_height": null,
            "max_width": null,
            "min_height": null,
            "min_width": null,
            "object_fit": null,
            "object_position": null,
            "order": null,
            "overflow": null,
            "overflow_x": null,
            "overflow_y": null,
            "padding": null,
            "right": null,
            "top": null,
            "visibility": null,
            "width": null
          }
        },
        "80185324dc724c4d88be58cfd75910d6": {
          "model_module": "@jupyter-widgets/controls",
          "model_name": "ProgressStyleModel",
          "model_module_version": "1.5.0",
          "state": {
            "_model_module": "@jupyter-widgets/controls",
            "_model_module_version": "1.5.0",
            "_model_name": "ProgressStyleModel",
            "_view_count": null,
            "_view_module": "@jupyter-widgets/base",
            "_view_module_version": "1.2.0",
            "_view_name": "StyleView",
            "bar_color": null,
            "description_width": ""
          }
        },
        "cc991c0c995f46adb80c137fa45f7dd4": {
          "model_module": "@jupyter-widgets/base",
          "model_name": "LayoutModel",
          "model_module_version": "1.2.0",
          "state": {
            "_model_module": "@jupyter-widgets/base",
            "_model_module_version": "1.2.0",
            "_model_name": "LayoutModel",
            "_view_count": null,
            "_view_module": "@jupyter-widgets/base",
            "_view_module_version": "1.2.0",
            "_view_name": "LayoutView",
            "align_content": null,
            "align_items": null,
            "align_self": null,
            "border": null,
            "bottom": null,
            "display": null,
            "flex": null,
            "flex_flow": null,
            "grid_area": null,
            "grid_auto_columns": null,
            "grid_auto_flow": null,
            "grid_auto_rows": null,
            "grid_column": null,
            "grid_gap": null,
            "grid_row": null,
            "grid_template_areas": null,
            "grid_template_columns": null,
            "grid_template_rows": null,
            "height": null,
            "justify_content": null,
            "justify_items": null,
            "left": null,
            "margin": null,
            "max_height": null,
            "max_width": null,
            "min_height": null,
            "min_width": null,
            "object_fit": null,
            "object_position": null,
            "order": null,
            "overflow": null,
            "overflow_x": null,
            "overflow_y": null,
            "padding": null,
            "right": null,
            "top": null,
            "visibility": null,
            "width": null
          }
        },
        "4e4fb1b897a2457c9eec63e136bc226f": {
          "model_module": "@jupyter-widgets/controls",
          "model_name": "DescriptionStyleModel",
          "model_module_version": "1.5.0",
          "state": {
            "_model_module": "@jupyter-widgets/controls",
            "_model_module_version": "1.5.0",
            "_model_name": "DescriptionStyleModel",
            "_view_count": null,
            "_view_module": "@jupyter-widgets/base",
            "_view_module_version": "1.2.0",
            "_view_name": "StyleView",
            "description_width": ""
          }
        },
        "28c7b46261de4833a9b6fd154493f0be": {
          "model_module": "@jupyter-widgets/controls",
          "model_name": "HBoxModel",
          "model_module_version": "1.5.0",
          "state": {
            "_dom_classes": [],
            "_model_module": "@jupyter-widgets/controls",
            "_model_module_version": "1.5.0",
            "_model_name": "HBoxModel",
            "_view_count": null,
            "_view_module": "@jupyter-widgets/controls",
            "_view_module_version": "1.5.0",
            "_view_name": "HBoxView",
            "box_style": "",
            "children": [
              "IPY_MODEL_e5cc5486e7e840faaa72643334469bb5",
              "IPY_MODEL_a60d9ca62bcf4bec95aaf644fd30d12e",
              "IPY_MODEL_5dccc06877fe47c0a8fd4a9b60816f03"
            ],
            "layout": "IPY_MODEL_de8db30e414e41368f7d406969c7b0a6"
          }
        },
        "e5cc5486e7e840faaa72643334469bb5": {
          "model_module": "@jupyter-widgets/controls",
          "model_name": "HTMLModel",
          "model_module_version": "1.5.0",
          "state": {
            "_dom_classes": [],
            "_model_module": "@jupyter-widgets/controls",
            "_model_module_version": "1.5.0",
            "_model_name": "HTMLModel",
            "_view_count": null,
            "_view_module": "@jupyter-widgets/controls",
            "_view_module_version": "1.5.0",
            "_view_name": "HTMLView",
            "description": "",
            "description_tooltip": null,
            "layout": "IPY_MODEL_f4b10568150d48eba6db98b64777b021",
            "placeholder": "​",
            "style": "IPY_MODEL_95412e2450e646bba903c7cac1d9648d",
            "value": "100%"
          }
        },
        "a60d9ca62bcf4bec95aaf644fd30d12e": {
          "model_module": "@jupyter-widgets/controls",
          "model_name": "FloatProgressModel",
          "model_module_version": "1.5.0",
          "state": {
            "_dom_classes": [],
            "_model_module": "@jupyter-widgets/controls",
            "_model_module_version": "1.5.0",
            "_model_name": "FloatProgressModel",
            "_view_count": null,
            "_view_module": "@jupyter-widgets/controls",
            "_view_module_version": "1.5.0",
            "_view_name": "ProgressView",
            "bar_style": "success",
            "description": "",
            "description_tooltip": null,
            "layout": "IPY_MODEL_67bbf3a6671d454a94e765cd679d08ff",
            "max": 150,
            "min": 0,
            "orientation": "horizontal",
            "style": "IPY_MODEL_ff0139ac71aa4071bafd341537f1a9b0",
            "value": 150
          }
        },
        "5dccc06877fe47c0a8fd4a9b60816f03": {
          "model_module": "@jupyter-widgets/controls",
          "model_name": "HTMLModel",
          "model_module_version": "1.5.0",
          "state": {
            "_dom_classes": [],
            "_model_module": "@jupyter-widgets/controls",
            "_model_module_version": "1.5.0",
            "_model_name": "HTMLModel",
            "_view_count": null,
            "_view_module": "@jupyter-widgets/controls",
            "_view_module_version": "1.5.0",
            "_view_name": "HTMLView",
            "description": "",
            "description_tooltip": null,
            "layout": "IPY_MODEL_b153821049bf4c9c846fe7f4d3122116",
            "placeholder": "​",
            "style": "IPY_MODEL_2dc8e9da085d4b328fde6f3c2aaa88e6",
            "value": " 150/150 [00:13&lt;00:00, 11.80it/s]"
          }
        },
        "de8db30e414e41368f7d406969c7b0a6": {
          "model_module": "@jupyter-widgets/base",
          "model_name": "LayoutModel",
          "model_module_version": "1.2.0",
          "state": {
            "_model_module": "@jupyter-widgets/base",
            "_model_module_version": "1.2.0",
            "_model_name": "LayoutModel",
            "_view_count": null,
            "_view_module": "@jupyter-widgets/base",
            "_view_module_version": "1.2.0",
            "_view_name": "LayoutView",
            "align_content": null,
            "align_items": null,
            "align_self": null,
            "border": null,
            "bottom": null,
            "display": null,
            "flex": null,
            "flex_flow": null,
            "grid_area": null,
            "grid_auto_columns": null,
            "grid_auto_flow": null,
            "grid_auto_rows": null,
            "grid_column": null,
            "grid_gap": null,
            "grid_row": null,
            "grid_template_areas": null,
            "grid_template_columns": null,
            "grid_template_rows": null,
            "height": null,
            "justify_content": null,
            "justify_items": null,
            "left": null,
            "margin": null,
            "max_height": null,
            "max_width": null,
            "min_height": null,
            "min_width": null,
            "object_fit": null,
            "object_position": null,
            "order": null,
            "overflow": null,
            "overflow_x": null,
            "overflow_y": null,
            "padding": null,
            "right": null,
            "top": null,
            "visibility": null,
            "width": null
          }
        },
        "f4b10568150d48eba6db98b64777b021": {
          "model_module": "@jupyter-widgets/base",
          "model_name": "LayoutModel",
          "model_module_version": "1.2.0",
          "state": {
            "_model_module": "@jupyter-widgets/base",
            "_model_module_version": "1.2.0",
            "_model_name": "LayoutModel",
            "_view_count": null,
            "_view_module": "@jupyter-widgets/base",
            "_view_module_version": "1.2.0",
            "_view_name": "LayoutView",
            "align_content": null,
            "align_items": null,
            "align_self": null,
            "border": null,
            "bottom": null,
            "display": null,
            "flex": null,
            "flex_flow": null,
            "grid_area": null,
            "grid_auto_columns": null,
            "grid_auto_flow": null,
            "grid_auto_rows": null,
            "grid_column": null,
            "grid_gap": null,
            "grid_row": null,
            "grid_template_areas": null,
            "grid_template_columns": null,
            "grid_template_rows": null,
            "height": null,
            "justify_content": null,
            "justify_items": null,
            "left": null,
            "margin": null,
            "max_height": null,
            "max_width": null,
            "min_height": null,
            "min_width": null,
            "object_fit": null,
            "object_position": null,
            "order": null,
            "overflow": null,
            "overflow_x": null,
            "overflow_y": null,
            "padding": null,
            "right": null,
            "top": null,
            "visibility": null,
            "width": null
          }
        },
        "95412e2450e646bba903c7cac1d9648d": {
          "model_module": "@jupyter-widgets/controls",
          "model_name": "DescriptionStyleModel",
          "model_module_version": "1.5.0",
          "state": {
            "_model_module": "@jupyter-widgets/controls",
            "_model_module_version": "1.5.0",
            "_model_name": "DescriptionStyleModel",
            "_view_count": null,
            "_view_module": "@jupyter-widgets/base",
            "_view_module_version": "1.2.0",
            "_view_name": "StyleView",
            "description_width": ""
          }
        },
        "67bbf3a6671d454a94e765cd679d08ff": {
          "model_module": "@jupyter-widgets/base",
          "model_name": "LayoutModel",
          "model_module_version": "1.2.0",
          "state": {
            "_model_module": "@jupyter-widgets/base",
            "_model_module_version": "1.2.0",
            "_model_name": "LayoutModel",
            "_view_count": null,
            "_view_module": "@jupyter-widgets/base",
            "_view_module_version": "1.2.0",
            "_view_name": "LayoutView",
            "align_content": null,
            "align_items": null,
            "align_self": null,
            "border": null,
            "bottom": null,
            "display": null,
            "flex": null,
            "flex_flow": null,
            "grid_area": null,
            "grid_auto_columns": null,
            "grid_auto_flow": null,
            "grid_auto_rows": null,
            "grid_column": null,
            "grid_gap": null,
            "grid_row": null,
            "grid_template_areas": null,
            "grid_template_columns": null,
            "grid_template_rows": null,
            "height": null,
            "justify_content": null,
            "justify_items": null,
            "left": null,
            "margin": null,
            "max_height": null,
            "max_width": null,
            "min_height": null,
            "min_width": null,
            "object_fit": null,
            "object_position": null,
            "order": null,
            "overflow": null,
            "overflow_x": null,
            "overflow_y": null,
            "padding": null,
            "right": null,
            "top": null,
            "visibility": null,
            "width": null
          }
        },
        "ff0139ac71aa4071bafd341537f1a9b0": {
          "model_module": "@jupyter-widgets/controls",
          "model_name": "ProgressStyleModel",
          "model_module_version": "1.5.0",
          "state": {
            "_model_module": "@jupyter-widgets/controls",
            "_model_module_version": "1.5.0",
            "_model_name": "ProgressStyleModel",
            "_view_count": null,
            "_view_module": "@jupyter-widgets/base",
            "_view_module_version": "1.2.0",
            "_view_name": "StyleView",
            "bar_color": null,
            "description_width": ""
          }
        },
        "b153821049bf4c9c846fe7f4d3122116": {
          "model_module": "@jupyter-widgets/base",
          "model_name": "LayoutModel",
          "model_module_version": "1.2.0",
          "state": {
            "_model_module": "@jupyter-widgets/base",
            "_model_module_version": "1.2.0",
            "_model_name": "LayoutModel",
            "_view_count": null,
            "_view_module": "@jupyter-widgets/base",
            "_view_module_version": "1.2.0",
            "_view_name": "LayoutView",
            "align_content": null,
            "align_items": null,
            "align_self": null,
            "border": null,
            "bottom": null,
            "display": null,
            "flex": null,
            "flex_flow": null,
            "grid_area": null,
            "grid_auto_columns": null,
            "grid_auto_flow": null,
            "grid_auto_rows": null,
            "grid_column": null,
            "grid_gap": null,
            "grid_row": null,
            "grid_template_areas": null,
            "grid_template_columns": null,
            "grid_template_rows": null,
            "height": null,
            "justify_content": null,
            "justify_items": null,
            "left": null,
            "margin": null,
            "max_height": null,
            "max_width": null,
            "min_height": null,
            "min_width": null,
            "object_fit": null,
            "object_position": null,
            "order": null,
            "overflow": null,
            "overflow_x": null,
            "overflow_y": null,
            "padding": null,
            "right": null,
            "top": null,
            "visibility": null,
            "width": null
          }
        },
        "2dc8e9da085d4b328fde6f3c2aaa88e6": {
          "model_module": "@jupyter-widgets/controls",
          "model_name": "DescriptionStyleModel",
          "model_module_version": "1.5.0",
          "state": {
            "_model_module": "@jupyter-widgets/controls",
            "_model_module_version": "1.5.0",
            "_model_name": "DescriptionStyleModel",
            "_view_count": null,
            "_view_module": "@jupyter-widgets/base",
            "_view_module_version": "1.2.0",
            "_view_name": "StyleView",
            "description_width": ""
          }
        },
        "8fe3b5e691c9429fbc04b9715f6eac89": {
          "model_module": "@jupyter-widgets/controls",
          "model_name": "HBoxModel",
          "model_module_version": "1.5.0",
          "state": {
            "_dom_classes": [],
            "_model_module": "@jupyter-widgets/controls",
            "_model_module_version": "1.5.0",
            "_model_name": "HBoxModel",
            "_view_count": null,
            "_view_module": "@jupyter-widgets/controls",
            "_view_module_version": "1.5.0",
            "_view_name": "HBoxView",
            "box_style": "",
            "children": [
              "IPY_MODEL_b5ee514e8e1c4849aea9ead198375ae9",
              "IPY_MODEL_3856835b42c94808bbb2f2f1e0230b60",
              "IPY_MODEL_93415d18d0f34ae69b958302256a5cf3"
            ],
            "layout": "IPY_MODEL_579d926f71cf4ceb8251f20b611a5ed2"
          }
        },
        "b5ee514e8e1c4849aea9ead198375ae9": {
          "model_module": "@jupyter-widgets/controls",
          "model_name": "HTMLModel",
          "model_module_version": "1.5.0",
          "state": {
            "_dom_classes": [],
            "_model_module": "@jupyter-widgets/controls",
            "_model_module_version": "1.5.0",
            "_model_name": "HTMLModel",
            "_view_count": null,
            "_view_module": "@jupyter-widgets/controls",
            "_view_module_version": "1.5.0",
            "_view_name": "HTMLView",
            "description": "",
            "description_tooltip": null,
            "layout": "IPY_MODEL_861ff97693f143e7a4e2379c22d70337",
            "placeholder": "​",
            "style": "IPY_MODEL_f8edef63cd554887b5f55ed405185c06",
            "value": "100%"
          }
        },
        "3856835b42c94808bbb2f2f1e0230b60": {
          "model_module": "@jupyter-widgets/controls",
          "model_name": "FloatProgressModel",
          "model_module_version": "1.5.0",
          "state": {
            "_dom_classes": [],
            "_model_module": "@jupyter-widgets/controls",
            "_model_module_version": "1.5.0",
            "_model_name": "FloatProgressModel",
            "_view_count": null,
            "_view_module": "@jupyter-widgets/controls",
            "_view_module_version": "1.5.0",
            "_view_name": "ProgressView",
            "bar_style": "success",
            "description": "",
            "description_tooltip": null,
            "layout": "IPY_MODEL_1b9071c2a6824594ba9f86d856c35ea6",
            "max": 150,
            "min": 0,
            "orientation": "horizontal",
            "style": "IPY_MODEL_604e3345d961409f82c0760ff6614ccc",
            "value": 150
          }
        },
        "93415d18d0f34ae69b958302256a5cf3": {
          "model_module": "@jupyter-widgets/controls",
          "model_name": "HTMLModel",
          "model_module_version": "1.5.0",
          "state": {
            "_dom_classes": [],
            "_model_module": "@jupyter-widgets/controls",
            "_model_module_version": "1.5.0",
            "_model_name": "HTMLModel",
            "_view_count": null,
            "_view_module": "@jupyter-widgets/controls",
            "_view_module_version": "1.5.0",
            "_view_name": "HTMLView",
            "description": "",
            "description_tooltip": null,
            "layout": "IPY_MODEL_707794c162bb4b1cb85ae10010aa90d3",
            "placeholder": "​",
            "style": "IPY_MODEL_bb9f4cf14350410d90e4aa6bacf14099",
            "value": " 150/150 [00:38&lt;00:00,  3.81it/s]"
          }
        },
        "579d926f71cf4ceb8251f20b611a5ed2": {
          "model_module": "@jupyter-widgets/base",
          "model_name": "LayoutModel",
          "model_module_version": "1.2.0",
          "state": {
            "_model_module": "@jupyter-widgets/base",
            "_model_module_version": "1.2.0",
            "_model_name": "LayoutModel",
            "_view_count": null,
            "_view_module": "@jupyter-widgets/base",
            "_view_module_version": "1.2.0",
            "_view_name": "LayoutView",
            "align_content": null,
            "align_items": null,
            "align_self": null,
            "border": null,
            "bottom": null,
            "display": null,
            "flex": null,
            "flex_flow": null,
            "grid_area": null,
            "grid_auto_columns": null,
            "grid_auto_flow": null,
            "grid_auto_rows": null,
            "grid_column": null,
            "grid_gap": null,
            "grid_row": null,
            "grid_template_areas": null,
            "grid_template_columns": null,
            "grid_template_rows": null,
            "height": null,
            "justify_content": null,
            "justify_items": null,
            "left": null,
            "margin": null,
            "max_height": null,
            "max_width": null,
            "min_height": null,
            "min_width": null,
            "object_fit": null,
            "object_position": null,
            "order": null,
            "overflow": null,
            "overflow_x": null,
            "overflow_y": null,
            "padding": null,
            "right": null,
            "top": null,
            "visibility": null,
            "width": null
          }
        },
        "861ff97693f143e7a4e2379c22d70337": {
          "model_module": "@jupyter-widgets/base",
          "model_name": "LayoutModel",
          "model_module_version": "1.2.0",
          "state": {
            "_model_module": "@jupyter-widgets/base",
            "_model_module_version": "1.2.0",
            "_model_name": "LayoutModel",
            "_view_count": null,
            "_view_module": "@jupyter-widgets/base",
            "_view_module_version": "1.2.0",
            "_view_name": "LayoutView",
            "align_content": null,
            "align_items": null,
            "align_self": null,
            "border": null,
            "bottom": null,
            "display": null,
            "flex": null,
            "flex_flow": null,
            "grid_area": null,
            "grid_auto_columns": null,
            "grid_auto_flow": null,
            "grid_auto_rows": null,
            "grid_column": null,
            "grid_gap": null,
            "grid_row": null,
            "grid_template_areas": null,
            "grid_template_columns": null,
            "grid_template_rows": null,
            "height": null,
            "justify_content": null,
            "justify_items": null,
            "left": null,
            "margin": null,
            "max_height": null,
            "max_width": null,
            "min_height": null,
            "min_width": null,
            "object_fit": null,
            "object_position": null,
            "order": null,
            "overflow": null,
            "overflow_x": null,
            "overflow_y": null,
            "padding": null,
            "right": null,
            "top": null,
            "visibility": null,
            "width": null
          }
        },
        "f8edef63cd554887b5f55ed405185c06": {
          "model_module": "@jupyter-widgets/controls",
          "model_name": "DescriptionStyleModel",
          "model_module_version": "1.5.0",
          "state": {
            "_model_module": "@jupyter-widgets/controls",
            "_model_module_version": "1.5.0",
            "_model_name": "DescriptionStyleModel",
            "_view_count": null,
            "_view_module": "@jupyter-widgets/base",
            "_view_module_version": "1.2.0",
            "_view_name": "StyleView",
            "description_width": ""
          }
        },
        "1b9071c2a6824594ba9f86d856c35ea6": {
          "model_module": "@jupyter-widgets/base",
          "model_name": "LayoutModel",
          "model_module_version": "1.2.0",
          "state": {
            "_model_module": "@jupyter-widgets/base",
            "_model_module_version": "1.2.0",
            "_model_name": "LayoutModel",
            "_view_count": null,
            "_view_module": "@jupyter-widgets/base",
            "_view_module_version": "1.2.0",
            "_view_name": "LayoutView",
            "align_content": null,
            "align_items": null,
            "align_self": null,
            "border": null,
            "bottom": null,
            "display": null,
            "flex": null,
            "flex_flow": null,
            "grid_area": null,
            "grid_auto_columns": null,
            "grid_auto_flow": null,
            "grid_auto_rows": null,
            "grid_column": null,
            "grid_gap": null,
            "grid_row": null,
            "grid_template_areas": null,
            "grid_template_columns": null,
            "grid_template_rows": null,
            "height": null,
            "justify_content": null,
            "justify_items": null,
            "left": null,
            "margin": null,
            "max_height": null,
            "max_width": null,
            "min_height": null,
            "min_width": null,
            "object_fit": null,
            "object_position": null,
            "order": null,
            "overflow": null,
            "overflow_x": null,
            "overflow_y": null,
            "padding": null,
            "right": null,
            "top": null,
            "visibility": null,
            "width": null
          }
        },
        "604e3345d961409f82c0760ff6614ccc": {
          "model_module": "@jupyter-widgets/controls",
          "model_name": "ProgressStyleModel",
          "model_module_version": "1.5.0",
          "state": {
            "_model_module": "@jupyter-widgets/controls",
            "_model_module_version": "1.5.0",
            "_model_name": "ProgressStyleModel",
            "_view_count": null,
            "_view_module": "@jupyter-widgets/base",
            "_view_module_version": "1.2.0",
            "_view_name": "StyleView",
            "bar_color": null,
            "description_width": ""
          }
        },
        "707794c162bb4b1cb85ae10010aa90d3": {
          "model_module": "@jupyter-widgets/base",
          "model_name": "LayoutModel",
          "model_module_version": "1.2.0",
          "state": {
            "_model_module": "@jupyter-widgets/base",
            "_model_module_version": "1.2.0",
            "_model_name": "LayoutModel",
            "_view_count": null,
            "_view_module": "@jupyter-widgets/base",
            "_view_module_version": "1.2.0",
            "_view_name": "LayoutView",
            "align_content": null,
            "align_items": null,
            "align_self": null,
            "border": null,
            "bottom": null,
            "display": null,
            "flex": null,
            "flex_flow": null,
            "grid_area": null,
            "grid_auto_columns": null,
            "grid_auto_flow": null,
            "grid_auto_rows": null,
            "grid_column": null,
            "grid_gap": null,
            "grid_row": null,
            "grid_template_areas": null,
            "grid_template_columns": null,
            "grid_template_rows": null,
            "height": null,
            "justify_content": null,
            "justify_items": null,
            "left": null,
            "margin": null,
            "max_height": null,
            "max_width": null,
            "min_height": null,
            "min_width": null,
            "object_fit": null,
            "object_position": null,
            "order": null,
            "overflow": null,
            "overflow_x": null,
            "overflow_y": null,
            "padding": null,
            "right": null,
            "top": null,
            "visibility": null,
            "width": null
          }
        },
        "bb9f4cf14350410d90e4aa6bacf14099": {
          "model_module": "@jupyter-widgets/controls",
          "model_name": "DescriptionStyleModel",
          "model_module_version": "1.5.0",
          "state": {
            "_model_module": "@jupyter-widgets/controls",
            "_model_module_version": "1.5.0",
            "_model_name": "DescriptionStyleModel",
            "_view_count": null,
            "_view_module": "@jupyter-widgets/base",
            "_view_module_version": "1.2.0",
            "_view_name": "StyleView",
            "description_width": ""
          }
        }
      }
    }
  },
  "cells": [
    {
      "cell_type": "markdown",
      "metadata": {
        "id": "view-in-github",
        "colab_type": "text"
      },
      "source": [
        "<a href=\"https://colab.research.google.com/github/JanMeow/ML-cases/blob/main/09_PyTorchModelDeployment.ipynb\" target=\"_parent\"><img src=\"https://colab.research.google.com/assets/colab-badge.svg\" alt=\"Open In Colab\"/></a>"
      ]
    },
    {
      "cell_type": "markdown",
      "source": [
        "## 0. Import"
      ],
      "metadata": {
        "id": "_LFzDvFNmnhW"
      }
    },
    {
      "cell_type": "code",
      "source": [
        "import torch\n",
        "import torchvision\n",
        "print(torch.__version__)\n",
        "print(torchvision.__version__)"
      ],
      "metadata": {
        "colab": {
          "base_uri": "https://localhost:8080/"
        },
        "id": "EQxu_8PJm-ur",
        "outputId": "06353231-5dba-4b9a-9d30-2b70556ba058"
      },
      "execution_count": 1,
      "outputs": [
        {
          "output_type": "stream",
          "name": "stdout",
          "text": [
            "2.0.1+cu118\n",
            "0.15.2+cu118\n"
          ]
        }
      ]
    },
    {
      "cell_type": "code",
      "source": [
        "# Regular Import\n",
        "import matplotlib.pyplot as plt\n",
        "from torch import nn\n",
        "from torchvision import transforms\n",
        "\n",
        "#Try importing torchvision, install if it does not work\n",
        "try:\n",
        "  from torchinfo import summary\n",
        "except:\n",
        "  print('[INFO] torchvision not found..installing now')\n",
        "  !pip install -q summary torchinfo\n",
        "  from torchinfo import summary\n",
        "\n",
        "# Try to import the going_modular directory, download it from GitHub if it doesn't work\n",
        "# try:\n",
        "#   from going_modular.going_modular import data_setup, engine\n",
        "# except:\n",
        "#   # Get the going_modular scripts\n",
        "#     print(\"[INFO] Couldn't find going_modular scripts... downloading them from GitHub.\")\n",
        "#     !git clone https://github.com/mrdbourke/pytorch-deep-learning\n",
        "#     !mv pytorch-deep-learning/going_modular .\n",
        "#     !rm -rf pytorch-deep-learning\n",
        "#     from going_modular.going_modular import data_setup, engine"
      ],
      "metadata": {
        "colab": {
          "base_uri": "https://localhost:8080/"
        },
        "id": "tzVzihcqnJNy",
        "outputId": "6ef785c4-b819-44e6-fdc4-63da03ccd900"
      },
      "execution_count": 2,
      "outputs": [
        {
          "output_type": "stream",
          "name": "stdout",
          "text": [
            "[INFO] torchvision not found..installing now\n",
            "  Preparing metadata (setup.py) ... \u001b[?25l\u001b[?25hdone\n",
            "  Building wheel for summary (setup.py) ... \u001b[?25l\u001b[?25hdone\n"
          ]
        }
      ]
    },
    {
      "cell_type": "code",
      "source": [
        "# Getting Data\n",
        "def create_path(root_name: str,\n",
        "                path_name: str,\n",
        "                url: str,\n",
        "                zip_file_name:str):\n",
        "  import os\n",
        "  import zipfile\n",
        "\n",
        "  from pathlib import Path\n",
        "  import requests\n",
        "\n",
        "\n",
        "  # Setup Path for data file\n",
        "  data_path = Path(root_name)\n",
        "  image_path = data_path / path_name\n",
        "\n",
        "\n",
        "  # if the image_folder doesnt exist, download it and prepare it\n",
        "  if image_path.is_dir():\n",
        "    print(f'{image_path} already exists !')\n",
        "  else:\n",
        "    print(f\"Did not find {image_path} directory, creating one...\")\n",
        "    image_path.mkdir(parents = True, exist_ok = True)\n",
        "\n",
        "  # Download Pizza steak sushi data\n",
        "  with open(data_path/ zip_file_name, 'wb') as f:\n",
        "    request = requests.get(url)\n",
        "    f.write(request.content)\n",
        "\n",
        "  # Unzip pizza, steak, sushi data\n",
        "  with zipfile.ZipFile(data_path / zip_file_name, \"r\") as zip_ref:\n",
        "    zip_ref.extractall(image_path)\n",
        "\n",
        "  # Remove the zip file\n",
        "  os.remove(data_path/zip_file_name)\n",
        "  return image_path\n",
        "\n",
        "\n",
        "image_path = create_path (root_name = 'data', path_name = 'pizza_steak_sushi', url = \"https://github.com/mrdbourke/pytorch-deep-learning/raw/main/data/pizza_steak_sushi_20_percent.zip\", zip_file_name =\"pizza_steak_sushi_20_percent.zip\" )"
      ],
      "metadata": {
        "colab": {
          "base_uri": "https://localhost:8080/"
        },
        "id": "7NLa2otEg_ef",
        "outputId": "4fe4c717-2e04-4ba1-e4c7-2de97dda6106"
      },
      "execution_count": 3,
      "outputs": [
        {
          "output_type": "stream",
          "name": "stdout",
          "text": [
            "Did not find data/pizza_steak_sushi directory, creating one...\n"
          ]
        }
      ]
    },
    {
      "cell_type": "code",
      "source": [
        "# Set up train and testing path\n",
        "train_dir = image_path / 'train'\n",
        "test_dir = image_path / 'test'\n",
        "\n",
        "train_dir, test_dir"
      ],
      "metadata": {
        "colab": {
          "base_uri": "https://localhost:8080/"
        },
        "id": "LfOd0KHThSh3",
        "outputId": "93d6df94-2dc3-4d10-f1b5-1925b8017b50"
      },
      "execution_count": 4,
      "outputs": [
        {
          "output_type": "execute_result",
          "data": {
            "text/plain": [
              "(PosixPath('data/pizza_steak_sushi/train'),\n",
              " PosixPath('data/pizza_steak_sushi/test'))"
            ]
          },
          "metadata": {},
          "execution_count": 4
        }
      ]
    },
    {
      "cell_type": "code",
      "source": [
        "device = 'cuda' if torch.cuda.is_available() else 'cpu'\n",
        "device"
      ],
      "metadata": {
        "colab": {
          "base_uri": "https://localhost:8080/",
          "height": 35
        },
        "id": "srfsJzLwoSGR",
        "outputId": "b4798d7f-44a0-4e4e-b97e-956c3f1f9ca0"
      },
      "execution_count": 5,
      "outputs": [
        {
          "output_type": "execute_result",
          "data": {
            "text/plain": [
              "'cuda'"
            ],
            "application/vnd.google.colaboratory.intrinsic+json": {
              "type": "string"
            }
          },
          "metadata": {},
          "execution_count": 5
        }
      ]
    },
    {
      "cell_type": "code",
      "source": [
        "def set_seed(seed:int = 42):\n",
        "  torch.manual_seed(seed)\n",
        "set_seed()"
      ],
      "metadata": {
        "id": "jeUN1DJmoe_z"
      },
      "execution_count": 6,
      "outputs": []
    },
    {
      "cell_type": "markdown",
      "source": [
        "##1. Creating an EffNetB2 feature extractor\n",
        "Feature Extractor = term for a transfer learning model that has its vase layers frozen and output layers (head layers) customerised for certain problem\n",
        "\n",
        "https://pytorch.org/vision/stable/models/generated/torchvision.models.efficientnet_b2.html#torchvision.models.efficientnet_b2"
      ],
      "metadata": {
        "id": "8lWhgs-MpLjq"
      }
    },
    {
      "cell_type": "code",
      "source": [
        "def create_effNetb2_model(num_classes: int =3,\n",
        "                          seed: int =42):\n",
        "  torch.manual_seed(seed)\n",
        "  #1. Set up pretrain EffNetB2 Weights\n",
        "  effnetb2_weights = torchvision.models.EfficientNet_B2_Weights.DEFAULT # Default meaning best available\n",
        "  #2. Get EffNetB2 transforms\n",
        "  transforms  = effnetb2_weights.transforms()\n",
        "  #3. Setup Pretrained model instance\n",
        "  effnetb2 = torchvision.models.efficientnet_b2(weights = effnetb2_weights)\n",
        "\n",
        "  #4. Freeze the base layers in the model (Stop all layers from training)\n",
        "  for param in effnetb2.parameters():\n",
        "    param.requires_grad = False\n",
        "\n",
        "  #5. Change the last layer of classifier into the number of classes we want\n",
        "  effnetb2.classifier = nn.Sequential(\n",
        "      nn.Dropout(p = 0.3, inplace = True),\n",
        "      nn.Linear(in_features = 1408, out_features = num_classes, bias = True)\n",
        "  )\n",
        "\n",
        "  return effnetb2, transforms"
      ],
      "metadata": {
        "id": "Qq9cVWZ4m47-"
      },
      "execution_count": 7,
      "outputs": []
    },
    {
      "cell_type": "code",
      "source": [
        "effnetb2, effnetb2_transforms = create_effNetb2_model()"
      ],
      "metadata": {
        "colab": {
          "base_uri": "https://localhost:8080/"
        },
        "id": "gE2EnGw2awoM",
        "outputId": "d3f7566b-c4b4-47e5-fb05-e07476125fcd"
      },
      "execution_count": 8,
      "outputs": [
        {
          "output_type": "stream",
          "name": "stderr",
          "text": [
            "Downloading: \"https://download.pytorch.org/models/efficientnet_b2_rwightman-bcdf34b7.pth\" to /root/.cache/torch/hub/checkpoints/efficientnet_b2_rwightman-bcdf34b7.pth\n",
            "100%|██████████| 35.2M/35.2M [00:00<00:00, 56.5MB/s]\n"
          ]
        }
      ]
    },
    {
      "cell_type": "code",
      "source": [
        "effnetb2_transforms"
      ],
      "metadata": {
        "colab": {
          "base_uri": "https://localhost:8080/"
        },
        "id": "tW_g7Jipbcyk",
        "outputId": "442997ac-6227-48e5-88f7-4637e3f3b3a4"
      },
      "execution_count": 9,
      "outputs": [
        {
          "output_type": "execute_result",
          "data": {
            "text/plain": [
              "ImageClassification(\n",
              "    crop_size=[288]\n",
              "    resize_size=[288]\n",
              "    mean=[0.485, 0.456, 0.406]\n",
              "    std=[0.229, 0.224, 0.225]\n",
              "    interpolation=InterpolationMode.BICUBIC\n",
              ")"
            ]
          },
          "metadata": {},
          "execution_count": 9
        }
      ]
    },
    {
      "cell_type": "code",
      "source": [
        "from torchinfo import summary\n",
        "\n",
        "# Print summary of the model\n",
        "summary(effnetb2,\n",
        "        input_size = (1,3,224,224),\n",
        "        col_names = ['input_size', 'output_size', 'num_params', 'trainable'],\n",
        "        col_width =20,\n",
        "        row_settings = ['var_names'])"
      ],
      "metadata": {
        "colab": {
          "base_uri": "https://localhost:8080/"
        },
        "id": "Zf3Gms0Ibsnb",
        "outputId": "399bd414-9637-491b-9be1-35b560488b7f"
      },
      "execution_count": 10,
      "outputs": [
        {
          "output_type": "execute_result",
          "data": {
            "text/plain": [
              "============================================================================================================================================\n",
              "Layer (type (var_name))                                      Input Shape          Output Shape         Param #              Trainable\n",
              "============================================================================================================================================\n",
              "EfficientNet (EfficientNet)                                  [1, 3, 224, 224]     [1, 3]               --                   Partial\n",
              "├─Sequential (features)                                      [1, 3, 224, 224]     [1, 1408, 7, 7]      --                   False\n",
              "│    └─Conv2dNormActivation (0)                              [1, 3, 224, 224]     [1, 32, 112, 112]    --                   False\n",
              "│    │    └─Conv2d (0)                                       [1, 3, 224, 224]     [1, 32, 112, 112]    (864)                False\n",
              "│    │    └─BatchNorm2d (1)                                  [1, 32, 112, 112]    [1, 32, 112, 112]    (64)                 False\n",
              "│    │    └─SiLU (2)                                         [1, 32, 112, 112]    [1, 32, 112, 112]    --                   --\n",
              "│    └─Sequential (1)                                        [1, 32, 112, 112]    [1, 16, 112, 112]    --                   False\n",
              "│    │    └─MBConv (0)                                       [1, 32, 112, 112]    [1, 16, 112, 112]    (1,448)              False\n",
              "│    │    └─MBConv (1)                                       [1, 16, 112, 112]    [1, 16, 112, 112]    (612)                False\n",
              "│    └─Sequential (2)                                        [1, 16, 112, 112]    [1, 24, 56, 56]      --                   False\n",
              "│    │    └─MBConv (0)                                       [1, 16, 112, 112]    [1, 24, 56, 56]      (6,004)              False\n",
              "│    │    └─MBConv (1)                                       [1, 24, 56, 56]      [1, 24, 56, 56]      (10,710)             False\n",
              "│    │    └─MBConv (2)                                       [1, 24, 56, 56]      [1, 24, 56, 56]      (10,710)             False\n",
              "│    └─Sequential (3)                                        [1, 24, 56, 56]      [1, 48, 28, 28]      --                   False\n",
              "│    │    └─MBConv (0)                                       [1, 24, 56, 56]      [1, 48, 28, 28]      (16,518)             False\n",
              "│    │    └─MBConv (1)                                       [1, 48, 28, 28]      [1, 48, 28, 28]      (43,308)             False\n",
              "│    │    └─MBConv (2)                                       [1, 48, 28, 28]      [1, 48, 28, 28]      (43,308)             False\n",
              "│    └─Sequential (4)                                        [1, 48, 28, 28]      [1, 88, 14, 14]      --                   False\n",
              "│    │    └─MBConv (0)                                       [1, 48, 28, 28]      [1, 88, 14, 14]      (50,300)             False\n",
              "│    │    └─MBConv (1)                                       [1, 88, 14, 14]      [1, 88, 14, 14]      (123,750)            False\n",
              "│    │    └─MBConv (2)                                       [1, 88, 14, 14]      [1, 88, 14, 14]      (123,750)            False\n",
              "│    │    └─MBConv (3)                                       [1, 88, 14, 14]      [1, 88, 14, 14]      (123,750)            False\n",
              "│    └─Sequential (5)                                        [1, 88, 14, 14]      [1, 120, 14, 14]     --                   False\n",
              "│    │    └─MBConv (0)                                       [1, 88, 14, 14]      [1, 120, 14, 14]     (149,158)            False\n",
              "│    │    └─MBConv (1)                                       [1, 120, 14, 14]     [1, 120, 14, 14]     (237,870)            False\n",
              "│    │    └─MBConv (2)                                       [1, 120, 14, 14]     [1, 120, 14, 14]     (237,870)            False\n",
              "│    │    └─MBConv (3)                                       [1, 120, 14, 14]     [1, 120, 14, 14]     (237,870)            False\n",
              "│    └─Sequential (6)                                        [1, 120, 14, 14]     [1, 208, 7, 7]       --                   False\n",
              "│    │    └─MBConv (0)                                       [1, 120, 14, 14]     [1, 208, 7, 7]       (301,406)            False\n",
              "│    │    └─MBConv (1)                                       [1, 208, 7, 7]       [1, 208, 7, 7]       (686,868)            False\n",
              "│    │    └─MBConv (2)                                       [1, 208, 7, 7]       [1, 208, 7, 7]       (686,868)            False\n",
              "│    │    └─MBConv (3)                                       [1, 208, 7, 7]       [1, 208, 7, 7]       (686,868)            False\n",
              "│    │    └─MBConv (4)                                       [1, 208, 7, 7]       [1, 208, 7, 7]       (686,868)            False\n",
              "│    └─Sequential (7)                                        [1, 208, 7, 7]       [1, 352, 7, 7]       --                   False\n",
              "│    │    └─MBConv (0)                                       [1, 208, 7, 7]       [1, 352, 7, 7]       (846,900)            False\n",
              "│    │    └─MBConv (1)                                       [1, 352, 7, 7]       [1, 352, 7, 7]       (1,888,920)          False\n",
              "│    └─Conv2dNormActivation (8)                              [1, 352, 7, 7]       [1, 1408, 7, 7]      --                   False\n",
              "│    │    └─Conv2d (0)                                       [1, 352, 7, 7]       [1, 1408, 7, 7]      (495,616)            False\n",
              "│    │    └─BatchNorm2d (1)                                  [1, 1408, 7, 7]      [1, 1408, 7, 7]      (2,816)              False\n",
              "│    │    └─SiLU (2)                                         [1, 1408, 7, 7]      [1, 1408, 7, 7]      --                   --\n",
              "├─AdaptiveAvgPool2d (avgpool)                                [1, 1408, 7, 7]      [1, 1408, 1, 1]      --                   --\n",
              "├─Sequential (classifier)                                    [1, 1408]            [1, 3]               --                   True\n",
              "│    └─Dropout (0)                                           [1, 1408]            [1, 1408]            --                   --\n",
              "│    └─Linear (1)                                            [1, 1408]            [1, 3]               4,227                True\n",
              "============================================================================================================================================\n",
              "Total params: 7,705,221\n",
              "Trainable params: 4,227\n",
              "Non-trainable params: 7,700,994\n",
              "Total mult-adds (M): 657.64\n",
              "============================================================================================================================================\n",
              "Input size (MB): 0.60\n",
              "Forward/backward pass size (MB): 156.80\n",
              "Params size (MB): 30.82\n",
              "Estimated Total Size (MB): 188.22\n",
              "============================================================================================================================================"
            ]
          },
          "metadata": {},
          "execution_count": 10
        }
      ]
    },
    {
      "cell_type": "markdown",
      "source": [
        "## 1. Create Train and Test DataLoader"
      ],
      "metadata": {
        "id": "29Fj_GgbdpP6"
      }
    },
    {
      "cell_type": "code",
      "source": [
        "import os\n",
        "\n",
        "def create_dataloaders(\n",
        "    train_dir:str,\n",
        "    test_dir:str,\n",
        "    transform: transforms.Compose,\n",
        "    batch_size:int = 32,\n",
        "    num_workers:int = os.cpu_count()\n",
        "):\n",
        "  from torchvision import datasets, transforms\n",
        "  from torch.utils.data import DataLoader\n",
        "\n",
        "  train_data = datasets.ImageFolder(root = train_dir, transform = transform)\n",
        "  test_data = datasets.ImageFolder(root = test_dir, transform = transform)\n",
        "\n",
        "  train_dataloader = DataLoader(train_data,\n",
        "                                batch_size = batch_size,\n",
        "                                shuffle = True,\n",
        "                                num_workers = num_workers,\n",
        "                                pin_memory = True)\n",
        "  test_dataloader = DataLoader(test_data,\n",
        "                               batch_size = batch_size,\n",
        "                               shuffle = False,\n",
        "                               num_workers = num_workers,\n",
        "                               pin_memory = True)\n",
        "\n",
        "  class_name = train_data.classes\n",
        "  return train_dataloader, test_dataloader, class_name"
      ],
      "metadata": {
        "id": "Zqt4y0QucDgV"
      },
      "execution_count": 11,
      "outputs": []
    },
    {
      "cell_type": "code",
      "source": [
        "train_dataloader_effnetb2, test_dataloader_effnetb2, class_names = create_dataloaders(train_dir = train_dir,\n",
        "                                                                test_dir = test_dir,\n",
        "                                                                transform = effnetb2_transforms,\n",
        "                                                                batch_size = 32)"
      ],
      "metadata": {
        "id": "yhePBJ9RgWTL"
      },
      "execution_count": 12,
      "outputs": []
    },
    {
      "cell_type": "markdown",
      "source": [
        "#2. Training EffNetB2 feature extractor"
      ],
      "metadata": {
        "id": "2KpiDM6Bm9kS"
      }
    },
    {
      "cell_type": "code",
      "source": [
        "next(iter(train_dataloader_effnetb2))[0].shape"
      ],
      "metadata": {
        "colab": {
          "base_uri": "https://localhost:8080/"
        },
        "id": "r_BuqFCPv_59",
        "outputId": "cb6867ea-298e-4e90-b79b-65b00d5602f6"
      },
      "execution_count": 13,
      "outputs": [
        {
          "output_type": "execute_result",
          "data": {
            "text/plain": [
              "torch.Size([32, 3, 288, 288])"
            ]
          },
          "metadata": {},
          "execution_count": 13
        }
      ]
    },
    {
      "cell_type": "code",
      "source": [
        "# Training function\n",
        "from typing import Dict, List, Tuple\n",
        "\n",
        "def train_step(model: torch.nn.Module,\n",
        "               dataloader: torch.utils.data.DataLoader,\n",
        "               loss_fn: torch.nn.Module,\n",
        "               optimizer: torch.optim.Optimizer,\n",
        "               device: torch.device)-> Tuple[float, float]:\n",
        "\n",
        "\n",
        "  #1. Set model to train mode\n",
        "  model.train()\n",
        "  #2. Set up train loss and train accuracy values\n",
        "  train_loss, train_acc = 0,0\n",
        "  #3. Loop throigh data loader batches\n",
        "  for batch, (X,y) in enumerate(dataloader):\n",
        "    #3.0 Send data to target device\n",
        "    X,y = X.to(device), y.to(device)\n",
        "    #3.1 Make prediction\n",
        "    y_pred = model(X)\n",
        "    #3.2 Calculate an accumate loss\n",
        "    loss = loss_fn(y_pred, y)\n",
        "    train_loss += loss.item()\n",
        "    #3.3 Optimizer zero grad\n",
        "    optimizer.zero_grad()\n",
        "    #3.4 Back Propagation\n",
        "    loss.backward()\n",
        "    #3.5 Optimizer Step\n",
        "    optimizer.step()\n",
        "    #Calculate and accumulate accuracy metric across all batches\n",
        "    y_pred_class = torch.argmax(torch.softmax(y_pred, dim=1), dim =1)\n",
        "    train_acc += (y_pred_class == y).sum().item()/len(y_pred)\n",
        "  #4. Adjust metrics to get average loss and accuracy per batch\n",
        "  train_loss = train_loss / len(dataloader)\n",
        "  train_acc = train_acc / len(dataloader)\n",
        "  return train_loss, train_acc\n"
      ],
      "metadata": {
        "id": "ZCyQAdyghcfU"
      },
      "execution_count": 14,
      "outputs": []
    },
    {
      "cell_type": "code",
      "source": [
        "def test_step(model: torch.nn.Module,\n",
        "              dataloader: torch.utils.data.DataLoader,\n",
        "              loss_fn: torch.nn.Module,\n",
        "              device: torch.device) -> Tuple[float, float]:\n",
        "\n",
        "  # Put model in eval mode\n",
        "  model.eval()\n",
        "\n",
        "  # Setup test loss and test accuracy values\n",
        "  test_loss, test_acc = 0, 0\n",
        "\n",
        "  # Turn on inference context manager\n",
        "  with torch.inference_mode():\n",
        "      # Loop through DataLoader batches\n",
        "      for batch, (X, y) in enumerate(dataloader):\n",
        "          # Send data to target device\n",
        "          X, y = X.to(device), y.to(device)\n",
        "          # 1. Forward pass\n",
        "          test_pred_logits = model(X)\n",
        "          # 2. Calculate and accumulate loss\n",
        "          loss = loss_fn(test_pred_logits, y)\n",
        "          test_loss += loss.item()\n",
        "          # Calculate and accumulate accuracy\n",
        "          test_pred_labels = test_pred_logits.argmax(dim=1)\n",
        "          test_acc += ((test_pred_labels == y).sum().item()/len(test_pred_labels))\n",
        "  # Adjust metrics to get average loss and accuracy per batch\n",
        "  test_loss = test_loss / len(dataloader)\n",
        "  test_acc = test_acc / len(dataloader)\n",
        "  return test_loss, test_acc"
      ],
      "metadata": {
        "id": "cGHhhl0rtRtv"
      },
      "execution_count": 15,
      "outputs": []
    },
    {
      "cell_type": "code",
      "source": [
        "def train(model: torch.nn.Module,\n",
        "          train_dataloader: torch.utils.data.DataLoader,\n",
        "          test_dataloader: torch.utils.data.DataLoader,\n",
        "          optimizer: torch.optim.Optimizer,\n",
        "          loss_fn: torch.nn.Module,\n",
        "          epochs: int,\n",
        "          device: torch.device) -> Dict[str, List[float]]:\n",
        "\n",
        "  from tqdm.auto import tqdm\n",
        "  model.to(device)\n",
        "  # Create empty results dictionary\n",
        "  results = {\"train_loss\": [],\n",
        "      \"train_acc\": [],\n",
        "      \"test_loss\": [],\n",
        "      \"test_acc\": []\n",
        "  }\n",
        "  # Loop through training and testing steps for a number of epochs\n",
        "  for epoch in tqdm(range(epochs)):\n",
        "      train_loss, train_acc = train_step(model=model,\n",
        "                                          dataloader=train_dataloader,\n",
        "                                          loss_fn=loss_fn,\n",
        "                                          optimizer=optimizer,\n",
        "                                          device=device)\n",
        "      test_loss, test_acc = test_step(model=model,\n",
        "          dataloader=test_dataloader,\n",
        "          loss_fn=loss_fn,\n",
        "          device=device)\n",
        "\n",
        "      # Print out what's happening\n",
        "      print(\n",
        "          f\"Epoch: {epoch+1} | \"\n",
        "          f\"train_loss: {train_loss:.4f} | \"\n",
        "          f\"train_acc: {train_acc:.4f} | \"\n",
        "          f\"test_loss: {test_loss:.4f} | \"\n",
        "          f\"test_acc: {test_acc:.4f}\"\n",
        "      )\n",
        "\n",
        "      # Update results dictionary\n",
        "      results[\"train_loss\"].append(train_loss)\n",
        "      results[\"train_acc\"].append(train_acc)\n",
        "      results[\"test_loss\"].append(test_loss)\n",
        "      results[\"test_acc\"].append(test_acc)\n",
        "\n",
        "  # Return the filled results at the end of the epochs\n",
        "  return results"
      ],
      "metadata": {
        "id": "V_uDdgkpth2J"
      },
      "execution_count": 16,
      "outputs": []
    },
    {
      "cell_type": "code",
      "source": [
        "#Set Seed\n",
        "set_seed()\n",
        "#Loss function\n",
        "loss_fn = torch.nn.CrossEntropyLoss()\n",
        "#Optimizer\n",
        "optimizer = torch.optim.Adam(params = effnetb2.parameters(),\n",
        "                             lr = 1e-3)\n",
        "# Train\n",
        "effnetb2_results = train(model = effnetb2,\n",
        "                         train_dataloader = train_dataloader_effnetb2,\n",
        "                         test_dataloader = test_dataloader_effnetb2,\n",
        "                         optimizer = optimizer,\n",
        "                         loss_fn = loss_fn,\n",
        "                         epochs = 20,\n",
        "                         device = device)"
      ],
      "metadata": {
        "colab": {
          "base_uri": "https://localhost:8080/",
          "height": 396,
          "referenced_widgets": [
            "76200ba808b247a5925d7ee7f68ed55c",
            "51945342d93d425a98db68c079c308e8",
            "5f9006a0a28d40d085f460d1f9a2f9e5",
            "d0b3b5a3bf2648a684f3869737e8db7b",
            "f6ea0613346949509f86e393f0c2be5b",
            "59221e52d26244519b604552ee59f352",
            "cb6de249ca5545f5b777cbfa5e4f596f",
            "f3136cd7f30b4cc69ce841e9fe839e84",
            "62eefa0fbe394363ba692b87d5ac3763",
            "38ececd8f683492cb794498f90b335bf",
            "74d6150b6cdc4057823088fbb0b8ed8a"
          ]
        },
        "id": "-09e6WiwrpXw",
        "outputId": "6e4a6f3e-dc03-4ecc-d603-0a24bce31cf5"
      },
      "execution_count": 17,
      "outputs": [
        {
          "output_type": "display_data",
          "data": {
            "text/plain": [
              "  0%|          | 0/20 [00:00<?, ?it/s]"
            ],
            "application/vnd.jupyter.widget-view+json": {
              "version_major": 2,
              "version_minor": 0,
              "model_id": "76200ba808b247a5925d7ee7f68ed55c"
            }
          },
          "metadata": {}
        },
        {
          "output_type": "stream",
          "name": "stdout",
          "text": [
            "Epoch: 1 | train_loss: 0.9432 | train_acc: 0.6188 | test_loss: 0.7431 | test_acc: 0.9290\n",
            "Epoch: 2 | train_loss: 0.6846 | train_acc: 0.8500 | test_loss: 0.5971 | test_acc: 0.8983\n",
            "Epoch: 3 | train_loss: 0.5791 | train_acc: 0.8542 | test_loss: 0.5016 | test_acc: 0.9352\n",
            "Epoch: 4 | train_loss: 0.4392 | train_acc: 0.9083 | test_loss: 0.4429 | test_acc: 0.9256\n",
            "Epoch: 5 | train_loss: 0.4199 | train_acc: 0.9042 | test_loss: 0.4035 | test_acc: 0.9261\n",
            "Epoch: 6 | train_loss: 0.4249 | train_acc: 0.8938 | test_loss: 0.3616 | test_acc: 0.9352\n",
            "Epoch: 7 | train_loss: 0.4210 | train_acc: 0.8375 | test_loss: 0.3357 | test_acc: 0.9443\n",
            "Epoch: 8 | train_loss: 0.3929 | train_acc: 0.8979 | test_loss: 0.3572 | test_acc: 0.9199\n",
            "Epoch: 9 | train_loss: 0.3700 | train_acc: 0.8917 | test_loss: 0.3212 | test_acc: 0.9290\n",
            "Epoch: 10 | train_loss: 0.3663 | train_acc: 0.8646 | test_loss: 0.2864 | test_acc: 0.9597\n",
            "Epoch: 11 | train_loss: 0.3009 | train_acc: 0.9125 | test_loss: 0.2798 | test_acc: 0.9597\n",
            "Epoch: 12 | train_loss: 0.2837 | train_acc: 0.9500 | test_loss: 0.2923 | test_acc: 0.9261\n",
            "Epoch: 13 | train_loss: 0.2536 | train_acc: 0.9521 | test_loss: 0.2708 | test_acc: 0.9199\n",
            "Epoch: 14 | train_loss: 0.2397 | train_acc: 0.9417 | test_loss: 0.2663 | test_acc: 0.9415\n",
            "Epoch: 15 | train_loss: 0.2673 | train_acc: 0.9417 | test_loss: 0.2653 | test_acc: 0.9261\n",
            "Epoch: 16 | train_loss: 0.2892 | train_acc: 0.9167 | test_loss: 0.2319 | test_acc: 0.9568\n",
            "Epoch: 17 | train_loss: 0.2339 | train_acc: 0.9437 | test_loss: 0.2307 | test_acc: 0.9688\n",
            "Epoch: 18 | train_loss: 0.2263 | train_acc: 0.9625 | test_loss: 0.2445 | test_acc: 0.9352\n",
            "Epoch: 19 | train_loss: 0.2063 | train_acc: 0.9500 | test_loss: 0.2547 | test_acc: 0.9324\n",
            "Epoch: 20 | train_loss: 0.2834 | train_acc: 0.8979 | test_loss: 0.2440 | test_acc: 0.9477\n"
          ]
        }
      ]
    },
    {
      "cell_type": "markdown",
      "source": [
        "##3 Inspecting EffNetB2 loss curves"
      ],
      "metadata": {
        "id": "1aHzlbrV1hD-"
      }
    },
    {
      "cell_type": "code",
      "source": [
        "from typing import Dict\n",
        "\n",
        "def plot_loss_curves(loss_dict: Dict):\n",
        "  import matplotlib.pyplot as plt\n",
        "  import numpy as np\n",
        "\n",
        "  #Getting keys from dictionary for plotting\n",
        "  key = list(loss_dict.keys())\n",
        "  #Epochs count\n",
        "  x = np.arange(len(loss_dict[key[0]]))\n",
        "  # Make 2 subplots for loss and accuracy\n",
        "  fig, ax = plt.subplots(1,2)\n",
        "\n",
        "  for i in range(2):\n",
        "     x= x\n",
        "     y0= loss_dict[key[i]]\n",
        "     y1= loss_dict[key[i+2]]\n",
        "\n",
        "     ax[i].plot(x,y0,y1)\n",
        "     ax[i].set_title(f'{key[i]} and {key[i+2]}', fontsize=13)\n",
        "     ax[i].set_xlabel('Epochs', fontsize= 9)\n",
        "     ax[i].legend([f'{key[i]}',f'{key[i+2]}'], fontsize = 8)\n",
        "     fig.set_figwidth(11)\n",
        "     fig.set_figheight(5)\n",
        "  fig.tight_layout(pad = 1.8)\n",
        "\n",
        "plot_loss_curves(effnetb2_results)"
      ],
      "metadata": {
        "colab": {
          "base_uri": "https://localhost:8080/",
          "height": 486
        },
        "id": "7W5NxxfD4Z7N",
        "outputId": "6c5edd76-8fb7-4836-92ae-aa736906fb18"
      },
      "execution_count": 18,
      "outputs": [
        {
          "output_type": "display_data",
          "data": {
            "text/plain": [
              "<Figure size 1100x500 with 2 Axes>"
            ],
            "image/png": "[encoded data removed]"
          },
          "metadata": {}
        }
      ]
    },
    {
      "cell_type": "code",
      "source": [
        "def save_model(model: torch.nn.Module,\n",
        "               target_dir: str,\n",
        "               model_name: str):\n",
        "\n",
        "  from pathlib import Path\n",
        "  import torch\n",
        "  # Create target directory\n",
        "  target_dir_path = Path(target_dir)\n",
        "  target_dir_path.mkdir(parents=True,\n",
        "                        exist_ok=True)\n",
        "\n",
        "  # Create model save path\n",
        "  assert model_name.endswith(\".pth\") or model_name.endswith(\".pt\"), \"model_name should end with '.pt' or '.pth'\"\n",
        "  model_save_path = target_dir_path / model_name\n",
        "\n",
        "  # Save the model state_dict()\n",
        "  print(f\"[INFO] Saving model to: {model_save_path}\")\n",
        "  torch.save(obj=model.state_dict(),\n",
        "             f=model_save_path)\n",
        "\n",
        "save_model(model = effnetb2, target_dir = 'models', model_name = '09_pretrained_effnetb2_feature_extractor_pizza_steak_sushi_20_percent.pth')"
      ],
      "metadata": {
        "colab": {
          "base_uri": "https://localhost:8080/"
        },
        "id": "Az7weuxQ4NK6",
        "outputId": "8d25b208-2eec-4a8a-c5c2-da329df82ed4"
      },
      "execution_count": 19,
      "outputs": [
        {
          "output_type": "stream",
          "name": "stdout",
          "text": [
            "[INFO] Saving model to: models/09_pretrained_effnetb2_feature_extractor_pizza_steak_sushi_20_percent.pth\n"
          ]
        }
      ]
    },
    {
      "cell_type": "markdown",
      "source": [
        "###3.1 Inspecting the size of our EffNetB2 feature Extractor for deployment perfomrance"
      ],
      "metadata": {
        "id": "pO9XC4ZoDfSY"
      }
    },
    {
      "cell_type": "code",
      "source": [
        "from pathlib import Path\n",
        "\n",
        "#Get the model size in bytes\n",
        "pretrain_effnetb2_model_size = Path('/content/models/09_pretrained_effnetb2_feature_extractor_pizza_steak_sushi_20_percent.pth').stat().st_size\n",
        "print(f'pretrain_effnetb2_model_size in MB is {pretrain_effnetb2_model_size / (1024*1024):.2f}')"
      ],
      "metadata": {
        "colab": {
          "base_uri": "https://localhost:8080/"
        },
        "id": "DVj1H48HC-dR",
        "outputId": "1381f61d-2354-4200-a5e6-c898b0e74ff6"
      },
      "execution_count": 20,
      "outputs": [
        {
          "output_type": "stream",
          "name": "stdout",
          "text": [
            "pretrain_effnetb2_model_size in MB is 29.86\n"
          ]
        }
      ]
    },
    {
      "cell_type": "markdown",
      "source": [
        "###3.2 Collecting EffNet b2 Feature Extractor stats"
      ],
      "metadata": {
        "id": "gCrNIzUxE_LI"
      }
    },
    {
      "cell_type": "code",
      "source": [
        "# Count number of parameters in EffNetB2\n",
        "effnetb2_total_params = sum(torch.numel(param) for param in effnetb2.parameters())\n",
        "effnetb2_total_params"
      ],
      "metadata": {
        "colab": {
          "base_uri": "https://localhost:8080/"
        },
        "id": "J_Kdom2rC3tI",
        "outputId": "1703a70d-8a8c-44a1-9e29-5eb2cfbce78b"
      },
      "execution_count": 21,
      "outputs": [
        {
          "output_type": "execute_result",
          "data": {
            "text/plain": [
              "7705221"
            ]
          },
          "metadata": {},
          "execution_count": 21
        }
      ]
    },
    {
      "cell_type": "code",
      "source": [
        "#Create a dictionray witrh EffNetb2 statistics\n",
        "effnetb2_results\n",
        "\n",
        "effnetb2_stats = {'test_loss': effnetb2_results['test_loss'][-1],\n",
        "                   'test_acc': effnetb2_results['test_acc'][-1],\n",
        "                   'number_of_parameters':effnetb2_total_params,\n",
        "                   'model_size(MB)': pretrain_effnetb2_model_size / (1024*1024)}\n",
        "effnetb2_stats"
      ],
      "metadata": {
        "colab": {
          "base_uri": "https://localhost:8080/"
        },
        "id": "n61q8ETKGIni",
        "outputId": "072e992e-780b-40c0-e3e1-39b0160b46a2"
      },
      "execution_count": 22,
      "outputs": [
        {
          "output_type": "execute_result",
          "data": {
            "text/plain": [
              "{'test_loss': 0.24402595162391663,\n",
              " 'test_acc': 0.9477272727272726,\n",
              " 'number_of_parameters': 7705221,\n",
              " 'model_size(MB)': 29.863232612609863}"
            ]
          },
          "metadata": {},
          "execution_count": 22
        }
      ]
    },
    {
      "cell_type": "markdown",
      "source": [
        "#4. Creating an Vit feature extractor"
      ],
      "metadata": {
        "id": "u8YqGP6wHJ7w"
      }
    },
    {
      "cell_type": "code",
      "source": [
        "def create_vitb16_model(num_classes: int =3,\n",
        "                          seed: int =42):\n",
        "  torch.manual_seed(seed)\n",
        "  #1. Set up pretrain VitB16 Weights\n",
        "  vit_weights = torchvision.models.ViT_B_16_Weights.DEFAULT\n",
        "  #2. Get VitB16 transforms\n",
        "  transforms = vit_weights.transforms()\n",
        "  #3. Setup Pretrained model instance\n",
        "  vitb16 = torchvision.models.vit_b_16(weights = vit_weights)\n",
        "\n",
        "  #4. Freeze the base layers in the model (Stop all layers from training)\n",
        "  for param in vitb16.parameters():\n",
        "    param.requires_grad = False\n",
        "\n",
        "  #5. Change the last layer of classifier into the number of classes we want\n",
        "  vitb16.heads = nn.Sequential(\n",
        "      nn.Linear(in_features = 768, out_features = num_classes, bias = True)\n",
        "  )\n",
        "\n",
        "  return vitb16, transforms"
      ],
      "metadata": {
        "id": "8PCFMpjE5cqG"
      },
      "execution_count": 23,
      "outputs": []
    },
    {
      "cell_type": "code",
      "source": [
        "vitb16, vit_transforms = create_vitb16_model(num_classes =3, seed = 42)"
      ],
      "metadata": {
        "colab": {
          "base_uri": "https://localhost:8080/"
        },
        "id": "UKPABO7EHidB",
        "outputId": "4611998f-5345-42db-9f1e-86140fd45718"
      },
      "execution_count": 24,
      "outputs": [
        {
          "output_type": "stream",
          "name": "stderr",
          "text": [
            "Downloading: \"https://download.pytorch.org/models/vit_b_16-c867db91.pth\" to /root/.cache/torch/hub/checkpoints/vit_b_16-c867db91.pth\n",
            "100%|██████████| 330M/330M [00:05<00:00, 64.0MB/s]\n"
          ]
        }
      ]
    },
    {
      "cell_type": "code",
      "source": [
        "from torchinfo import summary\n",
        "\n",
        "# Print summary of the model\n",
        "summary(vitb16,\n",
        "        input_size = (1,3,224,224),\n",
        "        col_names = ['input_size', 'output_size', 'num_params', 'trainable'],\n",
        "        col_width =20,\n",
        "        row_settings = ['var_names'])"
      ],
      "metadata": {
        "colab": {
          "base_uri": "https://localhost:8080/"
        },
        "id": "h3lGrE7UHtzB",
        "outputId": "a2fec1bf-26d4-4ba3-927d-1c1e5e001d2b"
      },
      "execution_count": 25,
      "outputs": [
        {
          "output_type": "execute_result",
          "data": {
            "text/plain": [
              "============================================================================================================================================\n",
              "Layer (type (var_name))                                      Input Shape          Output Shape         Param #              Trainable\n",
              "============================================================================================================================================\n",
              "VisionTransformer (VisionTransformer)                        [1, 3, 224, 224]     [1, 3]               768                  Partial\n",
              "├─Conv2d (conv_proj)                                         [1, 3, 224, 224]     [1, 768, 14, 14]     (590,592)            False\n",
              "├─Encoder (encoder)                                          [1, 197, 768]        [1, 197, 768]        151,296              False\n",
              "│    └─Dropout (dropout)                                     [1, 197, 768]        [1, 197, 768]        --                   --\n",
              "│    └─Sequential (layers)                                   [1, 197, 768]        [1, 197, 768]        --                   False\n",
              "│    │    └─EncoderBlock (encoder_layer_0)                   [1, 197, 768]        [1, 197, 768]        (7,087,872)          False\n",
              "│    │    └─EncoderBlock (encoder_layer_1)                   [1, 197, 768]        [1, 197, 768]        (7,087,872)          False\n",
              "│    │    └─EncoderBlock (encoder_layer_2)                   [1, 197, 768]        [1, 197, 768]        (7,087,872)          False\n",
              "│    │    └─EncoderBlock (encoder_layer_3)                   [1, 197, 768]        [1, 197, 768]        (7,087,872)          False\n",
              "│    │    └─EncoderBlock (encoder_layer_4)                   [1, 197, 768]        [1, 197, 768]        (7,087,872)          False\n",
              "│    │    └─EncoderBlock (encoder_layer_5)                   [1, 197, 768]        [1, 197, 768]        (7,087,872)          False\n",
              "│    │    └─EncoderBlock (encoder_layer_6)                   [1, 197, 768]        [1, 197, 768]        (7,087,872)          False\n",
              "│    │    └─EncoderBlock (encoder_layer_7)                   [1, 197, 768]        [1, 197, 768]        (7,087,872)          False\n",
              "│    │    └─EncoderBlock (encoder_layer_8)                   [1, 197, 768]        [1, 197, 768]        (7,087,872)          False\n",
              "│    │    └─EncoderBlock (encoder_layer_9)                   [1, 197, 768]        [1, 197, 768]        (7,087,872)          False\n",
              "│    │    └─EncoderBlock (encoder_layer_10)                  [1, 197, 768]        [1, 197, 768]        (7,087,872)          False\n",
              "│    │    └─EncoderBlock (encoder_layer_11)                  [1, 197, 768]        [1, 197, 768]        (7,087,872)          False\n",
              "│    └─LayerNorm (ln)                                        [1, 197, 768]        [1, 197, 768]        (1,536)              False\n",
              "├─Sequential (heads)                                         [1, 768]             [1, 3]               --                   True\n",
              "│    └─Linear (0)                                            [1, 768]             [1, 3]               2,307                True\n",
              "============================================================================================================================================\n",
              "Total params: 85,800,963\n",
              "Trainable params: 2,307\n",
              "Non-trainable params: 85,798,656\n",
              "Total mult-adds (M): 172.47\n",
              "============================================================================================================================================\n",
              "Input size (MB): 0.60\n",
              "Forward/backward pass size (MB): 104.09\n",
              "Params size (MB): 229.20\n",
              "Estimated Total Size (MB): 333.89\n",
              "============================================================================================================================================"
            ]
          },
          "metadata": {},
          "execution_count": 25
        }
      ]
    },
    {
      "cell_type": "code",
      "source": [
        "vit_transforms"
      ],
      "metadata": {
        "colab": {
          "base_uri": "https://localhost:8080/"
        },
        "id": "P2pYZ7rTHzDv",
        "outputId": "bbc7b141-42b0-4e12-e647-0222f831ebc3"
      },
      "execution_count": 26,
      "outputs": [
        {
          "output_type": "execute_result",
          "data": {
            "text/plain": [
              "ImageClassification(\n",
              "    crop_size=[224]\n",
              "    resize_size=[256]\n",
              "    mean=[0.485, 0.456, 0.406]\n",
              "    std=[0.229, 0.224, 0.225]\n",
              "    interpolation=InterpolationMode.BILINEAR\n",
              ")"
            ]
          },
          "metadata": {},
          "execution_count": 26
        }
      ]
    },
    {
      "cell_type": "markdown",
      "source": [
        "##4.1 Training ViT Features Extractor"
      ],
      "metadata": {
        "id": "4gfUYAyEa-L3"
      }
    },
    {
      "cell_type": "code",
      "source": [
        "train_dataloader_vit, test_dataloader_vit, class_names = create_dataloaders(train_dir = train_dir,\n",
        "                                                                            test_dir = test_dir,\n",
        "                                                                            transform = vit_transforms,\n",
        "                                                                            batch_size =32)"
      ],
      "metadata": {
        "id": "b_7_e9IyZ7S_"
      },
      "execution_count": 27,
      "outputs": []
    },
    {
      "cell_type": "code",
      "source": [
        "#Set Seed\n",
        "set_seed()\n",
        "#Loss function\n",
        "loss_fn = torch.nn.CrossEntropyLoss()\n",
        "#Optimizer\n",
        "optimizer = torch.optim.Adam(params = vitb16.parameters(),\n",
        "                             lr = 1e-3)\n",
        "# Train\n",
        "vitb16_results = train(model = vitb16,\n",
        "                       train_dataloader = train_dataloader_vit,\n",
        "                       test_dataloader = test_dataloader_vit,\n",
        "                       optimizer = optimizer,\n",
        "                       loss_fn = loss_fn,\n",
        "                       epochs = 20,\n",
        "                       device = device)"
      ],
      "metadata": {
        "colab": {
          "base_uri": "https://localhost:8080/",
          "height": 396,
          "referenced_widgets": [
            "8ce1bc2e55104a04a0b4ede8bf7f3ce1",
            "7138e1163b36415f9ee47192c2f76191",
            "cd4a1f00505446e58e4ee200146eab06",
            "73bdd60e89394c01a71dff7ee956c544",
            "c9b750f2cc12474eadf1dfde4acc224d",
            "dc1be7e96f8a467681d7838a2d1997c2",
            "36179a10122b4b959b214c4f3a6ff589",
            "a3e1ef88627540088fc586269fe42e0e",
            "80185324dc724c4d88be58cfd75910d6",
            "cc991c0c995f46adb80c137fa45f7dd4",
            "4e4fb1b897a2457c9eec63e136bc226f"
          ]
        },
        "id": "PDGvYnJJaobQ",
        "outputId": "b17d5594-851a-4960-9009-1815a43f755a"
      },
      "execution_count": 28,
      "outputs": [
        {
          "output_type": "display_data",
          "data": {
            "text/plain": [
              "  0%|          | 0/20 [00:00<?, ?it/s]"
            ],
            "application/vnd.jupyter.widget-view+json": {
              "version_major": 2,
              "version_minor": 0,
              "model_id": "8ce1bc2e55104a04a0b4ede8bf7f3ce1"
            }
          },
          "metadata": {}
        },
        {
          "output_type": "stream",
          "name": "stdout",
          "text": [
            "Epoch: 1 | train_loss: 0.6470 | train_acc: 0.8167 | test_loss: 0.2177 | test_acc: 0.9625\n",
            "Epoch: 2 | train_loss: 0.2486 | train_acc: 0.9187 | test_loss: 0.1349 | test_acc: 0.9938\n",
            "Epoch: 3 | train_loss: 0.1708 | train_acc: 0.9667 | test_loss: 0.1035 | test_acc: 0.9938\n",
            "Epoch: 4 | train_loss: 0.1253 | train_acc: 0.9688 | test_loss: 0.0881 | test_acc: 0.9875\n",
            "Epoch: 5 | train_loss: 0.1121 | train_acc: 0.9708 | test_loss: 0.0776 | test_acc: 0.9938\n",
            "Epoch: 6 | train_loss: 0.1278 | train_acc: 0.9458 | test_loss: 0.0696 | test_acc: 0.9875\n",
            "Epoch: 7 | train_loss: 0.0899 | train_acc: 0.9792 | test_loss: 0.0746 | test_acc: 0.9875\n",
            "Epoch: 8 | train_loss: 0.0977 | train_acc: 0.9833 | test_loss: 0.0641 | test_acc: 0.9938\n",
            "Epoch: 9 | train_loss: 0.0892 | train_acc: 0.9812 | test_loss: 0.0611 | test_acc: 0.9875\n",
            "Epoch: 10 | train_loss: 0.0666 | train_acc: 0.9854 | test_loss: 0.0554 | test_acc: 0.9938\n",
            "Epoch: 11 | train_loss: 0.0592 | train_acc: 0.9854 | test_loss: 0.0522 | test_acc: 0.9938\n",
            "Epoch: 12 | train_loss: 0.0532 | train_acc: 0.9917 | test_loss: 0.0518 | test_acc: 1.0000\n",
            "Epoch: 13 | train_loss: 0.0458 | train_acc: 0.9917 | test_loss: 0.0520 | test_acc: 0.9938\n",
            "Epoch: 14 | train_loss: 0.0477 | train_acc: 0.9938 | test_loss: 0.0508 | test_acc: 0.9875\n",
            "Epoch: 15 | train_loss: 0.0396 | train_acc: 0.9938 | test_loss: 0.0500 | test_acc: 0.9875\n",
            "Epoch: 16 | train_loss: 0.0364 | train_acc: 0.9958 | test_loss: 0.0488 | test_acc: 0.9938\n",
            "Epoch: 17 | train_loss: 0.0326 | train_acc: 0.9979 | test_loss: 0.0493 | test_acc: 0.9875\n",
            "Epoch: 18 | train_loss: 0.0309 | train_acc: 0.9979 | test_loss: 0.0485 | test_acc: 0.9875\n",
            "Epoch: 19 | train_loss: 0.0291 | train_acc: 0.9979 | test_loss: 0.0480 | test_acc: 0.9875\n",
            "Epoch: 20 | train_loss: 0.0305 | train_acc: 0.9979 | test_loss: 0.0476 | test_acc: 0.9875\n"
          ]
        }
      ]
    },
    {
      "cell_type": "code",
      "source": [
        "plot_loss_curves(vitb16_results)"
      ],
      "metadata": {
        "colab": {
          "base_uri": "https://localhost:8080/",
          "height": 486
        },
        "id": "vOM27BxebdAw",
        "outputId": "007995c2-967c-4518-824c-29a38126177f"
      },
      "execution_count": 29,
      "outputs": [
        {
          "output_type": "display_data",
          "data": {
            "text/plain": [
              "<Figure size 1100x500 with 2 Axes>"
            ],
            "image/png": "[encoded data removed]"
          },
          "metadata": {}
        }
      ]
    },
    {
      "cell_type": "code",
      "source": [
        "save_model(model = vitb16,\n",
        "           target_dir = 'models',\n",
        "           model_name  = '09_pretrained_vitb16_feature_extractor_pizza_steak_sushi_20_percent.pth')"
      ],
      "metadata": {
        "colab": {
          "base_uri": "https://localhost:8080/"
        },
        "id": "VJtCexE-dT74",
        "outputId": "ebbc7b0e-6a83-4140-c420-4e2c78e188d3"
      },
      "execution_count": 30,
      "outputs": [
        {
          "output_type": "stream",
          "name": "stdout",
          "text": [
            "[INFO] Saving model to: models/09_pretrained_vitb16_feature_extractor_pizza_steak_sushi_20_percent.pth\n"
          ]
        }
      ]
    },
    {
      "cell_type": "code",
      "source": [
        "# Count number of parameters in EffNetB2\n",
        "vitb16_total_params = sum(torch.numel(param) for param in vitb16.parameters())\n",
        "vitb16_total_params"
      ],
      "metadata": {
        "colab": {
          "base_uri": "https://localhost:8080/"
        },
        "id": "NuOOQDbrc-hO",
        "outputId": "f257ccee-2076-4ed2-c8ee-bdbe2c620f01"
      },
      "execution_count": 31,
      "outputs": [
        {
          "output_type": "execute_result",
          "data": {
            "text/plain": [
              "85800963"
            ]
          },
          "metadata": {},
          "execution_count": 31
        }
      ]
    },
    {
      "cell_type": "code",
      "source": [
        "from pathlib import Path\n",
        "\n",
        "#Get the model size in bytes\n",
        "pretrain_vitb16_model_size = Path('/content/models/09_pretrained_vitb16_feature_extractor_pizza_steak_sushi_20_percent.pth').stat().st_size\n",
        "print(f'pretrain_vitb16_model_size in MB is {pretrain_effnetb2_model_size / (1024*1024):.2f}')"
      ],
      "metadata": {
        "colab": {
          "base_uri": "https://localhost:8080/"
        },
        "id": "HcIdDEPXdLFV",
        "outputId": "658227df-f267-4992-cd48-9bede5db104a"
      },
      "execution_count": 32,
      "outputs": [
        {
          "output_type": "stream",
          "name": "stdout",
          "text": [
            "pretrain_vitb16_model_size in MB is 29.86\n"
          ]
        }
      ]
    },
    {
      "cell_type": "code",
      "source": [
        "#Create a dictionray witrh EffNetb2 statistics\n",
        "vitb16_results\n",
        "\n",
        "vitb16_stats = {'test_loss': vitb16_results['test_loss'][-1],\n",
        "                   'test_acc': vitb16_results['test_acc'][-1],\n",
        "                   'number_of_parameters':vitb16_total_params,\n",
        "                   'model_size(MB)': pretrain_vitb16_model_size / (1024*1024)}\n",
        "vitb16_stats"
      ],
      "metadata": {
        "colab": {
          "base_uri": "https://localhost:8080/"
        },
        "id": "Uf-Qn71cd0f0",
        "outputId": "dfeb5b64-550d-491a-ce9d-a73b61020104"
      },
      "execution_count": 33,
      "outputs": [
        {
          "output_type": "execute_result",
          "data": {
            "text/plain": [
              "{'test_loss': 0.04764885315671563,\n",
              " 'test_acc': 0.9875,\n",
              " 'number_of_parameters': 85800963,\n",
              " 'model_size(MB)': 327.3708276748657}"
            ]
          },
          "metadata": {},
          "execution_count": 33
        }
      ]
    },
    {
      "cell_type": "markdown",
      "source": [
        "##5. Making Predictions with our trained models and timing"
      ],
      "metadata": {
        "id": "ZTDQQoe2fluu"
      }
    },
    {
      "cell_type": "code",
      "source": [
        "def test_step(model: torch.nn.Module,\n",
        "              dataloader: torch.utils.data.DataLoader,\n",
        "              loss_fn: torch.nn.Module,\n",
        "              device: torch.device) -> Tuple[float,float]:\n",
        "  import time\n",
        "  t1 = time.time()\n",
        "  model.to(device)\n",
        "  #Put model in eval mode\n",
        "  model.eval()\n",
        "  #Setup test loss and test accuracy values\n",
        "  test_loss, test_acc = 0,0\n",
        "  #Inference mode\n",
        "  with torch.inference_mode():\n",
        "    for batch, (X,y) in enumerate(dataloader):\n",
        "      #0.Send data to target device\n",
        "      X,y = X.to(device), y.to(device)\n",
        "      #1.Make prediction\n",
        "      test_pred_logits = model(X)\n",
        "      #2.Accumulate loss function\n",
        "      loss = loss_fn(test_pred_logits, y)\n",
        "      test_loss += loss.item()\n",
        "      #3. Accumulate accuracy\n",
        "      test_pred_labels = test_pred_logits.argmax(dim=1)\n",
        "      test_acc += ((test_pred_labels == y).sum().item()/len(test_pred_labels))\n",
        "  #Adjust metrics to get average loss\n",
        "  test_loss /= len(dataloader)\n",
        "  test_acc /= len(dataloader)\n",
        "  t2 = time.time()\n",
        "\n",
        "\n",
        "  return test_loss, test_acc, t2-t1"
      ],
      "metadata": {
        "id": "2YRUvN9CehBk"
      },
      "execution_count": 34,
      "outputs": []
    },
    {
      "cell_type": "code",
      "source": [
        "#Set up loss function for vitb16\n",
        "loss_fn = nn.CrossEntropyLoss()\n",
        "\n",
        "test_loss_vitb16, test_acc_vitb16, time_vitb16 = test_step(model = vitb16,\n",
        "                                                           dataloader = train_dataloader_vit,\n",
        "                                                           loss_fn = loss_fn,\n",
        "                                                           device = device)\n",
        "test_loss_vitb16, test_acc_vitb16, time_vitb16"
      ],
      "metadata": {
        "colab": {
          "base_uri": "https://localhost:8080/"
        },
        "id": "Lvw7dtUDk_3J",
        "outputId": "278ffb1f-20d9-40f7-ef92-3d9a41e0dff7"
      },
      "execution_count": 35,
      "outputs": [
        {
          "output_type": "execute_result",
          "data": {
            "text/plain": [
              "(0.024622260030203808, 1.0, 5.494614839553833)"
            ]
          },
          "metadata": {},
          "execution_count": 35
        }
      ]
    },
    {
      "cell_type": "code",
      "source": [
        "#Set up loss function for effnetb2\n",
        "loss_fn = nn.CrossEntropyLoss()\n",
        "\n",
        "test_loss_effnetb2, test_acc_effnetb2, time_effnetb2 = test_step(model = effnetb2,\n",
        "                                                                 dataloader = train_dataloader_effnetb2,\n",
        "                                                                 loss_fn = loss_fn,\n",
        "                                                                 device = device)\n",
        "test_loss_effnetb2, test_acc_effnetb2, time_effnetb2"
      ],
      "metadata": {
        "colab": {
          "base_uri": "https://localhost:8080/"
        },
        "id": "Pm5DWFjMmQP7",
        "outputId": "05ba1842-b65a-452a-d27d-4598f0a03fd6"
      },
      "execution_count": 36,
      "outputs": [
        {
          "output_type": "execute_result",
          "data": {
            "text/plain": [
              "(0.15609676043192547, 0.98125, 2.775376796722412)"
            ]
          },
          "metadata": {},
          "execution_count": 36
        }
      ]
    },
    {
      "cell_type": "code",
      "source": [
        "# calculating average time for each image\n",
        "from pathlib import Path\n",
        "test_dir = Path('/content/data/pizza_steak_sushi/test')\n",
        "length = 0\n",
        "for item in test_dir.iterdir():\n",
        "  length += len(list(item.iterdir()))\n",
        "time_vitb16/length, time_effnetb2/length"
      ],
      "metadata": {
        "colab": {
          "base_uri": "https://localhost:8080/"
        },
        "id": "eZzZrXD7m1Ad",
        "outputId": "5b170f40-5397-4fe9-c1e1-38a957d7949f"
      },
      "execution_count": 37,
      "outputs": [
        {
          "output_type": "execute_result",
          "data": {
            "text/plain": [
              "(0.03663076559702556, 0.018502511978149415)"
            ]
          },
          "metadata": {},
          "execution_count": 37
        }
      ]
    },
    {
      "cell_type": "markdown",
      "source": [
        "##4.2 Simulating and timing the entire inference siutation (From reading files to making prediction)"
      ],
      "metadata": {
        "id": "3n8JeaBj9VfT"
      }
    },
    {
      "cell_type": "code",
      "source": [
        "test_dir"
      ],
      "metadata": {
        "colab": {
          "base_uri": "https://localhost:8080/"
        },
        "id": "d05sVHYi_RTF",
        "outputId": "bd486bf4-9397-4397-b1a8-dc4282eac3c4"
      },
      "execution_count": 38,
      "outputs": [
        {
          "output_type": "execute_result",
          "data": {
            "text/plain": [
              "PosixPath('/content/data/pizza_steak_sushi/test')"
            ]
          },
          "metadata": {},
          "execution_count": 38
        }
      ]
    },
    {
      "cell_type": "code",
      "source": [
        "# Getting all the pictures for test\n",
        "from pathlib import Path\n",
        "\n",
        "test_data_paths = list(Path(test_dir).glob('*/*.jpg'))\n",
        "\n",
        "test_data_paths[:5]"
      ],
      "metadata": {
        "colab": {
          "base_uri": "https://localhost:8080/"
        },
        "id": "S-IM5oYvtQ9i",
        "outputId": "488d86e0-1e9b-4a0d-c021-138400c3822a"
      },
      "execution_count": 39,
      "outputs": [
        {
          "output_type": "execute_result",
          "data": {
            "text/plain": [
              "[PosixPath('/content/data/pizza_steak_sushi/test/sushi/1994748.jpg'),\n",
              " PosixPath('/content/data/pizza_steak_sushi/test/sushi/2274102.jpg'),\n",
              " PosixPath('/content/data/pizza_steak_sushi/test/sushi/715227.jpg'),\n",
              " PosixPath('/content/data/pizza_steak_sushi/test/sushi/3365273.jpg'),\n",
              " PosixPath('/content/data/pizza_steak_sushi/test/sushi/2394442.jpg')]"
            ]
          },
          "metadata": {},
          "execution_count": 39
        }
      ]
    },
    {
      "cell_type": "code",
      "source": [
        "test_data_paths[0].parent.stem"
      ],
      "metadata": {
        "colab": {
          "base_uri": "https://localhost:8080/",
          "height": 35
        },
        "id": "XMoWO_Nz_v3Y",
        "outputId": "150aca36-71b2-49d4-dfdd-e16c0f2848dd"
      },
      "execution_count": 40,
      "outputs": [
        {
          "output_type": "execute_result",
          "data": {
            "text/plain": [
              "'sushi'"
            ],
            "application/vnd.google.colaboratory.intrinsic+json": {
              "type": "string"
            }
          },
          "metadata": {},
          "execution_count": 40
        }
      ]
    },
    {
      "cell_type": "code",
      "source": [
        "import numpy as np\n",
        "torch.argmax(torch.tensor([0,4,2])).item()"
      ],
      "metadata": {
        "colab": {
          "base_uri": "https://localhost:8080/"
        },
        "id": "8dUqGVCnB4Z6",
        "outputId": "7675aba4-4486-4b3a-91d3-a9e86d4cae4d"
      },
      "execution_count": 41,
      "outputs": [
        {
          "output_type": "execute_result",
          "data": {
            "text/plain": [
              "1"
            ]
          },
          "metadata": {},
          "execution_count": 41
        }
      ]
    },
    {
      "cell_type": "code",
      "source": [
        "def pred_and_store(paths:list,\n",
        "                   model: torch.nn.Module,\n",
        "                   transform: torchvision.transforms,\n",
        "                   class_names: List[str],\n",
        "                   device:str = 'cuda' if torch.cuda.is_available else 'cpu'):\n",
        "  from timeit import default_timer as timer\n",
        "  from PIL import Image\n",
        "  from tqdm.auto import tqdm\n",
        "  stats = []\n",
        "  for path in tqdm(paths):\n",
        "    stat_dict = {}\n",
        "    ground_truth = path.parent.stem\n",
        "    stat_dict['image_path'] = path\n",
        "    stat_dict['class_name'] = ground_truth\n",
        "\n",
        "    t1 = timer()\n",
        "    image = Image.open(path)\n",
        "    image = transform(image).unsqueeze(dim = 0).to(device)\n",
        "\n",
        "    model.to(device)\n",
        "    model.eval()\n",
        "    with torch.inference_mode():\n",
        "      y_logits = model(image)\n",
        "      y_prob = torch.softmax(y_logits, dim = 1)\n",
        "      y_pred = torch.argmax(y_prob, dim = 1).item()\n",
        "      pred_class = class_names[y_pred]#python dictionay and pandas/ numpy needs the data to be stored on cpu\n",
        "\n",
        "      stat_dict['pred_class'] = pred_class\n",
        "      stat_dict['prediction_probability'] = round(y_prob.max().cpu().item(),4)\n",
        "      stat_dict['prediction_class'] = y_pred\n",
        "\n",
        "    t2 = timer()\n",
        "    stat_dict['time_for_pred'] = round(t2-t1,4)\n",
        "\n",
        "    stat_dict['correct'] = ground_truth == pred_class\n",
        "    stats.append(stat_dict)\n",
        "  return stats"
      ],
      "metadata": {
        "id": "aWC6nf9A8D0u"
      },
      "execution_count": 42,
      "outputs": []
    },
    {
      "cell_type": "code",
      "source": [
        "# Make predictions across test dataset with EffNetB2\n",
        "effnetb2_test_pred_dicts = pred_and_store(paths=test_data_paths,\n",
        "                                          model=effnetb2,\n",
        "                                          transform=effnetb2_transforms,\n",
        "                                          class_names=class_names,\n",
        "                                          device=\"cpu\") # make predictions on CPU"
      ],
      "metadata": {
        "colab": {
          "base_uri": "https://localhost:8080/",
          "height": 49,
          "referenced_widgets": [
            "28c7b46261de4833a9b6fd154493f0be",
            "e5cc5486e7e840faaa72643334469bb5",
            "a60d9ca62bcf4bec95aaf644fd30d12e",
            "5dccc06877fe47c0a8fd4a9b60816f03",
            "de8db30e414e41368f7d406969c7b0a6",
            "f4b10568150d48eba6db98b64777b021",
            "95412e2450e646bba903c7cac1d9648d",
            "67bbf3a6671d454a94e765cd679d08ff",
            "ff0139ac71aa4071bafd341537f1a9b0",
            "b153821049bf4c9c846fe7f4d3122116",
            "2dc8e9da085d4b328fde6f3c2aaa88e6"
          ]
        },
        "id": "U-HjqcmvHqvX",
        "outputId": "dc4de17e-b50d-47aa-fb2b-deaf1addaae9"
      },
      "execution_count": 43,
      "outputs": [
        {
          "output_type": "display_data",
          "data": {
            "text/plain": [
              "  0%|          | 0/150 [00:00<?, ?it/s]"
            ],
            "application/vnd.jupyter.widget-view+json": {
              "version_major": 2,
              "version_minor": 0,
              "model_id": "28c7b46261de4833a9b6fd154493f0be"
            }
          },
          "metadata": {}
        }
      ]
    },
    {
      "cell_type": "code",
      "source": [
        "effnetb2_test_pred_dicts[:2]"
      ],
      "metadata": {
        "colab": {
          "base_uri": "https://localhost:8080/"
        },
        "id": "Tx52w0qVH8IN",
        "outputId": "df83763f-bdee-49f4-c978-e987bf229e9b"
      },
      "execution_count": 44,
      "outputs": [
        {
          "output_type": "execute_result",
          "data": {
            "text/plain": [
              "[{'image_path': PosixPath('/content/data/pizza_steak_sushi/test/sushi/1994748.jpg'),\n",
              "  'class_name': 'sushi',\n",
              "  'pred_class': 'sushi',\n",
              "  'prediction_probability': 0.5829,\n",
              "  'prediction_class': 2,\n",
              "  'time_for_pred': 0.3067,\n",
              "  'correct': True},\n",
              " {'image_path': PosixPath('/content/data/pizza_steak_sushi/test/sushi/2274102.jpg'),\n",
              "  'class_name': 'sushi',\n",
              "  'pred_class': 'sushi',\n",
              "  'prediction_probability': 0.6957,\n",
              "  'prediction_class': 2,\n",
              "  'time_for_pred': 0.1017,\n",
              "  'correct': True}]"
            ]
          },
          "metadata": {},
          "execution_count": 44
        }
      ]
    },
    {
      "cell_type": "code",
      "source": [
        "#Turn the test_pred_dicts into a DataFrame\n",
        "import pandas as pd\n",
        "effnetb2_test_pred_df = pd.DataFrame(effnetb2_test_pred_dicts)\n",
        "effnetb2_test_pred_df"
      ],
      "metadata": {
        "colab": {
          "base_uri": "https://localhost:8080/",
          "height": 423
        },
        "id": "m0VitVuYIrJh",
        "outputId": "3bdd7c4a-8e6d-475f-eaf9-ea1170f6cff6"
      },
      "execution_count": 45,
      "outputs": [
        {
          "output_type": "execute_result",
          "data": {
            "text/plain": [
              "                                            image_path class_name pred_class  \\\n",
              "0    /content/data/pizza_steak_sushi/test/sushi/199...      sushi      sushi   \n",
              "1    /content/data/pizza_steak_sushi/test/sushi/227...      sushi      sushi   \n",
              "2    /content/data/pizza_steak_sushi/test/sushi/715...      sushi      sushi   \n",
              "3    /content/data/pizza_steak_sushi/test/sushi/336...      sushi      sushi   \n",
              "4    /content/data/pizza_steak_sushi/test/sushi/239...      sushi      sushi   \n",
              "..                                                 ...        ...        ...   \n",
              "145  /content/data/pizza_steak_sushi/test/pizza/796...      pizza      pizza   \n",
              "146  /content/data/pizza_steak_sushi/test/pizza/225...      pizza      pizza   \n",
              "147  /content/data/pizza_steak_sushi/test/pizza/337...      pizza      pizza   \n",
              "148  /content/data/pizza_steak_sushi/test/pizza/378...      pizza      pizza   \n",
              "149  /content/data/pizza_steak_sushi/test/pizza/257...      pizza      pizza   \n",
              "\n",
              "     prediction_probability  prediction_class  time_for_pred  correct  \n",
              "0                    0.5829                 2         0.3067     True  \n",
              "1                    0.6957                 2         0.1017     True  \n",
              "2                    0.7021                 2         0.0959     True  \n",
              "3                    0.8694                 2         0.0904     True  \n",
              "4                    0.7929                 2         0.1015     True  \n",
              "..                      ...               ...            ...      ...  \n",
              "145                  0.9106                 0         0.0833     True  \n",
              "146                  0.9392                 0         0.0763     True  \n",
              "147                  0.9399                 0         0.0780     True  \n",
              "148                  0.8939                 0         0.0792     True  \n",
              "149                  0.9839                 0         0.0839     True  \n",
              "\n",
              "[150 rows x 7 columns]"
            ],
            "text/html": [
              "\n",
              "  <div id=\"df-fe84a577-1df6-40fc-8025-506e2c81a84d\">\n",
              "    <div class=\"colab-df-container\">\n",
              "      <div>\n",
              "<style scoped>\n",
              "    .dataframe tbody tr th:only-of-type {\n",
              "        vertical-align: middle;\n",
              "    }\n",
              "\n",
              "    .dataframe tbody tr th {\n",
              "        vertical-align: top;\n",
              "    }\n",
              "\n",
              "    .dataframe thead th {\n",
              "        text-align: right;\n",
              "    }\n",
              "</style>\n",
              "<table border=\"1\" class=\"dataframe\">\n",
              "  <thead>\n",
              "    <tr style=\"text-align: right;\">\n",
              "      <th></th>\n",
              "      <th>image_path</th>\n",
              "      <th>class_name</th>\n",
              "      <th>pred_class</th>\n",
              "      <th>prediction_probability</th>\n",
              "      <th>prediction_class</th>\n",
              "      <th>time_for_pred</th>\n",
              "      <th>correct</th>\n",
              "    </tr>\n",
              "  </thead>\n",
              "  <tbody>\n",
              "    <tr>\n",
              "      <th>0</th>\n",
              "      <td>/content/data/pizza_steak_sushi/test/sushi/199...</td>\n",
              "      <td>sushi</td>\n",
              "      <td>sushi</td>\n",
              "      <td>0.5829</td>\n",
              "      <td>2</td>\n",
              "      <td>0.3067</td>\n",
              "      <td>True</td>\n",
              "    </tr>\n",
              "    <tr>\n",
              "      <th>1</th>\n",
              "      <td>/content/data/pizza_steak_sushi/test/sushi/227...</td>\n",
              "      <td>sushi</td>\n",
              "      <td>sushi</td>\n",
              "      <td>0.6957</td>\n",
              "      <td>2</td>\n",
              "      <td>0.1017</td>\n",
              "      <td>True</td>\n",
              "    </tr>\n",
              "    <tr>\n",
              "      <th>2</th>\n",
              "      <td>/content/data/pizza_steak_sushi/test/sushi/715...</td>\n",
              "      <td>sushi</td>\n",
              "      <td>sushi</td>\n",
              "      <td>0.7021</td>\n",
              "      <td>2</td>\n",
              "      <td>0.0959</td>\n",
              "      <td>True</td>\n",
              "    </tr>\n",
              "    <tr>\n",
              "      <th>3</th>\n",
              "      <td>/content/data/pizza_steak_sushi/test/sushi/336...</td>\n",
              "      <td>sushi</td>\n",
              "      <td>sushi</td>\n",
              "      <td>0.8694</td>\n",
              "      <td>2</td>\n",
              "      <td>0.0904</td>\n",
              "      <td>True</td>\n",
              "    </tr>\n",
              "    <tr>\n",
              "      <th>4</th>\n",
              "      <td>/content/data/pizza_steak_sushi/test/sushi/239...</td>\n",
              "      <td>sushi</td>\n",
              "      <td>sushi</td>\n",
              "      <td>0.7929</td>\n",
              "      <td>2</td>\n",
              "      <td>0.1015</td>\n",
              "      <td>True</td>\n",
              "    </tr>\n",
              "    <tr>\n",
              "      <th>...</th>\n",
              "      <td>...</td>\n",
              "      <td>...</td>\n",
              "      <td>...</td>\n",
              "      <td>...</td>\n",
              "      <td>...</td>\n",
              "      <td>...</td>\n",
              "      <td>...</td>\n",
              "    </tr>\n",
              "    <tr>\n",
              "      <th>145</th>\n",
              "      <td>/content/data/pizza_steak_sushi/test/pizza/796...</td>\n",
              "      <td>pizza</td>\n",
              "      <td>pizza</td>\n",
              "      <td>0.9106</td>\n",
              "      <td>0</td>\n",
              "      <td>0.0833</td>\n",
              "      <td>True</td>\n",
              "    </tr>\n",
              "    <tr>\n",
              "      <th>146</th>\n",
              "      <td>/content/data/pizza_steak_sushi/test/pizza/225...</td>\n",
              "      <td>pizza</td>\n",
              "      <td>pizza</td>\n",
              "      <td>0.9392</td>\n",
              "      <td>0</td>\n",
              "      <td>0.0763</td>\n",
              "      <td>True</td>\n",
              "    </tr>\n",
              "    <tr>\n",
              "      <th>147</th>\n",
              "      <td>/content/data/pizza_steak_sushi/test/pizza/337...</td>\n",
              "      <td>pizza</td>\n",
              "      <td>pizza</td>\n",
              "      <td>0.9399</td>\n",
              "      <td>0</td>\n",
              "      <td>0.0780</td>\n",
              "      <td>True</td>\n",
              "    </tr>\n",
              "    <tr>\n",
              "      <th>148</th>\n",
              "      <td>/content/data/pizza_steak_sushi/test/pizza/378...</td>\n",
              "      <td>pizza</td>\n",
              "      <td>pizza</td>\n",
              "      <td>0.8939</td>\n",
              "      <td>0</td>\n",
              "      <td>0.0792</td>\n",
              "      <td>True</td>\n",
              "    </tr>\n",
              "    <tr>\n",
              "      <th>149</th>\n",
              "      <td>/content/data/pizza_steak_sushi/test/pizza/257...</td>\n",
              "      <td>pizza</td>\n",
              "      <td>pizza</td>\n",
              "      <td>0.9839</td>\n",
              "      <td>0</td>\n",
              "      <td>0.0839</td>\n",
              "      <td>True</td>\n",
              "    </tr>\n",
              "  </tbody>\n",
              "</table>\n",
              "<p>150 rows × 7 columns</p>\n",
              "</div>\n",
              "      <button class=\"colab-df-convert\" onclick=\"convertToInteractive('df-fe84a577-1df6-40fc-8025-506e2c81a84d')\"\n",
              "              title=\"Convert this dataframe to an interactive table.\"\n",
              "              style=\"display:none;\">\n",
              "        \n",
              "  <svg xmlns=\"http://www.w3.org/2000/svg\" height=\"24px\"viewBox=\"0 0 24 24\"\n",
              "       width=\"24px\">\n",
              "    <path d=\"M0 0h24v24H0V0z\" fill=\"none\"/>\n",
              "    <path d=\"M18.56 5.44l.94 2.06.94-2.06 2.06-.94-2.06-.94-.94-2.06-.94 2.06-2.06.94zm-11 1L8.5 8.5l.94-2.06 2.06-.94-2.06-.94L8.5 2.5l-.94 2.06-2.06.94zm10 10l.94 2.06.94-2.06 2.06-.94-2.06-.94-.94-2.06-.94 2.06-2.06.94z\"/><path d=\"M17.41 7.96l-1.37-1.37c-.4-.4-.92-.59-1.43-.59-.52 0-1.04.2-1.43.59L10.3 9.45l-7.72 7.72c-.78.78-.78 2.05 0 2.83L4 21.41c.39.39.9.59 1.41.59.51 0 1.02-.2 1.41-.59l7.78-7.78 2.81-2.81c.8-.78.8-2.07 0-2.86zM5.41 20L4 18.59l7.72-7.72 1.47 1.35L5.41 20z\"/>\n",
              "  </svg>\n",
              "      </button>\n",
              "      \n",
              "  <style>\n",
              "    .colab-df-container {\n",
              "      display:flex;\n",
              "      flex-wrap:wrap;\n",
              "      gap: 12px;\n",
              "    }\n",
              "\n",
              "    .colab-df-convert {\n",
              "      background-color: #E8F0FE;\n",
              "      border: none;\n",
              "      border-radius: 50%;\n",
              "      cursor: pointer;\n",
              "      display: none;\n",
              "      fill: #1967D2;\n",
              "      height: 32px;\n",
              "      padding: 0 0 0 0;\n",
              "      width: 32px;\n",
              "    }\n",
              "\n",
              "    .colab-df-convert:hover {\n",
              "      background-color: #E2EBFA;\n",
              "      box-shadow: 0px 1px 2px rgba(60, 64, 67, 0.3), 0px 1px 3px 1px rgba(60, 64, 67, 0.15);\n",
              "      fill: #174EA6;\n",
              "    }\n",
              "\n",
              "    [theme=dark] .colab-df-convert {\n",
              "      background-color: #3B4455;\n",
              "      fill: #D2E3FC;\n",
              "    }\n",
              "\n",
              "    [theme=dark] .colab-df-convert:hover {\n",
              "      background-color: #434B5C;\n",
              "      box-shadow: 0px 1px 3px 1px rgba(0, 0, 0, 0.15);\n",
              "      filter: drop-shadow(0px 1px 2px rgba(0, 0, 0, 0.3));\n",
              "      fill: #FFFFFF;\n",
              "    }\n",
              "  </style>\n",
              "\n",
              "      <script>\n",
              "        const buttonEl =\n",
              "          document.querySelector('#df-fe84a577-1df6-40fc-8025-506e2c81a84d button.colab-df-convert');\n",
              "        buttonEl.style.display =\n",
              "          google.colab.kernel.accessAllowed ? 'block' : 'none';\n",
              "\n",
              "        async function convertToInteractive(key) {\n",
              "          const element = document.querySelector('#df-fe84a577-1df6-40fc-8025-506e2c81a84d');\n",
              "          const dataTable =\n",
              "            await google.colab.kernel.invokeFunction('convertToInteractive',\n",
              "                                                     [key], {});\n",
              "          if (!dataTable) return;\n",
              "\n",
              "          const docLinkHtml = 'Like what you see? Visit the ' +\n",
              "            '<a target=\"_blank\" href=https://colab.research.google.com/notebooks/data_table.ipynb>data table notebook</a>'\n",
              "            + ' to learn more about interactive tables.';\n",
              "          element.innerHTML = '';\n",
              "          dataTable['output_type'] = 'display_data';\n",
              "          await google.colab.output.renderOutput(dataTable, element);\n",
              "          const docLink = document.createElement('div');\n",
              "          docLink.innerHTML = docLinkHtml;\n",
              "          element.appendChild(docLink);\n",
              "        }\n",
              "      </script>\n",
              "    </div>\n",
              "  </div>\n",
              "  "
            ]
          },
          "metadata": {},
          "execution_count": 45
        }
      ]
    },
    {
      "cell_type": "code",
      "source": [
        "effnetb2_test_pred_df.correct.value_counts()"
      ],
      "metadata": {
        "colab": {
          "base_uri": "https://localhost:8080/"
        },
        "id": "foAy8tCeJVV8",
        "outputId": "27a22163-45d2-41f2-fae9-4806386cabfa"
      },
      "execution_count": 46,
      "outputs": [
        {
          "output_type": "execute_result",
          "data": {
            "text/plain": [
              "True     143\n",
              "False      7\n",
              "Name: correct, dtype: int64"
            ]
          },
          "metadata": {},
          "execution_count": 46
        }
      ]
    },
    {
      "cell_type": "code",
      "source": [
        "effnetb2_test_pred_df.time_for_pred.mean()"
      ],
      "metadata": {
        "colab": {
          "base_uri": "https://localhost:8080/"
        },
        "id": "Sxf_hcEiJa5H",
        "outputId": "25b2d6cb-847a-4e6d-c8ed-421af86fea11"
      },
      "execution_count": 47,
      "outputs": [
        {
          "output_type": "execute_result",
          "data": {
            "text/plain": [
              "0.08727133333333334"
            ]
          },
          "metadata": {},
          "execution_count": 47
        }
      ]
    },
    {
      "cell_type": "code",
      "source": [
        "# Add EffNetB2 average prediction time to stats dictionary\n",
        "effnetb2_stats [\"time_per_pred_cpu\"] = effnetb2_test_pred_df.time_for_pred.mean()\n",
        "effnetb2_stats"
      ],
      "metadata": {
        "colab": {
          "base_uri": "https://localhost:8080/"
        },
        "id": "GDqXRTIPJhu9",
        "outputId": "b39bd4b0-910c-4011-a45e-0dfc3aced88f"
      },
      "execution_count": 48,
      "outputs": [
        {
          "output_type": "execute_result",
          "data": {
            "text/plain": [
              "{'test_loss': 0.24402595162391663,\n",
              " 'test_acc': 0.9477272727272726,\n",
              " 'number_of_parameters': 7705221,\n",
              " 'model_size(MB)': 29.863232612609863,\n",
              " 'time_per_pred_cpu': 0.08727133333333334}"
            ]
          },
          "metadata": {},
          "execution_count": 48
        }
      ]
    },
    {
      "cell_type": "code",
      "source": [
        "# Make predictions across test dataset with EffNetB2\n",
        "vitb16_test_pred_dicts = pred_and_store(paths=test_data_paths,\n",
        "                                          model=vitb16,\n",
        "                                          transform=vit_transforms,\n",
        "                                          class_names=class_names,\n",
        "                                          device=\"cpu\") # make predictions on CPU"
      ],
      "metadata": {
        "colab": {
          "base_uri": "https://localhost:8080/",
          "height": 49,
          "referenced_widgets": [
            "8fe3b5e691c9429fbc04b9715f6eac89",
            "b5ee514e8e1c4849aea9ead198375ae9",
            "3856835b42c94808bbb2f2f1e0230b60",
            "93415d18d0f34ae69b958302256a5cf3",
            "579d926f71cf4ceb8251f20b611a5ed2",
            "861ff97693f143e7a4e2379c22d70337",
            "f8edef63cd554887b5f55ed405185c06",
            "1b9071c2a6824594ba9f86d856c35ea6",
            "604e3345d961409f82c0760ff6614ccc",
            "707794c162bb4b1cb85ae10010aa90d3",
            "bb9f4cf14350410d90e4aa6bacf14099"
          ]
        },
        "id": "XmdDiXW5Jm7Y",
        "outputId": "755cc54a-5546-4828-ac94-4493e883b9b1"
      },
      "execution_count": 49,
      "outputs": [
        {
          "output_type": "display_data",
          "data": {
            "text/plain": [
              "  0%|          | 0/150 [00:00<?, ?it/s]"
            ],
            "application/vnd.jupyter.widget-view+json": {
              "version_major": 2,
              "version_minor": 0,
              "model_id": "8fe3b5e691c9429fbc04b9715f6eac89"
            }
          },
          "metadata": {}
        }
      ]
    },
    {
      "cell_type": "code",
      "source": [
        "#Turn the test_pred_dicts into a DataFrame\n",
        "import pandas as pd\n",
        "vitb16_test_pred_df = pd.DataFrame(vitb16_test_pred_dicts)\n",
        "vitb16_test_pred_df"
      ],
      "metadata": {
        "colab": {
          "base_uri": "https://localhost:8080/",
          "height": 423
        },
        "id": "x-Bh6zhVKyIJ",
        "outputId": "5b2dbbdc-1f5d-497f-b85e-02d60af19134"
      },
      "execution_count": 50,
      "outputs": [
        {
          "output_type": "execute_result",
          "data": {
            "text/plain": [
              "                                            image_path class_name pred_class  \\\n",
              "0    /content/data/pizza_steak_sushi/test/sushi/199...      sushi      sushi   \n",
              "1    /content/data/pizza_steak_sushi/test/sushi/227...      sushi      sushi   \n",
              "2    /content/data/pizza_steak_sushi/test/sushi/715...      sushi      sushi   \n",
              "3    /content/data/pizza_steak_sushi/test/sushi/336...      sushi      sushi   \n",
              "4    /content/data/pizza_steak_sushi/test/sushi/239...      sushi      sushi   \n",
              "..                                                 ...        ...        ...   \n",
              "145  /content/data/pizza_steak_sushi/test/pizza/796...      pizza      pizza   \n",
              "146  /content/data/pizza_steak_sushi/test/pizza/225...      pizza      pizza   \n",
              "147  /content/data/pizza_steak_sushi/test/pizza/337...      pizza      pizza   \n",
              "148  /content/data/pizza_steak_sushi/test/pizza/378...      pizza      pizza   \n",
              "149  /content/data/pizza_steak_sushi/test/pizza/257...      pizza      pizza   \n",
              "\n",
              "     prediction_probability  prediction_class  time_for_pred  correct  \n",
              "0                    0.9731                 2         0.4726     True  \n",
              "1                    0.9922                 2         0.2389     True  \n",
              "2                    0.9980                 2         0.2396     True  \n",
              "3                    0.9994                 2         0.2506     True  \n",
              "4                    0.9946                 2         0.2364     True  \n",
              "..                      ...               ...            ...      ...  \n",
              "145                  0.9909                 0         0.3213     True  \n",
              "146                  0.9993                 0         0.2767     True  \n",
              "147                  0.9994                 0         0.2387     True  \n",
              "148                  0.9966                 0         0.2366     True  \n",
              "149                  0.9992                 0         0.2435     True  \n",
              "\n",
              "[150 rows x 7 columns]"
            ],
            "text/html": [
              "\n",
              "  <div id=\"df-1ac978eb-8fab-4cc0-a3c8-3a01cdebbd6b\">\n",
              "    <div class=\"colab-df-container\">\n",
              "      <div>\n",
              "<style scoped>\n",
              "    .dataframe tbody tr th:only-of-type {\n",
              "        vertical-align: middle;\n",
              "    }\n",
              "\n",
              "    .dataframe tbody tr th {\n",
              "        vertical-align: top;\n",
              "    }\n",
              "\n",
              "    .dataframe thead th {\n",
              "        text-align: right;\n",
              "    }\n",
              "</style>\n",
              "<table border=\"1\" class=\"dataframe\">\n",
              "  <thead>\n",
              "    <tr style=\"text-align: right;\">\n",
              "      <th></th>\n",
              "      <th>image_path</th>\n",
              "      <th>class_name</th>\n",
              "      <th>pred_class</th>\n",
              "      <th>prediction_probability</th>\n",
              "      <th>prediction_class</th>\n",
              "      <th>time_for_pred</th>\n",
              "      <th>correct</th>\n",
              "    </tr>\n",
              "  </thead>\n",
              "  <tbody>\n",
              "    <tr>\n",
              "      <th>0</th>\n",
              "      <td>/content/data/pizza_steak_sushi/test/sushi/199...</td>\n",
              "      <td>sushi</td>\n",
              "      <td>sushi</td>\n",
              "      <td>0.9731</td>\n",
              "      <td>2</td>\n",
              "      <td>0.4726</td>\n",
              "      <td>True</td>\n",
              "    </tr>\n",
              "    <tr>\n",
              "      <th>1</th>\n",
              "      <td>/content/data/pizza_steak_sushi/test/sushi/227...</td>\n",
              "      <td>sushi</td>\n",
              "      <td>sushi</td>\n",
              "      <td>0.9922</td>\n",
              "      <td>2</td>\n",
              "      <td>0.2389</td>\n",
              "      <td>True</td>\n",
              "    </tr>\n",
              "    <tr>\n",
              "      <th>2</th>\n",
              "      <td>/content/data/pizza_steak_sushi/test/sushi/715...</td>\n",
              "      <td>sushi</td>\n",
              "      <td>sushi</td>\n",
              "      <td>0.9980</td>\n",
              "      <td>2</td>\n",
              "      <td>0.2396</td>\n",
              "      <td>True</td>\n",
              "    </tr>\n",
              "    <tr>\n",
              "      <th>3</th>\n",
              "      <td>/content/data/pizza_steak_sushi/test/sushi/336...</td>\n",
              "      <td>sushi</td>\n",
              "      <td>sushi</td>\n",
              "      <td>0.9994</td>\n",
              "      <td>2</td>\n",
              "      <td>0.2506</td>\n",
              "      <td>True</td>\n",
              "    </tr>\n",
              "    <tr>\n",
              "      <th>4</th>\n",
              "      <td>/content/data/pizza_steak_sushi/test/sushi/239...</td>\n",
              "      <td>sushi</td>\n",
              "      <td>sushi</td>\n",
              "      <td>0.9946</td>\n",
              "      <td>2</td>\n",
              "      <td>0.2364</td>\n",
              "      <td>True</td>\n",
              "    </tr>\n",
              "    <tr>\n",
              "      <th>...</th>\n",
              "      <td>...</td>\n",
              "      <td>...</td>\n",
              "      <td>...</td>\n",
              "      <td>...</td>\n",
              "      <td>...</td>\n",
              "      <td>...</td>\n",
              "      <td>...</td>\n",
              "    </tr>\n",
              "    <tr>\n",
              "      <th>145</th>\n",
              "      <td>/content/data/pizza_steak_sushi/test/pizza/796...</td>\n",
              "      <td>pizza</td>\n",
              "      <td>pizza</td>\n",
              "      <td>0.9909</td>\n",
              "      <td>0</td>\n",
              "      <td>0.3213</td>\n",
              "      <td>True</td>\n",
              "    </tr>\n",
              "    <tr>\n",
              "      <th>146</th>\n",
              "      <td>/content/data/pizza_steak_sushi/test/pizza/225...</td>\n",
              "      <td>pizza</td>\n",
              "      <td>pizza</td>\n",
              "      <td>0.9993</td>\n",
              "      <td>0</td>\n",
              "      <td>0.2767</td>\n",
              "      <td>True</td>\n",
              "    </tr>\n",
              "    <tr>\n",
              "      <th>147</th>\n",
              "      <td>/content/data/pizza_steak_sushi/test/pizza/337...</td>\n",
              "      <td>pizza</td>\n",
              "      <td>pizza</td>\n",
              "      <td>0.9994</td>\n",
              "      <td>0</td>\n",
              "      <td>0.2387</td>\n",
              "      <td>True</td>\n",
              "    </tr>\n",
              "    <tr>\n",
              "      <th>148</th>\n",
              "      <td>/content/data/pizza_steak_sushi/test/pizza/378...</td>\n",
              "      <td>pizza</td>\n",
              "      <td>pizza</td>\n",
              "      <td>0.9966</td>\n",
              "      <td>0</td>\n",
              "      <td>0.2366</td>\n",
              "      <td>True</td>\n",
              "    </tr>\n",
              "    <tr>\n",
              "      <th>149</th>\n",
              "      <td>/content/data/pizza_steak_sushi/test/pizza/257...</td>\n",
              "      <td>pizza</td>\n",
              "      <td>pizza</td>\n",
              "      <td>0.9992</td>\n",
              "      <td>0</td>\n",
              "      <td>0.2435</td>\n",
              "      <td>True</td>\n",
              "    </tr>\n",
              "  </tbody>\n",
              "</table>\n",
              "<p>150 rows × 7 columns</p>\n",
              "</div>\n",
              "      <button class=\"colab-df-convert\" onclick=\"convertToInteractive('df-1ac978eb-8fab-4cc0-a3c8-3a01cdebbd6b')\"\n",
              "              title=\"Convert this dataframe to an interactive table.\"\n",
              "              style=\"display:none;\">\n",
              "        \n",
              "  <svg xmlns=\"http://www.w3.org/2000/svg\" height=\"24px\"viewBox=\"0 0 24 24\"\n",
              "       width=\"24px\">\n",
              "    <path d=\"M0 0h24v24H0V0z\" fill=\"none\"/>\n",
              "    <path d=\"M18.56 5.44l.94 2.06.94-2.06 2.06-.94-2.06-.94-.94-2.06-.94 2.06-2.06.94zm-11 1L8.5 8.5l.94-2.06 2.06-.94-2.06-.94L8.5 2.5l-.94 2.06-2.06.94zm10 10l.94 2.06.94-2.06 2.06-.94-2.06-.94-.94-2.06-.94 2.06-2.06.94z\"/><path d=\"M17.41 7.96l-1.37-1.37c-.4-.4-.92-.59-1.43-.59-.52 0-1.04.2-1.43.59L10.3 9.45l-7.72 7.72c-.78.78-.78 2.05 0 2.83L4 21.41c.39.39.9.59 1.41.59.51 0 1.02-.2 1.41-.59l7.78-7.78 2.81-2.81c.8-.78.8-2.07 0-2.86zM5.41 20L4 18.59l7.72-7.72 1.47 1.35L5.41 20z\"/>\n",
              "  </svg>\n",
              "      </button>\n",
              "      \n",
              "  <style>\n",
              "    .colab-df-container {\n",
              "      display:flex;\n",
              "      flex-wrap:wrap;\n",
              "      gap: 12px;\n",
              "    }\n",
              "\n",
              "    .colab-df-convert {\n",
              "      background-color: #E8F0FE;\n",
              "      border: none;\n",
              "      border-radius: 50%;\n",
              "      cursor: pointer;\n",
              "      display: none;\n",
              "      fill: #1967D2;\n",
              "      height: 32px;\n",
              "      padding: 0 0 0 0;\n",
              "      width: 32px;\n",
              "    }\n",
              "\n",
              "    .colab-df-convert:hover {\n",
              "      background-color: #E2EBFA;\n",
              "      box-shadow: 0px 1px 2px rgba(60, 64, 67, 0.3), 0px 1px 3px 1px rgba(60, 64, 67, 0.15);\n",
              "      fill: #174EA6;\n",
              "    }\n",
              "\n",
              "    [theme=dark] .colab-df-convert {\n",
              "      background-color: #3B4455;\n",
              "      fill: #D2E3FC;\n",
              "    }\n",
              "\n",
              "    [theme=dark] .colab-df-convert:hover {\n",
              "      background-color: #434B5C;\n",
              "      box-shadow: 0px 1px 3px 1px rgba(0, 0, 0, 0.15);\n",
              "      filter: drop-shadow(0px 1px 2px rgba(0, 0, 0, 0.3));\n",
              "      fill: #FFFFFF;\n",
              "    }\n",
              "  </style>\n",
              "\n",
              "      <script>\n",
              "        const buttonEl =\n",
              "          document.querySelector('#df-1ac978eb-8fab-4cc0-a3c8-3a01cdebbd6b button.colab-df-convert');\n",
              "        buttonEl.style.display =\n",
              "          google.colab.kernel.accessAllowed ? 'block' : 'none';\n",
              "\n",
              "        async function convertToInteractive(key) {\n",
              "          const element = document.querySelector('#df-1ac978eb-8fab-4cc0-a3c8-3a01cdebbd6b');\n",
              "          const dataTable =\n",
              "            await google.colab.kernel.invokeFunction('convertToInteractive',\n",
              "                                                     [key], {});\n",
              "          if (!dataTable) return;\n",
              "\n",
              "          const docLinkHtml = 'Like what you see? Visit the ' +\n",
              "            '<a target=\"_blank\" href=https://colab.research.google.com/notebooks/data_table.ipynb>data table notebook</a>'\n",
              "            + ' to learn more about interactive tables.';\n",
              "          element.innerHTML = '';\n",
              "          dataTable['output_type'] = 'display_data';\n",
              "          await google.colab.output.renderOutput(dataTable, element);\n",
              "          const docLink = document.createElement('div');\n",
              "          docLink.innerHTML = docLinkHtml;\n",
              "          element.appendChild(docLink);\n",
              "        }\n",
              "      </script>\n",
              "    </div>\n",
              "  </div>\n",
              "  "
            ]
          },
          "metadata": {},
          "execution_count": 50
        }
      ]
    },
    {
      "cell_type": "code",
      "source": [
        "vitb16_test_pred_df.correct.value_counts()"
      ],
      "metadata": {
        "colab": {
          "base_uri": "https://localhost:8080/"
        },
        "id": "dNcJEqyCLTq3",
        "outputId": "0cdb4498-50e0-4828-e7e6-2fb28875d1a1"
      },
      "execution_count": 51,
      "outputs": [
        {
          "output_type": "execute_result",
          "data": {
            "text/plain": [
              "True     148\n",
              "False      2\n",
              "Name: correct, dtype: int64"
            ]
          },
          "metadata": {},
          "execution_count": 51
        }
      ]
    },
    {
      "cell_type": "code",
      "source": [
        "# Add vitb16 average prediction time to stats dictionary\n",
        "vitb16_stats [\"time_per_pred_cpu\"] = vitb16_test_pred_df.time_for_pred.mean()\n",
        "vitb16_stats"
      ],
      "metadata": {
        "colab": {
          "base_uri": "https://localhost:8080/"
        },
        "id": "viQTGig8LXVD",
        "outputId": "e6e37abc-e359-42c5-853a-720133e8f580"
      },
      "execution_count": 52,
      "outputs": [
        {
          "output_type": "execute_result",
          "data": {
            "text/plain": [
              "{'test_loss': 0.04764885315671563,\n",
              " 'test_acc': 0.9875,\n",
              " 'number_of_parameters': 85800963,\n",
              " 'model_size(MB)': 327.3708276748657,\n",
              " 'time_per_pred_cpu': 0.25367466666666666}"
            ]
          },
          "metadata": {},
          "execution_count": 52
        }
      ]
    },
    {
      "cell_type": "markdown",
      "source": [
        "#5. Comparing model results, prediction times and size"
      ],
      "metadata": {
        "id": "4iIMb-wNLt3u"
      }
    },
    {
      "cell_type": "code",
      "source": [
        "# Creat comparison dataframe\n",
        "import pandas as pd\n",
        "df = pd.DataFrame([effnetb2_stats, vitb16_stats])\n",
        "df['model'] = ['effnetb2', 'vit']\n",
        "\n",
        "df['test_acc'] = round(df['test_acc']*100, 2)\n",
        "df"
      ],
      "metadata": {
        "colab": {
          "base_uri": "https://localhost:8080/",
          "height": 112
        },
        "id": "BC9qC1_1Lo-b",
        "outputId": "08ee474c-9fab-4f9c-bbfa-68215ebb0b47"
      },
      "execution_count": 53,
      "outputs": [
        {
          "output_type": "execute_result",
          "data": {
            "text/plain": [
              "   test_loss  test_acc  number_of_parameters  model_size(MB)  \\\n",
              "0   0.244026     94.77               7705221       29.863233   \n",
              "1   0.047649     98.75              85800963      327.370828   \n",
              "\n",
              "   time_per_pred_cpu     model  \n",
              "0           0.087271  effnetb2  \n",
              "1           0.253675       vit  "
            ],
            "text/html": [
              "\n",
              "  <div id=\"df-0aaba52f-ed6b-40b1-a345-ee788eef5476\">\n",
              "    <div class=\"colab-df-container\">\n",
              "      <div>\n",
              "<style scoped>\n",
              "    .dataframe tbody tr th:only-of-type {\n",
              "        vertical-align: middle;\n",
              "    }\n",
              "\n",
              "    .dataframe tbody tr th {\n",
              "        vertical-align: top;\n",
              "    }\n",
              "\n",
              "    .dataframe thead th {\n",
              "        text-align: right;\n",
              "    }\n",
              "</style>\n",
              "<table border=\"1\" class=\"dataframe\">\n",
              "  <thead>\n",
              "    <tr style=\"text-align: right;\">\n",
              "      <th></th>\n",
              "      <th>test_loss</th>\n",
              "      <th>test_acc</th>\n",
              "      <th>number_of_parameters</th>\n",
              "      <th>model_size(MB)</th>\n",
              "      <th>time_per_pred_cpu</th>\n",
              "      <th>model</th>\n",
              "    </tr>\n",
              "  </thead>\n",
              "  <tbody>\n",
              "    <tr>\n",
              "      <th>0</th>\n",
              "      <td>0.244026</td>\n",
              "      <td>94.77</td>\n",
              "      <td>7705221</td>\n",
              "      <td>29.863233</td>\n",
              "      <td>0.087271</td>\n",
              "      <td>effnetb2</td>\n",
              "    </tr>\n",
              "    <tr>\n",
              "      <th>1</th>\n",
              "      <td>0.047649</td>\n",
              "      <td>98.75</td>\n",
              "      <td>85800963</td>\n",
              "      <td>327.370828</td>\n",
              "      <td>0.253675</td>\n",
              "      <td>vit</td>\n",
              "    </tr>\n",
              "  </tbody>\n",
              "</table>\n",
              "</div>\n",
              "      <button class=\"colab-df-convert\" onclick=\"convertToInteractive('df-0aaba52f-ed6b-40b1-a345-ee788eef5476')\"\n",
              "              title=\"Convert this dataframe to an interactive table.\"\n",
              "              style=\"display:none;\">\n",
              "        \n",
              "  <svg xmlns=\"http://www.w3.org/2000/svg\" height=\"24px\"viewBox=\"0 0 24 24\"\n",
              "       width=\"24px\">\n",
              "    <path d=\"M0 0h24v24H0V0z\" fill=\"none\"/>\n",
              "    <path d=\"M18.56 5.44l.94 2.06.94-2.06 2.06-.94-2.06-.94-.94-2.06-.94 2.06-2.06.94zm-11 1L8.5 8.5l.94-2.06 2.06-.94-2.06-.94L8.5 2.5l-.94 2.06-2.06.94zm10 10l.94 2.06.94-2.06 2.06-.94-2.06-.94-.94-2.06-.94 2.06-2.06.94z\"/><path d=\"M17.41 7.96l-1.37-1.37c-.4-.4-.92-.59-1.43-.59-.52 0-1.04.2-1.43.59L10.3 9.45l-7.72 7.72c-.78.78-.78 2.05 0 2.83L4 21.41c.39.39.9.59 1.41.59.51 0 1.02-.2 1.41-.59l7.78-7.78 2.81-2.81c.8-.78.8-2.07 0-2.86zM5.41 20L4 18.59l7.72-7.72 1.47 1.35L5.41 20z\"/>\n",
              "  </svg>\n",
              "      </button>\n",
              "      \n",
              "  <style>\n",
              "    .colab-df-container {\n",
              "      display:flex;\n",
              "      flex-wrap:wrap;\n",
              "      gap: 12px;\n",
              "    }\n",
              "\n",
              "    .colab-df-convert {\n",
              "      background-color: #E8F0FE;\n",
              "      border: none;\n",
              "      border-radius: 50%;\n",
              "      cursor: pointer;\n",
              "      display: none;\n",
              "      fill: #1967D2;\n",
              "      height: 32px;\n",
              "      padding: 0 0 0 0;\n",
              "      width: 32px;\n",
              "    }\n",
              "\n",
              "    .colab-df-convert:hover {\n",
              "      background-color: #E2EBFA;\n",
              "      box-shadow: 0px 1px 2px rgba(60, 64, 67, 0.3), 0px 1px 3px 1px rgba(60, 64, 67, 0.15);\n",
              "      fill: #174EA6;\n",
              "    }\n",
              "\n",
              "    [theme=dark] .colab-df-convert {\n",
              "      background-color: #3B4455;\n",
              "      fill: #D2E3FC;\n",
              "    }\n",
              "\n",
              "    [theme=dark] .colab-df-convert:hover {\n",
              "      background-color: #434B5C;\n",
              "      box-shadow: 0px 1px 3px 1px rgba(0, 0, 0, 0.15);\n",
              "      filter: drop-shadow(0px 1px 2px rgba(0, 0, 0, 0.3));\n",
              "      fill: #FFFFFF;\n",
              "    }\n",
              "  </style>\n",
              "\n",
              "      <script>\n",
              "        const buttonEl =\n",
              "          document.querySelector('#df-0aaba52f-ed6b-40b1-a345-ee788eef5476 button.colab-df-convert');\n",
              "        buttonEl.style.display =\n",
              "          google.colab.kernel.accessAllowed ? 'block' : 'none';\n",
              "\n",
              "        async function convertToInteractive(key) {\n",
              "          const element = document.querySelector('#df-0aaba52f-ed6b-40b1-a345-ee788eef5476');\n",
              "          const dataTable =\n",
              "            await google.colab.kernel.invokeFunction('convertToInteractive',\n",
              "                                                     [key], {});\n",
              "          if (!dataTable) return;\n",
              "\n",
              "          const docLinkHtml = 'Like what you see? Visit the ' +\n",
              "            '<a target=\"_blank\" href=https://colab.research.google.com/notebooks/data_table.ipynb>data table notebook</a>'\n",
              "            + ' to learn more about interactive tables.';\n",
              "          element.innerHTML = '';\n",
              "          dataTable['output_type'] = 'display_data';\n",
              "          await google.colab.output.renderOutput(dataTable, element);\n",
              "          const docLink = document.createElement('div');\n",
              "          docLink.innerHTML = docLinkHtml;\n",
              "          element.appendChild(docLink);\n",
              "        }\n",
              "      </script>\n",
              "    </div>\n",
              "  </div>\n",
              "  "
            ]
          },
          "metadata": {},
          "execution_count": 53
        }
      ]
    },
    {
      "cell_type": "code",
      "source": [
        "# Compare ViT to EffNetB2 across different characteristics\n",
        "comparision_df = pd.DataFrame(data=(df.set_index(\"model\").loc[\"vit\"] / df.set_index(\"model\").loc[\"effnetb2\"]), # divide ViT statistics by EffNetB2 statistics\n",
        "             columns=[\"ViT to EffNetB2 ratios\"]).T\n",
        "comparision_df"
      ],
      "metadata": {
        "colab": {
          "base_uri": "https://localhost:8080/",
          "height": 80
        },
        "id": "D3D0ordeMht8",
        "outputId": "4e476605-07ed-4037-a879-6e53e7af83fa"
      },
      "execution_count": 54,
      "outputs": [
        {
          "output_type": "execute_result",
          "data": {
            "text/plain": [
              "                        test_loss  test_acc  number_of_parameters  \\\n",
              "ViT to EffNetB2 ratios   0.195261  1.041996             11.135432   \n",
              "\n",
              "                        model_size(MB)  time_per_pred_cpu  \n",
              "ViT to EffNetB2 ratios       10.962337           2.906735  "
            ],
            "text/html": [
              "\n",
              "  <div id=\"df-459184b0-b640-4668-ae9d-94f4fad14104\">\n",
              "    <div class=\"colab-df-container\">\n",
              "      <div>\n",
              "<style scoped>\n",
              "    .dataframe tbody tr th:only-of-type {\n",
              "        vertical-align: middle;\n",
              "    }\n",
              "\n",
              "    .dataframe tbody tr th {\n",
              "        vertical-align: top;\n",
              "    }\n",
              "\n",
              "    .dataframe thead th {\n",
              "        text-align: right;\n",
              "    }\n",
              "</style>\n",
              "<table border=\"1\" class=\"dataframe\">\n",
              "  <thead>\n",
              "    <tr style=\"text-align: right;\">\n",
              "      <th></th>\n",
              "      <th>test_loss</th>\n",
              "      <th>test_acc</th>\n",
              "      <th>number_of_parameters</th>\n",
              "      <th>model_size(MB)</th>\n",
              "      <th>time_per_pred_cpu</th>\n",
              "    </tr>\n",
              "  </thead>\n",
              "  <tbody>\n",
              "    <tr>\n",
              "      <th>ViT to EffNetB2 ratios</th>\n",
              "      <td>0.195261</td>\n",
              "      <td>1.041996</td>\n",
              "      <td>11.135432</td>\n",
              "      <td>10.962337</td>\n",
              "      <td>2.906735</td>\n",
              "    </tr>\n",
              "  </tbody>\n",
              "</table>\n",
              "</div>\n",
              "      <button class=\"colab-df-convert\" onclick=\"convertToInteractive('df-459184b0-b640-4668-ae9d-94f4fad14104')\"\n",
              "              title=\"Convert this dataframe to an interactive table.\"\n",
              "              style=\"display:none;\">\n",
              "        \n",
              "  <svg xmlns=\"http://www.w3.org/2000/svg\" height=\"24px\"viewBox=\"0 0 24 24\"\n",
              "       width=\"24px\">\n",
              "    <path d=\"M0 0h24v24H0V0z\" fill=\"none\"/>\n",
              "    <path d=\"M18.56 5.44l.94 2.06.94-2.06 2.06-.94-2.06-.94-.94-2.06-.94 2.06-2.06.94zm-11 1L8.5 8.5l.94-2.06 2.06-.94-2.06-.94L8.5 2.5l-.94 2.06-2.06.94zm10 10l.94 2.06.94-2.06 2.06-.94-2.06-.94-.94-2.06-.94 2.06-2.06.94z\"/><path d=\"M17.41 7.96l-1.37-1.37c-.4-.4-.92-.59-1.43-.59-.52 0-1.04.2-1.43.59L10.3 9.45l-7.72 7.72c-.78.78-.78 2.05 0 2.83L4 21.41c.39.39.9.59 1.41.59.51 0 1.02-.2 1.41-.59l7.78-7.78 2.81-2.81c.8-.78.8-2.07 0-2.86zM5.41 20L4 18.59l7.72-7.72 1.47 1.35L5.41 20z\"/>\n",
              "  </svg>\n",
              "      </button>\n",
              "      \n",
              "  <style>\n",
              "    .colab-df-container {\n",
              "      display:flex;\n",
              "      flex-wrap:wrap;\n",
              "      gap: 12px;\n",
              "    }\n",
              "\n",
              "    .colab-df-convert {\n",
              "      background-color: #E8F0FE;\n",
              "      border: none;\n",
              "      border-radius: 50%;\n",
              "      cursor: pointer;\n",
              "      display: none;\n",
              "      fill: #1967D2;\n",
              "      height: 32px;\n",
              "      padding: 0 0 0 0;\n",
              "      width: 32px;\n",
              "    }\n",
              "\n",
              "    .colab-df-convert:hover {\n",
              "      background-color: #E2EBFA;\n",
              "      box-shadow: 0px 1px 2px rgba(60, 64, 67, 0.3), 0px 1px 3px 1px rgba(60, 64, 67, 0.15);\n",
              "      fill: #174EA6;\n",
              "    }\n",
              "\n",
              "    [theme=dark] .colab-df-convert {\n",
              "      background-color: #3B4455;\n",
              "      fill: #D2E3FC;\n",
              "    }\n",
              "\n",
              "    [theme=dark] .colab-df-convert:hover {\n",
              "      background-color: #434B5C;\n",
              "      box-shadow: 0px 1px 3px 1px rgba(0, 0, 0, 0.15);\n",
              "      filter: drop-shadow(0px 1px 2px rgba(0, 0, 0, 0.3));\n",
              "      fill: #FFFFFF;\n",
              "    }\n",
              "  </style>\n",
              "\n",
              "      <script>\n",
              "        const buttonEl =\n",
              "          document.querySelector('#df-459184b0-b640-4668-ae9d-94f4fad14104 button.colab-df-convert');\n",
              "        buttonEl.style.display =\n",
              "          google.colab.kernel.accessAllowed ? 'block' : 'none';\n",
              "\n",
              "        async function convertToInteractive(key) {\n",
              "          const element = document.querySelector('#df-459184b0-b640-4668-ae9d-94f4fad14104');\n",
              "          const dataTable =\n",
              "            await google.colab.kernel.invokeFunction('convertToInteractive',\n",
              "                                                     [key], {});\n",
              "          if (!dataTable) return;\n",
              "\n",
              "          const docLinkHtml = 'Like what you see? Visit the ' +\n",
              "            '<a target=\"_blank\" href=https://colab.research.google.com/notebooks/data_table.ipynb>data table notebook</a>'\n",
              "            + ' to learn more about interactive tables.';\n",
              "          element.innerHTML = '';\n",
              "          dataTable['output_type'] = 'display_data';\n",
              "          await google.colab.output.renderOutput(dataTable, element);\n",
              "          const docLink = document.createElement('div');\n",
              "          docLink.innerHTML = docLinkHtml;\n",
              "          element.appendChild(docLink);\n",
              "        }\n",
              "      </script>\n",
              "    </div>\n",
              "  </div>\n",
              "  "
            ]
          },
          "metadata": {},
          "execution_count": 54
        }
      ]
    },
    {
      "cell_type": "code",
      "source": [
        "#1. Create a plot from model comparison DataFrame\n",
        "import matplotlib.pyplot as plt\n",
        "fig, ax = plt.subplots(figsize=(10,7))\n",
        "scatter = ax.scatter(data = df,\n",
        "                     x = 'time_per_pred_cpu',\n",
        "                     y = 'test_acc',\n",
        "                     c = ['blue', 'salmon'],\n",
        "                     s ='model_size(MB)')\n",
        "\n",
        "#2. Add Titlese and Labels\n",
        "ax.set_title('Inference Speed vs Performance', fontsize = 16)\n",
        "ax.set_xlabel('Prediction time per image(second)', fontsize = 12)\n",
        "ax.set_ylabel('Test Accuracy (%)', fontsize = 12)\n",
        "ax.tick_params(axis ='both', labelsize =12)\n",
        "ax.grid (True)\n",
        "\n",
        "# 3.Annotate the samples on the scatter plot\n",
        "for index, row in df.iterrows():\n",
        "  ax.annotate(text=row['model'],\n",
        "              xy=(row['time_per_pred_cpu'] +0.0035, row['test_acc'] +0.008),\n",
        "              size =12)\n",
        "#4. Create a legend based on legend sizes\n",
        "handles, labels = scatter.legend_elements(prop = 'sizes' , alpha = 0.5)\n",
        "model_size_legend = ax.legend(handles,\n",
        "                              labels,\n",
        "                              loc = 'lower right',\n",
        "                              title = 'Model size (MB)',\n",
        "                              fontsize = 12)\n",
        "#Save the figure\n",
        "plt.savefig('model-comparision.png')"
      ],
      "metadata": {
        "colab": {
          "base_uri": "https://localhost:8080/",
          "height": 651
        },
        "id": "9lNQn41rQX2Z",
        "outputId": "a8a03163-92ec-4384-e6a6-ec485c5d6437"
      },
      "execution_count": 55,
      "outputs": [
        {
          "output_type": "display_data",
          "data": {
            "text/plain": [
              "<Figure size 1000x700 with 1 Axes>"
            ],
            "image/png": "[encoded data removed]"
          },
          "metadata": {}
        }
      ]
    },
    {
      "cell_type": "markdown",
      "source": [
        "##5. Creating a Gardio demo\n",
        "Deploy EffnetB2 online"
      ],
      "metadata": {
        "id": "GJr99WUla0Oh"
      }
    },
    {
      "cell_type": "code",
      "source": [
        "# Import/install Gardio\n",
        "\n",
        "try:\n",
        "  import gardio as gr\n",
        "except:\n",
        "  !pip -q install gradio\n",
        "  import gradio as gr\n",
        "print(f'Gardio version: {gr.__version__}')"
      ],
      "metadata": {
        "colab": {
          "base_uri": "https://localhost:8080/"
        },
        "id": "U0dpV8-ZRkHl",
        "outputId": "968ebd8e-6122-4d52-c5a3-67afe6d5e4bd"
      },
      "execution_count": 56,
      "outputs": [
        {
          "output_type": "stream",
          "name": "stdout",
          "text": [
            "\u001b[2K     \u001b[90m━━━━━━━━━━━━━━━━━━━━━━━━━━━━━━━━━━━━━━━━\u001b[0m \u001b[32m19.8/19.8 MB\u001b[0m \u001b[31m33.4 MB/s\u001b[0m eta \u001b[36m0:00:00\u001b[0m\n",
            "\u001b[2K     \u001b[90m━━━━━━━━━━━━━━━━━━━━━━━━━━━━━━━━━━━━━━━━\u001b[0m \u001b[32m65.7/65.7 kB\u001b[0m \u001b[31m7.6 MB/s\u001b[0m eta \u001b[36m0:00:00\u001b[0m\n",
            "\u001b[?25h  Preparing metadata (setup.py) ... \u001b[?25l\u001b[?25hdone\n",
            "\u001b[2K     \u001b[90m━━━━━━━━━━━━━━━━━━━━━━━━━━━━━━━━━━━━━━\u001b[0m \u001b[32m288.8/288.8 kB\u001b[0m \u001b[31m29.7 MB/s\u001b[0m eta \u001b[36m0:00:00\u001b[0m\n",
            "\u001b[2K     \u001b[90m━━━━━━━━━━━━━━━━━━━━━━━━━━━━━━━━━━━━━━━━\u001b[0m \u001b[32m75.4/75.4 kB\u001b[0m \u001b[31m9.3 MB/s\u001b[0m eta \u001b[36m0:00:00\u001b[0m\n",
            "\u001b[2K     \u001b[90m━━━━━━━━━━━━━━━━━━━━━━━━━━━━━━━━━━━━━━\u001b[0m \u001b[32m268.8/268.8 kB\u001b[0m \u001b[31m27.4 MB/s\u001b[0m eta \u001b[36m0:00:00\u001b[0m\n",
            "\u001b[2K     \u001b[90m━━━━━━━━━━━━━━━━━━━━━━━━━━━━━━━━━━━━━━━━\u001b[0m \u001b[32m50.5/50.5 kB\u001b[0m \u001b[31m6.2 MB/s\u001b[0m eta \u001b[36m0:00:00\u001b[0m\n",
            "\u001b[2K     \u001b[90m━━━━━━━━━━━━━━━━━━━━━━━━━━━━━━━━━━━━━━\u001b[0m \u001b[32m138.7/138.7 kB\u001b[0m \u001b[31m15.7 MB/s\u001b[0m eta \u001b[36m0:00:00\u001b[0m\n",
            "\u001b[2K     \u001b[90m━━━━━━━━━━━━━━━━━━━━━━━━━━━━━━━━━━━━━━━━\u001b[0m \u001b[32m45.7/45.7 kB\u001b[0m \u001b[31m5.1 MB/s\u001b[0m eta \u001b[36m0:00:00\u001b[0m\n",
            "\u001b[2K     \u001b[90m━━━━━━━━━━━━━━━━━━━━━━━━━━━━━━━━━━━━━━━━\u001b[0m \u001b[32m58.3/58.3 kB\u001b[0m \u001b[31m6.3 MB/s\u001b[0m eta \u001b[36m0:00:00\u001b[0m\n",
            "\u001b[2K     \u001b[90m━━━━━━━━━━━━━━━━━━━━━━━━━━━━━━━━━━━━━━\u001b[0m \u001b[32m129.9/129.9 kB\u001b[0m \u001b[31m14.5 MB/s\u001b[0m eta \u001b[36m0:00:00\u001b[0m\n",
            "\u001b[2K     \u001b[90m━━━━━━━━━━━━━━━━━━━━━━━━━━━━━━━━━━━━━━━━\u001b[0m \u001b[32m50.4/50.4 kB\u001b[0m \u001b[31m5.7 MB/s\u001b[0m eta \u001b[36m0:00:00\u001b[0m\n",
            "\u001b[2K     \u001b[90m━━━━━━━━━━━━━━━━━━━━━━━━━━━━━━━━━━━━━━━━\u001b[0m \u001b[32m46.5/46.5 kB\u001b[0m \u001b[31m5.3 MB/s\u001b[0m eta \u001b[36m0:00:00\u001b[0m\n",
            "\u001b[2K     \u001b[90m━━━━━━━━━━━━━━━━━━━━━━━━━━━━━━━━━━━━━━━━\u001b[0m \u001b[32m43.7/43.7 kB\u001b[0m \u001b[31m5.1 MB/s\u001b[0m eta \u001b[36m0:00:00\u001b[0m\n",
            "\u001b[2K     \u001b[90m━━━━━━━━━━━━━━━━━━━━━━━━━━━━━━━━━━━━━━━━\u001b[0m \u001b[32m41.0/41.0 kB\u001b[0m \u001b[31m4.8 MB/s\u001b[0m eta \u001b[36m0:00:00\u001b[0m\n",
            "\u001b[2K     \u001b[90m━━━━━━━━━━━━━━━━━━━━━━━━━━━━━━━━━━━━━━━━\u001b[0m \u001b[32m41.0/41.0 kB\u001b[0m \u001b[31m4.4 MB/s\u001b[0m eta \u001b[36m0:00:00\u001b[0m\n",
            "\u001b[2K     \u001b[90m━━━━━━━━━━━━━━━━━━━━━━━━━━━━━━━━━━━━━━━━\u001b[0m \u001b[32m87.5/87.5 kB\u001b[0m \u001b[31m11.1 MB/s\u001b[0m eta \u001b[36m0:00:00\u001b[0m\n",
            "\u001b[2K     \u001b[90m━━━━━━━━━━━━━━━━━━━━━━━━━━━━━━━━━━━━━━━━\u001b[0m \u001b[32m84.5/84.5 kB\u001b[0m \u001b[31m11.4 MB/s\u001b[0m eta \u001b[36m0:00:00\u001b[0m\n",
            "\u001b[2K     \u001b[90m━━━━━━━━━━━━━━━━━━━━━━━━━━━━━━━━━━━━━━━━\u001b[0m \u001b[32m58.3/58.3 kB\u001b[0m \u001b[31m6.7 MB/s\u001b[0m eta \u001b[36m0:00:00\u001b[0m\n",
            "\u001b[2K     \u001b[90m━━━━━━━━━━━━━━━━━━━━━━━━━━━━━━━━━━━━━━━━\u001b[0m \u001b[32m67.0/67.0 kB\u001b[0m \u001b[31m7.4 MB/s\u001b[0m eta \u001b[36m0:00:00\u001b[0m\n",
            "\u001b[2K     \u001b[90m━━━━━━━━━━━━━━━━━━━━━━━━━━━━━━━━━━━━━━━━\u001b[0m \u001b[32m74.5/74.5 kB\u001b[0m \u001b[31m8.3 MB/s\u001b[0m eta \u001b[36m0:00:00\u001b[0m\n",
            "\u001b[?25h  Building wheel for ffmpy (setup.py) ... \u001b[?25l\u001b[?25hdone\n",
            "Gardio version: 3.36.1\n"
          ]
        }
      ]
    },
    {
      "cell_type": "markdown",
      "source": [
        "###5.1 Gardio Overview\n",
        "\n",
        "Gardio helps create machine learning demos\n",
        "so other people can try and test them in the real world.\n",
        "The overall premise of Gardio is to map inputs => function/model => outputs"
      ],
      "metadata": {
        "id": "9ASGihkwf7uP"
      }
    },
    {
      "cell_type": "code",
      "source": [
        "# Put our model on the CPU\n",
        "effnetb2 = effnetb2.to('cpu')\n",
        "\n",
        "#Check the device\n",
        "next(iter(effnetb2.parameters())).device"
      ],
      "metadata": {
        "colab": {
          "base_uri": "https://localhost:8080/"
        },
        "id": "jJ-c9xRtckds",
        "outputId": "c4fbb018-2c1f-48f1-f5fb-d9232b40d077"
      },
      "execution_count": 57,
      "outputs": [
        {
          "output_type": "execute_result",
          "data": {
            "text/plain": [
              "device(type='cpu')"
            ]
          },
          "metadata": {},
          "execution_count": 57
        }
      ]
    },
    {
      "cell_type": "code",
      "source": [
        "def pred_and_store(paths:list,\n",
        "                   model: torch.nn.Module,\n",
        "                   transform: torchvision.transforms,\n",
        "                   class_names: List[str],\n",
        "                   device:str = 'cuda' if torch.cuda.is_available else 'cpu'):\n",
        "  from timeit import default_timer as timer\n",
        "  from PIL import Image\n",
        "  from tqdm.auto import tqdm\n",
        "  stats = []\n",
        "  for path in tqdm(paths):\n",
        "    stat_dict = {}\n",
        "    ground_truth = path.parent.stem\n",
        "    stat_dict['image_path'] = path\n",
        "    stat_dict['class_name'] = ground_truth\n",
        "\n",
        "    t1 = timer()\n",
        "    image = Image.open(path)\n",
        "    image = transform(image).unsqueeze(dim = 0).to(device)\n",
        "\n",
        "    model.to(device)\n",
        "    model.eval()\n",
        "    with torch.inference_mode():\n",
        "      y_logits = model(image)\n",
        "      y_prob = torch.softmax(y_logits, dim = 1)\n",
        "      y_pred = torch.argmax(y_prob, dim = 1).item()\n",
        "      pred_class = class_names[y_pred]#python dictionay and pandas/ numpy needs the data to be stored on cpu\n",
        "\n",
        "      stat_dict['pred_class'] = pred_class\n",
        "      stat_dict['prediction_probability'] = round(y_prob.max().cpu().item(),4)\n",
        "      stat_dict['prediction_class'] = y_pred\n",
        "\n",
        "    t2 = timer()\n",
        "    stat_dict['time_for_pred'] = round(t2-t1,4)\n",
        "\n",
        "    stat_dict['correct'] = ground_truth == pred_class\n",
        "    stats.append(stat_dict)\n",
        "  return stats"
      ],
      "metadata": {
        "id": "MiKakWCokWeZ"
      },
      "execution_count": 58,
      "outputs": []
    },
    {
      "cell_type": "code",
      "source": [
        "from typing import Tuple, Dict\n",
        "def predict(img) ->Tuple[Dict,float]:\n",
        "  #Start a timer\n",
        "  from timeit import default_timer as timer\n",
        "  t1 = timer()\n",
        "  #Transform the input image for use with EffNetb2\n",
        "  img = effnetb2_transforms(img).unsqueeze(0)\n",
        "  #Put model into eval mode, make prediction\n",
        "  effnetb2.eval()\n",
        "  effnetb2.to('cpu')\n",
        "  #Create a prediction label and prediction probability dictionary\n",
        "  pred_dict = {}\n",
        "  with torch.inference_mode():\n",
        "    y_logits = effnetb2(img)\n",
        "    y_prob = torch.softmax(y_logits, dim=1)\n",
        "    y_preb = torch.argmax(y_prob, dim=1)\n",
        "\n",
        "    for i,name in enumerate(class_names):\n",
        "      pred_dict[name] = y_prob[0][i].item()\n",
        "  #Calculate pred time\n",
        "  t2 = timer()\n",
        "  pred_time = round(t2-t1,4)\n",
        "  #Return pred dict and pred time\n",
        "  return pred_dict, pred_time"
      ],
      "metadata": {
        "id": "JF64uUiugnAq"
      },
      "execution_count": 59,
      "outputs": []
    },
    {
      "cell_type": "code",
      "source": [
        "import random\n",
        "from PIL import Image\n",
        "from pathlib import Path\n",
        "\n",
        "# Get a list of all test image file paths\n",
        "test_data_paths = list(Path(test_dir).glob('*/*.jpg'))\n",
        "\n",
        "# Randomly select one image\n",
        "idx = random.randint(0, len(test_data_paths))\n",
        "random_image_path = test_data_paths[idx]\n",
        "\n",
        "# Open the target image\n",
        "image = Image.open(random_image_path)\n",
        "image\n",
        "\n",
        "# Predict on Target Image\n",
        "pred_dict, pred_time = predict(img =image)\n",
        "pred_dict, pred_time"
      ],
      "metadata": {
        "colab": {
          "base_uri": "https://localhost:8080/"
        },
        "id": "_E8JTm4FmV0Z",
        "outputId": "86c10102-5946-4319-cca1-5fc0e53fb67d"
      },
      "execution_count": 60,
      "outputs": [
        {
          "output_type": "execute_result",
          "data": {
            "text/plain": [
              "({'pizza': 0.10550129413604736,\n",
              "  'steak': 0.03917710855603218,\n",
              "  'sushi': 0.8553216457366943},\n",
              " 0.0797)"
            ]
          },
          "metadata": {},
          "execution_count": 60
        }
      ]
    },
    {
      "cell_type": "markdown",
      "source": [
        "### 5.2 Creating a list of example images"
      ],
      "metadata": {
        "id": "z8HT_QSruI6f"
      }
    },
    {
      "cell_type": "code",
      "source": [
        "#Create list of example inputs to our Gradio demo\n",
        "example_list = [[str(filepath)] for filepath in random.sample(test_data_paths, k =3)]\n",
        "example_list"
      ],
      "metadata": {
        "colab": {
          "base_uri": "https://localhost:8080/"
        },
        "id": "V8H28su5phUJ",
        "outputId": "60e4251b-6b13-4b11-daa1-29253f0715af"
      },
      "execution_count": 61,
      "outputs": [
        {
          "output_type": "execute_result",
          "data": {
            "text/plain": [
              "[['/content/data/pizza_steak_sushi/test/steak/746921.jpg'],\n",
              " ['/content/data/pizza_steak_sushi/test/steak/3063435.jpg'],\n",
              " ['/content/data/pizza_steak_sushi/test/pizza/129666.jpg']]"
            ]
          },
          "metadata": {},
          "execution_count": 61
        }
      ]
    },
    {
      "cell_type": "markdown",
      "source": [
        "### 5.3 Building a Gardio Interface\n",
        "\n",
        "Using `gr.Interface()` to go from:\n",
        "\n",
        "input:image -> transform -> predict with EffnetB2 -> output: pred, prob\n",
        "\n"
      ],
      "metadata": {
        "id": "zfbBY5mAuy1M"
      }
    },
    {
      "cell_type": "code",
      "source": [
        "import gradio as gr\n",
        "\n",
        "#Create title, discription\n",
        "title = 'Simple_Food_Classification Deployment Test'\n",
        "description = 'An EfficientNetb2 to classify food images'\n",
        "article = 'created at [09_PyTorchModelDeployment] (https://github.com/JanMeow/ML-cases/blob/main/09_PyTorchModelDeployment.ipynb)'\n",
        "\n",
        "demo = gr.Interface(fn=predict,\n",
        "                    inputs=gr.Image(type = 'pil'),\n",
        "                    outputs= [gr.Label(num_top_classes =3, label = 'Predictions'),\n",
        "                              gr.Number(label = 'Prediction time (s)')],\n",
        "                    examples = example_list,\n",
        "                    title = title,\n",
        "                    description = description,\n",
        "                    article = article)\n",
        "demo.launch(debug = False, #print errors locally\n",
        "            share = True) # generate a publicly sharable URL"
      ],
      "metadata": {
        "colab": {
          "base_uri": "https://localhost:8080/",
          "height": 590
        },
        "id": "so6F890xusgx",
        "outputId": "a8c87d66-2ab7-4931-cb4b-0915b92d1bf9"
      },
      "execution_count": 62,
      "outputs": [
        {
          "output_type": "stream",
          "name": "stdout",
          "text": [
            "Colab notebook detected. To show errors in colab notebook, set debug=True in launch()\n",
            "Running on public URL: https://e2da904e2695f06215.gradio.live\n",
            "\n",
            "This share link expires in 72 hours. For free permanent hosting and GPU upgrades, run `gradio deploy` from Terminal to deploy to Spaces (https://huggingface.co/spaces)\n"
          ]
        },
        {
          "output_type": "display_data",
          "data": {
            "text/plain": [
              "<IPython.core.display.HTML object>"
            ],
            "text/html": [
              "<div><iframe src=\"https://e2da904e2695f06215.gradio.live\" width=\"100%\" height=\"500\" allow=\"autoplay; camera; microphone; clipboard-read; clipboard-write;\" frameborder=\"0\" allowfullscreen></iframe></div>"
            ]
          },
          "metadata": {}
        },
        {
          "output_type": "execute_result",
          "data": {
            "text/plain": []
          },
          "metadata": {},
          "execution_count": 62
        }
      ]
    },
    {
      "cell_type": "markdown",
      "source": [
        "#6. Turning our FoodVision Mini Gradio into Permeant Hosting on Hugging face spaces"
      ],
      "metadata": {
        "id": "PRO6puv15mma"
      }
    },
    {
      "cell_type": "markdown",
      "source": [
        "File Structure\n",
        "\n",
        "```\n",
        "demos/\n",
        "└── foodvision_mini/\n",
        "    ├── 09_pretrained_effnetb2_feature_extractor_pizza_steak_sushi_20_percent.pth\n",
        "    ├── app.py\n",
        "    ├── examples/\n",
        "    │   ├── example_1.jpg\n",
        "    │   ├── example_2.jpg\n",
        "    │   └── example_3.jpg\n",
        "    ├── model.py\n",
        "    └── requirements.txt\n",
        "```"
      ],
      "metadata": {
        "id": "TBirpjgIMA50"
      }
    },
    {
      "cell_type": "markdown",
      "source": [
        "###6.1 Creating a `demo` folder to store our app files"
      ],
      "metadata": {
        "id": "MddCZXs2NEr0"
      }
    },
    {
      "cell_type": "code",
      "source": [
        "import shutil\n",
        "from pathlib import Path\n",
        "\n",
        "#Create FoodVision mini path\n",
        "demo_path = Path('demo/foodvision_mini/')\n",
        "\n",
        "#Remove files that might exist and create a new directory\n",
        "if demo_path.exists():\n",
        "  shutil.rmtree(demo_path)\n",
        "  demo_path.mkdir(parents = True,\n",
        "                  exist_ok = True)\n",
        "else:\n",
        "  demo_path.mkdir(parents = True,\n",
        "                  exist_ok = True)"
      ],
      "metadata": {
        "id": "yiNYPX7NxBAD"
      },
      "execution_count": 63,
      "outputs": []
    },
    {
      "cell_type": "markdown",
      "source": [
        "###6.2 Creating a folder of examples"
      ],
      "metadata": {
        "id": "P8jrtG-VYqrg"
      }
    },
    {
      "cell_type": "code",
      "source": [
        "test_dir"
      ],
      "metadata": {
        "colab": {
          "base_uri": "https://localhost:8080/"
        },
        "id": "ychWH7RqdOTP",
        "outputId": "5b47b428-ae67-43b9-8232-8c0781ef22bf"
      },
      "execution_count": 64,
      "outputs": [
        {
          "output_type": "execute_result",
          "data": {
            "text/plain": [
              "PosixPath('/content/data/pizza_steak_sushi/test')"
            ]
          },
          "metadata": {},
          "execution_count": 64
        }
      ]
    },
    {
      "cell_type": "code",
      "source": [
        "import shutil\n",
        "import random\n",
        "from pathlib import Path\n",
        "\n",
        "#Create an examples directory\n",
        "examples_path = demo_path/ 'examples'\n",
        "examples_path.mkdir(parents = True, exist_ok = True)\n",
        "\n",
        "#Collect three random test dataset images path\n",
        "examples = random.sample(list(Path(test_dir).glob('*/*.jpg')),3)\n",
        "\n",
        "#Copy the three images to the examples directory\n",
        "if len(list(examples_path.glob('*'))) !=3:\n",
        "  for example in examples:\n",
        "    destination = examples_path / example.name\n",
        "    print(f'[INFO] Copying {example} to {destination}')\n",
        "    shutil.copy2(src = example, dst = destination)"
      ],
      "metadata": {
        "colab": {
          "base_uri": "https://localhost:8080/"
        },
        "id": "hl-LOZTIT4NY",
        "outputId": "277f5398-d443-4908-dd1f-8dd0b72b07e5"
      },
      "execution_count": 65,
      "outputs": [
        {
          "output_type": "stream",
          "name": "stdout",
          "text": [
            "[INFO] Copying /content/data/pizza_steak_sushi/test/sushi/1203702.jpg to demo/foodvision_mini/examples/1203702.jpg\n",
            "[INFO] Copying /content/data/pizza_steak_sushi/test/sushi/911808.jpg to demo/foodvision_mini/examples/911808.jpg\n",
            "[INFO] Copying /content/data/pizza_steak_sushi/test/sushi/1683426.jpg to demo/foodvision_mini/examples/1683426.jpg\n"
          ]
        }
      ]
    },
    {
      "cell_type": "markdown",
      "source": [
        "Turning the list of examples into list of list as required by the Gardio demo"
      ],
      "metadata": {
        "id": "5rJnNCz0g9EB"
      }
    },
    {
      "cell_type": "code",
      "source": [
        "import os\n",
        "\n",
        "#Get example filepaths in a list of lists\n",
        "examples_list = [['examples/' + example] for example in os.listdir(examples_path)]\n",
        "examples_list"
      ],
      "metadata": {
        "colab": {
          "base_uri": "https://localhost:8080/"
        },
        "id": "YGIDMo-6dkz9",
        "outputId": "869dc77a-5dee-4a4c-feac-9e1181df535e"
      },
      "execution_count": 66,
      "outputs": [
        {
          "output_type": "execute_result",
          "data": {
            "text/plain": [
              "[['examples/1683426.jpg'], ['examples/1203702.jpg'], ['examples/911808.jpg']]"
            ]
          },
          "metadata": {},
          "execution_count": 66
        }
      ]
    },
    {
      "cell_type": "code",
      "source": [
        "import shutil\n",
        "\n",
        "# Create a source path for our target model\n",
        "model_path = '/content/models/09_pretrained_effnetb2_feature_extractor_pizza_steak_sushi_20_percent.pth'\n",
        "\n",
        "\n",
        "#Create a destination path for our target model\n",
        "model_destination = demo_path\n",
        "\n",
        "# Try to move the model file\n",
        "try:\n",
        "  print(f'[INFO] Attempting to move model from {model_path} to {model_destination}')\n",
        "  shutil.move(src = model_path, dst = model_destination)\n",
        "except:\n",
        "  print(f'[INFO] No model found at {model_path} Mabe already exisits?')"
      ],
      "metadata": {
        "colab": {
          "base_uri": "https://localhost:8080/"
        },
        "id": "Gj0E__i_hmBB",
        "outputId": "6c9cd714-c5a5-4960-f237-db196544903c"
      },
      "execution_count": 67,
      "outputs": [
        {
          "output_type": "stream",
          "name": "stdout",
          "text": [
            "[INFO] Attempting to move model from /content/models/09_pretrained_effnetb2_feature_extractor_pizza_steak_sushi_20_percent.pth to demo/foodvision_mini\n"
          ]
        }
      ]
    },
    {
      "cell_type": "markdown",
      "source": [
        "### 6.3 Creating model.py which is to turn the predict function into a python execetuable"
      ],
      "metadata": {
        "id": "jhkID4sskgUx"
      }
    },
    {
      "cell_type": "code",
      "source": [
        "%%writefile demo/foodvision_mini/model.py\n",
        "\n",
        "import torch\n",
        "import torchvision\n",
        "from torch import nn\n",
        "\n",
        "def create_effNetb2_model(num_classes: int =3,\n",
        "                          seed: int =42):\n",
        "  torch.manual_seed(seed)\n",
        "  #1. Set up pretrain EffNetB2 Weights\n",
        "  effnetb2_weights = torchvision.models.EfficientNet_B2_Weights.DEFAULT # Default meaning best available\n",
        "  #2. Get EffNetB2 transforms\n",
        "  transforms  = effnetb2_weights.transforms()\n",
        "  #3. Setup Pretrained model instance\n",
        "  effnetb2 = torchvision.models.efficientnet_b2(weights = effnetb2_weights)\n",
        "\n",
        "  #4. Freeze the base layers in the model (Stop all layers from training)\n",
        "  for param in effnetb2.parameters():\n",
        "    param.requires_grad = False\n",
        "\n",
        "  #5. Change the last layer of classifier into the number of classes we want\n",
        "  effnetb2.classifier = nn.Sequential(\n",
        "      nn.Dropout(p = 0.3, inplace = True),\n",
        "      nn.Linear(in_features = 1408, out_features = num_classes, bias = True)\n",
        "  )\n",
        "\n",
        "  return effnetb2, transforms"
      ],
      "metadata": {
        "colab": {
          "base_uri": "https://localhost:8080/"
        },
        "id": "xzGegn4-bOHl",
        "outputId": "9a35e605-fe16-46f4-ca15-c48a038dd82b"
      },
      "execution_count": 68,
      "outputs": [
        {
          "output_type": "stream",
          "name": "stdout",
          "text": [
            "Writing demo/foodvision_mini/model.py\n"
          ]
        }
      ]
    },
    {
      "cell_type": "markdown",
      "source": [
        "###6.4 Creating app.py"
      ],
      "metadata": {
        "id": "UqZgTjiicfUx"
      }
    },
    {
      "cell_type": "code",
      "source": [
        "%%writefile demo/foodvision_mini/app.py\n",
        "\n",
        "#1.Import and class names set up\n",
        "\n",
        "\n",
        "import torch\n",
        "import torchvision\n",
        "import gradio as gr\n",
        "import os\n",
        "import torch\n",
        "\n",
        "\n",
        "from model import create_effNetb2_model\n",
        "from timeit import default_timer as timer\n",
        "from typing import Tuple, Dict\n",
        "\n",
        "class_names = ['pizza', 'steak', 'sushi']\n",
        "\n",
        "#2.Model and transform preparation\n",
        "\n",
        "\n",
        "effnetb2, effnetb2_transforms = create_effNetb2_model(num_classes = len(class_names), seed = 42)\n",
        "\n",
        "effnetb2.load_state_dict(\n",
        "  torch.load(f = '09_pretrained_effnetb2_feature_extractor_pizza_steak_sushi_20_percent.pth',\n",
        "  map_location = torch.device('cpu'))\n",
        ")\n",
        "\n",
        "#3.Predict function\n",
        "\n",
        "\n",
        "def predict(img) ->Tuple[Dict,float]:\n",
        "  #Start a timer\n",
        "  from timeit import default_timer as timer\n",
        "  t1 = timer()\n",
        "  #Transform the input image for use with EffNetb2\n",
        "  img = effnetb2_transforms(img).unsqueeze(0)\n",
        "  #Put model into eval mode, make prediction\n",
        "  effnetb2.eval()\n",
        "  effnetb2.to('cpu')\n",
        "  #Create a prediction label and prediction probability dictionary\n",
        "  pred_dict = {}\n",
        "  with torch.inference_mode():\n",
        "    y_logits = effnetb2(img)\n",
        "    y_prob = torch.softmax(y_logits, dim=1)\n",
        "    y_preb = torch.argmax(y_prob, dim=1)\n",
        "\n",
        "    for i,name in enumerate(class_names):\n",
        "      pred_dict[name] = y_prob[0][i].item()\n",
        "  #Calculate pred time\n",
        "  t2 = timer()\n",
        "  pred_time = round(t2-t1,4)\n",
        "  #Return pred dict and pred time\n",
        "  return pred_dict, pred_time\n",
        "\n",
        "#4. Create examples list\n",
        "\n",
        "\n",
        "example_list = [['examples' + example] for example in os.listdir('./examples')]\n",
        "\n",
        "#5.Gradio app - our gradio interace + launch command\n",
        "\n",
        "\n",
        "#Create title, discription\n",
        "title = 'Simple_Food_Classification Deployment Test'\n",
        "description = 'An EfficientNetb2 to classify food images'\n",
        "article = 'created at [09_PyTorchModelDeployment] (https://github.com/JanMeow/ML-cases/blob/main/09_PyTorchModelDeployment.ipynb)'\n",
        "\n",
        "demo = gr.Interface(fn=predict,\n",
        "                    inputs=gr.Image(type = 'pil'),\n",
        "                    outputs= [gr.Label(num_top_classes =3, label = 'Predictions'),\n",
        "                              gr.Number(label = 'Prediction time (s)')],\n",
        "                    examples = example_list,\n",
        "                    title = title,\n",
        "                    description = description,\n",
        "                    article = article)\n",
        "demo.launch(debug = False, #print errors locally\n",
        "            share = True) # generate a publicly sharable URL"
      ],
      "metadata": {
        "colab": {
          "base_uri": "https://localhost:8080/"
        },
        "id": "yoNvnXV3bhj7",
        "outputId": "f03b40c4-0dde-4720-ac76-019299ea53bd"
      },
      "execution_count": 69,
      "outputs": [
        {
          "output_type": "stream",
          "name": "stdout",
          "text": [
            "Writing demo/foodvision_mini/app.py\n"
          ]
        }
      ]
    },
    {
      "cell_type": "markdown",
      "source": [
        "###6.5 Creating requirement.txt\n",
        "\n",
        "The requirement file will tell our hugging Face Sapce what software our app requires.\n",
        "\n",
        "- `torch`\n",
        "- `torchvision`\n",
        "- `gradio`"
      ],
      "metadata": {
        "id": "kLPvACi9hs--"
      }
    },
    {
      "cell_type": "code",
      "source": [
        "%%writefile demo/foodvision_mini/requirements.txt\n",
        "\n",
        "torch ==2.0.1\n",
        "torchvision == 0.15.2\n",
        "gradio == 3.36.1"
      ],
      "metadata": {
        "colab": {
          "base_uri": "https://localhost:8080/"
        },
        "id": "fM2k88vIkRtP",
        "outputId": "4f2358ec-e61c-4b87-aa33-34d4d9345909"
      },
      "execution_count": 70,
      "outputs": [
        {
          "output_type": "stream",
          "name": "stdout",
          "text": [
            "Writing demo/foodvision_mini/requirements.txt\n"
          ]
        }
      ]
    },
    {
      "cell_type": "markdown",
      "source": [
        "#7. Deploying our Foodvision mini app to HuggingFace"
      ],
      "metadata": {
        "id": "XcGPnjFOYzV9"
      }
    },
    {
      "cell_type": "code",
      "source": [
        "!ls demo/foodvision_mini"
      ],
      "metadata": {
        "colab": {
          "base_uri": "https://localhost:8080/"
        },
        "id": "k2Nc1F8bkbSL",
        "outputId": "f3c40b8a-4288-4e34-ea80-89b3406fec7f"
      },
      "execution_count": 73,
      "outputs": [
        {
          "output_type": "stream",
          "name": "stdout",
          "text": [
            "09_pretrained_effnetb2_feature_extractor_pizza_steak_sushi_20_percent.pth\n",
            "app.py\n",
            "examples\n",
            "model.py\n",
            "requirements.txt\n"
          ]
        }
      ]
    },
    {
      "cell_type": "code",
      "source": [
        "!pwd"
      ],
      "metadata": {
        "colab": {
          "base_uri": "https://localhost:8080/"
        },
        "id": "piVh7EsMaV3Q",
        "outputId": "e0b4f477-2276-402b-b3b8-a6a01ad7716e"
      },
      "execution_count": 71,
      "outputs": [
        {
          "output_type": "stream",
          "name": "stdout",
          "text": [
            "/content\n"
          ]
        }
      ]
    },
    {
      "cell_type": "code",
      "source": [
        "!cd demo/foodvision_mini && zip -r ../foodvision_mini.zip * -x '*.pyc' '*.ipynb' '*__pycache__' '*ipynb_checkpoints*'"
      ],
      "metadata": {
        "colab": {
          "base_uri": "https://localhost:8080/"
        },
        "id": "Nskd6T1TZiYR",
        "outputId": "aab05c1a-abc1-4446-80ad-a968e8ce8e8f"
      },
      "execution_count": 74,
      "outputs": [
        {
          "output_type": "stream",
          "name": "stdout",
          "text": [
            "  adding: 09_pretrained_effnetb2_feature_extractor_pizza_steak_sushi_20_percent.pth (deflated 8%)\n",
            "  adding: app.py (deflated 54%)\n",
            "  adding: examples/ (stored 0%)\n",
            "  adding: examples/1683426.jpg (deflated 0%)\n",
            "  adding: examples/1203702.jpg (deflated 0%)\n",
            "  adding: examples/911808.jpg (deflated 0%)\n",
            "  adding: model.py (deflated 49%)\n",
            "  adding: requirements.txt (deflated 13%)\n"
          ]
        }
      ]
    },
    {
      "cell_type": "code",
      "source": [
        "# #Download\n",
        "# try:\n",
        "#   from google.colab import files\n",
        "#   files.download('demo/foodvision_mini.zip')\n",
        "# except:\n",
        "#   print(f'Can not use google colab donwload')"
      ],
      "metadata": {
        "id": "skRyJNNaabi-"
      },
      "execution_count": null,
      "outputs": []
    }
  ]
}