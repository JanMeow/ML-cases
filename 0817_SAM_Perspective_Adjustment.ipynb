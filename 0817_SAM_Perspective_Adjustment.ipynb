{
  "nbformat": 4,
  "nbformat_minor": 0,
  "metadata": {
    "colab": {
      "provenance": [],
      "machine_shape": "hm",
      "gpuType": "V100",
      "authorship_tag": "ABX9TyPOVXQCGk2hWr5JrK/8O+yn",
      "include_colab_link": true
    },
    "kernelspec": {
      "name": "python3",
      "display_name": "Python 3"
    },
    "language_info": {
      "name": "python"
    },
    "accelerator": "GPU",
    "widgets": {
      "application/vnd.jupyter.widget-state+json": {
        "dce9cbaf4a3e458bb77ef6f57acdadf7": {
          "model_module": "@jupyter-widgets/controls",
          "model_name": "HBoxModel",
          "model_module_version": "1.5.0",
          "state": {
            "_dom_classes": [],
            "_model_module": "@jupyter-widgets/controls",
            "_model_module_version": "1.5.0",
            "_model_name": "HBoxModel",
            "_view_count": null,
            "_view_module": "@jupyter-widgets/controls",
            "_view_module_version": "1.5.0",
            "_view_name": "HBoxView",
            "box_style": "",
            "children": [
              "IPY_MODEL_b659dd7797114bc8b751eeec8e522d1d",
              "IPY_MODEL_1969df735dcd40cc878360a75af3b1af",
              "IPY_MODEL_8abe4a15f4a94730926b1675e650bcd2"
            ],
            "layout": "IPY_MODEL_5a6772ea90fa423699a1c95b37bd3e46"
          }
        },
        "b659dd7797114bc8b751eeec8e522d1d": {
          "model_module": "@jupyter-widgets/controls",
          "model_name": "HTMLModel",
          "model_module_version": "1.5.0",
          "state": {
            "_dom_classes": [],
            "_model_module": "@jupyter-widgets/controls",
            "_model_module_version": "1.5.0",
            "_model_name": "HTMLModel",
            "_view_count": null,
            "_view_module": "@jupyter-widgets/controls",
            "_view_module_version": "1.5.0",
            "_view_name": "HTMLView",
            "description": "",
            "description_tooltip": null,
            "layout": "IPY_MODEL_7d1abff859a84f329f9a4c46b625f946",
            "placeholder": "​",
            "style": "IPY_MODEL_e7ecc276c5cb43f89263d00e7042c2b4",
            "value": "Downloading (…)rocessor_config.json: 100%"
          }
        },
        "1969df735dcd40cc878360a75af3b1af": {
          "model_module": "@jupyter-widgets/controls",
          "model_name": "FloatProgressModel",
          "model_module_version": "1.5.0",
          "state": {
            "_dom_classes": [],
            "_model_module": "@jupyter-widgets/controls",
            "_model_module_version": "1.5.0",
            "_model_name": "FloatProgressModel",
            "_view_count": null,
            "_view_module": "@jupyter-widgets/controls",
            "_view_module_version": "1.5.0",
            "_view_name": "ProgressView",
            "bar_style": "success",
            "description": "",
            "description_tooltip": null,
            "layout": "IPY_MODEL_782c1ae738624da78dd5a796ac78b3d5",
            "max": 466,
            "min": 0,
            "orientation": "horizontal",
            "style": "IPY_MODEL_8dcbf99456d0414f883a843aaf7459b2",
            "value": 466
          }
        },
        "8abe4a15f4a94730926b1675e650bcd2": {
          "model_module": "@jupyter-widgets/controls",
          "model_name": "HTMLModel",
          "model_module_version": "1.5.0",
          "state": {
            "_dom_classes": [],
            "_model_module": "@jupyter-widgets/controls",
            "_model_module_version": "1.5.0",
            "_model_name": "HTMLModel",
            "_view_count": null,
            "_view_module": "@jupyter-widgets/controls",
            "_view_module_version": "1.5.0",
            "_view_name": "HTMLView",
            "description": "",
            "description_tooltip": null,
            "layout": "IPY_MODEL_172fa65697284200bfc4d6cd43734330",
            "placeholder": "​",
            "style": "IPY_MODEL_40b4d2b909e1490bbc5c2d62f2103d26",
            "value": " 466/466 [00:00&lt;00:00, 21.0kB/s]"
          }
        },
        "5a6772ea90fa423699a1c95b37bd3e46": {
          "model_module": "@jupyter-widgets/base",
          "model_name": "LayoutModel",
          "model_module_version": "1.2.0",
          "state": {
            "_model_module": "@jupyter-widgets/base",
            "_model_module_version": "1.2.0",
            "_model_name": "LayoutModel",
            "_view_count": null,
            "_view_module": "@jupyter-widgets/base",
            "_view_module_version": "1.2.0",
            "_view_name": "LayoutView",
            "align_content": null,
            "align_items": null,
            "align_self": null,
            "border": null,
            "bottom": null,
            "display": null,
            "flex": null,
            "flex_flow": null,
            "grid_area": null,
            "grid_auto_columns": null,
            "grid_auto_flow": null,
            "grid_auto_rows": null,
            "grid_column": null,
            "grid_gap": null,
            "grid_row": null,
            "grid_template_areas": null,
            "grid_template_columns": null,
            "grid_template_rows": null,
            "height": null,
            "justify_content": null,
            "justify_items": null,
            "left": null,
            "margin": null,
            "max_height": null,
            "max_width": null,
            "min_height": null,
            "min_width": null,
            "object_fit": null,
            "object_position": null,
            "order": null,
            "overflow": null,
            "overflow_x": null,
            "overflow_y": null,
            "padding": null,
            "right": null,
            "top": null,
            "visibility": null,
            "width": null
          }
        },
        "7d1abff859a84f329f9a4c46b625f946": {
          "model_module": "@jupyter-widgets/base",
          "model_name": "LayoutModel",
          "model_module_version": "1.2.0",
          "state": {
            "_model_module": "@jupyter-widgets/base",
            "_model_module_version": "1.2.0",
            "_model_name": "LayoutModel",
            "_view_count": null,
            "_view_module": "@jupyter-widgets/base",
            "_view_module_version": "1.2.0",
            "_view_name": "LayoutView",
            "align_content": null,
            "align_items": null,
            "align_self": null,
            "border": null,
            "bottom": null,
            "display": null,
            "flex": null,
            "flex_flow": null,
            "grid_area": null,
            "grid_auto_columns": null,
            "grid_auto_flow": null,
            "grid_auto_rows": null,
            "grid_column": null,
            "grid_gap": null,
            "grid_row": null,
            "grid_template_areas": null,
            "grid_template_columns": null,
            "grid_template_rows": null,
            "height": null,
            "justify_content": null,
            "justify_items": null,
            "left": null,
            "margin": null,
            "max_height": null,
            "max_width": null,
            "min_height": null,
            "min_width": null,
            "object_fit": null,
            "object_position": null,
            "order": null,
            "overflow": null,
            "overflow_x": null,
            "overflow_y": null,
            "padding": null,
            "right": null,
            "top": null,
            "visibility": null,
            "width": null
          }
        },
        "e7ecc276c5cb43f89263d00e7042c2b4": {
          "model_module": "@jupyter-widgets/controls",
          "model_name": "DescriptionStyleModel",
          "model_module_version": "1.5.0",
          "state": {
            "_model_module": "@jupyter-widgets/controls",
            "_model_module_version": "1.5.0",
            "_model_name": "DescriptionStyleModel",
            "_view_count": null,
            "_view_module": "@jupyter-widgets/base",
            "_view_module_version": "1.2.0",
            "_view_name": "StyleView",
            "description_width": ""
          }
        },
        "782c1ae738624da78dd5a796ac78b3d5": {
          "model_module": "@jupyter-widgets/base",
          "model_name": "LayoutModel",
          "model_module_version": "1.2.0",
          "state": {
            "_model_module": "@jupyter-widgets/base",
            "_model_module_version": "1.2.0",
            "_model_name": "LayoutModel",
            "_view_count": null,
            "_view_module": "@jupyter-widgets/base",
            "_view_module_version": "1.2.0",
            "_view_name": "LayoutView",
            "align_content": null,
            "align_items": null,
            "align_self": null,
            "border": null,
            "bottom": null,
            "display": null,
            "flex": null,
            "flex_flow": null,
            "grid_area": null,
            "grid_auto_columns": null,
            "grid_auto_flow": null,
            "grid_auto_rows": null,
            "grid_column": null,
            "grid_gap": null,
            "grid_row": null,
            "grid_template_areas": null,
            "grid_template_columns": null,
            "grid_template_rows": null,
            "height": null,
            "justify_content": null,
            "justify_items": null,
            "left": null,
            "margin": null,
            "max_height": null,
            "max_width": null,
            "min_height": null,
            "min_width": null,
            "object_fit": null,
            "object_position": null,
            "order": null,
            "overflow": null,
            "overflow_x": null,
            "overflow_y": null,
            "padding": null,
            "right": null,
            "top": null,
            "visibility": null,
            "width": null
          }
        },
        "8dcbf99456d0414f883a843aaf7459b2": {
          "model_module": "@jupyter-widgets/controls",
          "model_name": "ProgressStyleModel",
          "model_module_version": "1.5.0",
          "state": {
            "_model_module": "@jupyter-widgets/controls",
            "_model_module_version": "1.5.0",
            "_model_name": "ProgressStyleModel",
            "_view_count": null,
            "_view_module": "@jupyter-widgets/base",
            "_view_module_version": "1.2.0",
            "_view_name": "StyleView",
            "bar_color": null,
            "description_width": ""
          }
        },
        "172fa65697284200bfc4d6cd43734330": {
          "model_module": "@jupyter-widgets/base",
          "model_name": "LayoutModel",
          "model_module_version": "1.2.0",
          "state": {
            "_model_module": "@jupyter-widgets/base",
            "_model_module_version": "1.2.0",
            "_model_name": "LayoutModel",
            "_view_count": null,
            "_view_module": "@jupyter-widgets/base",
            "_view_module_version": "1.2.0",
            "_view_name": "LayoutView",
            "align_content": null,
            "align_items": null,
            "align_self": null,
            "border": null,
            "bottom": null,
            "display": null,
            "flex": null,
            "flex_flow": null,
            "grid_area": null,
            "grid_auto_columns": null,
            "grid_auto_flow": null,
            "grid_auto_rows": null,
            "grid_column": null,
            "grid_gap": null,
            "grid_row": null,
            "grid_template_areas": null,
            "grid_template_columns": null,
            "grid_template_rows": null,
            "height": null,
            "justify_content": null,
            "justify_items": null,
            "left": null,
            "margin": null,
            "max_height": null,
            "max_width": null,
            "min_height": null,
            "min_width": null,
            "object_fit": null,
            "object_position": null,
            "order": null,
            "overflow": null,
            "overflow_x": null,
            "overflow_y": null,
            "padding": null,
            "right": null,
            "top": null,
            "visibility": null,
            "width": null
          }
        },
        "40b4d2b909e1490bbc5c2d62f2103d26": {
          "model_module": "@jupyter-widgets/controls",
          "model_name": "DescriptionStyleModel",
          "model_module_version": "1.5.0",
          "state": {
            "_model_module": "@jupyter-widgets/controls",
            "_model_module_version": "1.5.0",
            "_model_name": "DescriptionStyleModel",
            "_view_count": null,
            "_view_module": "@jupyter-widgets/base",
            "_view_module_version": "1.2.0",
            "_view_name": "StyleView",
            "description_width": ""
          }
        },
        "d9f4904317064d25a541c7d24ad408b5": {
          "model_module": "@jupyter-widgets/controls",
          "model_name": "HBoxModel",
          "model_module_version": "1.5.0",
          "state": {
            "_dom_classes": [],
            "_model_module": "@jupyter-widgets/controls",
            "_model_module_version": "1.5.0",
            "_model_name": "HBoxModel",
            "_view_count": null,
            "_view_module": "@jupyter-widgets/controls",
            "_view_module_version": "1.5.0",
            "_view_name": "HBoxView",
            "box_style": "",
            "children": [
              "IPY_MODEL_8c29dafdce2a478889d4aaaadfb6d98a",
              "IPY_MODEL_61b28f9791ef477ab9ce508f102891fe",
              "IPY_MODEL_7d14512b2a014cb6a96e7bb9f66d90d6"
            ],
            "layout": "IPY_MODEL_b0b9c1caea8a4b05adaf249919b5a4d8"
          }
        },
        "8c29dafdce2a478889d4aaaadfb6d98a": {
          "model_module": "@jupyter-widgets/controls",
          "model_name": "HTMLModel",
          "model_module_version": "1.5.0",
          "state": {
            "_dom_classes": [],
            "_model_module": "@jupyter-widgets/controls",
            "_model_module_version": "1.5.0",
            "_model_name": "HTMLModel",
            "_view_count": null,
            "_view_module": "@jupyter-widgets/controls",
            "_view_module_version": "1.5.0",
            "_view_name": "HTMLView",
            "description": "",
            "description_tooltip": null,
            "layout": "IPY_MODEL_07bbe1c5d4d249439a134256140d6c56",
            "placeholder": "​",
            "style": "IPY_MODEL_ac2179c6f0824f9190394593fbbf9a91",
            "value": "Downloading (…)lve/main/config.json: 100%"
          }
        },
        "61b28f9791ef477ab9ce508f102891fe": {
          "model_module": "@jupyter-widgets/controls",
          "model_name": "FloatProgressModel",
          "model_module_version": "1.5.0",
          "state": {
            "_dom_classes": [],
            "_model_module": "@jupyter-widgets/controls",
            "_model_module_version": "1.5.0",
            "_model_name": "FloatProgressModel",
            "_view_count": null,
            "_view_module": "@jupyter-widgets/controls",
            "_view_module_version": "1.5.0",
            "_view_name": "ProgressView",
            "bar_style": "success",
            "description": "",
            "description_tooltip": null,
            "layout": "IPY_MODEL_f4035ea3865c461c9cc3a54ca087861c",
            "max": 6569,
            "min": 0,
            "orientation": "horizontal",
            "style": "IPY_MODEL_906b08b49b6e490d812b160fe412357f",
            "value": 6569
          }
        },
        "7d14512b2a014cb6a96e7bb9f66d90d6": {
          "model_module": "@jupyter-widgets/controls",
          "model_name": "HTMLModel",
          "model_module_version": "1.5.0",
          "state": {
            "_dom_classes": [],
            "_model_module": "@jupyter-widgets/controls",
            "_model_module_version": "1.5.0",
            "_model_name": "HTMLModel",
            "_view_count": null,
            "_view_module": "@jupyter-widgets/controls",
            "_view_module_version": "1.5.0",
            "_view_name": "HTMLView",
            "description": "",
            "description_tooltip": null,
            "layout": "IPY_MODEL_e8c24da413a844fdb0e1bdc51d434b37",
            "placeholder": "​",
            "style": "IPY_MODEL_b0eba6436933469a8883a12ab1b11e62",
            "value": " 6.57k/6.57k [00:00&lt;00:00, 255kB/s]"
          }
        },
        "b0b9c1caea8a4b05adaf249919b5a4d8": {
          "model_module": "@jupyter-widgets/base",
          "model_name": "LayoutModel",
          "model_module_version": "1.2.0",
          "state": {
            "_model_module": "@jupyter-widgets/base",
            "_model_module_version": "1.2.0",
            "_model_name": "LayoutModel",
            "_view_count": null,
            "_view_module": "@jupyter-widgets/base",
            "_view_module_version": "1.2.0",
            "_view_name": "LayoutView",
            "align_content": null,
            "align_items": null,
            "align_self": null,
            "border": null,
            "bottom": null,
            "display": null,
            "flex": null,
            "flex_flow": null,
            "grid_area": null,
            "grid_auto_columns": null,
            "grid_auto_flow": null,
            "grid_auto_rows": null,
            "grid_column": null,
            "grid_gap": null,
            "grid_row": null,
            "grid_template_areas": null,
            "grid_template_columns": null,
            "grid_template_rows": null,
            "height": null,
            "justify_content": null,
            "justify_items": null,
            "left": null,
            "margin": null,
            "max_height": null,
            "max_width": null,
            "min_height": null,
            "min_width": null,
            "object_fit": null,
            "object_position": null,
            "order": null,
            "overflow": null,
            "overflow_x": null,
            "overflow_y": null,
            "padding": null,
            "right": null,
            "top": null,
            "visibility": null,
            "width": null
          }
        },
        "07bbe1c5d4d249439a134256140d6c56": {
          "model_module": "@jupyter-widgets/base",
          "model_name": "LayoutModel",
          "model_module_version": "1.2.0",
          "state": {
            "_model_module": "@jupyter-widgets/base",
            "_model_module_version": "1.2.0",
            "_model_name": "LayoutModel",
            "_view_count": null,
            "_view_module": "@jupyter-widgets/base",
            "_view_module_version": "1.2.0",
            "_view_name": "LayoutView",
            "align_content": null,
            "align_items": null,
            "align_self": null,
            "border": null,
            "bottom": null,
            "display": null,
            "flex": null,
            "flex_flow": null,
            "grid_area": null,
            "grid_auto_columns": null,
            "grid_auto_flow": null,
            "grid_auto_rows": null,
            "grid_column": null,
            "grid_gap": null,
            "grid_row": null,
            "grid_template_areas": null,
            "grid_template_columns": null,
            "grid_template_rows": null,
            "height": null,
            "justify_content": null,
            "justify_items": null,
            "left": null,
            "margin": null,
            "max_height": null,
            "max_width": null,
            "min_height": null,
            "min_width": null,
            "object_fit": null,
            "object_position": null,
            "order": null,
            "overflow": null,
            "overflow_x": null,
            "overflow_y": null,
            "padding": null,
            "right": null,
            "top": null,
            "visibility": null,
            "width": null
          }
        },
        "ac2179c6f0824f9190394593fbbf9a91": {
          "model_module": "@jupyter-widgets/controls",
          "model_name": "DescriptionStyleModel",
          "model_module_version": "1.5.0",
          "state": {
            "_model_module": "@jupyter-widgets/controls",
            "_model_module_version": "1.5.0",
            "_model_name": "DescriptionStyleModel",
            "_view_count": null,
            "_view_module": "@jupyter-widgets/base",
            "_view_module_version": "1.2.0",
            "_view_name": "StyleView",
            "description_width": ""
          }
        },
        "f4035ea3865c461c9cc3a54ca087861c": {
          "model_module": "@jupyter-widgets/base",
          "model_name": "LayoutModel",
          "model_module_version": "1.2.0",
          "state": {
            "_model_module": "@jupyter-widgets/base",
            "_model_module_version": "1.2.0",
            "_model_name": "LayoutModel",
            "_view_count": null,
            "_view_module": "@jupyter-widgets/base",
            "_view_module_version": "1.2.0",
            "_view_name": "LayoutView",
            "align_content": null,
            "align_items": null,
            "align_self": null,
            "border": null,
            "bottom": null,
            "display": null,
            "flex": null,
            "flex_flow": null,
            "grid_area": null,
            "grid_auto_columns": null,
            "grid_auto_flow": null,
            "grid_auto_rows": null,
            "grid_column": null,
            "grid_gap": null,
            "grid_row": null,
            "grid_template_areas": null,
            "grid_template_columns": null,
            "grid_template_rows": null,
            "height": null,
            "justify_content": null,
            "justify_items": null,
            "left": null,
            "margin": null,
            "max_height": null,
            "max_width": null,
            "min_height": null,
            "min_width": null,
            "object_fit": null,
            "object_position": null,
            "order": null,
            "overflow": null,
            "overflow_x": null,
            "overflow_y": null,
            "padding": null,
            "right": null,
            "top": null,
            "visibility": null,
            "width": null
          }
        },
        "906b08b49b6e490d812b160fe412357f": {
          "model_module": "@jupyter-widgets/controls",
          "model_name": "ProgressStyleModel",
          "model_module_version": "1.5.0",
          "state": {
            "_model_module": "@jupyter-widgets/controls",
            "_model_module_version": "1.5.0",
            "_model_name": "ProgressStyleModel",
            "_view_count": null,
            "_view_module": "@jupyter-widgets/base",
            "_view_module_version": "1.2.0",
            "_view_name": "StyleView",
            "bar_color": null,
            "description_width": ""
          }
        },
        "e8c24da413a844fdb0e1bdc51d434b37": {
          "model_module": "@jupyter-widgets/base",
          "model_name": "LayoutModel",
          "model_module_version": "1.2.0",
          "state": {
            "_model_module": "@jupyter-widgets/base",
            "_model_module_version": "1.2.0",
            "_model_name": "LayoutModel",
            "_view_count": null,
            "_view_module": "@jupyter-widgets/base",
            "_view_module_version": "1.2.0",
            "_view_name": "LayoutView",
            "align_content": null,
            "align_items": null,
            "align_self": null,
            "border": null,
            "bottom": null,
            "display": null,
            "flex": null,
            "flex_flow": null,
            "grid_area": null,
            "grid_auto_columns": null,
            "grid_auto_flow": null,
            "grid_auto_rows": null,
            "grid_column": null,
            "grid_gap": null,
            "grid_row": null,
            "grid_template_areas": null,
            "grid_template_columns": null,
            "grid_template_rows": null,
            "height": null,
            "justify_content": null,
            "justify_items": null,
            "left": null,
            "margin": null,
            "max_height": null,
            "max_width": null,
            "min_height": null,
            "min_width": null,
            "object_fit": null,
            "object_position": null,
            "order": null,
            "overflow": null,
            "overflow_x": null,
            "overflow_y": null,
            "padding": null,
            "right": null,
            "top": null,
            "visibility": null,
            "width": null
          }
        },
        "b0eba6436933469a8883a12ab1b11e62": {
          "model_module": "@jupyter-widgets/controls",
          "model_name": "DescriptionStyleModel",
          "model_module_version": "1.5.0",
          "state": {
            "_model_module": "@jupyter-widgets/controls",
            "_model_module_version": "1.5.0",
            "_model_name": "DescriptionStyleModel",
            "_view_count": null,
            "_view_module": "@jupyter-widgets/base",
            "_view_module_version": "1.2.0",
            "_view_name": "StyleView",
            "description_width": ""
          }
        },
        "e5eb56503a4e420f9d915d3326f79479": {
          "model_module": "@jupyter-widgets/controls",
          "model_name": "HBoxModel",
          "model_module_version": "1.5.0",
          "state": {
            "_dom_classes": [],
            "_model_module": "@jupyter-widgets/controls",
            "_model_module_version": "1.5.0",
            "_model_name": "HBoxModel",
            "_view_count": null,
            "_view_module": "@jupyter-widgets/controls",
            "_view_module_version": "1.5.0",
            "_view_name": "HBoxView",
            "box_style": "",
            "children": [
              "IPY_MODEL_b8f5b19ed4e8436fbd4b40ad478e13ff",
              "IPY_MODEL_a01f3e61ee9a4a67864e02947ed98a75",
              "IPY_MODEL_c0676b2b164944b093e16dc0bafde15b"
            ],
            "layout": "IPY_MODEL_ffc2fcda5ac04e188d6678626e388dc4"
          }
        },
        "b8f5b19ed4e8436fbd4b40ad478e13ff": {
          "model_module": "@jupyter-widgets/controls",
          "model_name": "HTMLModel",
          "model_module_version": "1.5.0",
          "state": {
            "_dom_classes": [],
            "_model_module": "@jupyter-widgets/controls",
            "_model_module_version": "1.5.0",
            "_model_name": "HTMLModel",
            "_view_count": null,
            "_view_module": "@jupyter-widgets/controls",
            "_view_module_version": "1.5.0",
            "_view_name": "HTMLView",
            "description": "",
            "description_tooltip": null,
            "layout": "IPY_MODEL_fbe30c4ecd474297b38075e7cb032cd6",
            "placeholder": "​",
            "style": "IPY_MODEL_e9589a02c42c49949eccae966b44cf8a",
            "value": "Downloading pytorch_model.bin: 100%"
          }
        },
        "a01f3e61ee9a4a67864e02947ed98a75": {
          "model_module": "@jupyter-widgets/controls",
          "model_name": "FloatProgressModel",
          "model_module_version": "1.5.0",
          "state": {
            "_dom_classes": [],
            "_model_module": "@jupyter-widgets/controls",
            "_model_module_version": "1.5.0",
            "_model_name": "FloatProgressModel",
            "_view_count": null,
            "_view_module": "@jupyter-widgets/controls",
            "_view_module_version": "1.5.0",
            "_view_name": "ProgressView",
            "bar_style": "success",
            "description": "",
            "description_tooltip": null,
            "layout": "IPY_MODEL_b2a0cc86325a40ed82ae5a9971e192d5",
            "max": 2564565013,
            "min": 0,
            "orientation": "horizontal",
            "style": "IPY_MODEL_ab74ce8559244161857be6ae0fcdf4cd",
            "value": 2564565013
          }
        },
        "c0676b2b164944b093e16dc0bafde15b": {
          "model_module": "@jupyter-widgets/controls",
          "model_name": "HTMLModel",
          "model_module_version": "1.5.0",
          "state": {
            "_dom_classes": [],
            "_model_module": "@jupyter-widgets/controls",
            "_model_module_version": "1.5.0",
            "_model_name": "HTMLModel",
            "_view_count": null,
            "_view_module": "@jupyter-widgets/controls",
            "_view_module_version": "1.5.0",
            "_view_name": "HTMLView",
            "description": "",
            "description_tooltip": null,
            "layout": "IPY_MODEL_b6d04a8474f24128a9482c7edadbd208",
            "placeholder": "​",
            "style": "IPY_MODEL_bb2f4a3a51a942ffb0056031c5bafa7f",
            "value": " 2.56G/2.56G [00:15&lt;00:00, 242MB/s]"
          }
        },
        "ffc2fcda5ac04e188d6678626e388dc4": {
          "model_module": "@jupyter-widgets/base",
          "model_name": "LayoutModel",
          "model_module_version": "1.2.0",
          "state": {
            "_model_module": "@jupyter-widgets/base",
            "_model_module_version": "1.2.0",
            "_model_name": "LayoutModel",
            "_view_count": null,
            "_view_module": "@jupyter-widgets/base",
            "_view_module_version": "1.2.0",
            "_view_name": "LayoutView",
            "align_content": null,
            "align_items": null,
            "align_self": null,
            "border": null,
            "bottom": null,
            "display": null,
            "flex": null,
            "flex_flow": null,
            "grid_area": null,
            "grid_auto_columns": null,
            "grid_auto_flow": null,
            "grid_auto_rows": null,
            "grid_column": null,
            "grid_gap": null,
            "grid_row": null,
            "grid_template_areas": null,
            "grid_template_columns": null,
            "grid_template_rows": null,
            "height": null,
            "justify_content": null,
            "justify_items": null,
            "left": null,
            "margin": null,
            "max_height": null,
            "max_width": null,
            "min_height": null,
            "min_width": null,
            "object_fit": null,
            "object_position": null,
            "order": null,
            "overflow": null,
            "overflow_x": null,
            "overflow_y": null,
            "padding": null,
            "right": null,
            "top": null,
            "visibility": null,
            "width": null
          }
        },
        "fbe30c4ecd474297b38075e7cb032cd6": {
          "model_module": "@jupyter-widgets/base",
          "model_name": "LayoutModel",
          "model_module_version": "1.2.0",
          "state": {
            "_model_module": "@jupyter-widgets/base",
            "_model_module_version": "1.2.0",
            "_model_name": "LayoutModel",
            "_view_count": null,
            "_view_module": "@jupyter-widgets/base",
            "_view_module_version": "1.2.0",
            "_view_name": "LayoutView",
            "align_content": null,
            "align_items": null,
            "align_self": null,
            "border": null,
            "bottom": null,
            "display": null,
            "flex": null,
            "flex_flow": null,
            "grid_area": null,
            "grid_auto_columns": null,
            "grid_auto_flow": null,
            "grid_auto_rows": null,
            "grid_column": null,
            "grid_gap": null,
            "grid_row": null,
            "grid_template_areas": null,
            "grid_template_columns": null,
            "grid_template_rows": null,
            "height": null,
            "justify_content": null,
            "justify_items": null,
            "left": null,
            "margin": null,
            "max_height": null,
            "max_width": null,
            "min_height": null,
            "min_width": null,
            "object_fit": null,
            "object_position": null,
            "order": null,
            "overflow": null,
            "overflow_x": null,
            "overflow_y": null,
            "padding": null,
            "right": null,
            "top": null,
            "visibility": null,
            "width": null
          }
        },
        "e9589a02c42c49949eccae966b44cf8a": {
          "model_module": "@jupyter-widgets/controls",
          "model_name": "DescriptionStyleModel",
          "model_module_version": "1.5.0",
          "state": {
            "_model_module": "@jupyter-widgets/controls",
            "_model_module_version": "1.5.0",
            "_model_name": "DescriptionStyleModel",
            "_view_count": null,
            "_view_module": "@jupyter-widgets/base",
            "_view_module_version": "1.2.0",
            "_view_name": "StyleView",
            "description_width": ""
          }
        },
        "b2a0cc86325a40ed82ae5a9971e192d5": {
          "model_module": "@jupyter-widgets/base",
          "model_name": "LayoutModel",
          "model_module_version": "1.2.0",
          "state": {
            "_model_module": "@jupyter-widgets/base",
            "_model_module_version": "1.2.0",
            "_model_name": "LayoutModel",
            "_view_count": null,
            "_view_module": "@jupyter-widgets/base",
            "_view_module_version": "1.2.0",
            "_view_name": "LayoutView",
            "align_content": null,
            "align_items": null,
            "align_self": null,
            "border": null,
            "bottom": null,
            "display": null,
            "flex": null,
            "flex_flow": null,
            "grid_area": null,
            "grid_auto_columns": null,
            "grid_auto_flow": null,
            "grid_auto_rows": null,
            "grid_column": null,
            "grid_gap": null,
            "grid_row": null,
            "grid_template_areas": null,
            "grid_template_columns": null,
            "grid_template_rows": null,
            "height": null,
            "justify_content": null,
            "justify_items": null,
            "left": null,
            "margin": null,
            "max_height": null,
            "max_width": null,
            "min_height": null,
            "min_width": null,
            "object_fit": null,
            "object_position": null,
            "order": null,
            "overflow": null,
            "overflow_x": null,
            "overflow_y": null,
            "padding": null,
            "right": null,
            "top": null,
            "visibility": null,
            "width": null
          }
        },
        "ab74ce8559244161857be6ae0fcdf4cd": {
          "model_module": "@jupyter-widgets/controls",
          "model_name": "ProgressStyleModel",
          "model_module_version": "1.5.0",
          "state": {
            "_model_module": "@jupyter-widgets/controls",
            "_model_module_version": "1.5.0",
            "_model_name": "ProgressStyleModel",
            "_view_count": null,
            "_view_module": "@jupyter-widgets/base",
            "_view_module_version": "1.2.0",
            "_view_name": "StyleView",
            "bar_color": null,
            "description_width": ""
          }
        },
        "b6d04a8474f24128a9482c7edadbd208": {
          "model_module": "@jupyter-widgets/base",
          "model_name": "LayoutModel",
          "model_module_version": "1.2.0",
          "state": {
            "_model_module": "@jupyter-widgets/base",
            "_model_module_version": "1.2.0",
            "_model_name": "LayoutModel",
            "_view_count": null,
            "_view_module": "@jupyter-widgets/base",
            "_view_module_version": "1.2.0",
            "_view_name": "LayoutView",
            "align_content": null,
            "align_items": null,
            "align_self": null,
            "border": null,
            "bottom": null,
            "display": null,
            "flex": null,
            "flex_flow": null,
            "grid_area": null,
            "grid_auto_columns": null,
            "grid_auto_flow": null,
            "grid_auto_rows": null,
            "grid_column": null,
            "grid_gap": null,
            "grid_row": null,
            "grid_template_areas": null,
            "grid_template_columns": null,
            "grid_template_rows": null,
            "height": null,
            "justify_content": null,
            "justify_items": null,
            "left": null,
            "margin": null,
            "max_height": null,
            "max_width": null,
            "min_height": null,
            "min_width": null,
            "object_fit": null,
            "object_position": null,
            "order": null,
            "overflow": null,
            "overflow_x": null,
            "overflow_y": null,
            "padding": null,
            "right": null,
            "top": null,
            "visibility": null,
            "width": null
          }
        },
        "bb2f4a3a51a942ffb0056031c5bafa7f": {
          "model_module": "@jupyter-widgets/controls",
          "model_name": "DescriptionStyleModel",
          "model_module_version": "1.5.0",
          "state": {
            "_model_module": "@jupyter-widgets/controls",
            "_model_module_version": "1.5.0",
            "_model_name": "DescriptionStyleModel",
            "_view_count": null,
            "_view_module": "@jupyter-widgets/base",
            "_view_module_version": "1.2.0",
            "_view_name": "StyleView",
            "description_width": ""
          }
        }
      }
    }
  },
  "cells": [
    {
      "cell_type": "markdown",
      "metadata": {
        "id": "view-in-github",
        "colab_type": "text"
      },
      "source": [
        "<a href=\"https://colab.research.google.com/github/JanMeow/ML-cases/blob/main/0817_SAM_Perspective_Adjustment.ipynb\" target=\"_parent\"><img src=\"https://colab.research.google.com/assets/colab-badge.svg\" alt=\"Open In Colab\"/></a>"
      ]
    },
    {
      "cell_type": "markdown",
      "source": [
        "#Data Path Set up"
      ],
      "metadata": {
        "id": "YVmX3npUF-PM"
      }
    },
    {
      "cell_type": "code",
      "source": [
        "img_0 = \"1qPYq5wf1pE72mN5meuBU6GRatGd6lz78\"\n",
        "img_1 = \"1pC3AbQwWg2Ak0Jq1zKGAukIH-1sMViRK\"\n",
        "img_2 = \"1uo8C7CrxglnsglbvW_riFrAQiAzbTsWG\"\n",
        "img_3 = \"1RqCVsiY0oGUZ0zFUMxG5MyyZgmH7wNJU\"\n",
        "\n",
        "mask_0 = \"1wS6o9dar-kaYHHWNH_aOaaQyDpR50RwA\"\n",
        "mask_1 = \"1CIvPl0smPgpREoNwiZtodvVGLLSbq8Tf\"\n",
        "mask_2 = \"1TfmxxFLD3voLeYtLVomkOoU8o0yy05dx\"\n",
        "mask_3 = \"1Mx3ZibAxoF4HcLyYS7zMyWNxMSzn8-vJ\"\n",
        "\n",
        "!gdown --id $img_3 --output window.jpg\n",
        "!gdown --id $mask_3 --output window_mask.jpg\n",
        "!gdown --id $img_0 --output window_test.jpg\n",
        "\n",
        "train_img = \"window.jpg\"\n",
        "train_mask = \"window_mask.jpg\"\n",
        "test_img = \"window_test.jpg\""
      ],
      "metadata": {
        "colab": {
          "base_uri": "https://localhost:8080/"
        },
        "id": "bduEY9zBF9vY",
        "outputId": "b5fab236-8d94-42e4-a787-68af74f2149c"
      },
      "execution_count": 1,
      "outputs": [
        {
          "output_type": "stream",
          "name": "stdout",
          "text": [
            "/usr/local/lib/python3.10/dist-packages/gdown/cli.py:121: FutureWarning: Option `--id` was deprecated in version 4.3.1 and will be removed in 5.0. You don't need to pass it anymore to use a file ID.\n",
            "  warnings.warn(\n",
            "Downloading...\n",
            "From: https://drive.google.com/uc?id=1RqCVsiY0oGUZ0zFUMxG5MyyZgmH7wNJU\n",
            "To: /content/window.jpg\n",
            "100% 28.9k/28.9k [00:00<00:00, 81.3MB/s]\n",
            "/usr/local/lib/python3.10/dist-packages/gdown/cli.py:121: FutureWarning: Option `--id` was deprecated in version 4.3.1 and will be removed in 5.0. You don't need to pass it anymore to use a file ID.\n",
            "  warnings.warn(\n",
            "Downloading...\n",
            "From: https://drive.google.com/uc?id=1Mx3ZibAxoF4HcLyYS7zMyWNxMSzn8-vJ\n",
            "To: /content/window_mask.jpg\n",
            "100% 7.43k/7.43k [00:00<00:00, 35.1MB/s]\n",
            "/usr/local/lib/python3.10/dist-packages/gdown/cli.py:121: FutureWarning: Option `--id` was deprecated in version 4.3.1 and will be removed in 5.0. You don't need to pass it anymore to use a file ID.\n",
            "  warnings.warn(\n",
            "Downloading...\n",
            "From: https://drive.google.com/uc?id=1qPYq5wf1pE72mN5meuBU6GRatGd6lz78\n",
            "To: /content/window_test.jpg\n",
            "100% 82.7k/82.7k [00:00<00:00, 96.7MB/s]\n"
          ]
        }
      ]
    },
    {
      "cell_type": "markdown",
      "source": [
        "## Installing PerSAM"
      ],
      "metadata": {
        "id": "52VQCbVG5twq"
      }
    },
    {
      "cell_type": "code",
      "source": [
        "!pip install -q git+https://github.com/huggingface/transformers.git"
      ],
      "metadata": {
        "colab": {
          "base_uri": "https://localhost:8080/"
        },
        "id": "u2gbwx025tWN",
        "outputId": "ede8f2bb-2fd7-433a-8c4a-ca6063f9eacd"
      },
      "execution_count": 2,
      "outputs": [
        {
          "output_type": "stream",
          "name": "stdout",
          "text": [
            "  Installing build dependencies ... \u001b[?25l\u001b[?25hdone\n",
            "  Getting requirements to build wheel ... \u001b[?25l\u001b[?25hdone\n",
            "  Preparing metadata (pyproject.toml) ... \u001b[?25l\u001b[?25hdone\n",
            "\u001b[2K     \u001b[90m━━━━━━━━━━━━━━━━━━━━━━━━━━━━━━━━━━━━━━━\u001b[0m \u001b[32m268.8/268.8 kB\u001b[0m \u001b[31m5.8 MB/s\u001b[0m eta \u001b[36m0:00:00\u001b[0m\n",
            "\u001b[2K     \u001b[90m━━━━━━━━━━━━━━━━━━━━━━━━━━━━━━━━━━━━━━━━\u001b[0m \u001b[32m7.8/7.8 MB\u001b[0m \u001b[31m38.0 MB/s\u001b[0m eta \u001b[36m0:00:00\u001b[0m\n",
            "\u001b[2K     \u001b[90m━━━━━━━━━━━━━━━━━━━━━━━━━━━━━━━━━━━━━━━━\u001b[0m \u001b[32m1.3/1.3 MB\u001b[0m \u001b[31m59.1 MB/s\u001b[0m eta \u001b[36m0:00:00\u001b[0m\n",
            "\u001b[?25h  Building wheel for transformers (pyproject.toml) ... \u001b[?25l\u001b[?25hdone\n"
          ]
        }
      ]
    },
    {
      "cell_type": "markdown",
      "source": [
        "##Load Model"
      ],
      "metadata": {
        "id": "ijT2zlKM565g"
      }
    },
    {
      "cell_type": "code",
      "execution_count": 3,
      "metadata": {
        "colab": {
          "base_uri": "https://localhost:8080/",
          "height": 113,
          "referenced_widgets": [
            "dce9cbaf4a3e458bb77ef6f57acdadf7",
            "b659dd7797114bc8b751eeec8e522d1d",
            "1969df735dcd40cc878360a75af3b1af",
            "8abe4a15f4a94730926b1675e650bcd2",
            "5a6772ea90fa423699a1c95b37bd3e46",
            "7d1abff859a84f329f9a4c46b625f946",
            "e7ecc276c5cb43f89263d00e7042c2b4",
            "782c1ae738624da78dd5a796ac78b3d5",
            "8dcbf99456d0414f883a843aaf7459b2",
            "172fa65697284200bfc4d6cd43734330",
            "40b4d2b909e1490bbc5c2d62f2103d26",
            "d9f4904317064d25a541c7d24ad408b5",
            "8c29dafdce2a478889d4aaaadfb6d98a",
            "61b28f9791ef477ab9ce508f102891fe",
            "7d14512b2a014cb6a96e7bb9f66d90d6",
            "b0b9c1caea8a4b05adaf249919b5a4d8",
            "07bbe1c5d4d249439a134256140d6c56",
            "ac2179c6f0824f9190394593fbbf9a91",
            "f4035ea3865c461c9cc3a54ca087861c",
            "906b08b49b6e490d812b160fe412357f",
            "e8c24da413a844fdb0e1bdc51d434b37",
            "b0eba6436933469a8883a12ab1b11e62",
            "e5eb56503a4e420f9d915d3326f79479",
            "b8f5b19ed4e8436fbd4b40ad478e13ff",
            "a01f3e61ee9a4a67864e02947ed98a75",
            "c0676b2b164944b093e16dc0bafde15b",
            "ffc2fcda5ac04e188d6678626e388dc4",
            "fbe30c4ecd474297b38075e7cb032cd6",
            "e9589a02c42c49949eccae966b44cf8a",
            "b2a0cc86325a40ed82ae5a9971e192d5",
            "ab74ce8559244161857be6ae0fcdf4cd",
            "b6d04a8474f24128a9482c7edadbd208",
            "bb2f4a3a51a942ffb0056031c5bafa7f"
          ]
        },
        "id": "dFi52CuJ4u5k",
        "outputId": "403b6abd-3f64-4760-dc02-d8d01753f45a"
      },
      "outputs": [
        {
          "output_type": "display_data",
          "data": {
            "text/plain": [
              "Downloading (…)rocessor_config.json:   0%|          | 0.00/466 [00:00<?, ?B/s]"
            ],
            "application/vnd.jupyter.widget-view+json": {
              "version_major": 2,
              "version_minor": 0,
              "model_id": "dce9cbaf4a3e458bb77ef6f57acdadf7"
            }
          },
          "metadata": {}
        },
        {
          "output_type": "display_data",
          "data": {
            "text/plain": [
              "Downloading (…)lve/main/config.json:   0%|          | 0.00/6.57k [00:00<?, ?B/s]"
            ],
            "application/vnd.jupyter.widget-view+json": {
              "version_major": 2,
              "version_minor": 0,
              "model_id": "d9f4904317064d25a541c7d24ad408b5"
            }
          },
          "metadata": {}
        },
        {
          "output_type": "display_data",
          "data": {
            "text/plain": [
              "Downloading pytorch_model.bin:   0%|          | 0.00/2.56G [00:00<?, ?B/s]"
            ],
            "application/vnd.jupyter.widget-view+json": {
              "version_major": 2,
              "version_minor": 0,
              "model_id": "e5eb56503a4e420f9d915d3326f79479"
            }
          },
          "metadata": {}
        }
      ],
      "source": [
        "from transformers import AutoProcessor, SamModel\n",
        "# from transformers import PerSamModel\n",
        "\n",
        "processor = AutoProcessor.from_pretrained(\"facebook/sam-vit-huge\")\n",
        "# model = PerSamModel.from_pretrained(\"facebook/sam-vit-huge\")\n",
        "model = SamModel.from_pretrained(\"facebook/sam-vit-huge\")"
      ]
    },
    {
      "cell_type": "markdown",
      "source": [
        "##Load Reference Image and mask"
      ],
      "metadata": {
        "id": "h7rLTjGy6Rcl"
      }
    },
    {
      "cell_type": "code",
      "source": [
        "from pathlib import Path\n",
        "train_img = Path('/content/window_mask.jpg')"
      ],
      "metadata": {
        "id": "ttmm3DW67qZk"
      },
      "execution_count": 4,
      "outputs": []
    },
    {
      "cell_type": "code",
      "source": [
        "from huggingface_hub import hf_hub_download\n",
        "from PIL import Image\n",
        "\n",
        "ref_image = Image.open(train_img).convert(\"RGB\")\n",
        "ref_image"
      ],
      "metadata": {
        "id": "zn9Jb1Su6XNl",
        "colab": {
          "base_uri": "https://localhost:8080/",
          "height": 445
        },
        "outputId": "239475cb-9b46-40ce-e2b9-de8aa1de338a"
      },
      "execution_count": 5,
      "outputs": [
        {
          "output_type": "execute_result",
          "data": {
            "text/plain": [
              "<PIL.Image.Image image mode=RGB size=570x428>"
            ],
            "image/png": "[encoded data removed]"
          },
          "metadata": {},
          "execution_count": 5
        }
      ]
    },
    {
      "cell_type": "code",
      "source": [
        "from PIL import Image\n",
        "import numpy as np\n",
        "\n",
        "numpy_array = np.array(ref_image)\n",
        "print(numpy_array.shape)"
      ],
      "metadata": {
        "colab": {
          "base_uri": "https://localhost:8080/"
        },
        "id": "mtuHzFdo73rP",
        "outputId": "6c965b78-ee42-4d79-cf64-a2ef64f3d857"
      },
      "execution_count": 6,
      "outputs": [
        {
          "output_type": "stream",
          "name": "stdout",
          "text": [
            "(428, 570, 3)\n"
          ]
        }
      ]
    },
    {
      "cell_type": "code",
      "source": [
        "numpy_array[0,0,:]"
      ],
      "metadata": {
        "colab": {
          "base_uri": "https://localhost:8080/"
        },
        "id": "77Qoaya4-7OY",
        "outputId": "fcd6c1a9-eb98-4248-ddfe-fc0a229d3597"
      },
      "execution_count": 7,
      "outputs": [
        {
          "output_type": "execute_result",
          "data": {
            "text/plain": [
              "array([1, 1, 1], dtype=uint8)"
            ]
          },
          "metadata": {},
          "execution_count": 7
        }
      ]
    },
    {
      "cell_type": "code",
      "source": [
        "crop = np.full_like(a=numpy_array, fill_value = 1,dtype= int)"
      ],
      "metadata": {
        "id": "mfuVujnq9apZ"
      },
      "execution_count": 8,
      "outputs": []
    },
    {
      "cell_type": "code",
      "source": [
        "mismatch_mask = numpy_array[...,-1] != crop[...,-1]\n",
        "mismatched_pixel = np.argwhere(mismatch_mask)\n",
        "print(mismatched_pixel)"
      ],
      "metadata": {
        "colab": {
          "base_uri": "https://localhost:8080/"
        },
        "id": "dj2eatUc_6QV",
        "outputId": "ef193966-ed59-4421-e991-60ea0b265f78"
      },
      "execution_count": 9,
      "outputs": [
        {
          "output_type": "stream",
          "name": "stdout",
          "text": [
            "[[ 32  88]\n",
            " [ 32  89]\n",
            " [ 32  90]\n",
            " ...\n",
            " [391 197]\n",
            " [391 198]\n",
            " [391 199]]\n"
          ]
        }
      ]
    },
    {
      "cell_type": "code",
      "source": [
        "import cv2\n",
        "from google.colab.patches import cv2_imshow\n",
        "#convert to grayscale\n",
        "img_gray =cv2.cvtColor(numpy_array, cv2.COLOR_BGR2GRAY)\n",
        "#Blur the image for better edge detection\n",
        "img_blur = cv2.GaussianBlur(img_gray, (3,3),0)\n",
        "\n",
        "# Canny Edge Detection\n",
        "edges = cv2.Canny(image=img_blur, threshold1=100, threshold2=200) # Canny Edge Detection\n",
        "cv2_imshow(edges)"
      ],
      "metadata": {
        "colab": {
          "base_uri": "https://localhost:8080/",
          "height": 445
        },
        "id": "2yQB5XMFMEZl",
        "outputId": "1e3c3829-1a34-427a-ef49-96a538a06fd1"
      },
      "execution_count": 10,
      "outputs": [
        {
          "output_type": "display_data",
          "data": {
            "text/plain": [
              "<PIL.Image.Image image mode=L size=570x428>"
            ],
            "image/png": "[encoded data removed]"
          },
          "metadata": {}
        }
      ]
    },
    {
      "cell_type": "code",
      "source": [
        "edges.shape"
      ],
      "metadata": {
        "colab": {
          "base_uri": "https://localhost:8080/"
        },
        "id": "b2rbmvDMOHW5",
        "outputId": "87f736ef-f34d-4e6c-9388-fe53440e455e"
      },
      "execution_count": 11,
      "outputs": [
        {
          "output_type": "execute_result",
          "data": {
            "text/plain": [
              "(428, 570)"
            ]
          },
          "metadata": {},
          "execution_count": 11
        }
      ]
    },
    {
      "cell_type": "code",
      "source": [
        "pixel = np.where(edges!=[0])\n",
        "pixel"
      ],
      "metadata": {
        "colab": {
          "base_uri": "https://localhost:8080/"
        },
        "id": "xTwdGU5bOVg7",
        "outputId": "88f8906f-6e3f-43d6-982d-907724784499"
      },
      "execution_count": 12,
      "outputs": [
        {
          "output_type": "execute_result",
          "data": {
            "text/plain": [
              "(array([ 32,  33,  33, ..., 386, 386, 386]),\n",
              " array([ 95,  93,  94, ..., 146, 147, 148]))"
            ]
          },
          "metadata": {},
          "execution_count": 12
        }
      ]
    },
    {
      "cell_type": "code",
      "source": [
        "import numpy as np\n",
        "\n",
        "coordinate_array = np.column_stack((pixel[1], pixel[0]))\n",
        "coordinate_array"
      ],
      "metadata": {
        "colab": {
          "base_uri": "https://localhost:8080/"
        },
        "id": "hytjYwzxLOSx",
        "outputId": "9a59924e-e6f9-41cb-d0e4-5e5155669db8"
      },
      "execution_count": 13,
      "outputs": [
        {
          "output_type": "execute_result",
          "data": {
            "text/plain": [
              "array([[ 95,  32],\n",
              "       [ 93,  33],\n",
              "       [ 94,  33],\n",
              "       ...,\n",
              "       [146, 386],\n",
              "       [147, 386],\n",
              "       [148, 386]])"
            ]
          },
          "metadata": {},
          "execution_count": 13
        }
      ]
    },
    {
      "cell_type": "code",
      "source": [
        "\n",
        "# Find the minimum and maximum values of x and y coordinates\n",
        "min_x = np.min(coordinate_array[:, 0])\n",
        "max_x = np.max(coordinate_array[:, 0])\n",
        "min_y = np.min(coordinate_array[:, 1])\n",
        "max_y = np.max(coordinate_array[:, 1])\n",
        "\n",
        "# Calculate the corners of the rectangle/square\n",
        "# bottom_left = (min_x, min_y)\n",
        "# bottom_right = (max_x, min_y)\n",
        "# top_left = (min_x, max_y)\n",
        "# top_right = (max_x, max_y)\n",
        "\n",
        "\n",
        "\n",
        "\n",
        "\n",
        "top_left = (min_x, min_y)\n",
        "top_right = (max_x, min_y)\n",
        "bottom_left = (min_x, max_y)\n",
        "bottom_right = (max_x, max_y)\n",
        "# top_left = (min_x, min_y)\n",
        "# top_right = (max_x, max_y)\n",
        "# bottom_right = (max_x, min_y)\n",
        "# bottom_left = (min_x, max_y)\n",
        "\n",
        "# top_left = (min_x, max_y)\n",
        "# top_right = (max_x, max_y)\n",
        "# Print the corners\n",
        "print(\"Top Left:\", top_left)\n",
        "print(\"Top Right:\", top_right)\n",
        "print(\"Bottom Left:\", bottom_left)\n",
        "print(\"Bottom Right:\", bottom_right)"
      ],
      "metadata": {
        "colab": {
          "base_uri": "https://localhost:8080/"
        },
        "id": "xmIpYVy3QKsg",
        "outputId": "9efbd9e0-7a97-444f-e20c-fc91c52d1d21"
      },
      "execution_count": 14,
      "outputs": [
        {
          "output_type": "stream",
          "name": "stdout",
          "text": [
            "Top Left: (93, 32)\n",
            "Top Right: (532, 32)\n",
            "Bottom Left: (93, 386)\n",
            "Bottom Right: (532, 386)\n"
          ]
        }
      ]
    },
    {
      "cell_type": "code",
      "source": [
        "corner_coordinates = np.array([top_left, top_right, bottom_right, bottom_left])\n",
        "corner_coordinates[:,0]"
      ],
      "metadata": {
        "colab": {
          "base_uri": "https://localhost:8080/"
        },
        "id": "qiYCNLT_Mk_A",
        "outputId": "eccb3da6-5c95-4f16-bdeb-ac85a24c9d91"
      },
      "execution_count": 15,
      "outputs": [
        {
          "output_type": "execute_result",
          "data": {
            "text/plain": [
              "array([ 93, 532, 532,  93])"
            ]
          },
          "metadata": {},
          "execution_count": 15
        }
      ]
    },
    {
      "cell_type": "code",
      "source": [
        "corner_coordinates"
      ],
      "metadata": {
        "colab": {
          "base_uri": "https://localhost:8080/"
        },
        "id": "WvzlXTa3UUY9",
        "outputId": "01edc2d2-b053-41ad-f050-18be99897222"
      },
      "execution_count": 16,
      "outputs": [
        {
          "output_type": "execute_result",
          "data": {
            "text/plain": [
              "array([[ 93,  32],\n",
              "       [532,  32],\n",
              "       [532, 386],\n",
              "       [ 93, 386]])"
            ]
          },
          "metadata": {},
          "execution_count": 16
        }
      ]
    },
    {
      "cell_type": "code",
      "source": [
        "import numpy as np\n",
        "import matplotlib.pyplot as plt\n",
        "import cv2\n",
        "\n",
        "\n",
        "# Separate the x and y coordinates\n",
        "x_coords = corner_coordinates[:, 0]\n",
        "y_coords = corner_coordinates[:, 1]\n",
        "\n",
        "# Plot the image\n",
        "plt.imshow(ref_image)\n",
        "\n",
        "# Plot the points as red dots\n",
        "plt.scatter(x_coords, y_coords, color='red', marker='o')\n",
        "\n",
        "# Show the plot\n",
        "plt.show()"
      ],
      "metadata": {
        "colab": {
          "base_uri": "https://localhost:8080/",
          "height": 435
        },
        "id": "aJDO5Rp-PkjM",
        "outputId": "d6b13eb4-eaca-4f00-c644-47c3d6fa80bb"
      },
      "execution_count": 17,
      "outputs": [
        {
          "output_type": "display_data",
          "data": {
            "text/plain": [
              "<Figure size 640x480 with 1 Axes>"
            ],
            "image/png": "[encoded data removed]"
          },
          "metadata": {}
        }
      ]
    },
    {
      "cell_type": "code",
      "source": [
        "corner_coordinates\n",
        "\n",
        "top_left = (min_x, min_y)\n",
        "top_right = (max_x, min_y)\n",
        "bottom_left = (min_x, max_y)\n",
        "bottom_right = (max_x, max_y)"
      ],
      "metadata": {
        "id": "ubGNm0StahyN"
      },
      "execution_count": 18,
      "outputs": []
    },
    {
      "cell_type": "code",
      "source": [
        "#Perspective transformation\n",
        "import numpy\n",
        "import cv2\n",
        "\n",
        "#The corrindates of distorted window frame due to perspective\n",
        "edges = cv2.Canny(image=img_blur, threshold1=100, threshold2=200)\n",
        "\n",
        "# perspective_corners = np.array([bottom_left, bottom_right, top_right, top_left],  dtype=np.float32)\n",
        "perspective_corners = np.array([bottom_left, bottom_right, top_right, top_left],  dtype=np.float32)\n",
        "\n",
        "\n",
        "#Actual dimension\n",
        "actual_width = 150\n",
        "actual_height = 150\n",
        "\n",
        "# Front elevation coordinates of the rectangle (4 corners)\n",
        "front_elevation_corners = np.array([(0, 0), (actual_width, 0), (actual_width, actual_height), (0, actual_height)], dtype=np.float32)\n",
        "\n",
        "\n",
        "#Transformation Matrix\n",
        "transformation_matrix = cv2.getPerspectiveTransform(perspective_corners, front_elevation_corners)"
      ],
      "metadata": {
        "id": "u9QEL3b1SgVR"
      },
      "execution_count": 19,
      "outputs": []
    },
    {
      "cell_type": "code",
      "source": [
        "transformed = cv2.perspectiveTransform(perspective_corners.reshape(-1, 1, 2), transformation_matrix).reshape(-1,2)\n",
        "transformed"
      ],
      "metadata": {
        "colab": {
          "base_uri": "https://localhost:8080/"
        },
        "id": "y12AJwFPb-wA",
        "outputId": "bbe73cb7-83cd-42b6-8282-ac7dce8c1160"
      },
      "execution_count": 20,
      "outputs": [
        {
          "output_type": "execute_result",
          "data": {
            "text/plain": [
              "array([[ 0.0000000e+00,  0.0000000e+00],\n",
              "       [ 1.5000000e+02,  0.0000000e+00],\n",
              "       [ 1.5000000e+02,  1.5000000e+02],\n",
              "       [-3.5527137e-15,  1.5000000e+02]], dtype=float32)"
            ]
          },
          "metadata": {},
          "execution_count": 20
        }
      ]
    },
    {
      "cell_type": "code",
      "source": [
        "#Transform entire edge detection\n",
        "edges = cv2.Canny(image=img_blur, threshold1=100, threshold2=200) # Canny Edge Detection\n",
        "\n",
        "transformed_edges = cv2.perspectiveTransform(np.array(edges, dtype = np.float32).reshape(-1, 1, 2), transformation_matrix)\n",
        "transformed_edges"
      ],
      "metadata": {
        "colab": {
          "base_uri": "https://localhost:8080/"
        },
        "id": "HUX-iVqmYWy4",
        "outputId": "f56ac7f5-16ee-43e0-a1da-9245584ac349"
      },
      "execution_count": 21,
      "outputs": [
        {
          "output_type": "execute_result",
          "data": {
            "text/plain": [
              "array([[[-31.776766, 163.55933 ]],\n",
              "\n",
              "       [[-31.776766, 163.55933 ]],\n",
              "\n",
              "       [[-31.776766, 163.55933 ]],\n",
              "\n",
              "       ...,\n",
              "\n",
              "       [[-31.776766, 163.55933 ]],\n",
              "\n",
              "       [[-31.776766, 163.55933 ]],\n",
              "\n",
              "       [[-31.776766, 163.55933 ]]], dtype=float32)"
            ]
          },
          "metadata": {},
          "execution_count": 21
        }
      ]
    },
    {
      "cell_type": "code",
      "source": [],
      "metadata": {
        "id": "vJKJmhXYOJhU"
      },
      "execution_count": null,
      "outputs": []
    },
    {
      "cell_type": "code",
      "source": [
        "import cv2\n",
        "import numpy as np\n",
        "\n",
        "img_blur = cv2.GaussianBlur(img_gray, (3,3),0)\n",
        "edges = cv2.Canny(image=img_blur, threshold1=100, threshold2=200)\n",
        "\n",
        "numpy_array = np.array(ref_image)\n",
        "\n",
        "lines = cv2.HoughLines(edges,1,np.pi/180,150)\n",
        "\n",
        "\n",
        "for line in lines:\n",
        "  print(line)\n",
        "  rho, theta = line[0]\n",
        "  a = np.cos(theta)\n",
        "  b = np.sin(theta)\n",
        "\n",
        "  x0 = a * rho\n",
        "  y0 = b * rho\n",
        "  x1 = int(x0 + 1000*(-b))\n",
        "  y1 = int(y0 + 1000*(a))\n",
        "  x2 = int(x0 - 1000*(-b))\n",
        "  y2 = int(y0 - 1000*(a))\n",
        "\n",
        "  cv2.line(numpy_array,(x1,y1),(x2,y2),(255,0,0),2)\n",
        "\n",
        "\n",
        "cv2_imshow(numpy_array)"
      ],
      "metadata": {
        "colab": {
          "base_uri": "https://localhost:8080/",
          "height": 532
        },
        "id": "F2QHpffLwdTF",
        "outputId": "befd73d0-71ff-4288-f125-3caf9a7089e7"
      },
      "execution_count": 56,
      "outputs": [
        {
          "output_type": "stream",
          "name": "stdout",
          "text": [
            "[[5.3300000e+02 1.2217305e-01]]\n",
            "[[81.         1.5707964]]\n",
            "[[-142.           3.0717795]]\n",
            "[[-90.         3.054326]]\n",
            "[[3.4100000e+02 1.7453292e-02]]\n"
          ]
        },
        {
          "output_type": "display_data",
          "data": {
            "text/plain": [
              "<PIL.Image.Image image mode=RGB size=570x428>"
            ],
            "image/png": "[encoded data removed]"
          },
          "metadata": {}
        }
      ]
    },
    {
      "cell_type": "code",
      "source": [
        "import numpy as np\n",
        "import matplotlib.pyplot as plt\n",
        "\n",
        "# Transformed coordinates of the rectangle\n",
        "transformed_coordinates = transformed_edges.reshape(-1,2)\n",
        "# Define the order of vertices to create the rectangle edges\n",
        "edges = [[0, 1], [1, 2], [2, 3], [3, 0]]\n",
        "\n",
        "# Plot the transformed rectangle\n",
        "plt.figure()\n",
        "for edge in edges:\n",
        "    plt.plot(transformed_coordinates[edge, 0], transformed_coordinates[edge, 1], 'b-')\n",
        "\n",
        "plt.scatter(transformed_coordinates[:, 0], transformed_coordinates[:, 1], color='red', marker='o')\n",
        "plt.xlabel('X')\n",
        "plt.ylabel('Y')\n",
        "plt.title('Transformed Rectangle')\n",
        "plt.grid()\n",
        "plt.axis('equal')\n",
        "plt.show()"
      ],
      "metadata": {
        "colab": {
          "base_uri": "https://localhost:8080/",
          "height": 472
        },
        "id": "CWk6Ry9YXcQi",
        "outputId": "25d1d0c3-5e7f-47cd-e305-bad6bdbcd1f4"
      },
      "execution_count": 24,
      "outputs": [
        {
          "output_type": "display_data",
          "data": {
            "text/plain": [
              "<Figure size 640x480 with 1 Axes>"
            ],
            "image/png": "[encoded data removed]"
          },
          "metadata": {}
        }
      ]
    },
    {
      "cell_type": "code",
      "source": [
        "# from huggingface_hub import hf_hub_download\n",
        "# from PIL import Image\n",
        "\n",
        "# ref_image = Image.open(train_img).convert(\"RGB\")\n",
        "# ref_image"
      ],
      "metadata": {
        "id": "bS6Q5Ucg5-_Q"
      },
      "execution_count": 25,
      "outputs": []
    },
    {
      "cell_type": "code",
      "source": [],
      "metadata": {
        "id": "KgRfHQg_PJMX"
      },
      "execution_count": 25,
      "outputs": []
    }
  ]
}