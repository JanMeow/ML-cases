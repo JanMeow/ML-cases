{
  "nbformat": 4,
  "nbformat_minor": 0,
  "metadata": {
    "colab": {
      "provenance": [],
      "machine_shape": "hm",
      "gpuType": "V100",
      "authorship_tag": "ABX9TyOnnY1bybVBg/0ArxxiMXlZ",
      "include_colab_link": true
    },
    "kernelspec": {
      "name": "python3",
      "display_name": "Python 3"
    },
    "language_info": {
      "name": "python"
    },
    "accelerator": "GPU"
  },
  "cells": [
    {
      "cell_type": "markdown",
      "metadata": {
        "id": "view-in-github",
        "colab_type": "text"
      },
      "source": [
        "<a href=\"https://colab.research.google.com/github/JanMeow/ML-cases/blob/main/0817_SAM_Perspective_Adjustment.ipynb\" target=\"_parent\"><img src=\"https://colab.research.google.com/assets/colab-badge.svg\" alt=\"Open In Colab\"/></a>"
      ]
    },
    {
      "cell_type": "markdown",
      "source": [
        "#Data Path Set up"
      ],
      "metadata": {
        "id": "YVmX3npUF-PM"
      }
    },
    {
      "cell_type": "code",
      "source": [
        "img_0 = \"1qPYq5wf1pE72mN5meuBU6GRatGd6lz78\"\n",
        "img_1 = \"1pC3AbQwWg2Ak0Jq1zKGAukIH-1sMViRK\"\n",
        "img_2 = \"1uo8C7CrxglnsglbvW_riFrAQiAzbTsWG\"\n",
        "img_3 = \"1RqCVsiY0oGUZ0zFUMxG5MyyZgmH7wNJU\"\n",
        "\n",
        "mask_0 = \"1wS6o9dar-kaYHHWNH_aOaaQyDpR50RwA\"\n",
        "mask_1 = \"1CIvPl0smPgpREoNwiZtodvVGLLSbq8Tf\"\n",
        "mask_2 = \"1TfmxxFLD3voLeYtLVomkOoU8o0yy05dx\"\n",
        "mask_3 = \"1Mx3ZibAxoF4HcLyYS7zMyWNxMSzn8-vJ\"\n",
        "\n",
        "!gdown --id $img_3 --output window.jpg\n",
        "!gdown --id $mask_3 --output window_mask.jpg\n",
        "!gdown --id $img_0 --output window_test.jpg\n",
        "\n",
        "train_img = \"window.jpg\"\n",
        "train_mask = \"window_mask.jpg\"\n",
        "test_img = \"window_test.jpg\""
      ],
      "metadata": {
        "colab": {
          "base_uri": "https://localhost:8080/"
        },
        "id": "bduEY9zBF9vY",
        "outputId": "18d58301-d359-47e5-d764-3fb36d87c918"
      },
      "execution_count": 61,
      "outputs": [
        {
          "output_type": "stream",
          "name": "stdout",
          "text": [
            "/usr/local/lib/python3.10/dist-packages/gdown/cli.py:121: FutureWarning: Option `--id` was deprecated in version 4.3.1 and will be removed in 5.0. You don't need to pass it anymore to use a file ID.\n",
            "  warnings.warn(\n",
            "Downloading...\n",
            "From: https://drive.google.com/uc?id=1RqCVsiY0oGUZ0zFUMxG5MyyZgmH7wNJU\n",
            "To: /content/window.jpg\n",
            "100% 28.9k/28.9k [00:00<00:00, 80.8MB/s]\n",
            "/usr/local/lib/python3.10/dist-packages/gdown/cli.py:121: FutureWarning: Option `--id` was deprecated in version 4.3.1 and will be removed in 5.0. You don't need to pass it anymore to use a file ID.\n",
            "  warnings.warn(\n",
            "Downloading...\n",
            "From: https://drive.google.com/uc?id=1Mx3ZibAxoF4HcLyYS7zMyWNxMSzn8-vJ\n",
            "To: /content/window_mask.jpg\n",
            "100% 7.43k/7.43k [00:00<00:00, 23.4MB/s]\n",
            "/usr/local/lib/python3.10/dist-packages/gdown/cli.py:121: FutureWarning: Option `--id` was deprecated in version 4.3.1 and will be removed in 5.0. You don't need to pass it anymore to use a file ID.\n",
            "  warnings.warn(\n",
            "Downloading...\n",
            "From: https://drive.google.com/uc?id=1qPYq5wf1pE72mN5meuBU6GRatGd6lz78\n",
            "To: /content/window_test.jpg\n",
            "100% 82.7k/82.7k [00:00<00:00, 100MB/s]\n"
          ]
        }
      ]
    },
    {
      "cell_type": "markdown",
      "source": [
        "## Installing PerSAM"
      ],
      "metadata": {
        "id": "52VQCbVG5twq"
      }
    },
    {
      "cell_type": "code",
      "source": [
        "!pip install -q git+https://github.com/huggingface/transformers.git"
      ],
      "metadata": {
        "colab": {
          "base_uri": "https://localhost:8080/"
        },
        "id": "u2gbwx025tWN",
        "outputId": "9889d719-7d3e-4552-c028-21dfaea48bfb"
      },
      "execution_count": 62,
      "outputs": [
        {
          "output_type": "stream",
          "name": "stdout",
          "text": [
            "  Installing build dependencies ... \u001b[?25l\u001b[?25hdone\n",
            "  Getting requirements to build wheel ... \u001b[?25l\u001b[?25hdone\n",
            "  Preparing metadata (pyproject.toml) ... \u001b[?25l\u001b[?25hdone\n"
          ]
        }
      ]
    },
    {
      "cell_type": "markdown",
      "source": [
        "##Load Model"
      ],
      "metadata": {
        "id": "ijT2zlKM565g"
      }
    },
    {
      "cell_type": "code",
      "execution_count": 63,
      "metadata": {
        "id": "dFi52CuJ4u5k"
      },
      "outputs": [],
      "source": [
        "from transformers import AutoProcessor, SamModel\n",
        "# from transformers import PerSamModel\n",
        "\n",
        "processor = AutoProcessor.from_pretrained(\"facebook/sam-vit-huge\")\n",
        "# model = PerSamModel.from_pretrained(\"facebook/sam-vit-huge\")\n",
        "model = SamModel.from_pretrained(\"facebook/sam-vit-huge\")"
      ]
    },
    {
      "cell_type": "markdown",
      "source": [
        "##Load Reference Image and mask"
      ],
      "metadata": {
        "id": "h7rLTjGy6Rcl"
      }
    },
    {
      "cell_type": "code",
      "source": [
        "from pathlib import Path\n",
        "train_img = Path('/content/window_mask.jpg')"
      ],
      "metadata": {
        "id": "ttmm3DW67qZk"
      },
      "execution_count": 64,
      "outputs": []
    },
    {
      "cell_type": "code",
      "source": [
        "from huggingface_hub import hf_hub_download\n",
        "from PIL import Image\n",
        "\n",
        "ref_image = Image.open(train_img).convert(\"RGB\")\n",
        "ref_image"
      ],
      "metadata": {
        "id": "zn9Jb1Su6XNl",
        "colab": {
          "base_uri": "https://localhost:8080/",
          "height": 445
        },
        "outputId": "de42a7d8-a5dd-4e44-916c-673324de0d9f"
      },
      "execution_count": 65,
      "outputs": [
        {
          "output_type": "execute_result",
          "data": {
            "text/plain": [
              "<PIL.Image.Image image mode=RGB size=570x428>"
            ],
            "image/png": "[encoded data removed]"
          },
          "metadata": {},
          "execution_count": 65
        }
      ]
    },
    {
      "cell_type": "code",
      "source": [
        "from PIL import Image\n",
        "import numpy as np\n",
        "\n",
        "numpy_array = np.array(ref_image)\n",
        "print(numpy_array.shape)"
      ],
      "metadata": {
        "colab": {
          "base_uri": "https://localhost:8080/"
        },
        "id": "mtuHzFdo73rP",
        "outputId": "21ab066c-e224-418c-caeb-d1546266d1a4"
      },
      "execution_count": 66,
      "outputs": [
        {
          "output_type": "stream",
          "name": "stdout",
          "text": [
            "(428, 570, 3)\n"
          ]
        }
      ]
    },
    {
      "cell_type": "code",
      "source": [
        "numpy_array[0,0,:]"
      ],
      "metadata": {
        "colab": {
          "base_uri": "https://localhost:8080/"
        },
        "id": "77Qoaya4-7OY",
        "outputId": "9200a940-e623-40c4-9a48-300a0e9dd93b"
      },
      "execution_count": 67,
      "outputs": [
        {
          "output_type": "execute_result",
          "data": {
            "text/plain": [
              "array([1, 1, 1], dtype=uint8)"
            ]
          },
          "metadata": {},
          "execution_count": 67
        }
      ]
    },
    {
      "cell_type": "code",
      "source": [
        "crop = np.full_like(a=numpy_array, fill_value = 1,dtype= int)"
      ],
      "metadata": {
        "id": "mfuVujnq9apZ"
      },
      "execution_count": 68,
      "outputs": []
    },
    {
      "cell_type": "code",
      "source": [
        "mismatch_mask = numpy_array[...,-1] != crop[...,-1]\n",
        "mismatched_pixel = np.argwhere(mismatch_mask)\n",
        "print(mismatched_pixel)"
      ],
      "metadata": {
        "colab": {
          "base_uri": "https://localhost:8080/"
        },
        "id": "dj2eatUc_6QV",
        "outputId": "30085e7e-4f89-4103-ce2f-0b72bc03ea07"
      },
      "execution_count": 69,
      "outputs": [
        {
          "output_type": "stream",
          "name": "stdout",
          "text": [
            "[[ 32  88]\n",
            " [ 32  89]\n",
            " [ 32  90]\n",
            " ...\n",
            " [391 197]\n",
            " [391 198]\n",
            " [391 199]]\n"
          ]
        }
      ]
    },
    {
      "cell_type": "code",
      "source": [
        "import cv2\n",
        "from google.colab.patches import cv2_imshow\n",
        "#convert to grayscale\n",
        "img_gray =cv2.cvtColor(numpy_array, cv2.COLOR_BGR2GRAY)\n",
        "#Blur the image for better edge detection\n",
        "img_blur = cv2.GaussianBlur(img_gray, (3,3),0)\n",
        "\n",
        "# Canny Edge Detection\n",
        "edges = cv2.Canny(image=img_blur, threshold1=100, threshold2=200) # Canny Edge Detection\n",
        "cv2_imshow(edges)"
      ],
      "metadata": {
        "colab": {
          "base_uri": "https://localhost:8080/",
          "height": 445
        },
        "id": "2yQB5XMFMEZl",
        "outputId": "83079652-7cec-4928-b81b-3fd275080b82"
      },
      "execution_count": 70,
      "outputs": [
        {
          "output_type": "display_data",
          "data": {
            "text/plain": [
              "<PIL.Image.Image image mode=L size=570x428>"
            ],
            "image/png": "[encoded data removed]"
          },
          "metadata": {}
        }
      ]
    },
    {
      "cell_type": "code",
      "source": [
        "edges.shape"
      ],
      "metadata": {
        "colab": {
          "base_uri": "https://localhost:8080/"
        },
        "id": "b2rbmvDMOHW5",
        "outputId": "42055b62-3060-4dc8-c70b-5a73c163c842"
      },
      "execution_count": 71,
      "outputs": [
        {
          "output_type": "execute_result",
          "data": {
            "text/plain": [
              "(428, 570)"
            ]
          },
          "metadata": {},
          "execution_count": 71
        }
      ]
    },
    {
      "cell_type": "code",
      "source": [
        "pixel = np.where(edges!=[0])\n",
        "pixel"
      ],
      "metadata": {
        "colab": {
          "base_uri": "https://localhost:8080/"
        },
        "id": "xTwdGU5bOVg7",
        "outputId": "50d9caa1-57eb-427a-b845-fb42141aec75"
      },
      "execution_count": 72,
      "outputs": [
        {
          "output_type": "execute_result",
          "data": {
            "text/plain": [
              "(array([ 32,  33,  33, ..., 386, 386, 386]),\n",
              " array([ 95,  93,  94, ..., 146, 147, 148]))"
            ]
          },
          "metadata": {},
          "execution_count": 72
        }
      ]
    },
    {
      "cell_type": "code",
      "source": [
        "import numpy as np\n",
        "\n",
        "coordinate_array = np.column_stack((pixel[1], pixel[0]))\n",
        "coordinate_array"
      ],
      "metadata": {
        "colab": {
          "base_uri": "https://localhost:8080/"
        },
        "id": "hytjYwzxLOSx",
        "outputId": "6ec916ac-9f5c-46b8-bbdf-c20e961ee3b8"
      },
      "execution_count": 73,
      "outputs": [
        {
          "output_type": "execute_result",
          "data": {
            "text/plain": [
              "array([[ 95,  32],\n",
              "       [ 93,  33],\n",
              "       [ 94,  33],\n",
              "       ...,\n",
              "       [146, 386],\n",
              "       [147, 386],\n",
              "       [148, 386]])"
            ]
          },
          "metadata": {},
          "execution_count": 73
        }
      ]
    },
    {
      "cell_type": "code",
      "source": [
        "\n",
        "# Find the minimum and maximum values of x and y coordinates\n",
        "min_x = np.min(coordinate_array[:, 0])\n",
        "max_x = np.max(coordinate_array[:, 0])\n",
        "min_y = np.min(coordinate_array[:, 1])\n",
        "max_y = np.max(coordinate_array[:, 1])\n",
        "\n",
        "# Calculate the corners of the rectangle/square\n",
        "# bottom_left = (min_x, min_y)\n",
        "# bottom_right = (max_x, min_y)\n",
        "# top_left = (min_x, max_y)\n",
        "# top_right = (max_x, max_y)\n",
        "\n",
        "\n",
        "\n",
        "\n",
        "\n",
        "top_left = (min_x, min_y)\n",
        "top_right = (max_x, min_y)\n",
        "bottom_left = (min_x, max_y)\n",
        "bottom_right = (max_x, max_y)\n",
        "# top_left = (min_x, min_y)\n",
        "# top_right = (max_x, max_y)\n",
        "# bottom_right = (max_x, min_y)\n",
        "# bottom_left = (min_x, max_y)\n",
        "\n",
        "# top_left = (min_x, max_y)\n",
        "# top_right = (max_x, max_y)\n",
        "# Print the corners\n",
        "print(\"Top Left:\", top_left)\n",
        "print(\"Top Right:\", top_right)\n",
        "print(\"Bottom Left:\", bottom_left)\n",
        "print(\"Bottom Right:\", bottom_right)"
      ],
      "metadata": {
        "colab": {
          "base_uri": "https://localhost:8080/"
        },
        "id": "xmIpYVy3QKsg",
        "outputId": "2c842236-b76d-4314-c0db-7c80925cde51"
      },
      "execution_count": 74,
      "outputs": [
        {
          "output_type": "stream",
          "name": "stdout",
          "text": [
            "Top Left: (93, 32)\n",
            "Top Right: (532, 32)\n",
            "Bottom Left: (93, 386)\n",
            "Bottom Right: (532, 386)\n"
          ]
        }
      ]
    },
    {
      "cell_type": "code",
      "source": [
        "corner_coordinates = np.array([top_left, top_right, bottom_right, bottom_left])\n",
        "corner_coordinates[:,0]"
      ],
      "metadata": {
        "colab": {
          "base_uri": "https://localhost:8080/"
        },
        "id": "qiYCNLT_Mk_A",
        "outputId": "d8971028-92ee-4a67-91bf-3209b55d5a4d"
      },
      "execution_count": 75,
      "outputs": [
        {
          "output_type": "execute_result",
          "data": {
            "text/plain": [
              "array([ 93, 532, 532,  93])"
            ]
          },
          "metadata": {},
          "execution_count": 75
        }
      ]
    },
    {
      "cell_type": "code",
      "source": [
        "corner_coordinates"
      ],
      "metadata": {
        "colab": {
          "base_uri": "https://localhost:8080/"
        },
        "id": "WvzlXTa3UUY9",
        "outputId": "c5b7a557-733c-496a-b2ee-b2958ec7f891"
      },
      "execution_count": 76,
      "outputs": [
        {
          "output_type": "execute_result",
          "data": {
            "text/plain": [
              "array([[ 93,  32],\n",
              "       [532,  32],\n",
              "       [532, 386],\n",
              "       [ 93, 386]])"
            ]
          },
          "metadata": {},
          "execution_count": 76
        }
      ]
    },
    {
      "cell_type": "code",
      "source": [
        "import numpy as np\n",
        "import matplotlib.pyplot as plt\n",
        "import cv2\n",
        "\n",
        "\n",
        "# Separate the x and y coordinates\n",
        "x_coords = corner_coordinates[:, 0]\n",
        "y_coords = corner_coordinates[:, 1]\n",
        "\n",
        "# Plot the image\n",
        "plt.imshow(ref_image)\n",
        "\n",
        "# Plot the points as red dots\n",
        "plt.scatter(x_coords, y_coords, color='red', marker='o')\n",
        "\n",
        "# Show the plot\n",
        "plt.show()"
      ],
      "metadata": {
        "colab": {
          "base_uri": "https://localhost:8080/",
          "height": 435
        },
        "id": "aJDO5Rp-PkjM",
        "outputId": "41de2a0e-507b-43b9-bbee-be29a2694915"
      },
      "execution_count": 77,
      "outputs": [
        {
          "output_type": "display_data",
          "data": {
            "text/plain": [
              "<Figure size 640x480 with 1 Axes>"
            ],
            "image/png": "[encoded data removed]"
          },
          "metadata": {}
        }
      ]
    },
    {
      "cell_type": "code",
      "source": [
        "corner_coordinates\n",
        "\n",
        "top_left = (min_x, min_y)\n",
        "top_right = (max_x, min_y)\n",
        "bottom_left = (min_x, max_y)\n",
        "bottom_right = (max_x, max_y)"
      ],
      "metadata": {
        "id": "ubGNm0StahyN"
      },
      "execution_count": 78,
      "outputs": []
    },
    {
      "cell_type": "code",
      "source": [
        "#Perspective transformation\n",
        "import numpy\n",
        "import cv2\n",
        "\n",
        "#The corrindates of distorted window frame due to perspective\n",
        "edges = cv2.Canny(image=img_blur, threshold1=100, threshold2=200)\n",
        "\n",
        "# perspective_corners = np.array([bottom_left, bottom_right, top_right, top_left],  dtype=np.float32)\n",
        "perspective_corners = np.array([bottom_left, bottom_right, top_right, top_left],  dtype=np.float32)\n",
        "\n",
        "\n",
        "#Actual dimension\n",
        "actual_width = 150\n",
        "actual_height = 150\n",
        "\n",
        "# Front elevation coordinates of the rectangle (4 corners)\n",
        "front_elevation_corners = np.array([(0, 0), (actual_width, 0), (actual_width, actual_height), (0, actual_height)], dtype=np.float32)\n",
        "\n",
        "\n",
        "#Transformation Matrix\n",
        "transformation_matrix = cv2.getPerspectiveTransform(perspective_corners, front_elevation_corners)"
      ],
      "metadata": {
        "id": "u9QEL3b1SgVR"
      },
      "execution_count": 79,
      "outputs": []
    },
    {
      "cell_type": "code",
      "source": [
        "transformed = cv2.perspectiveTransform(perspective_corners.reshape(-1, 1, 2), transformation_matrix).reshape(-1,2)\n",
        "transformed"
      ],
      "metadata": {
        "colab": {
          "base_uri": "https://localhost:8080/"
        },
        "id": "y12AJwFPb-wA",
        "outputId": "18ad7f59-c782-48f8-cbfb-6291ee3ae05c"
      },
      "execution_count": 80,
      "outputs": [
        {
          "output_type": "execute_result",
          "data": {
            "text/plain": [
              "array([[ 0.0000000e+00,  0.0000000e+00],\n",
              "       [ 1.5000000e+02,  0.0000000e+00],\n",
              "       [ 1.5000000e+02,  1.5000000e+02],\n",
              "       [-3.5527137e-15,  1.5000000e+02]], dtype=float32)"
            ]
          },
          "metadata": {},
          "execution_count": 80
        }
      ]
    },
    {
      "cell_type": "code",
      "source": [
        "#Transform entire edge detection\n",
        "edges = cv2.Canny(image=img_blur, threshold1=100, threshold2=200) # Canny Edge Detection\n",
        "\n",
        "transformed_edges = cv2.perspectiveTransform(np.array(edges, dtype = np.float32).reshape(-1, 1, 2), transformation_matrix)\n",
        "transformed_edges"
      ],
      "metadata": {
        "colab": {
          "base_uri": "https://localhost:8080/"
        },
        "id": "HUX-iVqmYWy4",
        "outputId": "67b7a99a-848a-456b-ba5f-2b538cbac169"
      },
      "execution_count": 81,
      "outputs": [
        {
          "output_type": "execute_result",
          "data": {
            "text/plain": [
              "array([[[-31.776766, 163.55933 ]],\n",
              "\n",
              "       [[-31.776766, 163.55933 ]],\n",
              "\n",
              "       [[-31.776766, 163.55933 ]],\n",
              "\n",
              "       ...,\n",
              "\n",
              "       [[-31.776766, 163.55933 ]],\n",
              "\n",
              "       [[-31.776766, 163.55933 ]],\n",
              "\n",
              "       [[-31.776766, 163.55933 ]]], dtype=float32)"
            ]
          },
          "metadata": {},
          "execution_count": 81
        }
      ]
    },
    {
      "cell_type": "code",
      "source": [],
      "metadata": {
        "id": "vJKJmhXYOJhU"
      },
      "execution_count": 81,
      "outputs": []
    },
    {
      "cell_type": "code",
      "source": [
        "import cv2\n",
        "import numpy as np\n",
        "\n",
        "# Load the image\n",
        "img_blur = cv2.GaussianBlur(img_gray, (3,3),0)\n",
        "edges = cv2.Canny(image=img_blur, threshold1=100, threshold2=200)\n",
        "original_img = np.array(ref_image)\n",
        "\n",
        "# Find external contours in the image\n",
        "ex_contours, _ = cv2.findContours(edges, cv2.RETR_EXTERNAL, cv2.CHAIN_APPROX_SIMPLE)\n",
        "in_contours, _ = cv2.findContours(edges, cv2.RETR_LIST, cv2.CHAIN_APPROX_SIMPLE)\n",
        "\n",
        "# Convert the contours to the desired format\n",
        "ex_vertices = []\n",
        "in_vertices = []\n",
        "for contour in ex_contours:\n",
        "    vertices = contour.reshape(-1, 2).tolist()\n",
        "    ex_vertices.append(vertices)\n",
        "\n",
        "for contour in in_contours:\n",
        "  vertices = contour.reshape(-1, 2).tolist()\n",
        "  in_vertices.append(vertices)\n",
        "\n",
        "# Draw contours on the original image\n",
        "cv2.drawContours(original_img, in_contours, -1, (0, 255, 0), 2)\n",
        "cv2.drawContours(original_img, ex_contours, -1, (0, 0, 255), 2)\n",
        "\n",
        "\n",
        "# Display the image with contours\n",
        "cv2_imshow(original_img)\n"
      ],
      "metadata": {
        "colab": {
          "base_uri": "https://localhost:8080/",
          "height": 445
        },
        "id": "IK5hI-sme-S5",
        "outputId": "f2dff520-995e-4507-c0f9-22e3297af6c0"
      },
      "execution_count": 100,
      "outputs": [
        {
          "output_type": "display_data",
          "data": {
            "text/plain": [
              "<PIL.Image.Image image mode=RGB size=570x428>"
            ],
            "image/png": "[encoded data removed]"
          },
          "metadata": {}
        }
      ]
    },
    {
      "cell_type": "code",
      "source": [
        "ex_vertices"
      ],
      "metadata": {
        "colab": {
          "base_uri": "https://localhost:8080/"
        },
        "id": "4GuRZufLhjeq",
        "outputId": "2bbe63c6-b080-4054-ef9f-58ef03960b77"
      },
      "execution_count": 101,
      "outputs": [
        {
          "output_type": "execute_result",
          "data": {
            "text/plain": [
              "[[[95, 32],\n",
              "  [94, 33],\n",
              "  [93, 33],\n",
              "  [93, 43],\n",
              "  [94, 44],\n",
              "  [94, 54],\n",
              "  [95, 55],\n",
              "  [95, 64],\n",
              "  [96, 65],\n",
              "  [96, 75],\n",
              "  [97, 76],\n",
              "  [97, 86],\n",
              "  [98, 87],\n",
              "  [98, 96],\n",
              "  [99, 97],\n",
              "  [99, 107],\n",
              "  [100, 108],\n",
              "  [100, 118],\n",
              "  [101, 119],\n",
              "  [101, 129],\n",
              "  [102, 130],\n",
              "  [102, 139],\n",
              "  [103, 140],\n",
              "  [103, 150],\n",
              "  [104, 151],\n",
              "  [104, 161],\n",
              "  [105, 162],\n",
              "  [105, 171],\n",
              "  [106, 172],\n",
              "  [106, 182],\n",
              "  [107, 183],\n",
              "  [107, 193],\n",
              "  [108, 194],\n",
              "  [108, 204],\n",
              "  [109, 205],\n",
              "  [109, 214],\n",
              "  [110, 215],\n",
              "  [110, 225],\n",
              "  [111, 226],\n",
              "  [111, 236],\n",
              "  [112, 237],\n",
              "  [112, 246],\n",
              "  [113, 247],\n",
              "  [113, 258],\n",
              "  [114, 259],\n",
              "  [114, 268],\n",
              "  [115, 269],\n",
              "  [115, 279],\n",
              "  [116, 280],\n",
              "  [116, 289],\n",
              "  [117, 290],\n",
              "  [117, 300],\n",
              "  [118, 301],\n",
              "  [118, 311],\n",
              "  [119, 312],\n",
              "  [119, 322],\n",
              "  [120, 323],\n",
              "  [120, 332],\n",
              "  [121, 333],\n",
              "  [121, 343],\n",
              "  [122, 344],\n",
              "  [122, 354],\n",
              "  [123, 355],\n",
              "  [123, 364],\n",
              "  [124, 365],\n",
              "  [124, 375],\n",
              "  [125, 376],\n",
              "  [125, 384],\n",
              "  [126, 385],\n",
              "  [126, 386],\n",
              "  [148, 386],\n",
              "  [149, 385],\n",
              "  [171, 385],\n",
              "  [172, 384],\n",
              "  [194, 384],\n",
              "  [195, 383],\n",
              "  [217, 383],\n",
              "  [218, 382],\n",
              "  [240, 382],\n",
              "  [241, 381],\n",
              "  [263, 381],\n",
              "  [264, 380],\n",
              "  [285, 380],\n",
              "  [286, 379],\n",
              "  [308, 379],\n",
              "  [309, 378],\n",
              "  [331, 378],\n",
              "  [332, 377],\n",
              "  [354, 377],\n",
              "  [355, 376],\n",
              "  [376, 376],\n",
              "  [377, 375],\n",
              "  [400, 375],\n",
              "  [401, 374],\n",
              "  [422, 374],\n",
              "  [423, 373],\n",
              "  [445, 373],\n",
              "  [446, 372],\n",
              "  [468, 372],\n",
              "  [469, 371],\n",
              "  [489, 371],\n",
              "  [490, 370],\n",
              "  [491, 370],\n",
              "  [492, 369],\n",
              "  [492, 363],\n",
              "  [493, 362],\n",
              "  [493, 355],\n",
              "  [494, 354],\n",
              "  [494, 347],\n",
              "  [495, 346],\n",
              "  [495, 339],\n",
              "  [496, 338],\n",
              "  [496, 330],\n",
              "  [497, 329],\n",
              "  [497, 322],\n",
              "  [498, 321],\n",
              "  [498, 314],\n",
              "  [499, 313],\n",
              "  [499, 306],\n",
              "  [500, 305],\n",
              "  [500, 298],\n",
              "  [501, 297],\n",
              "  [501, 289],\n",
              "  [502, 288],\n",
              "  [502, 281],\n",
              "  [503, 280],\n",
              "  [503, 273],\n",
              "  [504, 272],\n",
              "  [504, 265],\n",
              "  [505, 264],\n",
              "  [505, 257],\n",
              "  [506, 256],\n",
              "  [506, 249],\n",
              "  [507, 248],\n",
              "  [507, 241],\n",
              "  [508, 240],\n",
              "  [508, 233],\n",
              "  [509, 232],\n",
              "  [509, 224],\n",
              "  [510, 223],\n",
              "  [510, 216],\n",
              "  [511, 215],\n",
              "  [511, 208],\n",
              "  [512, 207],\n",
              "  [512, 200],\n",
              "  [513, 199],\n",
              "  [513, 192],\n",
              "  [514, 191],\n",
              "  [514, 184],\n",
              "  [515, 183],\n",
              "  [515, 175],\n",
              "  [516, 174],\n",
              "  [516, 167],\n",
              "  [517, 166],\n",
              "  [517, 159],\n",
              "  [518, 158],\n",
              "  [518, 151],\n",
              "  [519, 150],\n",
              "  [519, 143],\n",
              "  [520, 142],\n",
              "  [520, 135],\n",
              "  [521, 134],\n",
              "  [521, 127],\n",
              "  [522, 126],\n",
              "  [522, 119],\n",
              "  [523, 118],\n",
              "  [523, 110],\n",
              "  [524, 109],\n",
              "  [524, 102],\n",
              "  [525, 101],\n",
              "  [525, 94],\n",
              "  [526, 93],\n",
              "  [526, 86],\n",
              "  [527, 85],\n",
              "  [527, 78],\n",
              "  [528, 77],\n",
              "  [528, 69],\n",
              "  [529, 68],\n",
              "  [529, 61],\n",
              "  [530, 60],\n",
              "  [530, 53],\n",
              "  [531, 52],\n",
              "  [531, 45],\n",
              "  [532, 44],\n",
              "  [532, 37],\n",
              "  [530, 37],\n",
              "  [529, 36],\n",
              "  [422, 36],\n",
              "  [421, 35],\n",
              "  [314, 35],\n",
              "  [313, 34],\n",
              "  [203, 34],\n",
              "  [202, 33],\n",
              "  [96, 33]]]"
            ]
          },
          "metadata": {},
          "execution_count": 101
        }
      ]
    },
    {
      "cell_type": "code",
      "source": [
        "import cv2\n",
        "import numpy as np\n",
        "\n",
        "# Load the image\n",
        "img_blur = cv2.GaussianBlur(img_gray, (3,3),0)\n",
        "edges = cv2.Canny(image=img_blur, threshold1=100, threshold2=200)\n",
        "original_img = np.array(ref_image)\n",
        "\n",
        "# Find external contours in the image\n",
        "contours, _ = cv2.findContours(edges, cv2.RETR_EXTERNAL, cv2.CHAIN_APPROX_SIMPLE)\n",
        "\n",
        "# Convert the contours to the desired format\n",
        "contour_vertices = []\n",
        "for contour in contours:\n",
        "    vertices = contour.reshape(-1, 2).tolist()\n",
        "    contour_vertices.append(vertices)\n",
        "\n",
        "# Draw contours on the original image\n",
        "cv2.drawContours(original_img, contours, -1, (0, 0, 255), 2)\n",
        "\n",
        "# Display the image with contours\n",
        "cv2_imshow(original_img)\n"
      ],
      "metadata": {
        "id": "sEFDnLYEgHv0"
      },
      "execution_count": null,
      "outputs": []
    },
    {
      "cell_type": "code",
      "source": [
        "import cv2\n",
        "import numpy as np\n",
        "\n",
        "img_blur = cv2.GaussianBlur(img_gray, (3,3),0)\n",
        "edges = cv2.Canny(image=img_blur, threshold1=100, threshold2=200)\n",
        "\n",
        "numpy_array = np.array(ref_image)\n",
        "\n",
        "lines = cv2.HoughLines(edges,1,np.pi/180,100)\n",
        "\n",
        "\n",
        "for line in lines:\n",
        "  rho, theta = line[0]\n",
        "  a = np.cos(theta)\n",
        "  b = np.sin(theta)\n",
        "\n",
        "  x0 = a * rho\n",
        "  y0 = b * rho\n",
        "  x1 = int(x0 + 1000*(-b))\n",
        "  y1 = int(y0 + 1000*(a))\n",
        "  x2 = int(x0 - 1000*(-b))\n",
        "  y2 = int(y0 - 1000*(a))\n",
        "\n",
        "  cv2.line(numpy_array,(x1,y1),(x2,y2),(255,0,0),2)\n",
        "\n",
        "\n",
        "cv2_imshow(numpy_array)"
      ],
      "metadata": {
        "colab": {
          "base_uri": "https://localhost:8080/",
          "height": 445
        },
        "id": "F2QHpffLwdTF",
        "outputId": "e6167e21-cb0f-483a-80a5-a69493cead88"
      },
      "execution_count": 82,
      "outputs": [
        {
          "output_type": "display_data",
          "data": {
            "text/plain": [
              "<PIL.Image.Image image mode=RGB size=570x428>"
            ],
            "image/png": "[encoded data removed]"
          },
          "metadata": {}
        }
      ]
    },
    {
      "cell_type": "code",
      "source": [
        "import numpy as np\n",
        "import matplotlib.pyplot as plt\n",
        "\n",
        "# Transformed coordinates of the rectangle\n",
        "transformed_coordinates = transformed_edges.reshape(-1,2)\n",
        "# Define the order of vertices to create the rectangle edges\n",
        "edges = [[0, 1], [1, 2], [2, 3], [3, 0]]\n",
        "\n",
        "# Plot the transformed rectangle\n",
        "plt.figure()\n",
        "for edge in edges:\n",
        "    plt.plot(transformed_coordinates[edge, 0], transformed_coordinates[edge, 1], 'b-')\n",
        "\n",
        "plt.scatter(transformed_coordinates[:, 0], transformed_coordinates[:, 1], color='red', marker='o')\n",
        "plt.xlabel('X')\n",
        "plt.ylabel('Y')\n",
        "plt.title('Transformed Rectangle')\n",
        "plt.grid()\n",
        "plt.axis('equal')\n",
        "plt.show()"
      ],
      "metadata": {
        "colab": {
          "base_uri": "https://localhost:8080/",
          "height": 472
        },
        "id": "CWk6Ry9YXcQi",
        "outputId": "b17f6d95-0efa-4922-dfcb-edd6e5271cc9"
      },
      "execution_count": 83,
      "outputs": [
        {
          "output_type": "display_data",
          "data": {
            "text/plain": [
              "<Figure size 640x480 with 1 Axes>"
            ],
            "image/png": "[encoded data removed]"
          },
          "metadata": {}
        }
      ]
    },
    {
      "cell_type": "code",
      "source": [
        "# from huggingface_hub import hf_hub_download\n",
        "# from PIL import Image\n",
        "\n",
        "# ref_image = Image.open(train_img).convert(\"RGB\")\n",
        "# ref_image"
      ],
      "metadata": {
        "id": "bS6Q5Ucg5-_Q"
      },
      "execution_count": 84,
      "outputs": []
    },
    {
      "cell_type": "code",
      "source": [],
      "metadata": {
        "id": "KgRfHQg_PJMX"
      },
      "execution_count": 84,
      "outputs": []
    }
  ]
}